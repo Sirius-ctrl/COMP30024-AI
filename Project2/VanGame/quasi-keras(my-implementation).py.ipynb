{
 "cells": [
  {
   "cell_type": "code",
   "execution_count": 11,
   "metadata": {},
   "outputs": [],
   "source": [
    "import numpy as np\n",
    "import scipy as sp\n",
    "import os\n",
    "import utils"
   ]
  },
  {
   "cell_type": "code",
   "execution_count": 4,
   "metadata": {},
   "outputs": [],
   "source": [
    "NN_ARCHITECTURE = [\n",
    "    {\"input_dim\": 2, \"output_dim\": 25, \"activation\": \"relu\"},\n",
    "    {\"input_dim\": 25, \"output_dim\": 50, \"activation\": \"relu\"},\n",
    "    {\"input_dim\": 50, \"output_dim\": 50, \"activation\": \"relu\"},\n",
    "    {\"input_dim\": 50, \"output_dim\": 25, \"activation\": \"relu\"},\n",
    "    {\"input_dim\": 25, \"output_dim\": 1, \"activation\": \"sigmoid\"},\n",
    "]"
   ]
  },
  {
   "cell_type": "code",
   "execution_count": 20,
   "metadata": {},
   "outputs": [],
   "source": [
    "class NeuralNetwork:\n",
    "    \n",
    "    def __init__(self, arch):\n",
    "        self.layers = len(arch)\n",
    "        self.weights = {}\n",
    "\n",
    "        for level, prop in enumerate(arch):\n",
    "            print(\"idx=\",level)\n",
    "            print(\"properties\", prop)\n",
    "    \n",
    "    @staticmethod\n",
    "    def forward_prop(prev, weights, b_curr, activation='relu'):\n",
    "        pass"
   ]
  },
  {
   "cell_type": "code",
   "execution_count": 21,
   "metadata": {},
   "outputs": [
    {
     "name": "stdout",
     "output_type": "stream",
     "text": [
      "idx= 0\n",
      "properties {'input_dim': 2, 'output_dim': 25, 'activation': 'relu'}\n",
      "idx= 1\n",
      "properties {'input_dim': 25, 'output_dim': 50, 'activation': 'relu'}\n",
      "idx= 2\n",
      "properties {'input_dim': 50, 'output_dim': 50, 'activation': 'relu'}\n",
      "idx= 3\n",
      "properties {'input_dim': 50, 'output_dim': 25, 'activation': 'relu'}\n",
      "idx= 4\n",
      "properties {'input_dim': 25, 'output_dim': 1, 'activation': 'sigmoid'}\n"
     ]
    }
   ],
   "source": [
    "test = NeuralNetwork(NN_ARCHITECTURE)"
   ]
  },
  {
   "cell_type": "code",
   "execution_count": 13,
   "metadata": {},
   "outputs": [],
   "source": [
    "l = utils.Linear"
   ]
  },
  {
   "cell_type": "code",
   "execution_count": null,
   "metadata": {},
   "outputs": [],
   "source": []
  }
 ],
 "metadata": {
  "kernelspec": {
   "display_name": "Python 3",
   "language": "python",
   "name": "python3"
  },
  "language_info": {
   "codemirror_mode": {
    "name": "ipython",
    "version": 3
   },
   "file_extension": ".py",
   "mimetype": "text/x-python",
   "name": "python",
   "nbconvert_exporter": "python",
   "pygments_lexer": "ipython3",
   "version": "3.6.8"
  }
 },
 "nbformat": 4,
 "nbformat_minor": 2
}
