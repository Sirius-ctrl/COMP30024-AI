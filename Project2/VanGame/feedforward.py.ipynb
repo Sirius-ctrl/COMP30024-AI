{
 "cells": [
  {
   "cell_type": "code",
   "execution_count": 1,
   "metadata": {},
   "outputs": [],
   "source": [
    "CELLS = set([(q, r) for q in range(-3, +3 + 1) for r in range(-3, +3 + 1) if -q - r in range(-3, +3 + 1)])"
   ]
  },
  {
   "cell_type": "code",
   "execution_count": 149,
   "metadata": {},
   "outputs": [],
   "source": [
    "import tensorflow as tf\n",
    "import numpy as np\n",
    "from keras import models, layers\n",
    "from keras.models import load_model"
   ]
  },
  {
   "cell_type": "code",
   "execution_count": 34,
   "metadata": {
    "scrolled": true
   },
   "outputs": [
    {
     "data": {
      "text/plain": [
       "[(-3, 0),\n",
       " (-3, 1),\n",
       " (-3, 2),\n",
       " (-3, 3),\n",
       " (-2, -1),\n",
       " (-2, 0),\n",
       " (-2, 1),\n",
       " (-2, 2),\n",
       " (-2, 3),\n",
       " (-1, -2),\n",
       " (-1, -1),\n",
       " (-1, 0),\n",
       " (-1, 1),\n",
       " (-1, 2),\n",
       " (-1, 3),\n",
       " (0, -3),\n",
       " (0, -2),\n",
       " (0, -1),\n",
       " (0, 0),\n",
       " (0, 1),\n",
       " (0, 2),\n",
       " (0, 3),\n",
       " (1, -3),\n",
       " (1, -2),\n",
       " (1, -1),\n",
       " (1, 0),\n",
       " (1, 1),\n",
       " (1, 2),\n",
       " (2, -3),\n",
       " (2, -2),\n",
       " (2, -1),\n",
       " (2, 0),\n",
       " (2, 1),\n",
       " (3, -3),\n",
       " (3, -2),\n",
       " (3, -1),\n",
       " (3, 0)]"
      ]
     },
     "execution_count": 34,
     "metadata": {},
     "output_type": "execute_result"
    }
   ],
   "source": [
    "sequence = sorted([p for p in CELLS])\n",
    "sequence"
   ]
  },
  {
   "cell_type": "code",
   "execution_count": 4,
   "metadata": {},
   "outputs": [],
   "source": [
    "NN_ARCHITECTURE = [\n",
    "    {\"input_dim\": 2, \"output_dim\": 25, \"activation\": \"relu\"},\n",
    "    {\"input_dim\": 25, \"output_dim\": 50, \"activation\": \"relu\"},\n",
    "    {\"input_dim\": 50, \"output_dim\": 50, \"activation\": \"relu\"},\n",
    "    {\"input_dim\": 50, \"output_dim\": 25, \"activation\": \"relu\"},\n",
    "    {\"input_dim\": 25, \"output_dim\": 1, \"activation\": None},\n",
    "]"
   ]
  },
  {
   "cell_type": "code",
   "execution_count": 5,
   "metadata": {},
   "outputs": [],
   "source": [
    "class feed_forward():\n",
    "    \n",
    "    def __init__(self, archi, seed=42):\n",
    "        # random seed initiation\n",
    "        np.random.seed(seed)\n",
    "        \n",
    "        self.layers = len(archi)\n",
    "        self.params = {}\n",
    "\n",
    "        # iteration over network layers\n",
    "        for idx, layer in enumerate(archi):\n",
    "            # we number network layers from 1\n",
    "            layer_idx = idx + 1\n",
    "\n",
    "            # extracting the number of units in layers\n",
    "            layer_input_size = layer[\"input_dim\"]\n",
    "            layer_output_size = layer[\"output_dim\"]\n",
    "\n",
    "            # initiating the values of the W matrix\n",
    "            # and vector b for subsequent layers\n",
    "            self.params['W' + str(layer_idx)] = np.random.randn(layer_output_size, layer_input_size) * 0.1\n",
    "            self.params['b' + str(layer_idx)] = np.random.randn(layer_output_size, 1) * 0.1\n",
    "    \n",
    "    def print_params(self):\n",
    "        print(self.params)\n",
    "        \n",
    "    def sigmoid(self, a):\n",
    "        return 1/(1+np.exp(-a))\n",
    "    \n",
    "    def relu(self, a):\n",
    "        return np.maximum(a,0)\n",
    "    \n",
    "    def relu_back(self, da, z):\n",
    "        dz = np.array(da, copy=True)\n",
    "        dz[Z <= 0] = 0\n",
    "        return dz\n",
    "        \n",
    "    "
   ]
  },
  {
   "cell_type": "code",
   "execution_count": 6,
   "metadata": {},
   "outputs": [],
   "source": [
    "dnn = feed_forward(NN_ARCHITECTURE)"
   ]
  },
  {
   "cell_type": "code",
   "execution_count": 7,
   "metadata": {},
   "outputs": [
    {
     "name": "stdout",
     "output_type": "stream",
     "text": [
      "{'W1': array([[ 0.04967142, -0.01382643],\n",
      "       [ 0.06476885,  0.15230299],\n",
      "       [-0.02341534, -0.0234137 ],\n",
      "       [ 0.15792128,  0.07674347],\n",
      "       [-0.04694744,  0.054256  ],\n",
      "       [-0.04634177, -0.04657298],\n",
      "       [ 0.02419623, -0.19132802],\n",
      "       [-0.17249178, -0.05622875],\n",
      "       [-0.10128311,  0.03142473],\n",
      "       [-0.09080241, -0.14123037],\n",
      "       [ 0.14656488, -0.02257763],\n",
      "       [ 0.00675282, -0.14247482],\n",
      "       [-0.05443827,  0.01109226],\n",
      "       [-0.11509936,  0.0375698 ],\n",
      "       [-0.06006387, -0.02916937],\n",
      "       [-0.06017066,  0.18522782],\n",
      "       [-0.00134972, -0.10577109],\n",
      "       [ 0.08225449, -0.12208436],\n",
      "       [ 0.02088636, -0.19596701],\n",
      "       [-0.1328186 ,  0.01968612],\n",
      "       [ 0.07384666,  0.01713683],\n",
      "       [-0.01156483, -0.03011037],\n",
      "       [-0.1478522 , -0.07198442],\n",
      "       [-0.04606388,  0.10571222],\n",
      "       [ 0.03436183, -0.17630402]]), 'b1': array([[ 0.0324084 ],\n",
      "       [-0.03850823],\n",
      "       [-0.0676922 ],\n",
      "       [ 0.06116763],\n",
      "       [ 0.10309995],\n",
      "       [ 0.09312801],\n",
      "       [-0.08392175],\n",
      "       [-0.03092124],\n",
      "       [ 0.03312634],\n",
      "       [ 0.09755451],\n",
      "       [-0.04791742],\n",
      "       [-0.0185659 ],\n",
      "       [-0.1106335 ],\n",
      "       [-0.11962066],\n",
      "       [ 0.08125258],\n",
      "       [ 0.135624  ],\n",
      "       [-0.00720101],\n",
      "       [ 0.10035329],\n",
      "       [ 0.0361636 ],\n",
      "       [-0.06451198],\n",
      "       [ 0.03613956],\n",
      "       [ 0.15380366],\n",
      "       [-0.0035826 ],\n",
      "       [ 0.15646437],\n",
      "       [-0.26197451]]), 'W2': array([[ 0.08219025,  0.00870471, -0.02990074, ...,  0.02610553,\n",
      "         0.00051135, -0.02345871],\n",
      "       [-0.14153707, -0.04206453, -0.03427145, ...,  0.14027943,\n",
      "        -0.14018511,  0.05868571],\n",
      "       [ 0.21904556, -0.09905363, -0.05662977, ..., -0.13204566,\n",
      "         0.05219416,  0.02969847],\n",
      "       ...,\n",
      "       [ 0.03308802,  0.0833529 , -0.19937356, ..., -0.10923128,\n",
      "        -0.03164084,  0.12130977],\n",
      "       [ 0.01417169,  0.23193295,  0.03933178, ..., -0.02902745,\n",
      "         0.02673923,  0.03216978],\n",
      "       [-0.06680905,  0.09920423, -0.01749598, ..., -0.00704988,\n",
      "         0.04865016,  0.00644744]]), 'b2': array([[-0.19754666],\n",
      "       [-0.09393354],\n",
      "       [-0.01440876],\n",
      "       [-0.12096947],\n",
      "       [ 0.05999287],\n",
      "       [ 0.15307508],\n",
      "       [ 0.12187619],\n",
      "       [-0.02134429],\n",
      "       [ 0.14907261],\n",
      "       [ 0.01486675],\n",
      "       [-0.0337086 ],\n",
      "       [-0.06134027],\n",
      "       [-0.03024697],\n",
      "       [-0.03881768],\n",
      "       [ 0.01704162],\n",
      "       [ 0.0160574 ],\n",
      "       [ 0.0003046 ],\n",
      "       [ 0.04369382],\n",
      "       [ 0.11906463],\n",
      "       [ 0.09495541],\n",
      "       [-0.1484898 ],\n",
      "       [-0.25539211],\n",
      "       [ 0.09343199],\n",
      "       [-0.13668787],\n",
      "       [-0.02247654],\n",
      "       [-0.1170113 ],\n",
      "       [-0.18019804],\n",
      "       [ 0.05414627],\n",
      "       [ 0.07591552],\n",
      "       [-0.05765104],\n",
      "       [-0.25910423],\n",
      "       [-0.05462444],\n",
      "       [ 0.0391804 ],\n",
      "       [-0.14789116],\n",
      "       [ 0.01833599],\n",
      "       [-0.00153098],\n",
      "       [ 0.05792915],\n",
      "       [ 0.01195804],\n",
      "       [-0.09730689],\n",
      "       [ 0.11965715],\n",
      "       [-0.01585296],\n",
      "       [-0.00273045],\n",
      "       [-0.0933268 ],\n",
      "       [-0.04432823],\n",
      "       [-0.08848027],\n",
      "       [-0.01729461],\n",
      "       [ 0.17117085],\n",
      "       [-0.13719011],\n",
      "       [-0.16135614],\n",
      "       [ 0.14711703]]), 'W3': array([[-0.02093237, -0.06690727,  0.10399047, ..., -0.03649527,\n",
      "        -0.08392097, -0.10448092],\n",
      "       [-0.19663566,  0.20562071, -0.11032084, ..., -0.01340172,\n",
      "         0.00146882, -0.07848983],\n",
      "       [ 0.06482804, -0.01209481,  0.04195324, ..., -0.02264841,\n",
      "        -0.09594392, -0.03722068],\n",
      "       ...,\n",
      "       [ 0.05827376,  0.04968736,  0.10697715, ..., -0.07820035,\n",
      "        -0.07597031, -0.17710686],\n",
      "       [ 0.04715424, -0.18311449, -0.12284438, ..., -0.0044893 ,\n",
      "         0.0182501 , -0.06701152],\n",
      "       [ 0.11717179, -0.11761733,  0.04875603, ..., -0.10973683,\n",
      "        -0.14769249, -0.07393714]]), 'b3': array([[ 0.11918993],\n",
      "       [ 0.09500158],\n",
      "       [ 0.02430047],\n",
      "       [-0.15327006],\n",
      "       [-0.01962807],\n",
      "       [ 0.03017   ],\n",
      "       [ 0.01755362],\n",
      "       [-0.18437936],\n",
      "       [-0.08903178],\n",
      "       [-0.00640778],\n",
      "       [ 0.05362909],\n",
      "       [-0.21961278],\n",
      "       [-0.0162124 ],\n",
      "       [ 0.01430488],\n",
      "       [ 0.0849612 ],\n",
      "       [ 0.06928576],\n",
      "       [ 0.05825713],\n",
      "       [-0.07999405],\n",
      "       [-0.19080021],\n",
      "       [-0.03930528],\n",
      "       [ 0.10016318],\n",
      "       [ 0.13934545],\n",
      "       [ 0.07105491],\n",
      "       [ 0.04293408],\n",
      "       [ 0.03796396],\n",
      "       [-0.05561187],\n",
      "       [-0.01300603],\n",
      "       [ 0.16690695],\n",
      "       [-0.0942558 ],\n",
      "       [ 0.16147788],\n",
      "       [-0.03220282],\n",
      "       [ 0.13254321],\n",
      "       [-0.1406815 ],\n",
      "       [ 0.05859042],\n",
      "       [-0.07367701],\n",
      "       [-0.14152672],\n",
      "       [ 0.0218534 ],\n",
      "       [ 0.10094718],\n",
      "       [-0.08449414],\n",
      "       [-0.1499016 ],\n",
      "       [-0.00918448],\n",
      "       [-0.00874353],\n",
      "       [ 0.05483196],\n",
      "       [ 0.09495946],\n",
      "       [-0.00594152],\n",
      "       [ 0.18555033],\n",
      "       [ 0.02242347],\n",
      "       [-0.03464265],\n",
      "       [-0.16115674],\n",
      "       [-0.02626595]]), 'W4': array([[-0.03363869,  0.09603048,  0.04624836, ...,  0.03475616,\n",
      "         0.00866977,  0.03556689],\n",
      "       [ 0.01915774,  0.0506241 ,  0.14473057, ..., -0.18518427,\n",
      "         0.07835897, -0.06786431],\n",
      "       [-0.03182375, -0.07811564, -0.02598001, ..., -0.15375848,\n",
      "        -0.01449046, -0.04459437],\n",
      "       ...,\n",
      "       [-0.1234512 , -0.10319663, -0.04402592, ...,  0.0609526 ,\n",
      "        -0.15553737,  0.02008451],\n",
      "       [ 0.01007911,  0.00412875,  0.10371589, ..., -0.02576205,\n",
      "        -0.00696335,  0.06891645],\n",
      "       [-0.06836343, -0.02737293, -0.00142704, ..., -0.04146269,\n",
      "        -0.0995174 ,  0.05496832]]), 'b4': array([[ 0.18014301],\n",
      "       [-0.1301588 ],\n",
      "       [-0.18530185],\n",
      "       [-0.01248869],\n",
      "       [ 0.00156978],\n",
      "       [ 0.02186593],\n",
      "       [-0.04463205],\n",
      "       [-0.02006393],\n",
      "       [ 0.03675104],\n",
      "       [ 0.10404309],\n",
      "       [-0.19550488],\n",
      "       [-0.03689394],\n",
      "       [ 0.02138088],\n",
      "       [-0.09179761],\n",
      "       [ 0.17311696],\n",
      "       [-0.06354099],\n",
      "       [-0.00412927],\n",
      "       [ 0.05560221],\n",
      "       [-0.05912848],\n",
      "       [-0.1846573 ],\n",
      "       [-0.04286545],\n",
      "       [ 0.10294406],\n",
      "       [-0.03368951],\n",
      "       [-0.08464343],\n",
      "       [ 0.09256722]]), 'W5': array([[-0.03307749, -0.05101608,  0.01494561,  0.07707502,  0.23817135,\n",
      "         0.08272361,  0.115984  , -0.05059662, -0.10258681,  0.00623313,\n",
      "         0.01071699, -0.10785127, -0.01752945,  0.03993176,  0.03603934,\n",
      "         0.05042879,  0.02909647, -0.05070087, -0.05139006, -0.11989514,\n",
      "         0.1784775 ,  0.00134504, -0.02248531, -0.09287921,  0.29356579]]), 'b5': array([[-0.1073328]])}\n"
     ]
    }
   ],
   "source": [
    "dnn.print_params()"
   ]
  },
  {
   "cell_type": "code",
   "execution_count": 160,
   "metadata": {},
   "outputs": [],
   "source": [
    "def build_model():\n",
    "    model = models.Sequential()\n",
    "    model.add(layers.Dense(256,activation='relu', input_shape=(38,)))\n",
    "    model.add(layers.Dense(256, activation='relu'))\n",
    "    model.add(layers.Dense(1))\n",
    "    model.compile(optimizer='rmsprop', loss='mse')\n",
    "    return model"
   ]
  },
  {
   "cell_type": "code",
   "execution_count": 161,
   "metadata": {},
   "outputs": [],
   "source": [
    "model = build_model()"
   ]
  },
  {
   "cell_type": "code",
   "execution_count": 162,
   "metadata": {},
   "outputs": [
    {
     "name": "stdout",
     "output_type": "stream",
     "text": [
      "1556265502.0caobluejiba.txt   1556267393.0caogreenjiba.txt\r\n",
      "1556265502.0caogreenjiba.txt  1556267395.0caogreenjiba.txt\r\n",
      "1556265502.0caoredjiba.txt    1556267399.0caogreenjiba.txt\r\n",
      "1556265761.0caobluejiba.txt   1556267454.0caogreenjiba.txt\r\n",
      "1556265761.0caogreenjiba.txt  1556267457.0caogreenjiba.txt\r\n",
      "1556265761.0caoredjiba.txt    1556267459.0caogreenjiba.txt\r\n",
      "1556265798.0caogreenjiba.txt  1556267461.0caogreenjiba.txt\r\n",
      "1556266026.0caogreenjiba.txt  1556267464.0caogreenjiba.txt\r\n",
      "1556266965.0caogreenjiba.txt  1556267470.0caogreenjiba.txt\r\n",
      "1556267389.0caogreenjiba.txt  1556267477.0caogreenjiba.txt\r\n",
      "1556267391.0caogreenjiba.txt  1556267481.0caogreenjiba.txt\r\n"
     ]
    }
   ],
   "source": [
    "!ls '../rec'"
   ]
  },
  {
   "cell_type": "code",
   "execution_count": 163,
   "metadata": {},
   "outputs": [
    {
     "name": "stdout",
     "output_type": "stream",
     "text": [
      "38\n"
     ]
    }
   ],
   "source": [
    "import json\n",
    "import utils\n",
    "test, color = utils.load_l('../rec/1556267477.0caogreenjiba.txt')\n",
    "\n",
    "res = []\n",
    "rewards = []\n",
    "\n",
    "for s in test:\n",
    "    re = []\n",
    "    for i in sequence:\n",
    "        re.append(s[0][i])\n",
    "    re.append(color)\n",
    "    rewards.append(s[1])\n",
    "    res.append(re)\n",
    "    \n",
    "decay = 0.98\n",
    "curr = 1\n",
    "target = [rewards[-1]]\n",
    "for i in range(len(res)-2, -1, -1):\n",
    "    last = target[-1]\n",
    "    target.append(decay*last+rewards[i])\n",
    "\n",
    "target.reverse()\n",
    "print(len(res[-1]))"
   ]
  },
  {
   "cell_type": "code",
   "execution_count": 164,
   "metadata": {},
   "outputs": [
    {
     "data": {
      "text/plain": [
       "[-327.12790615999614,\n",
       " -333.8039858775471,\n",
       " -340.61631211994603,\n",
       " -347.56766542851636,\n",
       " -354.66088309032284,\n",
       " -361.8988602962478,\n",
       " -369.2845513227018,\n",
       " -376.82097073745086,\n",
       " -384.51119463005193,\n",
       " -392.35836186739994,\n",
       " -400.3656753748979,\n",
       " -408.53640344377334,\n",
       " -416.87388106507484,\n",
       " -425.3815112908927,\n",
       " -434.06276662335995,\n",
       " -442.92119043199995,\n",
       " -451.9603984,\n",
       " -461.18408,\n",
       " -470.596,\n",
       " -480.2,\n",
       " -490.0,\n",
       " -500]"
      ]
     },
     "execution_count": 164,
     "metadata": {},
     "output_type": "execute_result"
    }
   ],
   "source": [
    "target"
   ]
  },
  {
   "cell_type": "code",
   "execution_count": 165,
   "metadata": {
    "scrolled": true
   },
   "outputs": [
    {
     "name": "stdout",
     "output_type": "stream",
     "text": [
      "Epoch 1/10\n",
      "22/22 [==============================] - 1s 32ms/step - loss: 158665.6921\n",
      "Epoch 2/10\n",
      "22/22 [==============================] - 0s 3ms/step - loss: 114393.9451\n",
      "Epoch 3/10\n",
      "22/22 [==============================] - 0s 3ms/step - loss: 46859.3484\n",
      "Epoch 4/10\n",
      "22/22 [==============================] - 0s 4ms/step - loss: 11053.9139\n",
      "Epoch 5/10\n",
      "22/22 [==============================] - 0s 3ms/step - loss: 4974.8091\n",
      "Epoch 6/10\n",
      "22/22 [==============================] - 0s 4ms/step - loss: 2506.0342\n",
      "Epoch 7/10\n",
      "22/22 [==============================] - 0s 4ms/step - loss: 1179.6617\n",
      "Epoch 8/10\n",
      "22/22 [==============================] - 0s 4ms/step - loss: 1003.8120\n",
      "Epoch 9/10\n",
      "22/22 [==============================] - 0s 4ms/step - loss: 587.7459\n",
      "Epoch 10/10\n",
      "22/22 [==============================] - 0s 12ms/step - loss: 463.0896\n"
     ]
    },
    {
     "data": {
      "text/plain": [
       "<keras.callbacks.History at 0xb3e248748>"
      ]
     },
     "execution_count": 165,
     "metadata": {},
     "output_type": "execute_result"
    }
   ],
   "source": [
    "train = np.array(res)\n",
    "model.fit(train, target, epochs=10, batch_size=1)"
   ]
  },
  {
   "cell_type": "code",
   "execution_count": 169,
   "metadata": {},
   "outputs": [
    {
     "data": {
      "text/plain": [
       "-436.95392"
      ]
     },
     "execution_count": 169,
     "metadata": {},
     "output_type": "execute_result"
    }
   ],
   "source": [
    "model.predict(np.array([res[-1]]))"
   ]
  },
  {
   "cell_type": "code",
   "execution_count": 167,
   "metadata": {},
   "outputs": [],
   "source": [
    "model.save('my_model.h5')  # creates a HDF5 file 'my_model.h5'\n",
    "del model  # deletes the existing model\n",
    "\n",
    "# returns a compiled model\n",
    "# identical to the previous one\n",
    "model = load_model('my_model.h5')"
   ]
  }
 ],
 "metadata": {
  "kernelspec": {
   "display_name": "Python 3",
   "language": "python",
   "name": "python3"
  },
  "language_info": {
   "codemirror_mode": {
    "name": "ipython",
    "version": 3
   },
   "file_extension": ".py",
   "mimetype": "text/x-python",
   "name": "python",
   "nbconvert_exporter": "python",
   "pygments_lexer": "ipython3",
   "version": "3.6.8"
  }
 },
 "nbformat": 4,
 "nbformat_minor": 2
}
