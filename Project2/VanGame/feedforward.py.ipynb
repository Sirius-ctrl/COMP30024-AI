{
 "cells": [
  {
   "cell_type": "code",
   "execution_count": 1,
   "metadata": {},
   "outputs": [],
   "source": [
    "CELLS = [(q, r) for q in range(-3, +3 + 1) for r in range(-3, +3 + 1) if -q - r in range(-3, +3 + 1)]"
   ]
  },
  {
   "cell_type": "code",
   "execution_count": 84,
   "metadata": {},
   "outputs": [],
   "source": [
    "import tensorflow as tf\n",
    "import numpy as np\n",
    "from keras import models, layers\n",
    "from keras.models import load_model\n",
    "import json\n",
    "import pickle\n",
    "import os\n",
    "from os.path import join\n",
    "import subprocess\n",
    "import json\n",
    "import utils"
   ]
  },
  {
   "cell_type": "code",
   "execution_count": 3,
   "metadata": {
    "scrolled": true
   },
   "outputs": [],
   "source": [
    "sequence = sorted([p for p in CELLS])"
   ]
  },
  {
   "cell_type": "code",
   "execution_count": 49,
   "metadata": {},
   "outputs": [],
   "source": [
    "model = build_model()"
   ]
  },
  {
   "cell_type": "code",
   "execution_count": 107,
   "metadata": {},
   "outputs": [],
   "source": [
    "a = np.array([[1]*39])\n",
    "b = [500]"
   ]
  },
  {
   "cell_type": "code",
   "execution_count": 48,
   "metadata": {},
   "outputs": [],
   "source": [
    "def build_model():\n",
    "    model = models.Sequential()\n",
    "    model.add(layers.Dense(128,activation='relu', input_shape=(39,)))\n",
    "    model.add(layers.Dense(256, activation='relu'))\n",
    "    model.add(layers.Dense(256, activation='relu'))\n",
    "    model.add(layers.Dense(128, activation='relu'))\n",
    "    model.add(layers.Dense(1))\n",
    "    model.compile(optimizer='rmsprop', loss='mse')\n",
    "    return model"
   ]
  },
  {
   "cell_type": "code",
   "execution_count": 5,
   "metadata": {},
   "outputs": [
    {
     "name": "stdout",
     "output_type": "stream",
     "text": [
      "WARNING:tensorflow:From /anaconda3/lib/python3.6/site-packages/tensorflow/python/framework/op_def_library.py:263: colocate_with (from tensorflow.python.framework.ops) is deprecated and will be removed in a future version.\n",
      "Instructions for updating:\n",
      "Colocations handled automatically by placer.\n",
      "WARNING:tensorflow:From /anaconda3/lib/python3.6/site-packages/tensorflow/python/ops/math_ops.py:3066: to_int32 (from tensorflow.python.ops.math_ops) is deprecated and will be removed in a future version.\n",
      "Instructions for updating:\n",
      "Use tf.cast instead.\n"
     ]
    }
   ],
   "source": [
    "try:\n",
    "    model = load_model('my_model.h5')\n",
    "except:\n",
    "    print(\"none model found\")\n",
    "    model = build_model()"
   ]
  },
  {
   "cell_type": "code",
   "execution_count": 7,
   "metadata": {},
   "outputs": [
    {
     "name": "stdout",
     "output_type": "stream",
     "text": [
      "'[1win]1556349534.0caobluejiba.txt'   '[2zzz]1556349670.0caoredjiba.txt'\r\n",
      "'[1win]1556349557.0caobluejiba.txt'   '[2zzz]1556349953.0caobluejiba.txt'\r\n",
      "'[1win]1556349670.0caobluejiba.txt'   '[2zzz]1556349953.0caogreenjiba.txt'\r\n",
      "'[1win]1556349953.0caoredjiba.txt'    '[2zzz]1556350151.0caoredjiba.txt'\r\n",
      "'[1win]1556350152.0caobluejiba.txt'   '[2zzz]1556350152.0caogreenjiba.txt'\r\n",
      "'[1win]1556350389.0caogreenjiba.txt'  '[2zzz]1556350389.0caobluejiba.txt'\r\n",
      "'[1win]1556352753.0caobluejiba.txt'   '[2zzz]1556350389.0caoredjiba.txt'\r\n",
      "'[1win]1556353290.0caobluejiba.txt'   '[2zzz]1556352752.0caoredjiba.txt'\r\n",
      "'[1win]1556353931.0caoredjiba.txt'    '[2zzz]1556352753.0caogreenjiba.txt'\r\n",
      "'[2zzz]1556349534.0caogreenjiba.txt'  '[2zzz]1556353290.0caogreenjiba.txt'\r\n",
      "'[2zzz]1556349534.0caoredjiba.txt'    '[2zzz]1556353290.0caoredjiba.txt'\r\n",
      "'[2zzz]1556349557.0caogreenjiba.txt'  '[2zzz]1556353931.0caobluejiba.txt'\r\n",
      "'[2zzz]1556349557.0caoredjiba.txt'    '[2zzz]1556353931.0caogreenjiba.txt'\r\n",
      "'[2zzz]1556349670.0caogreenjiba.txt'\r\n"
     ]
    }
   ],
   "source": [
    "!ls '../rec'"
   ]
  },
  {
   "cell_type": "code",
   "execution_count": 77,
   "metadata": {},
   "outputs": [],
   "source": [
    "def bash_call(c:[str]) -> None:\n",
    "    res = subprocess.check_output(c)\n",
    "    ls = []\n",
    "    for line in res.splitlines():\n",
    "        line = line.decode('utf-8')\n",
    "        ls.append(line)\n",
    "    return ls"
   ]
  },
  {
   "cell_type": "code",
   "execution_count": 78,
   "metadata": {},
   "outputs": [],
   "source": [
    "def join_list(l):\n",
    "    res = \"\"\n",
    "    for i in l:\n",
    "        res += i + \"/\"\n",
    "    \n",
    "    res = res[:-1]\n",
    "    return res"
   ]
  },
  {
   "cell_type": "code",
   "execution_count": 92,
   "metadata": {},
   "outputs": [],
   "source": [
    "def load_logs():\n",
    "    datapath = join(join_list(os.getcwd().split('/')[:-1]),'rec/')\n",
    "    files = bash_call(['ls', datapath])\n",
    "    return files"
   ]
  },
  {
   "cell_type": "code",
   "execution_count": 140,
   "metadata": {},
   "outputs": [
    {
     "data": {
      "text/plain": [
       "['[1win]1556524801.0caobluejiba.txt',\n",
       " '[1win]1556524809.0caobluejiba.txt',\n",
       " '[1win]1556524823.0caobluejiba.txt',\n",
       " '[1win]1556524827.0caoredjiba.txt',\n",
       " '[2zzz]1556524801.0caogreenjiba.txt',\n",
       " '[2zzz]1556524801.0caoredjiba.txt',\n",
       " '[2zzz]1556524809.0caogreenjiba.txt',\n",
       " '[2zzz]1556524809.0caoredjiba.txt',\n",
       " '[2zzz]1556524823.0caogreenjiba.txt',\n",
       " '[2zzz]1556524823.0caoredjiba.txt',\n",
       " '[2zzz]1556524827.0caobluejiba.txt',\n",
       " '[2zzz]1556524827.0caogreenjiba.txt']"
      ]
     },
     "execution_count": 140,
     "metadata": {},
     "output_type": "execute_result"
    }
   ],
   "source": [
    "load_logs()"
   ]
  },
  {
   "cell_type": "code",
   "execution_count": 151,
   "metadata": {},
   "outputs": [],
   "source": [
    "def preprocess_log(filename, condition:None):\n",
    "    \n",
    "    if (condition != None) and (condition not in filename):\n",
    "        return False, False\n",
    "    \n",
    "    print(filename)\n",
    "    \n",
    "    states, color = utils.load_l('../rec/'+filename)\n",
    "\n",
    "    res = []\n",
    "    rewards = []\n",
    "\n",
    "    for s in states:\n",
    "        re = []\n",
    "        for i in sequence:\n",
    "            re.append(s[0][i])\n",
    "        re.append(color)\n",
    "        re.append(-s[4])\n",
    "        rewards.append(s[1])\n",
    "        res.append(re)\n",
    "\n",
    "    decay = 0.97\n",
    "    curr = 1\n",
    "    target = [rewards[-1]]\n",
    "    \n",
    "    for i in range(len(res)-2, -1, -1):\n",
    "        last = target[-1]\n",
    "        target.append(decay*last+rewards[i])\n",
    "        \n",
    "    target.reverse()\n",
    "    train = np.array(res)\n",
    "    return res, target"
   ]
  },
  {
   "cell_type": "code",
   "execution_count": 152,
   "metadata": {},
   "outputs": [
    {
     "name": "stdout",
     "output_type": "stream",
     "text": [
      "[2zzz]1556524801.0caogreenjiba.txt\n",
      "39 79\n"
     ]
    },
    {
     "ename": "ValueError",
     "evalue": "Error when checking model input: the list of Numpy arrays that you are passing to your model is not the size the model expected. Expected to see 1 array(s), but instead got the following list of 79 arrays: [array([[2],\n       [0],\n       [2],\n       [2],\n       [0],\n       [2],\n       [0],\n       [0],\n       [0],\n       [0],\n       [0],\n       [0],\n       [0],\n       [0],\n       [0],\n       [1],\n       ...",
     "output_type": "error",
     "traceback": [
      "\u001b[0;31m---------------------------------------------------------------------------\u001b[0m",
      "\u001b[0;31mValueError\u001b[0m                                Traceback (most recent call last)",
      "\u001b[0;32m<ipython-input-152-edf932bb6136>\u001b[0m in \u001b[0;36m<module>\u001b[0;34m\u001b[0m\n\u001b[1;32m      3\u001b[0m     \u001b[0;32mif\u001b[0m \u001b[0mres\u001b[0m\u001b[0;34m:\u001b[0m\u001b[0;34m\u001b[0m\u001b[0;34m\u001b[0m\u001b[0m\n\u001b[1;32m      4\u001b[0m         \u001b[0mprint\u001b[0m\u001b[0;34m(\u001b[0m\u001b[0mlen\u001b[0m\u001b[0;34m(\u001b[0m\u001b[0mres\u001b[0m\u001b[0;34m[\u001b[0m\u001b[0;34m-\u001b[0m\u001b[0;36m1\u001b[0m\u001b[0;34m]\u001b[0m\u001b[0;34m)\u001b[0m\u001b[0;34m,\u001b[0m \u001b[0mlen\u001b[0m\u001b[0;34m(\u001b[0m\u001b[0mtarget\u001b[0m\u001b[0;34m)\u001b[0m\u001b[0;34m)\u001b[0m\u001b[0;34m\u001b[0m\u001b[0;34m\u001b[0m\u001b[0m\n\u001b[0;32m----> 5\u001b[0;31m         \u001b[0mmodel\u001b[0m\u001b[0;34m.\u001b[0m\u001b[0mfit\u001b[0m\u001b[0;34m(\u001b[0m\u001b[0mres\u001b[0m\u001b[0;34m,\u001b[0m \u001b[0mtarget\u001b[0m\u001b[0;34m,\u001b[0m \u001b[0mepochs\u001b[0m\u001b[0;34m=\u001b[0m\u001b[0;36m1\u001b[0m\u001b[0;34m,\u001b[0m \u001b[0mbatch_size\u001b[0m\u001b[0;34m=\u001b[0m\u001b[0;36m1\u001b[0m\u001b[0;34m)\u001b[0m\u001b[0;34m\u001b[0m\u001b[0;34m\u001b[0m\u001b[0m\n\u001b[0m",
      "\u001b[0;32m/anaconda3/lib/python3.6/site-packages/keras/engine/training.py\u001b[0m in \u001b[0;36mfit\u001b[0;34m(self, x, y, batch_size, epochs, verbose, callbacks, validation_split, validation_data, shuffle, class_weight, sample_weight, initial_epoch, steps_per_epoch, validation_steps, **kwargs)\u001b[0m\n\u001b[1;32m    950\u001b[0m             \u001b[0msample_weight\u001b[0m\u001b[0;34m=\u001b[0m\u001b[0msample_weight\u001b[0m\u001b[0;34m,\u001b[0m\u001b[0;34m\u001b[0m\u001b[0;34m\u001b[0m\u001b[0m\n\u001b[1;32m    951\u001b[0m             \u001b[0mclass_weight\u001b[0m\u001b[0;34m=\u001b[0m\u001b[0mclass_weight\u001b[0m\u001b[0;34m,\u001b[0m\u001b[0;34m\u001b[0m\u001b[0;34m\u001b[0m\u001b[0m\n\u001b[0;32m--> 952\u001b[0;31m             batch_size=batch_size)\n\u001b[0m\u001b[1;32m    953\u001b[0m         \u001b[0;31m# Prepare validation data.\u001b[0m\u001b[0;34m\u001b[0m\u001b[0;34m\u001b[0m\u001b[0;34m\u001b[0m\u001b[0m\n\u001b[1;32m    954\u001b[0m         \u001b[0mdo_validation\u001b[0m \u001b[0;34m=\u001b[0m \u001b[0;32mFalse\u001b[0m\u001b[0;34m\u001b[0m\u001b[0;34m\u001b[0m\u001b[0m\n",
      "\u001b[0;32m/anaconda3/lib/python3.6/site-packages/keras/engine/training.py\u001b[0m in \u001b[0;36m_standardize_user_data\u001b[0;34m(self, x, y, sample_weight, class_weight, check_array_lengths, batch_size)\u001b[0m\n\u001b[1;32m    749\u001b[0m             \u001b[0mfeed_input_shapes\u001b[0m\u001b[0;34m,\u001b[0m\u001b[0;34m\u001b[0m\u001b[0;34m\u001b[0m\u001b[0m\n\u001b[1;32m    750\u001b[0m             \u001b[0mcheck_batch_axis\u001b[0m\u001b[0;34m=\u001b[0m\u001b[0;32mFalse\u001b[0m\u001b[0;34m,\u001b[0m  \u001b[0;31m# Don't enforce the batch size.\u001b[0m\u001b[0;34m\u001b[0m\u001b[0;34m\u001b[0m\u001b[0m\n\u001b[0;32m--> 751\u001b[0;31m             exception_prefix='input')\n\u001b[0m\u001b[1;32m    752\u001b[0m \u001b[0;34m\u001b[0m\u001b[0m\n\u001b[1;32m    753\u001b[0m         \u001b[0;32mif\u001b[0m \u001b[0my\u001b[0m \u001b[0;32mis\u001b[0m \u001b[0;32mnot\u001b[0m \u001b[0;32mNone\u001b[0m\u001b[0;34m:\u001b[0m\u001b[0;34m\u001b[0m\u001b[0;34m\u001b[0m\u001b[0m\n",
      "\u001b[0;32m/anaconda3/lib/python3.6/site-packages/keras/engine/training_utils.py\u001b[0m in \u001b[0;36mstandardize_input_data\u001b[0;34m(data, names, shapes, check_batch_axis, exception_prefix)\u001b[0m\n\u001b[1;32m    100\u001b[0m                 \u001b[0;34m'Expected to see '\u001b[0m \u001b[0;34m+\u001b[0m \u001b[0mstr\u001b[0m\u001b[0;34m(\u001b[0m\u001b[0mlen\u001b[0m\u001b[0;34m(\u001b[0m\u001b[0mnames\u001b[0m\u001b[0;34m)\u001b[0m\u001b[0;34m)\u001b[0m \u001b[0;34m+\u001b[0m \u001b[0;34m' array(s), '\u001b[0m\u001b[0;34m\u001b[0m\u001b[0;34m\u001b[0m\u001b[0m\n\u001b[1;32m    101\u001b[0m                 \u001b[0;34m'but instead got the following list of '\u001b[0m \u001b[0;34m+\u001b[0m\u001b[0;34m\u001b[0m\u001b[0;34m\u001b[0m\u001b[0m\n\u001b[0;32m--> 102\u001b[0;31m                 str(len(data)) + ' arrays: ' + str(data)[:200] + '...')\n\u001b[0m\u001b[1;32m    103\u001b[0m         \u001b[0;32melif\u001b[0m \u001b[0mlen\u001b[0m\u001b[0;34m(\u001b[0m\u001b[0mnames\u001b[0m\u001b[0;34m)\u001b[0m \u001b[0;34m>\u001b[0m \u001b[0;36m1\u001b[0m\u001b[0;34m:\u001b[0m\u001b[0;34m\u001b[0m\u001b[0;34m\u001b[0m\u001b[0m\n\u001b[1;32m    104\u001b[0m             raise ValueError(\n",
      "\u001b[0;31mValueError\u001b[0m: Error when checking model input: the list of Numpy arrays that you are passing to your model is not the size the model expected. Expected to see 1 array(s), but instead got the following list of 79 arrays: [array([[2],\n       [0],\n       [2],\n       [2],\n       [0],\n       [2],\n       [0],\n       [0],\n       [0],\n       [0],\n       [0],\n       [0],\n       [0],\n       [0],\n       [0],\n       [1],\n       ..."
     ]
    }
   ],
   "source": [
    "for i in load_logs():\n",
    "    res, target = preprocess_log(i, '2zzz')\n",
    "    if res:\n",
    "        print(len(res[-1]), len(target))\n",
    "        model.fit(res, target, epochs=1, batch_size=1)"
   ]
  },
  {
   "cell_type": "code",
   "execution_count": 147,
   "metadata": {
    "scrolled": true
   },
   "outputs": [
    {
     "data": {
      "text/plain": [
       "[2,\n",
       " 0,\n",
       " 0,\n",
       " 0,\n",
       " 0,\n",
       " 3,\n",
       " 0,\n",
       " 0,\n",
       " 0,\n",
       " 0,\n",
       " 0,\n",
       " 0,\n",
       " 0,\n",
       " 0,\n",
       " 3,\n",
       " 0,\n",
       " 0,\n",
       " 0,\n",
       " 0,\n",
       " 0,\n",
       " 3,\n",
       " 0,\n",
       " 0,\n",
       " 0,\n",
       " 0,\n",
       " 0,\n",
       " 0,\n",
       " 0,\n",
       " 0,\n",
       " 0,\n",
       " 0,\n",
       " 0,\n",
       " 0,\n",
       " 0,\n",
       " 0,\n",
       " 0,\n",
       " 3,\n",
       " 1,\n",
       " 0]"
      ]
     },
     "execution_count": 147,
     "metadata": {},
     "output_type": "execute_result"
    }
   ],
   "source": [
    "res[-1]"
   ]
  },
  {
   "cell_type": "code",
   "execution_count": 148,
   "metadata": {
    "scrolled": true
   },
   "outputs": [
    {
     "data": {
      "text/plain": [
       "[-239.8250946601956,\n",
       " -247.24236562906762,\n",
       " -254.88903673099756,\n",
       " -262.7722028154614,\n",
       " -270.8991781602695,\n",
       " -279.2775032580098,\n",
       " -287.9149518123813,\n",
       " -296.8195379509085,\n",
       " -305.9995236607304,\n",
       " -315.46342645436124,\n",
       " -325.2200272725374,\n",
       " -335.27837863148187,\n",
       " -345.6478130221463,\n",
       " -356.337951569223,\n",
       " -367.35871295796187,\n",
       " -378.7203226370741,\n",
       " -390.43332230626197,\n",
       " -402.5085796971773,\n",
       " -414.95729865688384,\n",
       " -427.7910295431792,\n",
       " -441.0216799414219,\n",
       " -454.6615257128061,\n",
       " -468.7232223843362,\n",
       " -483.21981689106826,\n",
       " -498.1647596815137,\n",
       " -513.5719171974368,\n",
       " -529.4555847396256,\n",
       " -545.8304997315728,\n",
       " -562.711855393374,\n",
       " -580.1153148385299,\n",
       " -598.0570256067319,\n",
       " -616.5536346461154,\n",
       " -635.6223037588818,\n",
       " -655.2807255246204,\n",
       " -675.5471397161035,\n",
       " -696.4403502227872,\n",
       " -717.9797424977188,\n",
       " -740.18530154404,\n",
       " -556.892063447464,\n",
       " -574.1155293272825,\n",
       " -591.871679718848,\n",
       " -403.99142239056494,\n",
       " -416.48600246449996,\n",
       " -429.36701285,\n",
       " -442.646405,\n",
       " -456.3365,\n",
       " -470.45,\n",
       " -485.0,\n",
       " -500]"
      ]
     },
     "execution_count": 148,
     "metadata": {},
     "output_type": "execute_result"
    }
   ],
   "source": [
    "target"
   ]
  },
  {
   "cell_type": "code",
   "execution_count": 114,
   "metadata": {},
   "outputs": [
    {
     "data": {
      "text/plain": [
       "array([[450.5655]], dtype=float32)"
      ]
     },
     "execution_count": 114,
     "metadata": {},
     "output_type": "execute_result"
    }
   ],
   "source": [
    "n = model.predict(np.array([res[-1]]))\n",
    "n"
   ]
  },
  {
   "cell_type": "code",
   "execution_count": 111,
   "metadata": {},
   "outputs": [],
   "source": [
    "def reload_model():\n",
    "    del model  # deletes the existing model\n",
    "\n",
    "    # returns a compiled model\n",
    "    # identical to the previous one\n",
    "    model = load_model('my_model.h5')\n"
   ]
  },
  {
   "cell_type": "code",
   "execution_count": 112,
   "metadata": {},
   "outputs": [],
   "source": [
    "def save_model():\n",
    "    model.save('my_model.h5')  # creates a HDF5 file 'my_model.h5'\n",
    "    with open('trained_model', 'wb') as f:\n",
    "        pickle.dump(model.get_weights(), f)"
   ]
  },
  {
   "cell_type": "code",
   "execution_count": 115,
   "metadata": {},
   "outputs": [],
   "source": [
    "save_model()"
   ]
  },
  {
   "cell_type": "code",
   "execution_count": 51,
   "metadata": {},
   "outputs": [
    {
     "data": {
      "text/plain": [
       "array([[-0.0557806],\n",
       "       [-0.0278903]], dtype=float32)"
      ]
     },
     "execution_count": 51,
     "metadata": {},
     "output_type": "execute_result"
    }
   ],
   "source": [
    "model.predict(np.array([[1]*39,[0.5]*39]))"
   ]
  }
 ],
 "metadata": {
  "kernelspec": {
   "display_name": "Python 3",
   "language": "python",
   "name": "python3"
  },
  "language_info": {
   "codemirror_mode": {
    "name": "ipython",
    "version": 3
   },
   "file_extension": ".py",
   "mimetype": "text/x-python",
   "name": "python",
   "nbconvert_exporter": "python",
   "pygments_lexer": "ipython3",
   "version": "3.6.8"
  }
 },
 "nbformat": 4,
 "nbformat_minor": 2
}
