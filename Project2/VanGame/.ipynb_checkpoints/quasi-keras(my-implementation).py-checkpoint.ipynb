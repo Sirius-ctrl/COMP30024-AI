{
 "cells": [
  {
   "cell_type": "code",
   "execution_count": 23,
   "metadata": {},
   "outputs": [],
   "source": [
    "import numpy as np\n",
    "import scipy as sp\n",
    "import os\n",
    "import utils"
   ]
  },
  {
   "cell_type": "code",
   "execution_count": 51,
   "metadata": {},
   "outputs": [],
   "source": [
    "NN_ARCHITECTURE = [\n",
    "    {\"input_size\": 39, \"output_size\": 200, \"activation\": \"relu\"},\n",
    "    {\"input_size\": 200, \"output_size\": 400, \"activation\": \"relu\"},\n",
    "    {\"input_size\": 400, \"output_size\": 400, \"activation\": \"relu\"},\n",
    "    {\"input_size\": 200, \"output_size\": 200, \"activation\": \"relu\"},\n",
    "    {\"input_size\": 200, \"output_size\": 1, \"activation\": \"linear\"},\n",
    "]"
   ]
  },
  {
   "cell_type": "code",
   "execution_count": 61,
   "metadata": {},
   "outputs": [],
   "source": [
    "class NeuralNetwork:\n",
    "    \n",
    "    def __init__(self, arch, load=False):\n",
    "        \n",
    "        self.acti = {\"relu\":utils.ReLu.forward, \"linear\":utils.Linear.forward}\n",
    "        self.grad = {\"relu\":utils.ReLu.forward, \"linear\":utils.Linear.forward}\n",
    "        self.arch = arch\n",
    "        self.layers = len(arch)\n",
    "        self.params = {}\n",
    "        self.memory = None\n",
    "        \n",
    "        if not load:\n",
    "            np.random.seed(42)\n",
    "            for level, prop in enumerate(arch):\n",
    "                l = level + 1\n",
    "\n",
    "                i_size = prop[\"input_size\"]\n",
    "                o_size = prop[\"output_size\"]\n",
    "\n",
    "\n",
    "                self.params['weight' + str(l)] = np.random.randn(o_size, i_size) * 0.1\n",
    "                self.params['bias' + str(l)] = np.random.randn(o_size, 1) * 0.1\n",
    "   \n",
    "    def forward_prop(self, i, l, prop):\n",
    "        \n",
    "        activation = self.acti[prop['activation']]\n",
    "        weights = self.params['weight' + str(l)]\n",
    "        bias = self.params['bias'+str(l)]\n",
    "        o = np.dot(weights, i) + bias\n",
    "        return activation(o), o\n",
    "    \n",
    "    def full_forward_prop(self, init_input):\n",
    "        self.memory = {}\n",
    "        self.memeory['input0'] = init_input\n",
    "        \n",
    "        for level, prop in enumerate(arch):\n",
    "            l = level+1\n",
    "            \n",
    "            output, before_activate = forward_prop(self.memory['i'+str(level)], l, prop)\n",
    "            \n",
    "            memory['input'+ str(l)] = output\n",
    "            memory['before_activation' + str(l)] = before_activation\n",
    "    \n",
    "    def predict(self, init_input):\n",
    "        output = None\n",
    "        for level, prop in enumerate(arch):\n",
    "            if output:\n",
    "                output, before_activate = forward_prop(output, level+1, prop)\n",
    "            else:\n",
    "                output, before_activate = forward_prop(init_input, level+1, prop)\n",
    "        \n",
    "        return output \n",
    "    \n",
    "    @staticmethod\n",
    "    def MSE(output, target):\n",
    "        return 0.5 * np.mean(np.sum(np.power(output - target, 2), axis=1))\n",
    "    \n",
    "    @staticmethod\n",
    "    def MSE_back(output, target):\n",
    "        return output-tar\n",
    "    \n",
    "    def loss(self):\n",
    "        pass\n"
   ]
  },
  {
   "cell_type": "code",
   "execution_count": 62,
   "metadata": {},
   "outputs": [],
   "source": [
    "test = NeuralNetwork(NN_ARCHITECTURE)"
   ]
  },
  {
   "cell_type": "code",
   "execution_count": 63,
   "metadata": {
    "scrolled": true
   },
   "outputs": [
    {
     "data": {
      "text/plain": [
       "(1, 200)"
      ]
     },
     "execution_count": 63,
     "metadata": {},
     "output_type": "execute_result"
    }
   ],
   "source": [
    "test.params['weight'+str(len(NN_ARCHITECTURE))].shape"
   ]
  },
  {
   "cell_type": "code",
   "execution_count": 13,
   "metadata": {},
   "outputs": [],
   "source": [
    "test.predict()"
   ]
  },
  {
   "cell_type": "code",
   "execution_count": null,
   "metadata": {},
   "outputs": [],
   "source": []
  }
 ],
 "metadata": {
  "kernelspec": {
   "display_name": "Python 3",
   "language": "python",
   "name": "python3"
  },
  "language_info": {
   "codemirror_mode": {
    "name": "ipython",
    "version": 3
   },
   "file_extension": ".py",
   "mimetype": "text/x-python",
   "name": "python",
   "nbconvert_exporter": "python",
   "pygments_lexer": "ipython3",
   "version": "3.6.8"
  }
 },
 "nbformat": 4,
 "nbformat_minor": 2
}
