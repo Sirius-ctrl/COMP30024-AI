{
 "cells": [
  {
   "cell_type": "code",
   "execution_count": 6,
   "metadata": {},
   "outputs": [],
   "source": [
    "CELLS = [(q, r) for q in range(-3, +3 + 1) for r in range(-3, +3 + 1) if -q - r in range(-3, +3 + 1)]"
   ]
  },
  {
   "cell_type": "code",
   "execution_count": 7,
   "metadata": {},
   "outputs": [],
   "source": [
    "import tensorflow as tf\n",
    "import numpy as np\n",
    "from keras import models, layers\n",
    "from keras.models import load_model"
   ]
  },
  {
   "cell_type": "code",
   "execution_count": 8,
   "metadata": {
    "scrolled": true
   },
   "outputs": [
    {
     "data": {
      "text/plain": [
       "[(-3, 0),\n",
       " (-3, 1),\n",
       " (-3, 2),\n",
       " (-3, 3),\n",
       " (-2, -1),\n",
       " (-2, 0),\n",
       " (-2, 1),\n",
       " (-2, 2),\n",
       " (-2, 3),\n",
       " (-1, -2),\n",
       " (-1, -1),\n",
       " (-1, 0),\n",
       " (-1, 1),\n",
       " (-1, 2),\n",
       " (-1, 3),\n",
       " (0, -3),\n",
       " (0, -2),\n",
       " (0, -1),\n",
       " (0, 0),\n",
       " (0, 1),\n",
       " (0, 2),\n",
       " (0, 3),\n",
       " (1, -3),\n",
       " (1, -2),\n",
       " (1, -1),\n",
       " (1, 0),\n",
       " (1, 1),\n",
       " (1, 2),\n",
       " (2, -3),\n",
       " (2, -2),\n",
       " (2, -1),\n",
       " (2, 0),\n",
       " (2, 1),\n",
       " (3, -3),\n",
       " (3, -2),\n",
       " (3, -1),\n",
       " (3, 0)]"
      ]
     },
     "execution_count": 8,
     "metadata": {},
     "output_type": "execute_result"
    }
   ],
   "source": [
    "sequence = sorted([p for p in CELLS])\n",
    "sequence"
   ]
  },
  {
   "cell_type": "code",
   "execution_count": 4,
   "metadata": {},
   "outputs": [],
   "source": [
    "NN_ARCHITECTURE = [\n",
    "    {\"input_dim\": 2, \"output_dim\": 25, \"activation\": \"relu\"},\n",
    "    {\"input_dim\": 25, \"output_dim\": 50, \"activation\": \"relu\"},\n",
    "    {\"input_dim\": 50, \"output_dim\": 50, \"activation\": \"relu\"},\n",
    "    {\"input_dim\": 50, \"output_dim\": 25, \"activation\": \"relu\"},\n",
    "    {\"input_dim\": 25, \"output_dim\": 1, \"activation\": None},\n",
    "]"
   ]
  },
  {
   "cell_type": "code",
   "execution_count": 5,
   "metadata": {},
   "outputs": [],
   "source": [
    "class feed_forward():\n",
    "    \n",
    "    def __init__(self, archi, seed=42):\n",
    "        # random seed initiation\n",
    "        np.random.seed(seed)\n",
    "        \n",
    "        self.layers = len(archi)\n",
    "        self.params = {}\n",
    "\n",
    "        # iteration over network layers\n",
    "        for idx, layer in enumerate(archi):\n",
    "            # we number network layers from 1\n",
    "            layer_idx = idx + 1\n",
    "\n",
    "            # extracting the number of units in layers\n",
    "            layer_input_size = layer[\"input_dim\"]\n",
    "            layer_output_size = layer[\"output_dim\"]\n",
    "\n",
    "            # initiating the values of the W matrix\n",
    "            # and vector b for subsequent layers\n",
    "            self.params['W' + str(layer_idx)] = np.random.randn(layer_output_size, layer_input_size) * 0.1\n",
    "            self.params['b' + str(layer_idx)] = np.random.randn(layer_output_size, 1) * 0.1\n",
    "    \n",
    "    def print_params(self):\n",
    "        print(self.params)\n",
    "        \n",
    "    def sigmoid(self, a):\n",
    "        return 1/(1+np.exp(-a))\n",
    "    \n",
    "    def relu(self, a):\n",
    "        return np.maximum(a,0)\n",
    "    \n",
    "    def relu_back(self, da, z):\n",
    "        dz = np.array(da, copy=True)\n",
    "        dz[Z <= 0] = 0\n",
    "        return dz\n",
    "        \n",
    "    "
   ]
  },
  {
   "cell_type": "code",
   "execution_count": 6,
   "metadata": {},
   "outputs": [],
   "source": [
    "dnn = feed_forward(NN_ARCHITECTURE)"
   ]
  },
  {
   "cell_type": "code",
   "execution_count": 7,
   "metadata": {},
   "outputs": [
    {
     "name": "stdout",
     "output_type": "stream",
     "text": [
      "{'W1': array([[ 0.04967142, -0.01382643],\n",
      "       [ 0.06476885,  0.15230299],\n",
      "       [-0.02341534, -0.0234137 ],\n",
      "       [ 0.15792128,  0.07674347],\n",
      "       [-0.04694744,  0.054256  ],\n",
      "       [-0.04634177, -0.04657298],\n",
      "       [ 0.02419623, -0.19132802],\n",
      "       [-0.17249178, -0.05622875],\n",
      "       [-0.10128311,  0.03142473],\n",
      "       [-0.09080241, -0.14123037],\n",
      "       [ 0.14656488, -0.02257763],\n",
      "       [ 0.00675282, -0.14247482],\n",
      "       [-0.05443827,  0.01109226],\n",
      "       [-0.11509936,  0.0375698 ],\n",
      "       [-0.06006387, -0.02916937],\n",
      "       [-0.06017066,  0.18522782],\n",
      "       [-0.00134972, -0.10577109],\n",
      "       [ 0.08225449, -0.12208436],\n",
      "       [ 0.02088636, -0.19596701],\n",
      "       [-0.1328186 ,  0.01968612],\n",
      "       [ 0.07384666,  0.01713683],\n",
      "       [-0.01156483, -0.03011037],\n",
      "       [-0.1478522 , -0.07198442],\n",
      "       [-0.04606388,  0.10571222],\n",
      "       [ 0.03436183, -0.17630402]]), 'b1': array([[ 0.0324084 ],\n",
      "       [-0.03850823],\n",
      "       [-0.0676922 ],\n",
      "       [ 0.06116763],\n",
      "       [ 0.10309995],\n",
      "       [ 0.09312801],\n",
      "       [-0.08392175],\n",
      "       [-0.03092124],\n",
      "       [ 0.03312634],\n",
      "       [ 0.09755451],\n",
      "       [-0.04791742],\n",
      "       [-0.0185659 ],\n",
      "       [-0.1106335 ],\n",
      "       [-0.11962066],\n",
      "       [ 0.08125258],\n",
      "       [ 0.135624  ],\n",
      "       [-0.00720101],\n",
      "       [ 0.10035329],\n",
      "       [ 0.0361636 ],\n",
      "       [-0.06451198],\n",
      "       [ 0.03613956],\n",
      "       [ 0.15380366],\n",
      "       [-0.0035826 ],\n",
      "       [ 0.15646437],\n",
      "       [-0.26197451]]), 'W2': array([[ 0.08219025,  0.00870471, -0.02990074, ...,  0.02610553,\n",
      "         0.00051135, -0.02345871],\n",
      "       [-0.14153707, -0.04206453, -0.03427145, ...,  0.14027943,\n",
      "        -0.14018511,  0.05868571],\n",
      "       [ 0.21904556, -0.09905363, -0.05662977, ..., -0.13204566,\n",
      "         0.05219416,  0.02969847],\n",
      "       ...,\n",
      "       [ 0.03308802,  0.0833529 , -0.19937356, ..., -0.10923128,\n",
      "        -0.03164084,  0.12130977],\n",
      "       [ 0.01417169,  0.23193295,  0.03933178, ..., -0.02902745,\n",
      "         0.02673923,  0.03216978],\n",
      "       [-0.06680905,  0.09920423, -0.01749598, ..., -0.00704988,\n",
      "         0.04865016,  0.00644744]]), 'b2': array([[-0.19754666],\n",
      "       [-0.09393354],\n",
      "       [-0.01440876],\n",
      "       [-0.12096947],\n",
      "       [ 0.05999287],\n",
      "       [ 0.15307508],\n",
      "       [ 0.12187619],\n",
      "       [-0.02134429],\n",
      "       [ 0.14907261],\n",
      "       [ 0.01486675],\n",
      "       [-0.0337086 ],\n",
      "       [-0.06134027],\n",
      "       [-0.03024697],\n",
      "       [-0.03881768],\n",
      "       [ 0.01704162],\n",
      "       [ 0.0160574 ],\n",
      "       [ 0.0003046 ],\n",
      "       [ 0.04369382],\n",
      "       [ 0.11906463],\n",
      "       [ 0.09495541],\n",
      "       [-0.1484898 ],\n",
      "       [-0.25539211],\n",
      "       [ 0.09343199],\n",
      "       [-0.13668787],\n",
      "       [-0.02247654],\n",
      "       [-0.1170113 ],\n",
      "       [-0.18019804],\n",
      "       [ 0.05414627],\n",
      "       [ 0.07591552],\n",
      "       [-0.05765104],\n",
      "       [-0.25910423],\n",
      "       [-0.05462444],\n",
      "       [ 0.0391804 ],\n",
      "       [-0.14789116],\n",
      "       [ 0.01833599],\n",
      "       [-0.00153098],\n",
      "       [ 0.05792915],\n",
      "       [ 0.01195804],\n",
      "       [-0.09730689],\n",
      "       [ 0.11965715],\n",
      "       [-0.01585296],\n",
      "       [-0.00273045],\n",
      "       [-0.0933268 ],\n",
      "       [-0.04432823],\n",
      "       [-0.08848027],\n",
      "       [-0.01729461],\n",
      "       [ 0.17117085],\n",
      "       [-0.13719011],\n",
      "       [-0.16135614],\n",
      "       [ 0.14711703]]), 'W3': array([[-0.02093237, -0.06690727,  0.10399047, ..., -0.03649527,\n",
      "        -0.08392097, -0.10448092],\n",
      "       [-0.19663566,  0.20562071, -0.11032084, ..., -0.01340172,\n",
      "         0.00146882, -0.07848983],\n",
      "       [ 0.06482804, -0.01209481,  0.04195324, ..., -0.02264841,\n",
      "        -0.09594392, -0.03722068],\n",
      "       ...,\n",
      "       [ 0.05827376,  0.04968736,  0.10697715, ..., -0.07820035,\n",
      "        -0.07597031, -0.17710686],\n",
      "       [ 0.04715424, -0.18311449, -0.12284438, ..., -0.0044893 ,\n",
      "         0.0182501 , -0.06701152],\n",
      "       [ 0.11717179, -0.11761733,  0.04875603, ..., -0.10973683,\n",
      "        -0.14769249, -0.07393714]]), 'b3': array([[ 0.11918993],\n",
      "       [ 0.09500158],\n",
      "       [ 0.02430047],\n",
      "       [-0.15327006],\n",
      "       [-0.01962807],\n",
      "       [ 0.03017   ],\n",
      "       [ 0.01755362],\n",
      "       [-0.18437936],\n",
      "       [-0.08903178],\n",
      "       [-0.00640778],\n",
      "       [ 0.05362909],\n",
      "       [-0.21961278],\n",
      "       [-0.0162124 ],\n",
      "       [ 0.01430488],\n",
      "       [ 0.0849612 ],\n",
      "       [ 0.06928576],\n",
      "       [ 0.05825713],\n",
      "       [-0.07999405],\n",
      "       [-0.19080021],\n",
      "       [-0.03930528],\n",
      "       [ 0.10016318],\n",
      "       [ 0.13934545],\n",
      "       [ 0.07105491],\n",
      "       [ 0.04293408],\n",
      "       [ 0.03796396],\n",
      "       [-0.05561187],\n",
      "       [-0.01300603],\n",
      "       [ 0.16690695],\n",
      "       [-0.0942558 ],\n",
      "       [ 0.16147788],\n",
      "       [-0.03220282],\n",
      "       [ 0.13254321],\n",
      "       [-0.1406815 ],\n",
      "       [ 0.05859042],\n",
      "       [-0.07367701],\n",
      "       [-0.14152672],\n",
      "       [ 0.0218534 ],\n",
      "       [ 0.10094718],\n",
      "       [-0.08449414],\n",
      "       [-0.1499016 ],\n",
      "       [-0.00918448],\n",
      "       [-0.00874353],\n",
      "       [ 0.05483196],\n",
      "       [ 0.09495946],\n",
      "       [-0.00594152],\n",
      "       [ 0.18555033],\n",
      "       [ 0.02242347],\n",
      "       [-0.03464265],\n",
      "       [-0.16115674],\n",
      "       [-0.02626595]]), 'W4': array([[-0.03363869,  0.09603048,  0.04624836, ...,  0.03475616,\n",
      "         0.00866977,  0.03556689],\n",
      "       [ 0.01915774,  0.0506241 ,  0.14473057, ..., -0.18518427,\n",
      "         0.07835897, -0.06786431],\n",
      "       [-0.03182375, -0.07811564, -0.02598001, ..., -0.15375848,\n",
      "        -0.01449046, -0.04459437],\n",
      "       ...,\n",
      "       [-0.1234512 , -0.10319663, -0.04402592, ...,  0.0609526 ,\n",
      "        -0.15553737,  0.02008451],\n",
      "       [ 0.01007911,  0.00412875,  0.10371589, ..., -0.02576205,\n",
      "        -0.00696335,  0.06891645],\n",
      "       [-0.06836343, -0.02737293, -0.00142704, ..., -0.04146269,\n",
      "        -0.0995174 ,  0.05496832]]), 'b4': array([[ 0.18014301],\n",
      "       [-0.1301588 ],\n",
      "       [-0.18530185],\n",
      "       [-0.01248869],\n",
      "       [ 0.00156978],\n",
      "       [ 0.02186593],\n",
      "       [-0.04463205],\n",
      "       [-0.02006393],\n",
      "       [ 0.03675104],\n",
      "       [ 0.10404309],\n",
      "       [-0.19550488],\n",
      "       [-0.03689394],\n",
      "       [ 0.02138088],\n",
      "       [-0.09179761],\n",
      "       [ 0.17311696],\n",
      "       [-0.06354099],\n",
      "       [-0.00412927],\n",
      "       [ 0.05560221],\n",
      "       [-0.05912848],\n",
      "       [-0.1846573 ],\n",
      "       [-0.04286545],\n",
      "       [ 0.10294406],\n",
      "       [-0.03368951],\n",
      "       [-0.08464343],\n",
      "       [ 0.09256722]]), 'W5': array([[-0.03307749, -0.05101608,  0.01494561,  0.07707502,  0.23817135,\n",
      "         0.08272361,  0.115984  , -0.05059662, -0.10258681,  0.00623313,\n",
      "         0.01071699, -0.10785127, -0.01752945,  0.03993176,  0.03603934,\n",
      "         0.05042879,  0.02909647, -0.05070087, -0.05139006, -0.11989514,\n",
      "         0.1784775 ,  0.00134504, -0.02248531, -0.09287921,  0.29356579]]), 'b5': array([[-0.1073328]])}\n"
     ]
    }
   ],
   "source": [
    "dnn.print_params()"
   ]
  },
  {
   "cell_type": "code",
   "execution_count": 118,
   "metadata": {},
   "outputs": [],
   "source": [
    "model = build_model()"
   ]
  },
  {
   "cell_type": "code",
   "execution_count": 107,
   "metadata": {},
   "outputs": [],
   "source": [
    "a = np.array([[1]*39])\n",
    "b = [500]"
   ]
  },
  {
   "cell_type": "code",
   "execution_count": 117,
   "metadata": {},
   "outputs": [],
   "source": [
    "def build_model():\n",
    "    model = models.Sequential()\n",
    "    model.add(layers.Dense(400,activation='relu', input_shape=(39,)))\n",
    "    model.add(layers.Dense(400, activation='relu'))\n",
    "    model.add(layers.Dense(400, activation='relu'))\n",
    "    model.add(layers.Dense(400, activation='relu'))\n",
    "    model.add(layers.Dense(1))\n",
    "    model.compile(optimizer='rmsprop', loss='mse')\n",
    "    return model"
   ]
  },
  {
   "cell_type": "code",
   "execution_count": 10,
   "metadata": {},
   "outputs": [
    {
     "name": "stdout",
     "output_type": "stream",
     "text": [
      "WARNING:tensorflow:From /Users/shouyin/anaconda3/lib/python3.7/site-packages/tensorflow/python/framework/op_def_library.py:263: colocate_with (from tensorflow.python.framework.ops) is deprecated and will be removed in a future version.\n",
      "Instructions for updating:\n",
      "Colocations handled automatically by placer.\n",
      "WARNING:tensorflow:From /Users/shouyin/anaconda3/lib/python3.7/site-packages/tensorflow/python/ops/math_ops.py:3066: to_int32 (from tensorflow.python.ops.math_ops) is deprecated and will be removed in a future version.\n",
      "Instructions for updating:\n",
      "Use tf.cast instead.\n"
     ]
    }
   ],
   "source": [
    "try:\n",
    "    model = load_model('my_model.h5')\n",
    "except:\n",
    "    print(\"none model found\")\n",
    "    model = build_model()"
   ]
  },
  {
   "cell_type": "code",
   "execution_count": 141,
   "metadata": {},
   "outputs": [
    {
     "name": "stdout",
     "output_type": "stream",
     "text": [
      "'[1win]1556349534.0caobluejiba.txt'   '[2zzz]1556349670.0caoredjiba.txt'\r\n",
      "'[1win]1556349557.0caobluejiba.txt'   '[2zzz]1556349953.0caobluejiba.txt'\r\n",
      "'[1win]1556349670.0caobluejiba.txt'   '[2zzz]1556349953.0caogreenjiba.txt'\r\n",
      "'[1win]1556349953.0caoredjiba.txt'    '[2zzz]1556350151.0caoredjiba.txt'\r\n",
      "'[1win]1556350152.0caobluejiba.txt'   '[2zzz]1556350152.0caogreenjiba.txt'\r\n",
      "'[1win]1556350389.0caogreenjiba.txt'  '[2zzz]1556350389.0caobluejiba.txt'\r\n",
      "'[1win]1556352753.0caobluejiba.txt'   '[2zzz]1556350389.0caoredjiba.txt'\r\n",
      "'[1win]1556353290.0caobluejiba.txt'   '[2zzz]1556352752.0caoredjiba.txt'\r\n",
      "'[1win]1556353931.0caoredjiba.txt'    '[2zzz]1556352753.0caogreenjiba.txt'\r\n",
      "'[2zzz]1556349534.0caogreenjiba.txt'  '[2zzz]1556353290.0caogreenjiba.txt'\r\n",
      "'[2zzz]1556349534.0caoredjiba.txt'    '[2zzz]1556353290.0caoredjiba.txt'\r\n",
      "'[2zzz]1556349557.0caogreenjiba.txt'  '[2zzz]1556353931.0caobluejiba.txt'\r\n",
      "'[2zzz]1556349557.0caoredjiba.txt'    '[2zzz]1556353931.0caogreenjiba.txt'\r\n",
      "'[2zzz]1556349670.0caogreenjiba.txt'\r\n"
     ]
    }
   ],
   "source": [
    "!ls '../rec'"
   ]
  },
  {
   "cell_type": "code",
   "execution_count": 142,
   "metadata": {},
   "outputs": [
    {
     "name": "stdout",
     "output_type": "stream",
     "text": [
      "39\n"
     ]
    }
   ],
   "source": [
    "import json\n",
    "import utils\n",
    "test, color = utils.load_l('../rec/[1win]1556353931.0caoredjiba.txt')\n",
    "\n",
    "res = []\n",
    "rewards = []\n",
    "\n",
    "for s in test:\n",
    "    re = []\n",
    "    for i in sequence:\n",
    "        re.append(s[0][i])\n",
    "    re.append(color)\n",
    "    re.append(-s[4])\n",
    "    rewards.append(s[1])\n",
    "    res.append(re)\n",
    "    \n",
    "decay = 0.98\n",
    "curr = 1\n",
    "target = [rewards[-1]]\n",
    "for i in range(len(res)-2, -1, -1):\n",
    "    last = target[-1]\n",
    "    target.append(decay*last+rewards[i])\n",
    "\n",
    "target.reverse()\n",
    "train = np.array(res)\n",
    "print(len(res[-1]))"
   ]
  },
  {
   "cell_type": "code",
   "execution_count": 147,
   "metadata": {},
   "outputs": [
    {
     "data": {
      "text/plain": [
       "[{(-3, 0): 0,\n",
       "  (-3, 1): 0,\n",
       "  (-3, 2): 0,\n",
       "  (-3, 3): 0,\n",
       "  (-2, -1): 2,\n",
       "  (-2, 0): 0,\n",
       "  (-2, 1): 0,\n",
       "  (-2, 2): 0,\n",
       "  (-2, 3): 0,\n",
       "  (-1, -2): 0,\n",
       "  (-1, -1): 3,\n",
       "  (-1, 0): 0,\n",
       "  (-1, 1): 0,\n",
       "  (-1, 2): 3,\n",
       "  (-1, 3): 0,\n",
       "  (0, -3): 0,\n",
       "  (0, -2): 0,\n",
       "  (0, -1): 0,\n",
       "  (0, 0): 0,\n",
       "  (0, 1): 0,\n",
       "  (0, 2): 0,\n",
       "  (0, 3): 0,\n",
       "  (1, -3): 0,\n",
       "  (1, -2): 0,\n",
       "  (1, -1): 0,\n",
       "  (1, 0): 0,\n",
       "  (1, 1): 0,\n",
       "  (1, 2): 0,\n",
       "  (2, -3): 2,\n",
       "  (2, -2): 0,\n",
       "  (2, -1): 0,\n",
       "  (2, 0): 0,\n",
       "  (2, 1): 3,\n",
       "  (3, -3): 0,\n",
       "  (3, -2): 3,\n",
       "  (3, -1): 0,\n",
       "  (3, 0): 0},\n",
       " 0,\n",
       " 0,\n",
       " ['MOVE', [[-2, 0], [-2, -1]]],\n",
       " 0]"
      ]
     },
     "execution_count": 147,
     "metadata": {},
     "output_type": "execute_result"
    }
   ],
   "source": [
    "test[-6]"
   ]
  },
  {
   "cell_type": "code",
   "execution_count": 148,
   "metadata": {},
   "outputs": [
    {
     "data": {
      "text/plain": [
       "[128.62440172544038,\n",
       " 131.2493895157555,\n",
       " 133.92794848546478,\n",
       " 136.66117192394367,\n",
       " 139.4501754325956,\n",
       " 142.29609738019957,\n",
       " 145.2000993675506,\n",
       " 148.16336670158225,\n",
       " 151.18710887916555,\n",
       " 154.27256008078118,\n",
       " 157.4209796742665,\n",
       " 160.63365272884337,\n",
       " 163.9118905396361,\n",
       " 371.3386638159552,\n",
       " 378.91700389383186,\n",
       " 386.6500039732978,\n",
       " 394.54082038091616,\n",
       " 402.5926738580777,\n",
       " 410.80885087558954,\n",
       " 419.1927049750914,\n",
       " 427.74765813784836,\n",
       " 436.47720218147794,\n",
       " 445.38490018518155,\n",
       " 454.4743879440628,\n",
       " 463.7493754531253,\n",
       " 269.1320157684952,\n",
       " 274.6245058862196,\n",
       " 280.2290876389996,\n",
       " 285.94804861122407,\n",
       " 291.7837230726776,\n",
       " 297.7384929313037,\n",
       " 303.81478870541196,\n",
       " 207.97427418919588,\n",
       " 212.21864713183254,\n",
       " 216.54963993044137,\n",
       " 220.96902033718507,\n",
       " 225.4785921808011,\n",
       " 230.08019610285825,\n",
       " 234.77571030903903,\n",
       " 443.6486839888153,\n",
       " 452.70273876409726,\n",
       " 461.9415701674462,\n",
       " 267.28731649739404,\n",
       " 272.74215969121843,\n",
       " 278.308326215529,\n",
       " 283.9880879750296,\n",
       " 289.7837632398261,\n",
       " 295.6977175916593,\n",
       " 301.73236488944826,\n",
       " 307.89016825453905,\n",
       " 314.1736410760603,\n",
       " 320.58534803679623,\n",
       " 327.12790615999614,\n",
       " 333.8039858775471,\n",
       " 340.61631211994603,\n",
       " 347.56766542851636,\n",
       " 354.66088309032284,\n",
       " 361.8988602962478,\n",
       " 369.2845513227018,\n",
       " 376.82097073745086,\n",
       " 384.51119463005193,\n",
       " 392.35836186739994,\n",
       " 400.3656753748979,\n",
       " 408.53640344377334,\n",
       " 416.87388106507484,\n",
       " 425.3815112908927,\n",
       " 434.06276662335995,\n",
       " 442.92119043199995,\n",
       " 451.9603984,\n",
       " 461.18408,\n",
       " 470.596,\n",
       " 480.2,\n",
       " 490.0,\n",
       " 500]"
      ]
     },
     "execution_count": 148,
     "metadata": {},
     "output_type": "execute_result"
    }
   ],
   "source": [
    "target"
   ]
  },
  {
   "cell_type": "code",
   "execution_count": 149,
   "metadata": {
    "scrolled": true
   },
   "outputs": [
    {
     "name": "stdout",
     "output_type": "stream",
     "text": [
      "Epoch 1/3\n",
      "74/74 [==============================] - 2s 23ms/step - loss: 20768.9853\n",
      "Epoch 2/3\n",
      "74/74 [==============================] - 0s 6ms/step - loss: 7150.4328\n",
      "Epoch 3/3\n",
      "74/74 [==============================] - 0s 7ms/step - loss: 6671.9359\n"
     ]
    },
    {
     "data": {
      "text/plain": [
       "<keras.callbacks.History at 0xb4192f5f8>"
      ]
     },
     "execution_count": 149,
     "metadata": {},
     "output_type": "execute_result"
    }
   ],
   "source": [
    "model.fit(train, target, epochs=3, batch_size=1)"
   ]
  },
  {
   "cell_type": "code",
   "execution_count": 152,
   "metadata": {},
   "outputs": [],
   "source": [
    "n = model.predict(np.array([res[-1]]))\n",
    "model.save('my_model.h5')  # creates a HDF5 file 'my_model.h5'\n",
    "\n",
    "n"
   ]
  },
  {
   "cell_type": "code",
   "execution_count": 151,
   "metadata": {},
   "outputs": [],
   "source": [
    "del model  # deletes the existing model\n",
    "\n",
    "# returns a compiled model\n",
    "# identical to the previous one\n",
    "model = load_model('my_model.h5')"
   ]
  },
  {
   "cell_type": "code",
   "execution_count": null,
   "metadata": {},
   "outputs": [],
   "source": []
  }
 ],
 "metadata": {
  "kernelspec": {
   "display_name": "Python 3",
   "language": "python",
   "name": "python3"
  },
  "language_info": {
   "codemirror_mode": {
    "name": "ipython",
    "version": 3
   },
   "file_extension": ".py",
   "mimetype": "text/x-python",
   "name": "python",
   "nbconvert_exporter": "python",
   "pygments_lexer": "ipython3",
   "version": "3.7.1"
  }
 },
 "nbformat": 4,
 "nbformat_minor": 2
}
