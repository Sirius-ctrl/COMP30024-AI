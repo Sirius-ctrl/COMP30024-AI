{
 "cells": [
  {
   "cell_type": "code",
   "execution_count": 1,
   "metadata": {},
   "outputs": [],
   "source": [
    "CELLS = [(q, r) for q in range(-3, +3 + 1) for r in range(-3, +3 + 1) if -q - r in range(-3, +3 + 1)]"
   ]
  },
  {
   "cell_type": "code",
   "execution_count": 84,
   "metadata": {},
   "outputs": [],
   "source": [
    "import tensorflow as tf\n",
    "import numpy as np\n",
    "from keras import models, layers\n",
    "from keras.models import load_model\n",
    "import json\n",
    "import pickle\n",
    "import os\n",
    "from os.path import join\n",
    "import subprocess\n",
    "import json\n",
    "import utils"
   ]
  },
  {
   "cell_type": "code",
   "execution_count": 3,
   "metadata": {
    "scrolled": true
   },
   "outputs": [],
   "source": [
    "sequence = sorted([p for p in CELLS])"
   ]
  },
  {
   "cell_type": "code",
   "execution_count": 49,
   "metadata": {},
   "outputs": [],
   "source": [
    "model = build_model()"
   ]
  },
  {
   "cell_type": "code",
   "execution_count": 107,
   "metadata": {},
   "outputs": [],
   "source": [
    "a = np.array([[1]*39])\n",
    "b = [500]"
   ]
  },
  {
   "cell_type": "code",
   "execution_count": 48,
   "metadata": {},
   "outputs": [],
   "source": [
    "def build_model():\n",
    "    model = models.Sequential()\n",
    "    model.add(layers.Dense(128,activation='relu', input_shape=(39,)))\n",
    "    model.add(layers.Dense(256, activation='relu'))\n",
    "    model.add(layers.Dense(256, activation='relu'))\n",
    "    model.add(layers.Dense(128, activation='relu'))\n",
    "    model.add(layers.Dense(1))\n",
    "    model.compile(optimizer='rmsprop', loss='mse')\n",
    "    return model"
   ]
  },
  {
   "cell_type": "code",
   "execution_count": 5,
   "metadata": {},
   "outputs": [
    {
     "name": "stdout",
     "output_type": "stream",
     "text": [
      "WARNING:tensorflow:From /anaconda3/lib/python3.6/site-packages/tensorflow/python/framework/op_def_library.py:263: colocate_with (from tensorflow.python.framework.ops) is deprecated and will be removed in a future version.\n",
      "Instructions for updating:\n",
      "Colocations handled automatically by placer.\n",
      "WARNING:tensorflow:From /anaconda3/lib/python3.6/site-packages/tensorflow/python/ops/math_ops.py:3066: to_int32 (from tensorflow.python.ops.math_ops) is deprecated and will be removed in a future version.\n",
      "Instructions for updating:\n",
      "Use tf.cast instead.\n"
     ]
    }
   ],
   "source": [
    "try:\n",
    "    model = load_model('my_model.h5')\n",
    "except:\n",
    "    print(\"none model found\")\n",
    "    model = build_model()"
   ]
  },
  {
   "cell_type": "code",
   "execution_count": 7,
   "metadata": {},
   "outputs": [
    {
     "name": "stdout",
     "output_type": "stream",
     "text": [
      "'[1win]1556349534.0caobluejiba.txt'   '[2zzz]1556349670.0caoredjiba.txt'\r\n",
      "'[1win]1556349557.0caobluejiba.txt'   '[2zzz]1556349953.0caobluejiba.txt'\r\n",
      "'[1win]1556349670.0caobluejiba.txt'   '[2zzz]1556349953.0caogreenjiba.txt'\r\n",
      "'[1win]1556349953.0caoredjiba.txt'    '[2zzz]1556350151.0caoredjiba.txt'\r\n",
      "'[1win]1556350152.0caobluejiba.txt'   '[2zzz]1556350152.0caogreenjiba.txt'\r\n",
      "'[1win]1556350389.0caogreenjiba.txt'  '[2zzz]1556350389.0caobluejiba.txt'\r\n",
      "'[1win]1556352753.0caobluejiba.txt'   '[2zzz]1556350389.0caoredjiba.txt'\r\n",
      "'[1win]1556353290.0caobluejiba.txt'   '[2zzz]1556352752.0caoredjiba.txt'\r\n",
      "'[1win]1556353931.0caoredjiba.txt'    '[2zzz]1556352753.0caogreenjiba.txt'\r\n",
      "'[2zzz]1556349534.0caogreenjiba.txt'  '[2zzz]1556353290.0caogreenjiba.txt'\r\n",
      "'[2zzz]1556349534.0caoredjiba.txt'    '[2zzz]1556353290.0caoredjiba.txt'\r\n",
      "'[2zzz]1556349557.0caogreenjiba.txt'  '[2zzz]1556353931.0caobluejiba.txt'\r\n",
      "'[2zzz]1556349557.0caoredjiba.txt'    '[2zzz]1556353931.0caogreenjiba.txt'\r\n",
      "'[2zzz]1556349670.0caogreenjiba.txt'\r\n"
     ]
    }
   ],
   "source": [
    "!ls '../rec'"
   ]
  },
  {
   "cell_type": "code",
   "execution_count": 77,
   "metadata": {},
   "outputs": [],
   "source": [
    "def bash_call(c:[str]) -> None:\n",
    "    res = subprocess.check_output(c)\n",
    "    ls = []\n",
    "    for line in res.splitlines():\n",
    "        line = line.decode('utf-8')\n",
    "        ls.append(line)\n",
    "    return ls"
   ]
  },
  {
   "cell_type": "code",
   "execution_count": 78,
   "metadata": {},
   "outputs": [],
   "source": [
    "def join_list(l):\n",
    "    res = \"\"\n",
    "    for i in l:\n",
    "        res += i + \"/\"\n",
    "    \n",
    "    res = res[:-1]\n",
    "    return res"
   ]
  },
  {
   "cell_type": "code",
   "execution_count": 92,
   "metadata": {},
   "outputs": [],
   "source": [
    "def load_logs():\n",
    "    datapath = join(join_list(os.getcwd().split('/')[:-1]),'rec/')\n",
    "    files = bash_call(['ls', datapath])\n",
    "    return files"
   ]
  },
  {
   "cell_type": "code",
   "execution_count": 93,
   "metadata": {},
   "outputs": [
    {
     "data": {
      "text/plain": [
       "['[1win]1556349534.0caobluejiba.txt',\n",
       " '[1win]1556349557.0caobluejiba.txt',\n",
       " '[1win]1556349670.0caobluejiba.txt',\n",
       " '[1win]1556349953.0caoredjiba.txt',\n",
       " '[1win]1556350152.0caobluejiba.txt',\n",
       " '[1win]1556350389.0caogreenjiba.txt',\n",
       " '[1win]1556352753.0caobluejiba.txt',\n",
       " '[1win]1556353290.0caobluejiba.txt',\n",
       " '[1win]1556353931.0caoredjiba.txt',\n",
       " '[2zzz]1556349534.0caogreenjiba.txt',\n",
       " '[2zzz]1556349534.0caoredjiba.txt',\n",
       " '[2zzz]1556349557.0caogreenjiba.txt',\n",
       " '[2zzz]1556349557.0caoredjiba.txt',\n",
       " '[2zzz]1556349670.0caogreenjiba.txt',\n",
       " '[2zzz]1556349670.0caoredjiba.txt',\n",
       " '[2zzz]1556349953.0caobluejiba.txt',\n",
       " '[2zzz]1556349953.0caogreenjiba.txt',\n",
       " '[2zzz]1556350151.0caoredjiba.txt',\n",
       " '[2zzz]1556350152.0caogreenjiba.txt',\n",
       " '[2zzz]1556350389.0caobluejiba.txt',\n",
       " '[2zzz]1556350389.0caoredjiba.txt',\n",
       " '[2zzz]1556352752.0caoredjiba.txt',\n",
       " '[2zzz]1556352753.0caogreenjiba.txt',\n",
       " '[2zzz]1556353290.0caogreenjiba.txt',\n",
       " '[2zzz]1556353290.0caoredjiba.txt',\n",
       " '[2zzz]1556353931.0caobluejiba.txt',\n",
       " '[2zzz]1556353931.0caogreenjiba.txt']"
      ]
     },
     "execution_count": 93,
     "metadata": {},
     "output_type": "execute_result"
    }
   ],
   "source": [
    "load_logs()"
   ]
  },
  {
   "cell_type": "code",
   "execution_count": 132,
   "metadata": {},
   "outputs": [],
   "source": [
    "def preprocess_log(filename, condition:None):\n",
    "    \n",
    "    if (condition != None) and (condition not in filename):\n",
    "        return False, False\n",
    "    \n",
    "    print(filename)\n",
    "    \n",
    "    states, color = utils.load_l('../rec/'+filename)\n",
    "\n",
    "    res = []\n",
    "    rewards = []\n",
    "    print(states[-1])\n",
    "    for s in states:\n",
    "        re = []\n",
    "        for i in sequence:\n",
    "            re.append(s[0][i])\n",
    "        re.append(color)\n",
    "        re.append(-s[4])\n",
    "        rewards.append(s[1])\n",
    "        res.append(re)\n",
    "\n",
    "    decay = 0.98\n",
    "    curr = 1\n",
    "    target = [rewards[-1]]\n",
    "    \n",
    "    print(rewards)\n",
    "    \n",
    "    for i in range(len(res)-2, -1, -1):\n",
    "        last = target[-1]\n",
    "        target.append(decay*last+rewards[i])\n",
    "        \n",
    "    target.reverse()\n",
    "    train = np.array(res)\n",
    "    return res, target"
   ]
  },
  {
   "cell_type": "code",
   "execution_count": 133,
   "metadata": {},
   "outputs": [
    {
     "name": "stdout",
     "output_type": "stream",
     "text": [
      "[2zzz]1556349534.0caogreenjiba.txt\n"
     ]
    },
    {
     "ename": "IndexError",
     "evalue": "list index out of range",
     "output_type": "error",
     "traceback": [
      "\u001b[0;31m---------------------------------------------------------------------------\u001b[0m",
      "\u001b[0;31mIndexError\u001b[0m                                Traceback (most recent call last)",
      "\u001b[0;32m<ipython-input-133-15de39993363>\u001b[0m in \u001b[0;36m<module>\u001b[0;34m\u001b[0m\n\u001b[1;32m      1\u001b[0m \u001b[0;32mfor\u001b[0m \u001b[0mi\u001b[0m \u001b[0;32min\u001b[0m \u001b[0mload_logs\u001b[0m\u001b[0;34m(\u001b[0m\u001b[0;34m)\u001b[0m\u001b[0;34m:\u001b[0m\u001b[0;34m\u001b[0m\u001b[0;34m\u001b[0m\u001b[0m\n\u001b[0;32m----> 2\u001b[0;31m     \u001b[0mres\u001b[0m\u001b[0;34m,\u001b[0m \u001b[0mtarget\u001b[0m \u001b[0;34m=\u001b[0m \u001b[0mpreprocess_log\u001b[0m\u001b[0;34m(\u001b[0m\u001b[0mi\u001b[0m\u001b[0;34m,\u001b[0m \u001b[0;34m'2zzz'\u001b[0m\u001b[0;34m)\u001b[0m\u001b[0;34m\u001b[0m\u001b[0;34m\u001b[0m\u001b[0m\n\u001b[0m\u001b[1;32m      3\u001b[0m     \u001b[0;32mif\u001b[0m \u001b[0mres\u001b[0m\u001b[0;34m:\u001b[0m\u001b[0;34m\u001b[0m\u001b[0;34m\u001b[0m\u001b[0m\n\u001b[1;32m      4\u001b[0m         \u001b[0mprint\u001b[0m\u001b[0;34m(\u001b[0m\u001b[0mlen\u001b[0m\u001b[0;34m(\u001b[0m\u001b[0mres\u001b[0m\u001b[0;34m[\u001b[0m\u001b[0;34m-\u001b[0m\u001b[0;36m1\u001b[0m\u001b[0;34m]\u001b[0m\u001b[0;34m)\u001b[0m\u001b[0;34m,\u001b[0m \u001b[0mlen\u001b[0m\u001b[0;34m(\u001b[0m\u001b[0mtarget\u001b[0m\u001b[0;34m)\u001b[0m\u001b[0;34m)\u001b[0m\u001b[0;34m\u001b[0m\u001b[0;34m\u001b[0m\u001b[0m\n\u001b[1;32m      5\u001b[0m         \u001b[0;31m#model.fit(train, target, epochs=1, batch_size=1)\u001b[0m\u001b[0;34m\u001b[0m\u001b[0;34m\u001b[0m\u001b[0;34m\u001b[0m\u001b[0m\n",
      "\u001b[0;32m<ipython-input-132-8285803b1e04>\u001b[0m in \u001b[0;36mpreprocess_log\u001b[0;34m(filename, condition)\u001b[0m\n\u001b[1;32m     16\u001b[0m             \u001b[0mre\u001b[0m\u001b[0;34m.\u001b[0m\u001b[0mappend\u001b[0m\u001b[0;34m(\u001b[0m\u001b[0ms\u001b[0m\u001b[0;34m[\u001b[0m\u001b[0;36m0\u001b[0m\u001b[0;34m]\u001b[0m\u001b[0;34m[\u001b[0m\u001b[0mi\u001b[0m\u001b[0;34m]\u001b[0m\u001b[0;34m)\u001b[0m\u001b[0;34m\u001b[0m\u001b[0;34m\u001b[0m\u001b[0m\n\u001b[1;32m     17\u001b[0m         \u001b[0mre\u001b[0m\u001b[0;34m.\u001b[0m\u001b[0mappend\u001b[0m\u001b[0;34m(\u001b[0m\u001b[0mcolor\u001b[0m\u001b[0;34m)\u001b[0m\u001b[0;34m\u001b[0m\u001b[0;34m\u001b[0m\u001b[0m\n\u001b[0;32m---> 18\u001b[0;31m         \u001b[0mre\u001b[0m\u001b[0;34m.\u001b[0m\u001b[0mappend\u001b[0m\u001b[0;34m(\u001b[0m\u001b[0;34m-\u001b[0m\u001b[0ms\u001b[0m\u001b[0;34m[\u001b[0m\u001b[0;36m4\u001b[0m\u001b[0;34m]\u001b[0m\u001b[0;34m)\u001b[0m\u001b[0;34m\u001b[0m\u001b[0;34m\u001b[0m\u001b[0m\n\u001b[0m\u001b[1;32m     19\u001b[0m         \u001b[0mrewards\u001b[0m\u001b[0;34m.\u001b[0m\u001b[0mappend\u001b[0m\u001b[0;34m(\u001b[0m\u001b[0ms\u001b[0m\u001b[0;34m[\u001b[0m\u001b[0;36m1\u001b[0m\u001b[0;34m]\u001b[0m\u001b[0;34m)\u001b[0m\u001b[0;34m\u001b[0m\u001b[0;34m\u001b[0m\u001b[0m\n\u001b[1;32m     20\u001b[0m         \u001b[0mres\u001b[0m\u001b[0;34m.\u001b[0m\u001b[0mappend\u001b[0m\u001b[0;34m(\u001b[0m\u001b[0mre\u001b[0m\u001b[0;34m)\u001b[0m\u001b[0;34m\u001b[0m\u001b[0;34m\u001b[0m\u001b[0m\n",
      "\u001b[0;31mIndexError\u001b[0m: list index out of range"
     ]
    }
   ],
   "source": [
    "for i in load_logs():\n",
    "    res, target = preprocess_log(i, '2zzz')\n",
    "    if res:\n",
    "        print(len(res[-1]), len(target))\n",
    "        #model.fit(train, target, epochs=1, batch_size=1)"
   ]
  },
  {
   "cell_type": "code",
   "execution_count": 119,
   "metadata": {
    "scrolled": true
   },
   "outputs": [
    {
     "data": {
      "text/plain": [
       "[0,\n",
       " 0,\n",
       " 0,\n",
       " 0,\n",
       " 2,\n",
       " 0,\n",
       " 0,\n",
       " 0,\n",
       " 0,\n",
       " 0,\n",
       " 3,\n",
       " 0,\n",
       " 0,\n",
       " 3,\n",
       " 0,\n",
       " 0,\n",
       " 0,\n",
       " 0,\n",
       " 0,\n",
       " 0,\n",
       " 0,\n",
       " 0,\n",
       " 0,\n",
       " 0,\n",
       " 0,\n",
       " 3,\n",
       " 0,\n",
       " 0,\n",
       " 0,\n",
       " 0,\n",
       " 0,\n",
       " 0,\n",
       " 0,\n",
       " 0,\n",
       " 3,\n",
       " 0,\n",
       " 0,\n",
       " 2,\n",
       " 0]"
      ]
     },
     "execution_count": 119,
     "metadata": {},
     "output_type": "execute_result"
    }
   ],
   "source": [
    "res[-1]"
   ]
  },
  {
   "cell_type": "code",
   "execution_count": 121,
   "metadata": {
    "scrolled": true
   },
   "outputs": [
    {
     "data": {
      "text/plain": [
       "[128.62440172544038,\n",
       " 131.2493895157555,\n",
       " 133.92794848546478,\n",
       " 136.66117192394367,\n",
       " 139.4501754325956,\n",
       " 142.29609738019957,\n",
       " 145.2000993675506,\n",
       " 148.16336670158225,\n",
       " 151.18710887916555,\n",
       " 154.27256008078118,\n",
       " 157.4209796742665,\n",
       " 160.63365272884337,\n",
       " 163.9118905396361,\n",
       " 371.3386638159552,\n",
       " 378.91700389383186,\n",
       " 386.6500039732978,\n",
       " 394.54082038091616,\n",
       " 402.5926738580777,\n",
       " 410.80885087558954,\n",
       " 419.1927049750914,\n",
       " 427.74765813784836,\n",
       " 436.47720218147794,\n",
       " 445.38490018518155,\n",
       " 454.4743879440628,\n",
       " 463.7493754531253,\n",
       " 269.1320157684952,\n",
       " 274.6245058862196,\n",
       " 280.2290876389996,\n",
       " 285.94804861122407,\n",
       " 291.7837230726776,\n",
       " 297.7384929313037,\n",
       " 303.81478870541196,\n",
       " 207.97427418919588,\n",
       " 212.21864713183254,\n",
       " 216.54963993044137,\n",
       " 220.96902033718507,\n",
       " 225.4785921808011,\n",
       " 230.08019610285825,\n",
       " 234.77571030903903,\n",
       " 443.6486839888153,\n",
       " 452.70273876409726,\n",
       " 461.9415701674462,\n",
       " 267.28731649739404,\n",
       " 272.74215969121843,\n",
       " 278.308326215529,\n",
       " 283.9880879750296,\n",
       " 289.7837632398261,\n",
       " 295.6977175916593,\n",
       " 301.73236488944826,\n",
       " 307.89016825453905,\n",
       " 314.1736410760603,\n",
       " 320.58534803679623,\n",
       " 327.12790615999614,\n",
       " 333.8039858775471,\n",
       " 340.61631211994603,\n",
       " 347.56766542851636,\n",
       " 354.66088309032284,\n",
       " 361.8988602962478,\n",
       " 369.2845513227018,\n",
       " 376.82097073745086,\n",
       " 384.51119463005193,\n",
       " 392.35836186739994,\n",
       " 400.3656753748979,\n",
       " 408.53640344377334,\n",
       " 416.87388106507484,\n",
       " 425.3815112908927,\n",
       " 434.06276662335995,\n",
       " 442.92119043199995,\n",
       " 451.9603984,\n",
       " 461.18408,\n",
       " 470.596,\n",
       " 480.2,\n",
       " 490.0,\n",
       " 500]"
      ]
     },
     "execution_count": 121,
     "metadata": {},
     "output_type": "execute_result"
    }
   ],
   "source": [
    "target"
   ]
  },
  {
   "cell_type": "code",
   "execution_count": 114,
   "metadata": {},
   "outputs": [
    {
     "data": {
      "text/plain": [
       "array([[450.5655]], dtype=float32)"
      ]
     },
     "execution_count": 114,
     "metadata": {},
     "output_type": "execute_result"
    }
   ],
   "source": [
    "n = model.predict(np.array([res[-1]]))\n",
    "n"
   ]
  },
  {
   "cell_type": "code",
   "execution_count": 111,
   "metadata": {},
   "outputs": [],
   "source": [
    "def reload_model():\n",
    "    del model  # deletes the existing model\n",
    "\n",
    "    # returns a compiled model\n",
    "    # identical to the previous one\n",
    "    model = load_model('my_model.h5')\n"
   ]
  },
  {
   "cell_type": "code",
   "execution_count": 112,
   "metadata": {},
   "outputs": [],
   "source": [
    "def save_model():\n",
    "    model.save('my_model.h5')  # creates a HDF5 file 'my_model.h5'\n",
    "    with open('trained_model', 'wb') as f:\n",
    "        pickle.dump(model.get_weights(), f)"
   ]
  },
  {
   "cell_type": "code",
   "execution_count": 115,
   "metadata": {},
   "outputs": [],
   "source": [
    "save_model()"
   ]
  },
  {
   "cell_type": "code",
   "execution_count": 51,
   "metadata": {},
   "outputs": [
    {
     "data": {
      "text/plain": [
       "array([[-0.0557806],\n",
       "       [-0.0278903]], dtype=float32)"
      ]
     },
     "execution_count": 51,
     "metadata": {},
     "output_type": "execute_result"
    }
   ],
   "source": [
    "model.predict(np.array([[1]*39,[0.5]*39]))"
   ]
  }
 ],
 "metadata": {
  "kernelspec": {
   "display_name": "Python 3",
   "language": "python",
   "name": "python3"
  },
  "language_info": {
   "codemirror_mode": {
    "name": "ipython",
    "version": 3
   },
   "file_extension": ".py",
   "mimetype": "text/x-python",
   "name": "python",
   "nbconvert_exporter": "python",
   "pygments_lexer": "ipython3",
   "version": "3.6.8"
  }
 },
 "nbformat": 4,
 "nbformat_minor": 2
}
