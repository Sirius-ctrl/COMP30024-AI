{
 "cells": [
  {
   "cell_type": "code",
   "execution_count": 2,
   "metadata": {},
   "outputs": [],
   "source": [
    "CELLS = [(q, r) for q in range(-3, +3 + 1) for r in range(-3, +3 + 1) if -q - r in range(-3, +3 + 1)]"
   ]
  },
  {
   "cell_type": "code",
   "execution_count": 1,
   "metadata": {},
   "outputs": [
    {
     "name": "stderr",
     "output_type": "stream",
     "text": [
      "Using TensorFlow backend.\n"
     ]
    }
   ],
   "source": [
    "import tensorflow as tf\n",
    "import numpy as np\n",
    "from keras import models, layers\n",
    "from keras.models import load_model\n",
    "import json\n",
    "import pickle\n",
    "import os\n",
    "from os.path import join\n",
    "import subprocess\n",
    "import json\n",
    "import VanGame.utils as utils\n",
    "import scipy as sp\n",
    "import os\n",
    "os.environ['KMP_DUPLICATE_LIB_OK']='True'"
   ]
  },
  {
   "cell_type": "code",
   "execution_count": 3,
   "metadata": {
    "scrolled": true
   },
   "outputs": [
    {
     "data": {
      "text/plain": [
       "[(-3, 0),\n",
       " (-3, 1),\n",
       " (-3, 2),\n",
       " (-3, 3),\n",
       " (-2, -1),\n",
       " (-2, 0),\n",
       " (-2, 1),\n",
       " (-2, 2),\n",
       " (-2, 3),\n",
       " (-1, -2),\n",
       " (-1, -1),\n",
       " (-1, 0),\n",
       " (-1, 1),\n",
       " (-1, 2),\n",
       " (-1, 3),\n",
       " (0, -3),\n",
       " (0, -2),\n",
       " (0, -1),\n",
       " (0, 0),\n",
       " (0, 1),\n",
       " (0, 2),\n",
       " (0, 3),\n",
       " (1, -3),\n",
       " (1, -2),\n",
       " (1, -1),\n",
       " (1, 0),\n",
       " (1, 1),\n",
       " (1, 2),\n",
       " (2, -3),\n",
       " (2, -2),\n",
       " (2, -1),\n",
       " (2, 0),\n",
       " (2, 1),\n",
       " (3, -3),\n",
       " (3, -2),\n",
       " (3, -1),\n",
       " (3, 0)]"
      ]
     },
     "execution_count": 3,
     "metadata": {},
     "output_type": "execute_result"
    }
   ],
   "source": [
    "sequence = sorted([p for p in CELLS])\n",
    "sequence"
   ]
  },
  {
   "cell_type": "code",
   "execution_count": 4,
   "metadata": {},
   "outputs": [],
   "source": [
    "a = np.array([[1]*39])\n",
    "b = [500]"
   ]
  },
  {
   "cell_type": "code",
   "execution_count": 121,
   "metadata": {},
   "outputs": [],
   "source": [
    "def build_model():\n",
    "    model = models.Sequential()\n",
    "    model.add(layers.Dense(1,activation='relu', input_shape=(10,)))\n",
    "    #model.add(layers.Dense(200, activation='relu'))\n",
    "    #model.add(layers.Dense(100, activation='relu'))\n",
    "    model.add(layers.Dense(1, activation='tanh'))\n",
    "    model.compile(optimizer='adam', loss='mse')\n",
    "    return model"
   ]
  },
  {
   "cell_type": "code",
   "execution_count": 122,
   "metadata": {},
   "outputs": [],
   "source": [
    "model = build_model()"
   ]
  },
  {
   "cell_type": "code",
   "execution_count": 7,
   "metadata": {},
   "outputs": [],
   "source": [
    "def bash_call(c:[str]) -> None:\n",
    "    res = subprocess.check_output(c)\n",
    "    ls = []\n",
    "    for line in res.splitlines():\n",
    "        line = line.decode('utf-8')\n",
    "        ls.append(line)\n",
    "    return ls"
   ]
  },
  {
   "cell_type": "code",
   "execution_count": 8,
   "metadata": {},
   "outputs": [],
   "source": [
    "def join_list(l):\n",
    "    res = \"\"\n",
    "    for i in l:\n",
    "        res += i + \"/\"\n",
    "    \n",
    "    res = res[:-1]\n",
    "    return res"
   ]
  },
  {
   "cell_type": "code",
   "execution_count": 9,
   "metadata": {},
   "outputs": [],
   "source": [
    "def load_logs():\n",
    "    datapath = join(os.getcwd(),'rec/')\n",
    "    files = bash_call(['ls', datapath])\n",
    "    return files"
   ]
  },
  {
   "cell_type": "code",
   "execution_count": 54,
   "metadata": {},
   "outputs": [],
   "source": [
    "def PG_log(filename, condition=None, value_check=False):\n",
    "    \n",
    "    if (condition != None) and (condition not in filename):\n",
    "        return False, False\n",
    "    \n",
    "    #print(filename)\n",
    "    states, color = utils.load_l('rec/'+filename)\n",
    "    \n",
    "    train = []\n",
    "    value = []\n",
    "    \n",
    "    for s in states:\n",
    "        # print(s)\n",
    "        board = []\n",
    "        # add board\n",
    "        for cord in sequence:\n",
    "            # does not include the board\n",
    "            break\n",
    "            board.append(s['board'][cord])\n",
    "        # color \n",
    "        # board.append(color)\n",
    "        # utility = [heuristic diff, my pieces difference, danger pieces]\n",
    "        board.append(s['turns'])\n",
    "        board += s['utility']\n",
    "        train.append(board)\n",
    "        value.append(s['rew'])\n",
    "        \n",
    "    if value_check:\n",
    "        print(value)\n",
    "        \n",
    "    value.reverse()\n",
    "    decay = 0.7\n",
    "    curr_decay = 0.7\n",
    "    for i in range(1, len(value)):\n",
    "        value[i] += value[i-1] * curr_decay\n",
    "        curr_decay *= decay\n",
    "    \n",
    "    value.reverse()\n",
    "    \n",
    "    if value_check:\n",
    "        print(value)\n",
    "    \n",
    "    post_value = np.array(value)\n",
    "    \n",
    "    post_value = np.tanh(post_value)\n",
    "    \n",
    "    # normalize the value\n",
    "    # post_value = (post_value - post_value.mean()) / post_value.std()\n",
    "    \n",
    "    if value_check:\n",
    "        print(\"\\n\",post_value)\n",
    "    \n",
    "    return train, post_value.tolist()"
   ]
  },
  {
   "cell_type": "code",
   "execution_count": 48,
   "metadata": {},
   "outputs": [
    {
     "name": "stdout",
     "output_type": "stream",
     "text": [
      "[0, 0, 0, -0.046875, -0.0125, -0.046875, 0.015625, -0.03125, -0.0125, -0.046875, 0, 0, 0, -0.0125, -0.046875, 0, -0.0125, -0.0125, 0, 125, -0.0125, -0.0125, -0.7625]\n",
      "[-8.17053697283964e-12, -2.0897470424639635e-08, -3.7414063496715235e-05, -0.04688933556187888, -0.01257627309116172, -0.04683889354620397, 0.015520944856793693, -0.03131085384973177, -0.012817917072652849, -0.04687500106968943, -1.1040358669264306e-07, -7.976395915306688e-06, -0.000403392911340738, -0.014280646278525388, -0.0441260747403668, 0.04768465138056287, 0.5790183558182498, 5.027823065374546, 29.98942741342624, 124.9039042625, -0.2801624999999999, -0.5462499999999999, -0.7625]\n",
      "\n",
      " [-8.17053697e-12 -2.08974704e-08 -3.74140635e-05 -4.68550020e-02\n",
      " -1.25756101e-02 -4.68046706e-02  1.55196986e-02 -3.13006258e-02\n",
      " -1.28172151e-02 -4.68406989e-02 -1.10403587e-07 -7.97639592e-06\n",
      " -4.03392889e-04 -1.42796756e-02 -4.40974576e-02  4.76485420e-02\n",
      "  5.21951584e-01  9.99914118e-01  1.00000000e+00  1.00000000e+00\n",
      " -2.73055471e-01 -4.97704391e-01 -6.42547153e-01]\n"
     ]
    }
   ],
   "source": [
    "t,v = PG_log('[2zzz]1556678775.0caoredjiba.txt', value_check=True)\n",
    "#print(t)"
   ]
  },
  {
   "cell_type": "code",
   "execution_count": 96,
   "metadata": {
    "scrolled": true
   },
   "outputs": [],
   "source": [
    "!ls rec"
   ]
  },
  {
   "cell_type": "code",
   "execution_count": 13,
   "metadata": {},
   "outputs": [],
   "source": [
    "def reload_model():\n",
    "    del model  # deletes the existing model\n",
    "\n",
    "    # returns a compiled model\n",
    "    # identical to the previous one\n",
    "    model = load_model('my_model.h5')"
   ]
  },
  {
   "cell_type": "code",
   "execution_count": 14,
   "metadata": {},
   "outputs": [],
   "source": [
    "def save_model():\n",
    "    model.save('VanGame/my_model.h5')  # creates a HDF5 file 'my_model.h5'\n",
    "    with open('VanGame/trained_model', 'wb+') as f:\n",
    "        pickle.dump(model.get_weights(), f)"
   ]
  },
  {
   "cell_type": "code",
   "execution_count": 91,
   "metadata": {
    "scrolled": true
   },
   "outputs": [],
   "source": [
    "def train(epochs, save=True):\n",
    "    logfs = load_logs()\n",
    "    train_set = []\n",
    "    target_set = []\n",
    "    \n",
    "    for logf in logfs:\n",
    "        train, value = PG_log(logf)\n",
    "        if train:\n",
    "            #print(train)\n",
    "            #print(len(train), len(value))\n",
    "            #print(train[-1])\n",
    "            train_set += train\n",
    "            # the target shouldnt be calculate like this, should use bootstrapping\n",
    "            target_set += value\n",
    "\n",
    "    model.fit(np.array(train_set), target_set, epochs=epochs, batch_size=1)\n",
    "    \n",
    "    if save:\n",
    "        print(\"saved\")\n",
    "        save_model()"
   ]
  },
  {
   "cell_type": "code",
   "execution_count": 128,
   "metadata": {},
   "outputs": [
    {
     "data": {
      "text/plain": [
       "array([[0.07565213]], dtype=float32)"
      ]
     },
     "execution_count": 128,
     "metadata": {},
     "output_type": "execute_result"
    }
   ],
   "source": [
    "model.predict(np.array([[-1]*10]))"
   ]
  },
  {
   "cell_type": "code",
   "execution_count": 124,
   "metadata": {},
   "outputs": [],
   "source": [
    "save_model()"
   ]
  },
  {
   "cell_type": "code",
   "execution_count": 125,
   "metadata": {},
   "outputs": [],
   "source": [
    "del model"
   ]
  },
  {
   "cell_type": "code",
   "execution_count": 127,
   "metadata": {},
   "outputs": [],
   "source": [
    "try:\n",
    "    model = load_model('VanGame/my_model.h5')\n",
    "except:\n",
    "    print(\"none model found\")\n",
    "    model = build_model()"
   ]
  },
  {
   "cell_type": "code",
   "execution_count": 84,
   "metadata": {},
   "outputs": [],
   "source": [
    "def full_train_cycle(n, epochs=2):\n",
    "    for i in range(n):\n",
    "        !python3 -m referee VanGame HardCode HardCode -l logtry -v 0\n",
    "    if (len(bash_call(['ls', 'rec']))) > 0:\n",
    "        train(epochs=epochs)\n",
    "        !rm -v ./rec/*"
   ]
  },
  {
   "cell_type": "code",
   "execution_count": 131,
   "metadata": {
    "scrolled": true
   },
   "outputs": [
    {
     "name": "stdout",
     "output_type": "stream",
     "text": [
      "********** starting round 0 **********\n",
      "* NOTE: unable to measure memory usage on this platform (try dimefox)\n",
      "[1, -1, 0, 0, 0, 0, 0, 27, 28, 28]\n",
      "[1, -1, 0, 0, 0, 0, 0, 27, 28, 28]\n",
      "[1, -1, 0, 0, 0, 0, 0, 27, 28, 28]\n",
      "[1, -1, 0, 0, 0, 0, 0, 27, 28, 28]\n",
      "[1, -1, 0, 0, 0, 0, 0, 27, 28, 28]\n",
      "[1, -1, 0, 0, 0, 0, 0, 27, 28, 28]\n",
      "[1, -1, 0, 0, 0, 0, 0, 27, 28, 28]\n",
      "[1, -1, 0, 0, 0, 0, 0, 27, 28, 28]\n",
      "[2, 0, 0, 0, 0, 0, 0, 27, 27, 27]\n",
      "[2, -2, 0, 0, 0, 0, 0, 25, 27, 27]\n",
      "[2, -1, 0, 0, 0, 0, 0, 26, 27, 27]\n",
      "[2, -1, 0, 0, 0, 0, 0, 26, 27, 27]\n",
      "[2, -1, 0, 0, 0, 0, 0, 26, 27, 27]\n",
      "[2, 0, 0, 0, 0, 0, 0, 27, 27, 27]\n",
      "[2, -1, 0, 0, 0, 0, 0, 26, 27, 27]\n",
      "[2, -1, 0, 0, 0, 0, 0, 26, 27, 27]\n",
      "[2, 0, 0, 0, 0, 0, 0, 27, 27, 27]\n",
      "[2, 0, 0, 0, 0, 0, 0, 27, 27, 27]\n",
      "[2, -1, 0, 0, 0, 0, 0, 26, 27, 27]\n",
      "[2, -1, 0, 0, 0, 0, 0, 26, 27, 27]\n",
      "[2, 0, 0, 0, 0, 0, 0, 27, 27, 27]\n",
      "[2, 1, 0, 0, 0, 0, 0, 28, 27, 27]\n",
      "[3, 0, 0, 0, 0, 0, 0, 26, 25, 26]\n",
      "[3, -1, 0, 0, 0, 0, 0, 25, 25, 26]\n",
      "[3, -1, 0, 0, 0, 0, 0, 25, 25, 26]\n",
      "[3, -1, 0, 1, 0, 0, 0, 25, 25, 26]\n",
      "[3, -1, 0, 0, 0, 0, 0, 25, 25, 26]\n",
      "[3, 0, 0, 0, 0, 0, 0, 26, 25, 26]\n",
      "[3, -1, 0, 0, 0, 0, 0, 25, 25, 26]\n",
      "[3, -1, 0, 0, 0, 0, 0, 25, 25, 26]\n",
      "[3, 0, 0, 0, 0, 0, 0, 26, 25, 26]\n",
      "[3, 0, 0, 1, 0, 0, 0, 26, 25, 26]\n",
      "[3, -1, 0, 0, 0, 0, 0, 25, 25, 26]\n",
      "[3, -1, 0, 0, 0, 0, 0, 25, 25, 26]\n",
      "[3, 0, 0, 0, 0, 0, 0, 26, 25, 26]\n",
      "[3, 1, 0, 0, 0, 0, 0, 27, 25, 26]\n",
      "[3, 1, 0, 0, 0, 0, 0, 27, 25, 26]\n",
      "[4, 0, 0, 0, 0, 0, 0, 27, 24, 25]\n",
      "[4, -1, 0, 0, 0, 0, 0, 26, 24, 25]\n",
      "[4, -1, 0, 0, 0, 0, 0, 26, 24, 25]\n",
      "[4, -1, 0, 1, 0, 0, 0, 26, 24, 25]\n",
      "[4, -2, 0, 0, 0, 0, 0, 25, 24, 25]\n",
      "[4, 0, 0, 0, 0, 0, 0, 27, 24, 25]\n",
      "[4, -1, 0, 0, 0, 0, 0, 26, 24, 25]\n",
      "[4, -1, 0, 0, 0, 0, 0, 26, 24, 25]\n",
      "[4, 0, 0, 0, 0, 0, 0, 27, 24, 25]\n",
      "[4, 0, 0, 0, 0, 0, 0, 27, 24, 25]\n",
      "[4, -1, 0, 1, 0, 0, 0, 26, 24, 25]\n",
      "[4, -1, 0, 0, 0, 0, 0, 26, 24, 25]\n",
      "[4, 0, 0, 0, 0, 0, 0, 27, 24, 25]\n",
      "[4, 1, 0, 0, 0, 0, 0, 28, 24, 25]\n",
      "[5, 0, 0, 0, 0, 0, 0, 26, 22, 24]\n",
      "[5, -1, 0, 0, 0, 0, 0, 25, 22, 24]\n",
      "[5, -1, 0, 0, 0, 0, 0, 25, 22, 24]\n",
      "[5, 0, 0, 1, 0, 0, 0, 26, 22, 24]\n",
      "[5, -2, 0, 1, 0, 0, 0, 24, 22, 24]\n",
      "[5, 0, 0, 1, 0, 0, 0, 26, 22, 24]\n",
      "[5, 0, 0, 0, 0, 0, 0, 26, 22, 24]\n",
      "[5, -1, 0, 1, 0, 0, 0, 25, 22, 24]\n",
      "[5, -1, 0, 0, 0, 0, 0, 25, 22, 24]\n",
      "[5, 0, 0, 0, 0, 0, 0, 26, 22, 24]\n",
      "[5, 1, 0, 0, 0, 0, 0, 27, 22, 24]\n",
      "[5, 0, 0, 0, 0, 0, 0, 26, 22, 24]\n",
      "[5, -1, 0, 1, 0, 0, 0, 25, 22, 24]\n",
      "[5, 0, 0, 0, 0, 0, 0, 26, 22, 24]\n",
      "[5, 1, 0, 0, 0, 0, 0, 27, 22, 24]\n",
      "[6, 0, 0, 0, 0, 0, 0, 26, 20, 23]\n",
      "[6, -1, 0, 1, 0, 0, 0, 25, 20, 23]\n",
      "[6, -1, 0, 1, 0, 0, 0, 25, 20, 23]\n",
      "[6, 0, 0, 1, 0, 0, 0, 26, 20, 23]\n",
      "[6, -1, 0, 2, 0, 0, 0, 25, 20, 23]\n",
      "[6, -1, 0, 2, 0, 0, 0, 25, 20, 23]\n",
      "[6, 0, 0, 1, 0, 0, 0, 26, 20, 23]\n",
      "[6, 1, 0, 0, 0, 0, 0, 27, 20, 23]\n",
      "[6, 0, 0, 0, 0, 0, 0, 26, 20, 23]\n",
      "[6, -1, 0, 1, 0, 0, 0, 25, 20, 23]\n",
      "[6, 0, 0, 0, 0, 0, 0, 26, 20, 23]\n",
      "[6, 1, 0, 0, 0, 0, 0, 27, 20, 23]\n",
      "[6, 1, 0, 0, 0, 0, 0, 27, 20, 23]\n",
      "[6, 0, 0, 0, 0, 0, 0, 26, 20, 23]\n",
      "[6, -2, 0, 2, 0, 0, 0, 24, 20, 23]\n",
      "[6, -1, 0, 1, 0, 0, 0, 25, 20, 23]\n",
      "[7, 0, 0, 2, 0, 0, 0, 29, 16, 22]\n",
      "[7, -1, 0, 3, 0, 0, 0, 28, 16, 22]\n",
      "[7, -1, 0, 2, 0, 0, 0, 28, 16, 22]\n",
      "[7, 0, 0, 1, 0, 0, 0, 29, 16, 22]\n",
      "[7, 3, 1, 2, 0, 0, 0, 22, 18, 22]\n",
      "[7, 3, 1, 2, 0, 0, 0, 22, 19, 22]\n",
      "[7, 0, 0, 1, 0, 0, 0, 29, 16, 22]\n",
      "[7, 1, 0, 1, 0, 0, 0, 30, 16, 22]\n",
      "[7, 1, 0, 1, 0, 0, 0, 30, 16, 22]\n",
      "[7, 0, 0, 1, 0, 0, 0, 29, 16, 22]\n",
      "[7, -1, 0, 2, 0, 0, 0, 28, 16, 22]\n",
      "[7, 0, 0, 1, 0, 0, 0, 29, 16, 22]\n",
      "[7, 1, 0, 1, 0, 0, 0, 30, 16, 22]\n",
      "[7, 1, 0, 1, 0, 0, 0, 30, 16, 22]\n",
      "[8, -1, 0, 2, 0, 0, 0, 33, 12, 21]\n",
      "[8, -1, 0, 1, 0, 0, 0, 33, 12, 21]\n",
      "[8, 0, 0, 0, 0, 0, 0, 34, 12, 21]\n",
      "[8, -1, 0, 1, 0, 0, 0, 33, 12, 21]\n",
      "[9, 0, 0, 1, 0, 0, 0, 33, 11, 20]\n",
      "[9, -1, 0, 2, 0, 0, 0, 32, 11, 20]\n",
      "[9, 0, 0, 2, 0, 0, 0, 33, 11, 20]\n",
      "[9, 0, 0, 1, 0, 0, 0, 33, 11, 20]\n",
      "[9, -1, 0, 1, 0, 0, 0, 32, 11, 20]\n",
      "[9, -1, 0, 0, 0, 0, 0, 32, 11, 20]\n",
      "[10, 0, 0, 1, 0, 1, 0, 33, 10, 16]\n",
      "[10, -1, 0, 1, 0, 1, 0, 32, 10, 16]\n",
      "[10, -1, 0, 0, 0, 1, 0, 32, 10, 16]\n",
      "[10, 1, 0, 0, 0, 1, 0, 34, 10, 16]\n",
      "[10, 0, 0, 0, 0, 1, 0, 33, 10, 16]\n",
      "[10, 4, 1, 2, 0, 1, 0, 27, 12, 16]\n",
      "[10, -1, 0, 1, 0, 1, 0, 32, 10, 16]\n",
      "[10, 0, 0, 0, 0, 1, 0, 33, 10, 16]\n",
      "[11, 0, 0, 0, 0, 1, 0, 32, 10, 15]\n",
      "[11, -1, 0, 1, 0, 1, 0, 31, 10, 15]\n",
      "[11, 0, 0, 0, 0, 1, 0, 32, 10, 15]\n",
      "[11, 0, 0, 1, 0, 1, 0, 32, 10, 15]\n",
      "[11, -1, 0, 0, 0, 1, 0, 31, 10, 15]\n",
      "[11, 1, 0, 0, 0, 1, 0, 33, 10, 15]\n",
      "[12, 0, 0, 1, 0, 1, 1, 32, 9, 14]\n",
      "[12, -1, 0, 0, 0, 1, 1, 31, 9, 14]\n",
      "[12, 1, 0, 0, 0, 1, 1, 33, 9, 14]\n",
      "[12, 0, 0, 0, 0, 1, 1, 32, 9, 14]\n",
      "[12, -1, 0, 1, 0, 1, 1, 31, 9, 14]\n",
      "[12, -1, 0, 1, 0, 1, 1, 31, 9, 14]\n",
      "[12, 0, 0, 0, 0, 1, 1, 32, 9, 14]\n",
      "[13, 0, 0, 0, 0, 1, 1, 32, 7, 13]\n",
      "[13, -1, 0, 0, 0, 1, 1, 31, 7, 13]\n",
      "[13, 1, 0, 1, 0, 1, 1, 33, 7, 13]\n",
      "[13, -1, 0, 0, 0, 1, 1, 31, 7, 13]\n",
      "[13, -1, 0, 1, 0, 1, 1, 31, 7, 13]\n",
      "[13, 0, 0, 0, 0, 1, 1, 32, 7, 13]\n",
      "[14, -1, 0, 0, 0, 2, 1, 30, 6, 9]\n",
      "[14, -1, 0, 1, 0, 2, 1, 30, 6, 9]\n",
      "[14, 0, 0, 0, 0, 2, 1, 31, 6, 9]\n",
      "[14, 4, 1, 2, 0, 2, 1, 25, 6, 9]\n",
      "[14, -1, 0, 0, 0, 2, 1, 30, 6, 9]\n",
      "[14, 1, 0, 0, 0, 2, 1, 32, 6, 9]\n",
      "[15, 0, 0, 1, 0, 2, 1, 30, 5, 9]\n",
      "[15, -1, 0, 0, 0, 2, 1, 29, 5, 9]\n",
      "[15, 1, 0, 0, 0, 2, 1, 31, 5, 9]\n",
      "[15, 0, 0, 0, 0, 2, 1, 30, 5, 9]\n",
      "[15, -1, 0, 1, 0, 2, 1, 29, 5, 9]\n",
      "[15, -1, 0, 1, 0, 2, 1, 29, 5, 9]\n",
      "[15, 0, 0, 1, 0, 2, 1, 30, 5, 9]\n",
      "[15, 1, 0, 0, 0, 2, 1, 31, 5, 9]\n",
      "[15, 1, 0, 0, 0, 2, 1, 31, 5, 9]\n",
      "[16, 0, 0, 1, 0, 2, 1, 31, 3, 7]\n",
      "[16, -1, 0, 0, 0, 2, 1, 30, 3, 7]\n",
      "[16, 1, 0, 0, 0, 2, 1, 32, 3, 7]\n",
      "[16, 0, 0, 0, 0, 2, 1, 31, 3, 7]\n",
      "[16, -1, 0, 0, 0, 2, 1, 30, 3, 7]\n",
      "[16, -1, 0, 1, 0, 2, 1, 30, 3, 7]\n",
      "[16, 0, 0, 1, 0, 2, 1, 31, 3, 7]\n",
      "[17, 0, 0, 2, 0, 3, 2, 30, 2, 6]\n",
      "[17, -1, 0, 1, 0, 3, 2, 29, 2, 6]\n",
      "[17, 1, 0, 1, 0, 3, 2, 31, 2, 6]\n",
      "[17, 0, 0, 0, 0, 3, 2, 30, 2, 6]\n",
      "[17, -1, 0, 0, 0, 3, 2, 29, 2, 6]\n",
      "[17, -1, 0, 1, 0, 3, 2, 29, 2, 6]\n",
      "[17, 6, 1, 0, 0, 3, 2, 26, 10, 6]\n",
      "[17, 1, 0, 0, 0, 3, 2, 31, 2, 6]\n",
      "[17, 1, 0, 0, 0, 3, 2, 31, 2, 6]\n",
      "[18, 0, 0, 1, 0, 3, 2, 34, 1, 5]\n",
      "[18, -1, 0, 0, 0, 3, 2, 33, 1, 5]\n",
      "[18, 1, 0, 1, 0, 3, 2, 35, 1, 5]\n",
      "* winner: Green\n",
      "Epoch 1/2\n",
      "18/18 [==============================] - 0s 2ms/step - loss: 1.3052\n",
      "Epoch 2/2\n",
      "18/18 [==============================] - 0s 2ms/step - loss: 1.3044\n",
      "saved\n",
      "removed './rec/[2zzz]1556680071.0caoredjiba.txt'\n"
     ]
    }
   ],
   "source": [
    "for i in range(1):\n",
    "    print(\"********** starting round\", i, \"**********\")\n",
    "    full_train_cycle(1, epochs=2)"
   ]
  },
  {
   "cell_type": "code",
   "execution_count": null,
   "metadata": {},
   "outputs": [],
   "source": [
    "[13, -1, 0, 0, 0, 1, 1, 31, 7, 13]"
   ]
  },
  {
   "cell_type": "code",
   "execution_count": 132,
   "metadata": {},
   "outputs": [
    {
     "data": {
      "text/plain": [
       "[array([[ 0.36815402],\n",
       "        [-0.43592423],\n",
       "        [ 0.6035008 ],\n",
       "        [ 0.13034844],\n",
       "        [-0.61405754],\n",
       "        [-0.5820506 ],\n",
       "        [-0.49549642],\n",
       "        [ 0.19885297],\n",
       "        [ 0.13539074],\n",
       "        [ 0.16889122]], dtype=float32),\n",
       " array([-0.0450981], dtype=float32),\n",
       " array([[0.29974115]], dtype=float32),\n",
       " array([-0.04619823], dtype=float32)]"
      ]
     },
     "execution_count": 132,
     "metadata": {},
     "output_type": "execute_result"
    }
   ],
   "source": [
    "model.get_weights()"
   ]
  },
  {
   "cell_type": "code",
   "execution_count": null,
   "metadata": {
    "scrolled": true
   },
   "outputs": [],
   "source": [
    "for i in range(5000):\n",
    "    print(\"********** starting round\", i, \"**********\")\n",
    "    full_train_cycle(1, epochs=2)"
   ]
  },
  {
   "cell_type": "markdown",
   "metadata": {},
   "source": [
    "# CNN attamp"
   ]
  },
  {
   "cell_type": "code",
   "execution_count": null,
   "metadata": {},
   "outputs": [],
   "source": [
    "from keras.models import Sequential\n",
    "from keras.layers import Dense, Conv2D, Flatten\n",
    "#create model\n",
    "md = Sequential()\n",
    "#add model layers\n",
    "md.add(Conv2D(1, kernel_size=3, activation='relu', input_shape=(28,28,1), use_bias=False))\n",
    "#md.add(layers.MaxPooling2D(2,2))\n",
    "#md.add(Conv2D(64, kernel_size=3, activation='relu', use_bias=False))\n",
    "#md.add(layers.MaxPooling2D(2,2))\n",
    "#md.add(Conv2D(64, kernel_size=3, activation='relu', use_bias=False))\n",
    "md.add(Flatten())\n",
    "md.compile(optimizer='adam', loss='mse')"
   ]
  },
  {
   "cell_type": "code",
   "execution_count": null,
   "metadata": {},
   "outputs": [],
   "source": [
    "for i in md.get_weights():\n",
    "    print(i.shape)"
   ]
  },
  {
   "cell_type": "code",
   "execution_count": null,
   "metadata": {},
   "outputs": [],
   "source": [
    "md.summary()"
   ]
  },
  {
   "cell_type": "code",
   "execution_count": null,
   "metadata": {},
   "outputs": [],
   "source": [
    "md.predict(np.array([[[[1]*28]*28]]).reshape(1,28,28,1))"
   ]
  },
  {
   "cell_type": "code",
   "execution_count": null,
   "metadata": {},
   "outputs": [],
   "source": [
    "asdf = md.get_weights()[0].reshape(3,3)"
   ]
  },
  {
   "cell_type": "code",
   "execution_count": null,
   "metadata": {},
   "outputs": [],
   "source": [
    "wds = md.get_weights()"
   ]
  },
  {
   "cell_type": "code",
   "execution_count": null,
   "metadata": {},
   "outputs": [],
   "source": [
    "convp = wds[0]"
   ]
  },
  {
   "cell_type": "code",
   "execution_count": null,
   "metadata": {},
   "outputs": [],
   "source": [
    "convp.shape"
   ]
  },
  {
   "cell_type": "code",
   "execution_count": null,
   "metadata": {},
   "outputs": [],
   "source": [
    "c = convp.reshape(1, 3, 3, 1)"
   ]
  },
  {
   "cell_type": "code",
   "execution_count": null,
   "metadata": {},
   "outputs": [],
   "source": [
    "d = c[0].reshape(3,3)"
   ]
  },
  {
   "cell_type": "code",
   "execution_count": null,
   "metadata": {},
   "outputs": [],
   "source": [
    "import scipy.signal as signal"
   ]
  },
  {
   "cell_type": "code",
   "execution_count": null,
   "metadata": {},
   "outputs": [],
   "source": [
    "a = np.array([[[1]*28]*28]).reshape(28,28)"
   ]
  },
  {
   "cell_type": "code",
   "execution_count": null,
   "metadata": {},
   "outputs": [],
   "source": [
    "e = signal.convolve2d(a, asdf, mode='valid')"
   ]
  },
  {
   "cell_type": "code",
   "execution_count": null,
   "metadata": {},
   "outputs": [],
   "source": [
    "e"
   ]
  },
  {
   "cell_type": "code",
   "execution_count": null,
   "metadata": {},
   "outputs": [],
   "source": [
    "signal.convolve(e, )"
   ]
  },
  {
   "cell_type": "code",
   "execution_count": null,
   "metadata": {},
   "outputs": [],
   "source": []
  }
 ],
 "metadata": {
  "kernelspec": {
   "display_name": "Python 3",
   "language": "python",
   "name": "python3"
  },
  "language_info": {
   "codemirror_mode": {
    "name": "ipython",
    "version": 3
   },
   "file_extension": ".py",
   "mimetype": "text/x-python",
   "name": "python",
   "nbconvert_exporter": "python",
   "pygments_lexer": "ipython3",
   "version": "3.6.8"
  }
 },
 "nbformat": 4,
 "nbformat_minor": 2
}
