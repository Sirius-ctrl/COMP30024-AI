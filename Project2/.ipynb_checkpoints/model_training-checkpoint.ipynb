{
 "cells": [
  {
   "cell_type": "code",
   "execution_count": 1,
   "metadata": {},
   "outputs": [],
   "source": [
    "CELLS = [(q, r) for q in range(-3, +3 + 1) for r in range(-3, +3 + 1) if -q - r in range(-3, +3 + 1)]"
   ]
  },
  {
   "cell_type": "code",
   "execution_count": 2,
   "metadata": {},
   "outputs": [
    {
     "name": "stderr",
     "output_type": "stream",
     "text": [
      "Using TensorFlow backend.\n"
     ]
    }
   ],
   "source": [
    "import tensorflow as tf\n",
    "import numpy as np\n",
    "from keras import models, layers\n",
    "from keras.models import load_model\n",
    "import json\n",
    "import pickle\n",
    "import os\n",
    "from os.path import join\n",
    "import subprocess\n",
    "import json\n",
    "import VanGame.utils as utils\n",
    "import scipy as sp\n",
    "import os\n",
    "os.environ['KMP_DUPLICATE_LIB_OK']='True'"
   ]
  },
  {
   "cell_type": "code",
   "execution_count": 3,
   "metadata": {
    "scrolled": true
   },
   "outputs": [
    {
     "data": {
      "text/plain": [
       "[(-3, 0),\n",
       " (-3, 1),\n",
       " (-3, 2),\n",
       " (-3, 3),\n",
       " (-2, -1),\n",
       " (-2, 0),\n",
       " (-2, 1),\n",
       " (-2, 2),\n",
       " (-2, 3),\n",
       " (-1, -2),\n",
       " (-1, -1),\n",
       " (-1, 0),\n",
       " (-1, 1),\n",
       " (-1, 2),\n",
       " (-1, 3),\n",
       " (0, -3),\n",
       " (0, -2),\n",
       " (0, -1),\n",
       " (0, 0),\n",
       " (0, 1),\n",
       " (0, 2),\n",
       " (0, 3),\n",
       " (1, -3),\n",
       " (1, -2),\n",
       " (1, -1),\n",
       " (1, 0),\n",
       " (1, 1),\n",
       " (1, 2),\n",
       " (2, -3),\n",
       " (2, -2),\n",
       " (2, -1),\n",
       " (2, 0),\n",
       " (2, 1),\n",
       " (3, -3),\n",
       " (3, -2),\n",
       " (3, -1),\n",
       " (3, 0)]"
      ]
     },
     "execution_count": 3,
     "metadata": {},
     "output_type": "execute_result"
    }
   ],
   "source": [
    "sequence = sorted([p for p in CELLS])\n",
    "sequence"
   ]
  },
  {
   "cell_type": "code",
   "execution_count": 4,
   "metadata": {},
   "outputs": [],
   "source": [
    "def build_model():\n",
    "    model = models.Sequential()\n",
    "    model.add(layers.Dense(100,activation='relu', input_shape=(11,)))\n",
    "    model.add(layers.Dense(200, activation='relu'))\n",
    "    model.add(layers.Dense(100, activation='relu'))\n",
    "    model.add(layers.Dense(1))\n",
    "    model.compile(optimizer='adam', loss='mse')\n",
    "    return model"
   ]
  },
  {
   "cell_type": "code",
   "execution_count": 156,
   "metadata": {},
   "outputs": [],
   "source": [
    "model = build_model()"
   ]
  },
  {
   "cell_type": "code",
   "execution_count": 5,
   "metadata": {},
   "outputs": [],
   "source": [
    "def bash_call(c:[str]) -> None:\n",
    "    res = subprocess.check_output(c)\n",
    "    ls = []\n",
    "    for line in res.splitlines():\n",
    "        line = line.decode('utf-8')\n",
    "        ls.append(line)\n",
    "    return ls"
   ]
  },
  {
   "cell_type": "code",
   "execution_count": 6,
   "metadata": {},
   "outputs": [],
   "source": [
    "def join_list(l):\n",
    "    res = \"\"\n",
    "    for i in l:\n",
    "        res += i + \"/\"\n",
    "    \n",
    "    res = res[:-1]\n",
    "    return res"
   ]
  },
  {
   "cell_type": "code",
   "execution_count": 7,
   "metadata": {},
   "outputs": [],
   "source": [
    "def load_logs():\n",
    "    datapath = join(os.getcwd(),'rec/')\n",
    "    van_files = bash_call(['ls', datapath])\n",
    "    for i in range(len(van_files)):\n",
    "        van_files[i] = 'rec/' + van_files[i]\n",
    "    \n",
    "    datapath = join(os.getcwd(),'hardcode_rec/')\n",
    "    hardcode_file = bash_call(['ls', datapath])\n",
    "    \n",
    "    for i in range(len(hardcode_file)):\n",
    "        hardcode_file[i] = 'hardcode_rec/' + hardcode_file[i]\n",
    "\n",
    "    return van_files + hardcode_file"
   ]
  },
  {
   "cell_type": "code",
   "execution_count": 8,
   "metadata": {},
   "outputs": [],
   "source": [
    "import math\n",
    "\n",
    "def sigmoid(x):\n",
    "    return 1/(1+math.exp(-x))"
   ]
  },
  {
   "cell_type": "code",
   "execution_count": 9,
   "metadata": {},
   "outputs": [],
   "source": [
    "def PG_log(filename, condition=None, value_check=False):\n",
    "    \n",
    "    if (condition != None) and (condition not in filename):\n",
    "        return False, False\n",
    "    \n",
    "    #print(filename)\n",
    "    states, color = utils.load_l(filename)\n",
    "    \n",
    "    train = []\n",
    "    value = []\n",
    "    \n",
    "    for s in states:\n",
    "        # print(s)\n",
    "        board = []\n",
    "        # add board\n",
    "        for cord in sequence:\n",
    "            # does not include the board\n",
    "            break\n",
    "            board.append(s['board'][cord])\n",
    "        # color \n",
    "        # board.append(color)\n",
    "        board.append(s['turns'])\n",
    "        board += s['utility']\n",
    "        board.append(s['ev'])\n",
    "        train.append(board)\n",
    "        value.append(s['rew'])\n",
    "        \n",
    "    if value_check:\n",
    "        print(value)\n",
    "        \n",
    "    value.reverse()\n",
    "    decay = 0.8\n",
    "    curr_decay = decay\n",
    "    for i in range(1, len(value)):\n",
    "        value[i] += value[i-1] * curr_decay\n",
    "        curr_decay *= decay\n",
    "        value[i] = round(value[i], 3)\n",
    "        \n",
    "        if value[i] < 0.0001:\n",
    "            value[i] = 0\n",
    "    \n",
    "    value.reverse()\n",
    "    \n",
    "    if value_check:\n",
    "        print(value)\n",
    "    \n",
    "    # post_value = np.array(value)\n",
    "    \n",
    "    # post_value = np.tanh(post_value)\n",
    "    \n",
    "    # normalize the value\n",
    "    # post_value = (post_value - post_value.mean()) / post_value.std()\n",
    "    \n",
    "    if value_check:\n",
    "        print(\"\\n\",post_value)\n",
    "    \n",
    "    return train, value"
   ]
  },
  {
   "cell_type": "code",
   "execution_count": 146,
   "metadata": {},
   "outputs": [
    {
     "name": "stdout",
     "output_type": "stream",
     "text": [
      "[0, 0.002, 1.0, 0, 0, 0.006, 1.0, 0, 0, 0.001, 0.09, 5.0, 0, 0.001, 0.017, 0.381, 6.936, 100.925, 10.766, 100.266, 1.981, 5.846, 4.034, 15.39, 31.709, 77.414, 151.2, 80.0, 100]\n"
     ]
    }
   ],
   "source": [
    "# this is only for test, don't run\n",
    "t,v = PG_log('hardcode_rec/[1win]1556810087.0caobluejiba.txt', value_check=False)\n",
    "print(v)"
   ]
  },
  {
   "cell_type": "code",
   "execution_count": 10,
   "metadata": {
    "scrolled": true
   },
   "outputs": [
    {
     "name": "stdout",
     "output_type": "stream",
     "text": [
      "'[1win]1556810042.0caogreenjiba.txt'  '[2zzz]1556810042.0caobluejiba.txt'\r\n",
      "'[1win]1556810138.0caogreenjiba.txt'  '[2zzz]1556810138.0caobluejiba.txt'\r\n"
     ]
    }
   ],
   "source": [
    "!ls 'hardcode_rec'"
   ]
  },
  {
   "cell_type": "code",
   "execution_count": 11,
   "metadata": {},
   "outputs": [],
   "source": [
    "def reload_model():\n",
    "    del model  # deletes the existing model\n",
    "\n",
    "    # returns a compiled model\n",
    "    # identical to the previous one\n",
    "    model = load_model('my_model.h5')"
   ]
  },
  {
   "cell_type": "code",
   "execution_count": 12,
   "metadata": {},
   "outputs": [],
   "source": [
    "def save_model():\n",
    "    model.save('VanGame/my_model.h5')  # creates a HDF5 file 'my_model.h5'\n",
    "    with open('VanGame/trained_model', 'wb+') as f:\n",
    "        pickle.dump(model.get_weights(), f)"
   ]
  },
  {
   "cell_type": "code",
   "execution_count": 13,
   "metadata": {
    "scrolled": true
   },
   "outputs": [],
   "source": [
    "def train(epochs, save=True):\n",
    "    logfs = load_logs()\n",
    "    train_set = []\n",
    "    target_set = []\n",
    "    \n",
    "    for logf in logfs:\n",
    "        train, value = PG_log(logf)\n",
    "        if train:\n",
    "            # print(train)\n",
    "            # print(len(train), len(value))\n",
    "            #print(train[-1])\n",
    "            train_set += train\n",
    "            # the target shouldnt be calculate like this, should use bootstrapping\n",
    "            target_set += value\n",
    "\n",
    "    model.fit(np.array(train_set), target_set, epochs=epochs, batch_size=1)\n",
    "    \n",
    "    if save:\n",
    "        print(\"saved\")\n",
    "        save_model()"
   ]
  },
  {
   "cell_type": "code",
   "execution_count": 157,
   "metadata": {},
   "outputs": [],
   "source": [
    "# don't run this, or ask me\n",
    "# save_model()\n",
    "# del model\n",
    "\n",
    "try:\n",
    "    model = load_model('VanGame/my_model.h5')\n",
    "except:\n",
    "    print(\"none model found\")\n",
    "    model = build_model()"
   ]
  },
  {
   "cell_type": "code",
   "execution_count": 14,
   "metadata": {},
   "outputs": [],
   "source": [
    "def full_train_cycle(n, epochs=2):\n",
    "    for i in range(n):\n",
    "        !python3 -m referee VanGame HardCode HardCode -l logtry -v 0\n",
    "    if ( len(bash_call(['ls', 'rec'])) + len(bash_call(['ls', 'hardcode_rec'])) ) > 0:\n",
    "        train(epochs=epochs)\n",
    "        !rm -v ./rec/*\n",
    "        !rm -v ./hardcode_rec/*"
   ]
  },
  {
   "cell_type": "code",
   "execution_count": 15,
   "metadata": {
    "scrolled": true
   },
   "outputs": [
    {
     "name": "stdout",
     "output_type": "stream",
     "text": [
      "********** starting round 0 **********\n",
      "* NOTE: unable to measure memory usage on this platform (try dimefox)\n",
      "* winner: Green\n"
     ]
    },
    {
     "ename": "NameError",
     "evalue": "name 'model' is not defined",
     "output_type": "error",
     "traceback": [
      "\u001b[0;31m---------------------------------------------------------------------------\u001b[0m",
      "\u001b[0;31mNameError\u001b[0m                                 Traceback (most recent call last)",
      "\u001b[0;32m<ipython-input-15-3791a6b33d27>\u001b[0m in \u001b[0;36m<module>\u001b[0;34m\u001b[0m\n\u001b[1;32m      1\u001b[0m \u001b[0;32mfor\u001b[0m \u001b[0mi\u001b[0m \u001b[0;32min\u001b[0m \u001b[0mrange\u001b[0m\u001b[0;34m(\u001b[0m\u001b[0;36m2\u001b[0m\u001b[0;34m)\u001b[0m\u001b[0;34m:\u001b[0m\u001b[0;34m\u001b[0m\u001b[0;34m\u001b[0m\u001b[0m\n\u001b[1;32m      2\u001b[0m     \u001b[0mprint\u001b[0m\u001b[0;34m(\u001b[0m\u001b[0;34m\"********** starting round\"\u001b[0m\u001b[0;34m,\u001b[0m \u001b[0mi\u001b[0m\u001b[0;34m,\u001b[0m \u001b[0;34m\"**********\"\u001b[0m\u001b[0;34m)\u001b[0m\u001b[0;34m\u001b[0m\u001b[0;34m\u001b[0m\u001b[0m\n\u001b[0;32m----> 3\u001b[0;31m     \u001b[0mfull_train_cycle\u001b[0m\u001b[0;34m(\u001b[0m\u001b[0;36m1\u001b[0m\u001b[0;34m,\u001b[0m \u001b[0mepochs\u001b[0m\u001b[0;34m=\u001b[0m\u001b[0;36m2\u001b[0m\u001b[0;34m)\u001b[0m\u001b[0;34m\u001b[0m\u001b[0;34m\u001b[0m\u001b[0m\n\u001b[0m",
      "\u001b[0;32m<ipython-input-14-7cdbc2bae88e>\u001b[0m in \u001b[0;36mfull_train_cycle\u001b[0;34m(n, epochs)\u001b[0m\n\u001b[1;32m      3\u001b[0m         \u001b[0mget_ipython\u001b[0m\u001b[0;34m(\u001b[0m\u001b[0;34m)\u001b[0m\u001b[0;34m.\u001b[0m\u001b[0msystem\u001b[0m\u001b[0;34m(\u001b[0m\u001b[0;34m'python3 -m referee VanGame HardCode HardCode -l logtry -v 0'\u001b[0m\u001b[0;34m)\u001b[0m\u001b[0;34m\u001b[0m\u001b[0;34m\u001b[0m\u001b[0m\n\u001b[1;32m      4\u001b[0m     \u001b[0;32mif\u001b[0m \u001b[0;34m(\u001b[0m \u001b[0mlen\u001b[0m\u001b[0;34m(\u001b[0m\u001b[0mbash_call\u001b[0m\u001b[0;34m(\u001b[0m\u001b[0;34m[\u001b[0m\u001b[0;34m'ls'\u001b[0m\u001b[0;34m,\u001b[0m \u001b[0;34m'rec'\u001b[0m\u001b[0;34m]\u001b[0m\u001b[0;34m)\u001b[0m\u001b[0;34m)\u001b[0m \u001b[0;34m+\u001b[0m \u001b[0mlen\u001b[0m\u001b[0;34m(\u001b[0m\u001b[0mbash_call\u001b[0m\u001b[0;34m(\u001b[0m\u001b[0;34m[\u001b[0m\u001b[0;34m'ls'\u001b[0m\u001b[0;34m,\u001b[0m \u001b[0;34m'hardcode_rec'\u001b[0m\u001b[0;34m]\u001b[0m\u001b[0;34m)\u001b[0m\u001b[0;34m)\u001b[0m \u001b[0;34m)\u001b[0m \u001b[0;34m>\u001b[0m \u001b[0;36m0\u001b[0m\u001b[0;34m:\u001b[0m\u001b[0;34m\u001b[0m\u001b[0;34m\u001b[0m\u001b[0m\n\u001b[0;32m----> 5\u001b[0;31m         \u001b[0mtrain\u001b[0m\u001b[0;34m(\u001b[0m\u001b[0mepochs\u001b[0m\u001b[0;34m=\u001b[0m\u001b[0mepochs\u001b[0m\u001b[0;34m)\u001b[0m\u001b[0;34m\u001b[0m\u001b[0;34m\u001b[0m\u001b[0m\n\u001b[0m\u001b[1;32m      6\u001b[0m         \u001b[0mget_ipython\u001b[0m\u001b[0;34m(\u001b[0m\u001b[0;34m)\u001b[0m\u001b[0;34m.\u001b[0m\u001b[0msystem\u001b[0m\u001b[0;34m(\u001b[0m\u001b[0;34m'rm -v ./rec/*'\u001b[0m\u001b[0;34m)\u001b[0m\u001b[0;34m\u001b[0m\u001b[0;34m\u001b[0m\u001b[0m\n\u001b[1;32m      7\u001b[0m         \u001b[0mget_ipython\u001b[0m\u001b[0;34m(\u001b[0m\u001b[0;34m)\u001b[0m\u001b[0;34m.\u001b[0m\u001b[0msystem\u001b[0m\u001b[0;34m(\u001b[0m\u001b[0;34m'rm -v ./hardcode_rec/*'\u001b[0m\u001b[0;34m)\u001b[0m\u001b[0;34m\u001b[0m\u001b[0;34m\u001b[0m\u001b[0m\n",
      "\u001b[0;32m<ipython-input-13-252775104d19>\u001b[0m in \u001b[0;36mtrain\u001b[0;34m(epochs, save)\u001b[0m\n\u001b[1;32m     14\u001b[0m             \u001b[0mtarget_set\u001b[0m \u001b[0;34m+=\u001b[0m \u001b[0mvalue\u001b[0m\u001b[0;34m\u001b[0m\u001b[0;34m\u001b[0m\u001b[0m\n\u001b[1;32m     15\u001b[0m \u001b[0;34m\u001b[0m\u001b[0m\n\u001b[0;32m---> 16\u001b[0;31m     \u001b[0mmodel\u001b[0m\u001b[0;34m.\u001b[0m\u001b[0mfit\u001b[0m\u001b[0;34m(\u001b[0m\u001b[0mnp\u001b[0m\u001b[0;34m.\u001b[0m\u001b[0marray\u001b[0m\u001b[0;34m(\u001b[0m\u001b[0mtrain_set\u001b[0m\u001b[0;34m)\u001b[0m\u001b[0;34m,\u001b[0m \u001b[0mtarget_set\u001b[0m\u001b[0;34m,\u001b[0m \u001b[0mepochs\u001b[0m\u001b[0;34m=\u001b[0m\u001b[0mepochs\u001b[0m\u001b[0;34m,\u001b[0m \u001b[0mbatch_size\u001b[0m\u001b[0;34m=\u001b[0m\u001b[0;36m1\u001b[0m\u001b[0;34m)\u001b[0m\u001b[0;34m\u001b[0m\u001b[0;34m\u001b[0m\u001b[0m\n\u001b[0m\u001b[1;32m     17\u001b[0m \u001b[0;34m\u001b[0m\u001b[0m\n\u001b[1;32m     18\u001b[0m     \u001b[0;32mif\u001b[0m \u001b[0msave\u001b[0m\u001b[0;34m:\u001b[0m\u001b[0;34m\u001b[0m\u001b[0;34m\u001b[0m\u001b[0m\n",
      "\u001b[0;31mNameError\u001b[0m: name 'model' is not defined"
     ]
    }
   ],
   "source": [
    "for i in range(2):\n",
    "    print(\"********** starting round\", i, \"**********\")\n",
    "    full_train_cycle(1, epochs=2)"
   ]
  },
  {
   "cell_type": "code",
   "execution_count": 174,
   "metadata": {
    "scrolled": true
   },
   "outputs": [
    {
     "name": "stdout",
     "output_type": "stream",
     "text": [
      "********** starting round 1 **********\n",
      "* NOTE: unable to measure memory usage on this platform (try dimefox)\n",
      "* winner: Blue\n",
      "Epoch 1/2\n",
      "81/81 [==============================] - 0s 3ms/step - loss: 3224.1483\n",
      "Epoch 2/2\n",
      "81/81 [==============================] - 0s 3ms/step - loss: 2707.9693\n",
      "saved\n",
      "removed './rec/[2zzz]1556810762.0caoredjiba.txt'\n",
      "removed './hardcode_rec/[1win]1556810762.0caobluejiba.txt'\n",
      "removed './hardcode_rec/[2zzz]1556810762.0caogreenjiba.txt'\n",
      "********** starting round 2 **********\n",
      "* NOTE: unable to measure memory usage on this platform (try dimefox)\n",
      "* winner: Green\n",
      "Epoch 1/2\n",
      "65/65 [==============================] - 0s 3ms/step - loss: 2746.3182\n",
      "Epoch 2/2\n",
      "65/65 [==============================] - 0s 2ms/step - loss: 2388.8584\n",
      "saved\n",
      "removed './rec/[2zzz]1556810764.0caoredjiba.txt'\n",
      "removed './hardcode_rec/[1win]1556810764.0caogreenjiba.txt'\n",
      "removed './hardcode_rec/[2zzz]1556810764.0caobluejiba.txt'\n",
      "********** starting round 3 **********\n",
      "* NOTE: unable to measure memory usage on this platform (try dimefox)\n",
      "* winner: Blue\n",
      "Epoch 1/2\n",
      "84/84 [==============================] - 0s 3ms/step - loss: 2778.9352\n",
      "Epoch 2/2\n",
      "84/84 [==============================] - 0s 2ms/step - loss: 2340.9422\n",
      "saved\n",
      "removed './rec/[2zzz]1556810766.0caoredjiba.txt'\n",
      "removed './hardcode_rec/[1win]1556810766.0caobluejiba.txt'\n",
      "removed './hardcode_rec/[2zzz]1556810766.0caogreenjiba.txt'\n"
     ]
    }
   ],
   "source": [
    "for i in range(3):\n",
    "    print(\"********** starting round\", i+1, \"**********\")\n",
    "    full_train_cycle(1, epochs=2)"
   ]
  },
  {
   "cell_type": "markdown",
   "metadata": {},
   "source": [
    "# CNN attamp"
   ]
  },
  {
   "cell_type": "code",
   "execution_count": null,
   "metadata": {},
   "outputs": [],
   "source": [
    "from keras.models import Sequential\n",
    "from keras.layers import Dense, Conv2D, Flatten\n",
    "#create model\n",
    "md = Sequential()\n",
    "#add model layers\n",
    "md.add(Conv2D(1, kernel_size=3, activation='relu', input_shape=(28,28,1), use_bias=False))\n",
    "#md.add(layers.MaxPooling2D(2,2))\n",
    "#md.add(Conv2D(64, kernel_size=3, activation='relu', use_bias=False))\n",
    "#md.add(layers.MaxPooling2D(2,2))\n",
    "#md.add(Conv2D(64, kernel_size=3, activation='relu', use_bias=False))\n",
    "md.add(Flatten())\n",
    "md.compile(optimizer='adam', loss='mse')"
   ]
  },
  {
   "cell_type": "code",
   "execution_count": null,
   "metadata": {},
   "outputs": [],
   "source": [
    "for i in md.get_weights():\n",
    "    print(i.shape)"
   ]
  },
  {
   "cell_type": "code",
   "execution_count": null,
   "metadata": {},
   "outputs": [],
   "source": [
    "md.summary()"
   ]
  },
  {
   "cell_type": "code",
   "execution_count": null,
   "metadata": {},
   "outputs": [],
   "source": [
    "md.predict(np.array([[[[1]*28]*28]]).reshape(1,28,28,1))"
   ]
  },
  {
   "cell_type": "code",
   "execution_count": null,
   "metadata": {},
   "outputs": [],
   "source": [
    "asdf = md.get_weights()[0].reshape(3,3)"
   ]
  },
  {
   "cell_type": "code",
   "execution_count": null,
   "metadata": {},
   "outputs": [],
   "source": [
    "wds = md.get_weights()"
   ]
  },
  {
   "cell_type": "code",
   "execution_count": null,
   "metadata": {},
   "outputs": [],
   "source": [
    "convp = wds[0]"
   ]
  },
  {
   "cell_type": "code",
   "execution_count": null,
   "metadata": {},
   "outputs": [],
   "source": [
    "convp.shape"
   ]
  },
  {
   "cell_type": "code",
   "execution_count": null,
   "metadata": {},
   "outputs": [],
   "source": [
    "c = convp.reshape(1, 3, 3, 1)"
   ]
  },
  {
   "cell_type": "code",
   "execution_count": null,
   "metadata": {},
   "outputs": [],
   "source": [
    "d = c[0].reshape(3,3)"
   ]
  },
  {
   "cell_type": "code",
   "execution_count": null,
   "metadata": {},
   "outputs": [],
   "source": [
    "import scipy.signal as signal"
   ]
  },
  {
   "cell_type": "code",
   "execution_count": null,
   "metadata": {},
   "outputs": [],
   "source": [
    "a = np.array([[[1]*28]*28]).reshape(28,28)"
   ]
  },
  {
   "cell_type": "code",
   "execution_count": null,
   "metadata": {},
   "outputs": [],
   "source": [
    "e = signal.convolve2d(a, asdf, mode='valid')"
   ]
  },
  {
   "cell_type": "code",
   "execution_count": null,
   "metadata": {},
   "outputs": [],
   "source": [
    "e"
   ]
  },
  {
   "cell_type": "code",
   "execution_count": null,
   "metadata": {},
   "outputs": [],
   "source": [
    "signal.convolve(e, )"
   ]
  },
  {
   "cell_type": "code",
   "execution_count": null,
   "metadata": {},
   "outputs": [],
   "source": []
  }
 ],
 "metadata": {
  "kernelspec": {
   "display_name": "Python 3",
   "language": "python",
   "name": "python3"
  },
  "language_info": {
   "codemirror_mode": {
    "name": "ipython",
    "version": 3
   },
   "file_extension": ".py",
   "mimetype": "text/x-python",
   "name": "python",
   "nbconvert_exporter": "python",
   "pygments_lexer": "ipython3",
   "version": "3.7.1"
  }
 },
 "nbformat": 4,
 "nbformat_minor": 2
}
