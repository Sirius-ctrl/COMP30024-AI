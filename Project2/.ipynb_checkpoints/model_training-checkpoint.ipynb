{
 "cells": [
  {
   "cell_type": "code",
   "execution_count": 1,
   "metadata": {},
   "outputs": [],
   "source": [
    "CELLS = [(q, r) for q in range(-3, +3 + 1) for r in range(-3, +3 + 1) if -q - r in range(-3, +3 + 1)]"
   ]
  },
  {
   "cell_type": "code",
   "execution_count": 18,
   "metadata": {},
   "outputs": [],
   "source": [
    "import tensorflow as tf\n",
    "import numpy as np\n",
    "from keras import models, layers\n",
    "from keras.models import load_model\n",
    "import json\n",
    "import pickle\n",
    "import os\n",
    "from os.path import join\n",
    "import subprocess\n",
    "import json\n",
    "import VanGame.utils as utils"
   ]
  },
  {
   "cell_type": "code",
   "execution_count": 5,
   "metadata": {
    "scrolled": true
   },
   "outputs": [],
   "source": [
    "sequence = sorted([p for p in CELLS])"
   ]
  },
  {
   "cell_type": "code",
   "execution_count": 6,
   "metadata": {},
   "outputs": [],
   "source": [
    "a = np.array([[1]*39])\n",
    "b = [500]"
   ]
  },
  {
   "cell_type": "code",
   "execution_count": 7,
   "metadata": {},
   "outputs": [],
   "source": [
    "def build_model():\n",
    "    model = models.Sequential()\n",
    "    model.add(layers.Dense(200,activation='relu', input_shape=(39,)))\n",
    "    model.add(layers.Dense(500, activation='relu'))\n",
    "    model.add(layers.Dense(500, activation='relu'))\n",
    "    model.add(layers.Dense(200, activation='relu'))\n",
    "    model.add(layers.Dense(1))\n",
    "    model.compile(optimizer='rmsprop', loss='mse')\n",
    "    return model"
   ]
  },
  {
   "cell_type": "code",
   "execution_count": 8,
   "metadata": {},
   "outputs": [
    {
     "name": "stdout",
     "output_type": "stream",
     "text": [
      "WARNING:tensorflow:From /anaconda3/lib/python3.6/site-packages/tensorflow/python/framework/op_def_library.py:263: colocate_with (from tensorflow.python.framework.ops) is deprecated and will be removed in a future version.\n",
      "Instructions for updating:\n",
      "Colocations handled automatically by placer.\n"
     ]
    }
   ],
   "source": [
    "model = build_model()"
   ]
  },
  {
   "cell_type": "code",
   "execution_count": 107,
   "metadata": {},
   "outputs": [],
   "source": [
    "try:\n",
    "    model = load_model('VanGame/my_model.h5')\n",
    "except:\n",
    "    print(\"none model found\")\n",
    "    model = build_model()"
   ]
  },
  {
   "cell_type": "code",
   "execution_count": 14,
   "metadata": {},
   "outputs": [
    {
     "name": "stdout",
     "output_type": "stream",
     "text": [
      "'[1win]1556539493.0caoredjiba.txt'  '[2zzz]1556539494.0caoredjiba.txt'\r\n",
      "'[1win]1556539499.0caoredjiba.txt'  '[2zzz]1556539497.0caoredjiba.txt'\r\n",
      "'[1win]1556539502.0caoredjiba.txt'  '[2zzz]1556539500.0caoredjiba.txt'\r\n",
      "'[1win]1556539504.0caoredjiba.txt'  '[2zzz]1556539508.0caoredjiba.txt'\r\n",
      "'[1win]1556539506.0caoredjiba.txt'  '[2zzz]1556539509.0caoredjiba.txt'\r\n",
      "'[2zzz]1556539486.0caoredjiba.txt'  '[2zzz]1556539510.0caoredjiba.txt'\r\n",
      "'[2zzz]1556539487.0caoredjiba.txt'  '[2zzz]1556539511.0caoredjiba.txt'\r\n",
      "'[2zzz]1556539488.0caoredjiba.txt'  '[2zzz]1556539512.0caoredjiba.txt'\r\n",
      "'[2zzz]1556539489.0caoredjiba.txt'  '[2zzz]1556539513.0caoredjiba.txt'\r\n",
      "'[2zzz]1556539491.0caoredjiba.txt'  '[2zzz]1556539514.0caoredjiba.txt'\r\n"
     ]
    }
   ],
   "source": [
    "!ls 'rec'"
   ]
  },
  {
   "cell_type": "code",
   "execution_count": 24,
   "metadata": {},
   "outputs": [],
   "source": [
    "def bash_call(c:[str]) -> None:\n",
    "    res = subprocess.check_output(c)\n",
    "    ls = []\n",
    "    for line in res.splitlines():\n",
    "        line = line.decode('utf-8')\n",
    "        ls.append(line)\n",
    "    return ls"
   ]
  },
  {
   "cell_type": "code",
   "execution_count": 25,
   "metadata": {},
   "outputs": [],
   "source": [
    "def join_list(l):\n",
    "    res = \"\"\n",
    "    for i in l:\n",
    "        res += i + \"/\"\n",
    "    \n",
    "    res = res[:-1]\n",
    "    return res"
   ]
  },
  {
   "cell_type": "code",
   "execution_count": 26,
   "metadata": {},
   "outputs": [],
   "source": [
    "def load_logs():\n",
    "    datapath = join(os.getcwd(),'rec/')\n",
    "    files = bash_call(['ls', datapath])\n",
    "    return files"
   ]
  },
  {
   "cell_type": "code",
   "execution_count": 119,
   "metadata": {},
   "outputs": [],
   "source": [
    "def PG_log(filename, condition=None, value_check=False):\n",
    "    \n",
    "    if (condition != None) and (condition not in filename):\n",
    "        return False, False\n",
    "    \n",
    "    #print(filename)\n",
    "    \n",
    "    states, color = utils.load_l('rec/'+filename)\n",
    "    \n",
    "    train = []\n",
    "    value = []\n",
    "    \n",
    "    for s in states:\n",
    "        board = []\n",
    "        # add board\n",
    "        for cord in sequence:\n",
    "            board.append(s['board'][cord])\n",
    "        # color \n",
    "        board.append(color)\n",
    "        board.append(s['d_heur'])\n",
    "        train.append(board)\n",
    "        value.append(s['rew'])\n",
    "        \n",
    "    if value_check:\n",
    "        print(value)\n",
    "        \n",
    "    value.reverse()\n",
    "    decay = 0.98\n",
    "    curr_decay = 0.98\n",
    "    for i in range(1, len(value)):\n",
    "        value[i] += value[i-1] * curr_decay\n",
    "        curr_decay *= decay\n",
    "    \n",
    "    value.reverse()\n",
    "    \n",
    "    if value_check:\n",
    "        print(value)\n",
    "    \n",
    "    return train, value"
   ]
  },
  {
   "cell_type": "code",
   "execution_count": 120,
   "metadata": {},
   "outputs": [],
   "source": [
    "def reload_model():\n",
    "    del model  # deletes the existing model\n",
    "\n",
    "    # returns a compiled model\n",
    "    # identical to the previous one\n",
    "    model = load_model('my_model.h5')\n"
   ]
  },
  {
   "cell_type": "code",
   "execution_count": 121,
   "metadata": {},
   "outputs": [],
   "source": [
    "def save_model():\n",
    "    model.save('my_model.h5')  # creates a HDF5 file 'my_model.h5'\n",
    "    with open('trained_model', 'wb') as f:\n",
    "        pickle.dump(model.get_weights(), f)"
   ]
  },
  {
   "cell_type": "code",
   "execution_count": 144,
   "metadata": {
    "scrolled": true
   },
   "outputs": [],
   "source": [
    "def train(save=True):\n",
    "    logfs = load_logs()\n",
    "    train_set = []\n",
    "    target_set = []\n",
    "    \n",
    "    for logf in logfs:\n",
    "        train, value = PG_log(logf)\n",
    "        if train:\n",
    "            #print(len(train), len(value))\n",
    "            #print(train[-1])\n",
    "            train_set += train\n",
    "            target_set += value\n",
    "\n",
    "    model.fit(np.array(train_set), target_set, epochs=3, batch_size=1)\n",
    "    if save:\n",
    "        print(\"saved\")\n",
    "        save_model()   "
   ]
  },
  {
   "cell_type": "code",
   "execution_count": 145,
   "metadata": {
    "scrolled": true
   },
   "outputs": [
    {
     "name": "stdout",
     "output_type": "stream",
     "text": [
      "[1win]1556549315.0caoredjiba.txt\n",
      "[1win]1556549321.0caoredjiba.txt\n",
      "[2zzz]1556549305.0caoredjiba.txt\n",
      "[2zzz]1556549307.0caoredjiba.txt\n",
      "[2zzz]1556549308.0caoredjiba.txt\n",
      "[2zzz]1556549309.0caoredjiba.txt\n",
      "[2zzz]1556549311.0caoredjiba.txt\n",
      "Epoch 1/3\n",
      "304/304 [==============================] - 2s 6ms/step - loss: 4546.4440\n",
      "Epoch 2/3\n",
      "304/304 [==============================] - 2s 6ms/step - loss: 3489.6866\n",
      "Epoch 3/3\n",
      "304/304 [==============================] - 2s 7ms/step - loss: 2265.0692\n",
      "saved\n"
     ]
    }
   ],
   "source": [
    "train()"
   ]
  },
  {
   "cell_type": "code",
   "execution_count": 231,
   "metadata": {},
   "outputs": [],
   "source": [
    "save_model()"
   ]
  },
  {
   "cell_type": "code",
   "execution_count": 106,
   "metadata": {},
   "outputs": [],
   "source": [
    "del model"
   ]
  },
  {
   "cell_type": "code",
   "execution_count": 32,
   "metadata": {},
   "outputs": [
    {
     "data": {
      "text/plain": [
       "array([[2.6343455],\n",
       "       [1.5306363]], dtype=float32)"
      ]
     },
     "execution_count": 32,
     "metadata": {},
     "output_type": "execute_result"
    }
   ],
   "source": [
    "model.predict(np.array([[1]*39,[0.5]*39]))"
   ]
  },
  {
   "cell_type": "code",
   "execution_count": 52,
   "metadata": {},
   "outputs": [],
   "source": [
    "def clean_log(logs):\n",
    "    !rm '/Users/xinyaoniu/Documents/COMP30024-AI/Project2/rec/' *"
   ]
  },
  {
   "cell_type": "code",
   "execution_count": 53,
   "metadata": {},
   "outputs": [
    {
     "name": "stdout",
     "output_type": "stream",
     "text": [
      "rm: cannot remove '/Users/xinyaoniu/Documents/COMP30024-AI/Project2/rec/': Is a directory\r\n",
      "rm: cannot remove '__pycache__': Is a directory\r\n"
     ]
    }
   ],
   "source": [
    "clean_log(logfs)"
   ]
  },
  {
   "cell_type": "code",
   "execution_count": 110,
   "metadata": {},
   "outputs": [
    {
     "data": {
      "text/plain": [
       "'/Users/xinyaoniu/Documents/COMP30024-AI/Project2'"
      ]
     },
     "execution_count": 110,
     "metadata": {},
     "output_type": "execute_result"
    }
   ],
   "source": [
    "os.getcwd()"
   ]
  },
  {
   "cell_type": "code",
   "execution_count": 146,
   "metadata": {
    "scrolled": true
   },
   "outputs": [
    {
     "name": "stdout",
     "output_type": "stream",
     "text": [
      "removed './rec/[1win]1556549315.0caoredjiba.txt'\r\n",
      "removed './rec/[1win]1556549321.0caoredjiba.txt'\r\n",
      "removed './rec/[2zzz]1556549305.0caoredjiba.txt'\r\n",
      "removed './rec/[2zzz]1556549307.0caoredjiba.txt'\r\n",
      "removed './rec/[2zzz]1556549308.0caoredjiba.txt'\r\n",
      "removed './rec/[2zzz]1556549309.0caoredjiba.txt'\r\n",
      "removed './rec/[2zzz]1556549311.0caoredjiba.txt'\r\n"
     ]
    }
   ],
   "source": [
    "!rm -v ./rec/*"
   ]
  },
  {
   "cell_type": "code",
   "execution_count": 153,
   "metadata": {},
   "outputs": [],
   "source": [
    "def full_train_cycle(n):\n",
    "    for i in range(n):\n",
    "        !python3 -m referee VanGame HardCode HardCode -l logtry -v 0\n",
    "    train()\n",
    "    !rm -v ./rec/*"
   ]
  },
  {
   "cell_type": "code",
   "execution_count": 154,
   "metadata": {
    "scrolled": true
   },
   "outputs": [
    {
     "name": "stdout",
     "output_type": "stream",
     "text": [
      "* NOTE: unable to measure memory usage on this platform (try dimefox)\n",
      "* winner: Red\n",
      "* NOTE: unable to measure memory usage on this platform (try dimefox)\n",
      "* winner: Blue\n",
      "* NOTE: unable to measure memory usage on this platform (try dimefox)\n",
      "* winner: Green\n",
      "* NOTE: unable to measure memory usage on this platform (try dimefox)\n",
      "* winner: Green\n",
      "* NOTE: unable to measure memory usage on this platform (try dimefox)\n",
      "* winner: Red\n",
      "* NOTE: unable to measure memory usage on this platform (try dimefox)\n",
      "* winner: Green\n",
      "* NOTE: unable to measure memory usage on this platform (try dimefox)\n",
      "* winner: Blue\n",
      "* NOTE: unable to measure memory usage on this platform (try dimefox)\n",
      "* winner: Red\n",
      "* NOTE: unable to measure memory usage on this platform (try dimefox)\n",
      "* winner: Blue\n",
      "* NOTE: unable to measure memory usage on this platform (try dimefox)\n",
      "* winner: Green\n",
      "[1win]1556550685.0caoredjiba.txt\n",
      "[1win]1556550691.0caoredjiba.txt\n",
      "[1win]1556550695.0caoredjiba.txt\n",
      "[2zzz]1556550662.0caogreenjiba.txt\n",
      "[2zzz]1556550686.0caoredjiba.txt\n",
      "[2zzz]1556550687.0caoredjiba.txt\n",
      "[2zzz]1556550688.0caoredjiba.txt\n",
      "[2zzz]1556550692.0caoredjiba.txt\n",
      "[2zzz]1556550694.0caoredjiba.txt\n",
      "[2zzz]1556550697.0caoredjiba.txt\n",
      "[2zzz]1556550698.0caoredjiba.txt\n",
      "Epoch 1/3\n",
      "418/418 [==============================] - 3s 7ms/step - loss: 20756.8046\n",
      "Epoch 2/3\n",
      "418/418 [==============================] - 3s 7ms/step - loss: 10771.6153\n",
      "Epoch 3/3\n",
      "418/418 [==============================] - 3s 7ms/step - loss: 6974.2147\n",
      "saved\n",
      "removed './rec/[1win]1556550685.0caoredjiba.txt'\n",
      "removed './rec/[1win]1556550691.0caoredjiba.txt'\n",
      "removed './rec/[1win]1556550695.0caoredjiba.txt'\n",
      "removed './rec/[2zzz]1556550662.0caogreenjiba.txt'\n",
      "removed './rec/[2zzz]1556550686.0caoredjiba.txt'\n",
      "removed './rec/[2zzz]1556550687.0caoredjiba.txt'\n",
      "removed './rec/[2zzz]1556550688.0caoredjiba.txt'\n",
      "removed './rec/[2zzz]1556550692.0caoredjiba.txt'\n",
      "removed './rec/[2zzz]1556550694.0caoredjiba.txt'\n",
      "removed './rec/[2zzz]1556550697.0caoredjiba.txt'\n",
      "removed './rec/[2zzz]1556550698.0caoredjiba.txt'\n",
      "* NOTE: unable to measure memory usage on this platform (try dimefox)\n",
      "* winner: Red\n",
      "* NOTE: unable to measure memory usage on this platform (try dimefox)\n",
      "* winner: Blue\n",
      "* NOTE: unable to measure memory usage on this platform (try dimefox)\n",
      "* winner: Green\n",
      "* NOTE: unable to measure memory usage on this platform (try dimefox)\n",
      "* winner: Green\n",
      "* NOTE: unable to measure memory usage on this platform (try dimefox)\n",
      "* winner: Blue\n",
      "* NOTE: unable to measure memory usage on this platform (try dimefox)\n",
      "* winner: Blue\n",
      "* NOTE: unable to measure memory usage on this platform (try dimefox)\n",
      "* winner: Blue\n",
      "* NOTE: unable to measure memory usage on this platform (try dimefox)\n",
      "* winner: Green\n",
      "* NOTE: unable to measure memory usage on this platform (try dimefox)\n",
      "* winner: Blue\n",
      "* NOTE: unable to measure memory usage on this platform (try dimefox)\n",
      "* winner: Green\n",
      "[1win]1556550709.0caoredjiba.txt\n",
      "[2zzz]1556550711.0caoredjiba.txt\n",
      "[2zzz]1556550712.0caoredjiba.txt\n",
      "[2zzz]1556550713.0caoredjiba.txt\n",
      "[2zzz]1556550715.0caoredjiba.txt\n",
      "[2zzz]1556550716.0caoredjiba.txt\n",
      "[2zzz]1556550717.0caoredjiba.txt\n",
      "[2zzz]1556550719.0caoredjiba.txt\n",
      "[2zzz]1556550720.0caoredjiba.txt\n",
      "[2zzz]1556550722.0caoredjiba.txt\n",
      "Epoch 1/3\n",
      "311/311 [==============================] - 2s 7ms/step - loss: 19629.2603\n",
      "Epoch 2/3\n",
      "311/311 [==============================] - 2s 7ms/step - loss: 9384.2303\n",
      "Epoch 3/3\n",
      "311/311 [==============================] - 2s 7ms/step - loss: 5055.6877\n",
      "saved\n",
      "removed './rec/[1win]1556550709.0caoredjiba.txt'\n",
      "removed './rec/[2zzz]1556550711.0caoredjiba.txt'\n",
      "removed './rec/[2zzz]1556550712.0caoredjiba.txt'\n",
      "removed './rec/[2zzz]1556550713.0caoredjiba.txt'\n",
      "removed './rec/[2zzz]1556550715.0caoredjiba.txt'\n",
      "removed './rec/[2zzz]1556550716.0caoredjiba.txt'\n",
      "removed './rec/[2zzz]1556550717.0caoredjiba.txt'\n",
      "removed './rec/[2zzz]1556550719.0caoredjiba.txt'\n",
      "removed './rec/[2zzz]1556550720.0caoredjiba.txt'\n",
      "removed './rec/[2zzz]1556550722.0caoredjiba.txt'\n"
     ]
    }
   ],
   "source": [
    "for i in range(2):\n",
    "    full_train_cycle(10)"
   ]
  },
  {
   "cell_type": "code",
   "execution_count": 215,
   "metadata": {},
   "outputs": [],
   "source": [
    "from keras.models import Sequential\n",
    "from keras.layers import Dense, Conv2D, Flatten\n",
    "#create model\n",
    "md = Sequential()\n",
    "#add model layers\n",
    "md.add(Conv2D(32, kernel_size=3, activation='relu', input_shape=(28,28,1), use_bias=False))\n",
    "md.add(layers.MaxPooling2D(2,2))\n",
    "md.add(Conv2D(64, kernel_size=3, activation='relu', use_bias=False))\n",
    "md.add(layers.MaxPooling2D(2,2))\n",
    "md.add(Conv2D(64, kernel_size=3, activation='relu', use_bias=False))\n",
    "md.add(Flatten())\n",
    "md.add(Dense(64, activation='relu'))\n",
    "md.add(Dense(1))\n",
    "md.compile(optimizer='adam', loss='mse')"
   ]
  },
  {
   "cell_type": "code",
   "execution_count": 216,
   "metadata": {},
   "outputs": [
    {
     "name": "stdout",
     "output_type": "stream",
     "text": [
      "(3, 3, 1, 32)\n",
      "(3, 3, 32, 64)\n",
      "(3, 3, 64, 64)\n",
      "(576, 64)\n",
      "(64,)\n",
      "(64, 1)\n",
      "(1,)\n"
     ]
    }
   ],
   "source": [
    "for i in md.get_weights():\n",
    "    print(i.shape)"
   ]
  },
  {
   "cell_type": "code",
   "execution_count": 217,
   "metadata": {},
   "outputs": [
    {
     "name": "stdout",
     "output_type": "stream",
     "text": [
      "_________________________________________________________________\n",
      "Layer (type)                 Output Shape              Param #   \n",
      "=================================================================\n",
      "conv2d_18 (Conv2D)           (None, 26, 26, 32)        288       \n",
      "_________________________________________________________________\n",
      "max_pooling2d_9 (MaxPooling2 (None, 13, 13, 32)        0         \n",
      "_________________________________________________________________\n",
      "conv2d_19 (Conv2D)           (None, 11, 11, 64)        18432     \n",
      "_________________________________________________________________\n",
      "max_pooling2d_10 (MaxPooling (None, 5, 5, 64)          0         \n",
      "_________________________________________________________________\n",
      "conv2d_20 (Conv2D)           (None, 3, 3, 64)          36864     \n",
      "_________________________________________________________________\n",
      "flatten_7 (Flatten)          (None, 576)               0         \n",
      "_________________________________________________________________\n",
      "dense_22 (Dense)             (None, 64)                36928     \n",
      "_________________________________________________________________\n",
      "dense_23 (Dense)             (None, 1)                 65        \n",
      "=================================================================\n",
      "Total params: 92,577\n",
      "Trainable params: 92,577\n",
      "Non-trainable params: 0\n",
      "_________________________________________________________________\n"
     ]
    }
   ],
   "source": [
    "md.summary()"
   ]
  },
  {
   "cell_type": "code",
   "execution_count": 163,
   "metadata": {},
   "outputs": [],
   "source": [
    "wds = md.get_weights()"
   ]
  },
  {
   "cell_type": "code",
   "execution_count": 180,
   "metadata": {},
   "outputs": [],
   "source": [
    "convp = wds[0]"
   ]
  },
  {
   "cell_type": "code",
   "execution_count": 186,
   "metadata": {},
   "outputs": [
    {
     "data": {
      "text/plain": [
       "(3, 3, 1, 32)"
      ]
     },
     "execution_count": 186,
     "metadata": {},
     "output_type": "execute_result"
    }
   ],
   "source": [
    "convp.shape"
   ]
  },
  {
   "cell_type": "code",
   "execution_count": 193,
   "metadata": {},
   "outputs": [],
   "source": [
    "c = convp.reshape(32, 3, 3, 1)"
   ]
  },
  {
   "cell_type": "code",
   "execution_count": 196,
   "metadata": {},
   "outputs": [],
   "source": [
    "d = c[0].reshape(3,3)"
   ]
  },
  {
   "cell_type": "code",
   "execution_count": 177,
   "metadata": {},
   "outputs": [],
   "source": [
    "import scipy.signal as signal"
   ]
  },
  {
   "cell_type": "code",
   "execution_count": 198,
   "metadata": {},
   "outputs": [],
   "source": [
    "a = np.array([[[1]*28]*28]).reshape(28,28)"
   ]
  },
  {
   "cell_type": "code",
   "execution_count": 204,
   "metadata": {},
   "outputs": [],
   "source": [
    "e = signal.convolve2d(a, d, mode='valid')"
   ]
  },
  {
   "cell_type": "code",
   "execution_count": 205,
   "metadata": {},
   "outputs": [
    {
     "data": {
      "text/plain": [
       "array([[0.19591429, 0.19591429, 0.19591429, 0.19591429, 0.19591429,\n",
       "        0.19591429, 0.19591429, 0.19591429, 0.19591429, 0.19591429,\n",
       "        0.19591429, 0.19591429, 0.19591429, 0.19591429, 0.19591429,\n",
       "        0.19591429, 0.19591429, 0.19591429, 0.19591429, 0.19591429,\n",
       "        0.19591429, 0.19591429, 0.19591429, 0.19591429, 0.19591429,\n",
       "        0.19591429],\n",
       "       [0.19591429, 0.19591429, 0.19591429, 0.19591429, 0.19591429,\n",
       "        0.19591429, 0.19591429, 0.19591429, 0.19591429, 0.19591429,\n",
       "        0.19591429, 0.19591429, 0.19591429, 0.19591429, 0.19591429,\n",
       "        0.19591429, 0.19591429, 0.19591429, 0.19591429, 0.19591429,\n",
       "        0.19591429, 0.19591429, 0.19591429, 0.19591429, 0.19591429,\n",
       "        0.19591429],\n",
       "       [0.19591429, 0.19591429, 0.19591429, 0.19591429, 0.19591429,\n",
       "        0.19591429, 0.19591429, 0.19591429, 0.19591429, 0.19591429,\n",
       "        0.19591429, 0.19591429, 0.19591429, 0.19591429, 0.19591429,\n",
       "        0.19591429, 0.19591429, 0.19591429, 0.19591429, 0.19591429,\n",
       "        0.19591429, 0.19591429, 0.19591429, 0.19591429, 0.19591429,\n",
       "        0.19591429],\n",
       "       [0.19591429, 0.19591429, 0.19591429, 0.19591429, 0.19591429,\n",
       "        0.19591429, 0.19591429, 0.19591429, 0.19591429, 0.19591429,\n",
       "        0.19591429, 0.19591429, 0.19591429, 0.19591429, 0.19591429,\n",
       "        0.19591429, 0.19591429, 0.19591429, 0.19591429, 0.19591429,\n",
       "        0.19591429, 0.19591429, 0.19591429, 0.19591429, 0.19591429,\n",
       "        0.19591429],\n",
       "       [0.19591429, 0.19591429, 0.19591429, 0.19591429, 0.19591429,\n",
       "        0.19591429, 0.19591429, 0.19591429, 0.19591429, 0.19591429,\n",
       "        0.19591429, 0.19591429, 0.19591429, 0.19591429, 0.19591429,\n",
       "        0.19591429, 0.19591429, 0.19591429, 0.19591429, 0.19591429,\n",
       "        0.19591429, 0.19591429, 0.19591429, 0.19591429, 0.19591429,\n",
       "        0.19591429],\n",
       "       [0.19591429, 0.19591429, 0.19591429, 0.19591429, 0.19591429,\n",
       "        0.19591429, 0.19591429, 0.19591429, 0.19591429, 0.19591429,\n",
       "        0.19591429, 0.19591429, 0.19591429, 0.19591429, 0.19591429,\n",
       "        0.19591429, 0.19591429, 0.19591429, 0.19591429, 0.19591429,\n",
       "        0.19591429, 0.19591429, 0.19591429, 0.19591429, 0.19591429,\n",
       "        0.19591429],\n",
       "       [0.19591429, 0.19591429, 0.19591429, 0.19591429, 0.19591429,\n",
       "        0.19591429, 0.19591429, 0.19591429, 0.19591429, 0.19591429,\n",
       "        0.19591429, 0.19591429, 0.19591429, 0.19591429, 0.19591429,\n",
       "        0.19591429, 0.19591429, 0.19591429, 0.19591429, 0.19591429,\n",
       "        0.19591429, 0.19591429, 0.19591429, 0.19591429, 0.19591429,\n",
       "        0.19591429],\n",
       "       [0.19591429, 0.19591429, 0.19591429, 0.19591429, 0.19591429,\n",
       "        0.19591429, 0.19591429, 0.19591429, 0.19591429, 0.19591429,\n",
       "        0.19591429, 0.19591429, 0.19591429, 0.19591429, 0.19591429,\n",
       "        0.19591429, 0.19591429, 0.19591429, 0.19591429, 0.19591429,\n",
       "        0.19591429, 0.19591429, 0.19591429, 0.19591429, 0.19591429,\n",
       "        0.19591429],\n",
       "       [0.19591429, 0.19591429, 0.19591429, 0.19591429, 0.19591429,\n",
       "        0.19591429, 0.19591429, 0.19591429, 0.19591429, 0.19591429,\n",
       "        0.19591429, 0.19591429, 0.19591429, 0.19591429, 0.19591429,\n",
       "        0.19591429, 0.19591429, 0.19591429, 0.19591429, 0.19591429,\n",
       "        0.19591429, 0.19591429, 0.19591429, 0.19591429, 0.19591429,\n",
       "        0.19591429],\n",
       "       [0.19591429, 0.19591429, 0.19591429, 0.19591429, 0.19591429,\n",
       "        0.19591429, 0.19591429, 0.19591429, 0.19591429, 0.19591429,\n",
       "        0.19591429, 0.19591429, 0.19591429, 0.19591429, 0.19591429,\n",
       "        0.19591429, 0.19591429, 0.19591429, 0.19591429, 0.19591429,\n",
       "        0.19591429, 0.19591429, 0.19591429, 0.19591429, 0.19591429,\n",
       "        0.19591429],\n",
       "       [0.19591429, 0.19591429, 0.19591429, 0.19591429, 0.19591429,\n",
       "        0.19591429, 0.19591429, 0.19591429, 0.19591429, 0.19591429,\n",
       "        0.19591429, 0.19591429, 0.19591429, 0.19591429, 0.19591429,\n",
       "        0.19591429, 0.19591429, 0.19591429, 0.19591429, 0.19591429,\n",
       "        0.19591429, 0.19591429, 0.19591429, 0.19591429, 0.19591429,\n",
       "        0.19591429],\n",
       "       [0.19591429, 0.19591429, 0.19591429, 0.19591429, 0.19591429,\n",
       "        0.19591429, 0.19591429, 0.19591429, 0.19591429, 0.19591429,\n",
       "        0.19591429, 0.19591429, 0.19591429, 0.19591429, 0.19591429,\n",
       "        0.19591429, 0.19591429, 0.19591429, 0.19591429, 0.19591429,\n",
       "        0.19591429, 0.19591429, 0.19591429, 0.19591429, 0.19591429,\n",
       "        0.19591429],\n",
       "       [0.19591429, 0.19591429, 0.19591429, 0.19591429, 0.19591429,\n",
       "        0.19591429, 0.19591429, 0.19591429, 0.19591429, 0.19591429,\n",
       "        0.19591429, 0.19591429, 0.19591429, 0.19591429, 0.19591429,\n",
       "        0.19591429, 0.19591429, 0.19591429, 0.19591429, 0.19591429,\n",
       "        0.19591429, 0.19591429, 0.19591429, 0.19591429, 0.19591429,\n",
       "        0.19591429],\n",
       "       [0.19591429, 0.19591429, 0.19591429, 0.19591429, 0.19591429,\n",
       "        0.19591429, 0.19591429, 0.19591429, 0.19591429, 0.19591429,\n",
       "        0.19591429, 0.19591429, 0.19591429, 0.19591429, 0.19591429,\n",
       "        0.19591429, 0.19591429, 0.19591429, 0.19591429, 0.19591429,\n",
       "        0.19591429, 0.19591429, 0.19591429, 0.19591429, 0.19591429,\n",
       "        0.19591429],\n",
       "       [0.19591429, 0.19591429, 0.19591429, 0.19591429, 0.19591429,\n",
       "        0.19591429, 0.19591429, 0.19591429, 0.19591429, 0.19591429,\n",
       "        0.19591429, 0.19591429, 0.19591429, 0.19591429, 0.19591429,\n",
       "        0.19591429, 0.19591429, 0.19591429, 0.19591429, 0.19591429,\n",
       "        0.19591429, 0.19591429, 0.19591429, 0.19591429, 0.19591429,\n",
       "        0.19591429],\n",
       "       [0.19591429, 0.19591429, 0.19591429, 0.19591429, 0.19591429,\n",
       "        0.19591429, 0.19591429, 0.19591429, 0.19591429, 0.19591429,\n",
       "        0.19591429, 0.19591429, 0.19591429, 0.19591429, 0.19591429,\n",
       "        0.19591429, 0.19591429, 0.19591429, 0.19591429, 0.19591429,\n",
       "        0.19591429, 0.19591429, 0.19591429, 0.19591429, 0.19591429,\n",
       "        0.19591429],\n",
       "       [0.19591429, 0.19591429, 0.19591429, 0.19591429, 0.19591429,\n",
       "        0.19591429, 0.19591429, 0.19591429, 0.19591429, 0.19591429,\n",
       "        0.19591429, 0.19591429, 0.19591429, 0.19591429, 0.19591429,\n",
       "        0.19591429, 0.19591429, 0.19591429, 0.19591429, 0.19591429,\n",
       "        0.19591429, 0.19591429, 0.19591429, 0.19591429, 0.19591429,\n",
       "        0.19591429],\n",
       "       [0.19591429, 0.19591429, 0.19591429, 0.19591429, 0.19591429,\n",
       "        0.19591429, 0.19591429, 0.19591429, 0.19591429, 0.19591429,\n",
       "        0.19591429, 0.19591429, 0.19591429, 0.19591429, 0.19591429,\n",
       "        0.19591429, 0.19591429, 0.19591429, 0.19591429, 0.19591429,\n",
       "        0.19591429, 0.19591429, 0.19591429, 0.19591429, 0.19591429,\n",
       "        0.19591429],\n",
       "       [0.19591429, 0.19591429, 0.19591429, 0.19591429, 0.19591429,\n",
       "        0.19591429, 0.19591429, 0.19591429, 0.19591429, 0.19591429,\n",
       "        0.19591429, 0.19591429, 0.19591429, 0.19591429, 0.19591429,\n",
       "        0.19591429, 0.19591429, 0.19591429, 0.19591429, 0.19591429,\n",
       "        0.19591429, 0.19591429, 0.19591429, 0.19591429, 0.19591429,\n",
       "        0.19591429],\n",
       "       [0.19591429, 0.19591429, 0.19591429, 0.19591429, 0.19591429,\n",
       "        0.19591429, 0.19591429, 0.19591429, 0.19591429, 0.19591429,\n",
       "        0.19591429, 0.19591429, 0.19591429, 0.19591429, 0.19591429,\n",
       "        0.19591429, 0.19591429, 0.19591429, 0.19591429, 0.19591429,\n",
       "        0.19591429, 0.19591429, 0.19591429, 0.19591429, 0.19591429,\n",
       "        0.19591429],\n",
       "       [0.19591429, 0.19591429, 0.19591429, 0.19591429, 0.19591429,\n",
       "        0.19591429, 0.19591429, 0.19591429, 0.19591429, 0.19591429,\n",
       "        0.19591429, 0.19591429, 0.19591429, 0.19591429, 0.19591429,\n",
       "        0.19591429, 0.19591429, 0.19591429, 0.19591429, 0.19591429,\n",
       "        0.19591429, 0.19591429, 0.19591429, 0.19591429, 0.19591429,\n",
       "        0.19591429],\n",
       "       [0.19591429, 0.19591429, 0.19591429, 0.19591429, 0.19591429,\n",
       "        0.19591429, 0.19591429, 0.19591429, 0.19591429, 0.19591429,\n",
       "        0.19591429, 0.19591429, 0.19591429, 0.19591429, 0.19591429,\n",
       "        0.19591429, 0.19591429, 0.19591429, 0.19591429, 0.19591429,\n",
       "        0.19591429, 0.19591429, 0.19591429, 0.19591429, 0.19591429,\n",
       "        0.19591429],\n",
       "       [0.19591429, 0.19591429, 0.19591429, 0.19591429, 0.19591429,\n",
       "        0.19591429, 0.19591429, 0.19591429, 0.19591429, 0.19591429,\n",
       "        0.19591429, 0.19591429, 0.19591429, 0.19591429, 0.19591429,\n",
       "        0.19591429, 0.19591429, 0.19591429, 0.19591429, 0.19591429,\n",
       "        0.19591429, 0.19591429, 0.19591429, 0.19591429, 0.19591429,\n",
       "        0.19591429],\n",
       "       [0.19591429, 0.19591429, 0.19591429, 0.19591429, 0.19591429,\n",
       "        0.19591429, 0.19591429, 0.19591429, 0.19591429, 0.19591429,\n",
       "        0.19591429, 0.19591429, 0.19591429, 0.19591429, 0.19591429,\n",
       "        0.19591429, 0.19591429, 0.19591429, 0.19591429, 0.19591429,\n",
       "        0.19591429, 0.19591429, 0.19591429, 0.19591429, 0.19591429,\n",
       "        0.19591429],\n",
       "       [0.19591429, 0.19591429, 0.19591429, 0.19591429, 0.19591429,\n",
       "        0.19591429, 0.19591429, 0.19591429, 0.19591429, 0.19591429,\n",
       "        0.19591429, 0.19591429, 0.19591429, 0.19591429, 0.19591429,\n",
       "        0.19591429, 0.19591429, 0.19591429, 0.19591429, 0.19591429,\n",
       "        0.19591429, 0.19591429, 0.19591429, 0.19591429, 0.19591429,\n",
       "        0.19591429],\n",
       "       [0.19591429, 0.19591429, 0.19591429, 0.19591429, 0.19591429,\n",
       "        0.19591429, 0.19591429, 0.19591429, 0.19591429, 0.19591429,\n",
       "        0.19591429, 0.19591429, 0.19591429, 0.19591429, 0.19591429,\n",
       "        0.19591429, 0.19591429, 0.19591429, 0.19591429, 0.19591429,\n",
       "        0.19591429, 0.19591429, 0.19591429, 0.19591429, 0.19591429,\n",
       "        0.19591429]])"
      ]
     },
     "execution_count": 205,
     "metadata": {},
     "output_type": "execute_result"
    }
   ],
   "source": [
    "e"
   ]
  },
  {
   "cell_type": "code",
   "execution_count": 206,
   "metadata": {},
   "outputs": [
    {
     "ename": "ValueError",
     "evalue": "volume and kernel should have the same dimensionality",
     "output_type": "error",
     "traceback": [
      "\u001b[0;31m---------------------------------------------------------------------------\u001b[0m",
      "\u001b[0;31mValueError\u001b[0m                                Traceback (most recent call last)",
      "\u001b[0;32m<ipython-input-206-439ea0e1729b>\u001b[0m in \u001b[0;36m<module>\u001b[0;34m\u001b[0m\n\u001b[0;32m----> 1\u001b[0;31m \u001b[0msignal\u001b[0m\u001b[0;34m.\u001b[0m\u001b[0mconvolve\u001b[0m\u001b[0;34m(\u001b[0m\u001b[0me\u001b[0m\u001b[0;34m,\u001b[0m \u001b[0mnp\u001b[0m\u001b[0;34m.\u001b[0m\u001b[0marray\u001b[0m\u001b[0;34m(\u001b[0m\u001b[0;34m[\u001b[0m\u001b[0;36m1\u001b[0m\u001b[0;34m]\u001b[0m\u001b[0;34m*\u001b[0m\u001b[0;36m32\u001b[0m\u001b[0;34m)\u001b[0m\u001b[0;34m)\u001b[0m\u001b[0;34m\u001b[0m\u001b[0;34m\u001b[0m\u001b[0m\n\u001b[0m",
      "\u001b[0;32m/anaconda3/lib/python3.6/site-packages/scipy/signal/signaltools.py\u001b[0m in \u001b[0;36mconvolve\u001b[0;34m(in1, in2, mode, method)\u001b[0m\n\u001b[1;32m    789\u001b[0m         \u001b[0;32mreturn\u001b[0m \u001b[0mvolume\u001b[0m \u001b[0;34m*\u001b[0m \u001b[0mkernel\u001b[0m\u001b[0;34m\u001b[0m\u001b[0;34m\u001b[0m\u001b[0m\n\u001b[1;32m    790\u001b[0m     \u001b[0;32melif\u001b[0m \u001b[0mvolume\u001b[0m\u001b[0;34m.\u001b[0m\u001b[0mndim\u001b[0m \u001b[0;34m!=\u001b[0m \u001b[0mkernel\u001b[0m\u001b[0;34m.\u001b[0m\u001b[0mndim\u001b[0m\u001b[0;34m:\u001b[0m\u001b[0;34m\u001b[0m\u001b[0;34m\u001b[0m\u001b[0m\n\u001b[0;32m--> 791\u001b[0;31m         raise ValueError(\"volume and kernel should have the same \"\n\u001b[0m\u001b[1;32m    792\u001b[0m                          \"dimensionality\")\n\u001b[1;32m    793\u001b[0m \u001b[0;34m\u001b[0m\u001b[0m\n",
      "\u001b[0;31mValueError\u001b[0m: volume and kernel should have the same dimensionality"
     ]
    }
   ],
   "source": [
    "signal.convolve(e, )"
   ]
  },
  {
   "cell_type": "code",
   "execution_count": null,
   "metadata": {},
   "outputs": [],
   "source": []
  }
 ],
 "metadata": {
  "kernelspec": {
   "display_name": "Python 3",
   "language": "python",
   "name": "python3"
  },
  "language_info": {
   "codemirror_mode": {
    "name": "ipython",
    "version": 3
   },
   "file_extension": ".py",
   "mimetype": "text/x-python",
   "name": "python",
   "nbconvert_exporter": "python",
   "pygments_lexer": "ipython3",
   "version": "3.6.8"
  }
 },
 "nbformat": 4,
 "nbformat_minor": 2
}
