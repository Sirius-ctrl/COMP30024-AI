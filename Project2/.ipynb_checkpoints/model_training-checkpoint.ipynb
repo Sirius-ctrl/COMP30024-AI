{
 "cells": [
  {
   "cell_type": "code",
   "execution_count": 163,
   "metadata": {},
   "outputs": [],
   "source": [
    "CELLS = [(q, r) for q in range(-3, +3 + 1) for r in range(-3, +3 + 1) if -q - r in range(-3, +3 + 1)]"
   ]
  },
  {
   "cell_type": "code",
   "execution_count": 164,
   "metadata": {},
   "outputs": [],
   "source": [
    "import tensorflow as tf\n",
    "import numpy as np\n",
    "from keras import models, layers\n",
    "from keras.models import load_model\n",
    "import json\n",
    "import pickle\n",
    "import os\n",
    "from os.path import join\n",
    "import subprocess\n",
    "import json\n",
    "import VanGame.utils as utils\n",
    "import scipy as sp\n",
    "import os\n",
    "os.environ['KMP_DUPLICATE_LIB_OK']='True'"
   ]
  },
  {
   "cell_type": "code",
   "execution_count": 165,
   "metadata": {
    "scrolled": true
   },
   "outputs": [
    {
     "data": {
      "text/plain": [
       "[(-3, 0),\n",
       " (-3, 1),\n",
       " (-3, 2),\n",
       " (-3, 3),\n",
       " (-2, -1),\n",
       " (-2, 0),\n",
       " (-2, 1),\n",
       " (-2, 2),\n",
       " (-2, 3),\n",
       " (-1, -2),\n",
       " (-1, -1),\n",
       " (-1, 0),\n",
       " (-1, 1),\n",
       " (-1, 2),\n",
       " (-1, 3),\n",
       " (0, -3),\n",
       " (0, -2),\n",
       " (0, -1),\n",
       " (0, 0),\n",
       " (0, 1),\n",
       " (0, 2),\n",
       " (0, 3),\n",
       " (1, -3),\n",
       " (1, -2),\n",
       " (1, -1),\n",
       " (1, 0),\n",
       " (1, 1),\n",
       " (1, 2),\n",
       " (2, -3),\n",
       " (2, -2),\n",
       " (2, -1),\n",
       " (2, 0),\n",
       " (2, 1),\n",
       " (3, -3),\n",
       " (3, -2),\n",
       " (3, -1),\n",
       " (3, 0)]"
      ]
     },
     "execution_count": 165,
     "metadata": {},
     "output_type": "execute_result"
    }
   ],
   "source": [
    "sequence = sorted([p for p in CELLS])\n",
    "sequence"
   ]
  },
  {
   "cell_type": "code",
   "execution_count": 4,
   "metadata": {},
   "outputs": [],
   "source": [
    "a = np.array([[1]*39])\n",
    "b = [500]"
   ]
  },
  {
   "cell_type": "code",
   "execution_count": 216,
   "metadata": {},
   "outputs": [],
   "source": [
    "def build_model():\n",
    "    model = models.Sequential()\n",
    "    model.add(layers.Dense(100,activation='relu', input_shape=(11,)))\n",
    "    model.add(layers.Dense(200, activation='relu'))\n",
    "    model.add(layers.Dense(100, activation='relu'))\n",
    "    model.add(layers.Dense(1))\n",
    "    model.compile(optimizer='rmsprop', loss='mse')\n",
    "    return model"
   ]
  },
  {
   "cell_type": "code",
   "execution_count": 217,
   "metadata": {},
   "outputs": [],
   "source": [
    "model = build_model()"
   ]
  },
  {
   "cell_type": "code",
   "execution_count": 168,
   "metadata": {},
   "outputs": [],
   "source": [
    "def bash_call(c:[str]) -> None:\n",
    "    res = subprocess.check_output(c)\n",
    "    ls = []\n",
    "    for line in res.splitlines():\n",
    "        line = line.decode('utf-8')\n",
    "        ls.append(line)\n",
    "    return ls"
   ]
  },
  {
   "cell_type": "code",
   "execution_count": 169,
   "metadata": {},
   "outputs": [],
   "source": [
    "def join_list(l):\n",
    "    res = \"\"\n",
    "    for i in l:\n",
    "        res += i + \"/\"\n",
    "    \n",
    "    res = res[:-1]\n",
    "    return res"
   ]
  },
  {
   "cell_type": "code",
   "execution_count": 189,
   "metadata": {},
   "outputs": [],
   "source": [
    "def load_logs():\n",
    "    datapath = join(os.getcwd(),'rec/')\n",
    "    van_files = bash_call(['ls', datapath])\n",
    "    for i in range(len(van_files)):\n",
    "        van_files[i] = 'rec/' + van_files[i]\n",
    "    \n",
    "    datapath = join(os.getcwd(),'hardcode_rec/')\n",
    "    hardcode_file = bash_call(['ls', datapath])\n",
    "    \n",
    "    for i in range(len(hardcode_file)):\n",
    "        hardcode_file[i] = 'hardcode_rec/' + hardcode_file[i]\n",
    "\n",
    "    return van_files + hardcode_file"
   ]
  },
  {
   "cell_type": "code",
   "execution_count": 198,
   "metadata": {},
   "outputs": [],
   "source": [
    "def PG_log(filename, condition=None, value_check=False):\n",
    "    \n",
    "    if (condition != None) and (condition not in filename):\n",
    "        return False, False\n",
    "    \n",
    "    #print(filename)\n",
    "    states, color = utils.load_l(filename)\n",
    "    \n",
    "    train = []\n",
    "    value = []\n",
    "    \n",
    "    for s in states:\n",
    "        # print(s)\n",
    "        board = []\n",
    "        # add board\n",
    "        for cord in sequence:\n",
    "            # does not include the board\n",
    "            break\n",
    "            board.append(s['board'][cord])\n",
    "        # color \n",
    "        # board.append(color)\n",
    "        board.append(s['turns'])\n",
    "        board += s['utility']\n",
    "        board.append(s['ev'])\n",
    "        train.append(board)\n",
    "        value.append(s['rew'])\n",
    "        \n",
    "    if value_check:\n",
    "        print(value)\n",
    "        \n",
    "    value.reverse()\n",
    "    decay = 0.7\n",
    "    curr_decay = 0.7\n",
    "    for i in range(1, len(value)):\n",
    "        value[i] += value[i-1] * curr_decay\n",
    "        curr_decay *= decay\n",
    "    \n",
    "    value.reverse()\n",
    "    \n",
    "    if value_check:\n",
    "        print(value)\n",
    "    \n",
    "    post_value = np.array(value)\n",
    "    \n",
    "    post_value = np.tanh(post_value)\n",
    "    \n",
    "    # normalize the value\n",
    "    # post_value = (post_value - post_value.mean()) / post_value.std()\n",
    "    \n",
    "    if value_check:\n",
    "        print(\"\\n\",post_value)\n",
    "    \n",
    "    return train, post_value.tolist()"
   ]
  },
  {
   "cell_type": "code",
   "execution_count": 182,
   "metadata": {},
   "outputs": [
    {
     "name": "stdout",
     "output_type": "stream",
     "text": [
      "[0, 0, 0, 0, 0, 0, 0, 0, 0, 0, 0, 0, 0, 0, 0, 0, 0, 0, 0, 0.25, 0, 0, 0.25, 0, 0, 0, 0.25, 0, 0, 0, 0.25]\n",
      "[3.9090188429960694e-63, 1.734309342057508e-58, 5.386211503011881e-54, 1.1709498159383645e-49, 1.7819323089625538e-45, 1.8982008428995125e-41, 1.4154390126398997e-37, 7.3881924781462736e-34, 2.6994996834679537e-30, 6.904407260394489e-27, 1.2361397164271171e-23, 1.5491974019343193e-20, 1.3590768023924138e-17, 8.346017278020511e-15, 3.5876709099647564e-12, 1.0795529760611881e-09, 2.2739104565580454e-07, 3.3527471234590573e-05, 0.0034603998011489986, 0.2500056353789838, 0.00028499988703048343, 0.010089375548456764, 0.2500241316335556, 0.00041860306289123023, 0.005082953323520817, 0.04320439037748574, 0.257061881225, 0.029412249999999987, 0.08574999999999998, 0.175, 0.25]\n",
      "\n",
      " [3.90901884e-63 1.73430934e-58 5.38621150e-54 1.17094982e-49\n",
      " 1.78193231e-45 1.89820084e-41 1.41543901e-37 7.38819248e-34\n",
      " 2.69949968e-30 6.90440726e-27 1.23613972e-23 1.54919740e-20\n",
      " 1.35907680e-17 8.34601728e-15 3.58767091e-12 1.07955298e-09\n",
      " 2.27391046e-07 3.35274712e-05 3.46038599e-03 2.44923960e-01\n",
      " 2.84999879e-04 1.00890332e-02 2.44941346e-01 4.18603038e-04\n",
      " 5.08290955e-03 4.31775284e-02 2.51545364e-01 2.94037716e-02\n",
      " 8.55404413e-02 1.73235158e-01 2.44918662e-01]\n"
     ]
    }
   ],
   "source": [
    "t,v = PG_log('hardcode_rec/[1win]1556692620.0caobluejiba.txt', value_check=True)\n",
    "#print(t)"
   ]
  },
  {
   "cell_type": "code",
   "execution_count": 183,
   "metadata": {
    "scrolled": true
   },
   "outputs": [
    {
     "name": "stdout",
     "output_type": "stream",
     "text": [
      "'[1win]1556692620.0caobluejiba.txt'\r\n"
     ]
    }
   ],
   "source": [
    "!ls 'hardcode_rec'"
   ]
  },
  {
   "cell_type": "code",
   "execution_count": 13,
   "metadata": {},
   "outputs": [],
   "source": [
    "def reload_model():\n",
    "    del model  # deletes the existing model\n",
    "\n",
    "    # returns a compiled model\n",
    "    # identical to the previous one\n",
    "    model = load_model('my_model.h5')"
   ]
  },
  {
   "cell_type": "code",
   "execution_count": 14,
   "metadata": {},
   "outputs": [],
   "source": [
    "def save_model():\n",
    "    model.save('VanGame/my_model.h5')  # creates a HDF5 file 'my_model.h5'\n",
    "    with open('VanGame/trained_model', 'wb+') as f:\n",
    "        pickle.dump(model.get_weights(), f)"
   ]
  },
  {
   "cell_type": "code",
   "execution_count": 192,
   "metadata": {
    "scrolled": true
   },
   "outputs": [],
   "source": [
    "def train(epochs, save=True):\n",
    "    logfs = load_logs()\n",
    "    train_set = []\n",
    "    target_set = []\n",
    "    \n",
    "    for logf in logfs:\n",
    "        train, value = PG_log(logf)\n",
    "        if train:\n",
    "            #print(train)\n",
    "            #print(len(train), len(value))\n",
    "            #print(train[-1])\n",
    "            train_set += train\n",
    "            # the target shouldnt be calculate like this, should use bootstrapping\n",
    "            target_set += value\n",
    "\n",
    "    model.fit(np.array(train_set), target_set, epochs=epochs, batch_size=1)\n",
    "    \n",
    "    if save:\n",
    "        print(\"saved\")\n",
    "        save_model()"
   ]
  },
  {
   "cell_type": "code",
   "execution_count": 218,
   "metadata": {},
   "outputs": [
    {
     "data": {
      "text/plain": [
       "array([[0.15931465]], dtype=float32)"
      ]
     },
     "execution_count": 218,
     "metadata": {},
     "output_type": "execute_result"
    }
   ],
   "source": [
    "model.predict(np.array([[-1]*11]))"
   ]
  },
  {
   "cell_type": "code",
   "execution_count": 219,
   "metadata": {},
   "outputs": [],
   "source": [
    "save_model()"
   ]
  },
  {
   "cell_type": "code",
   "execution_count": 220,
   "metadata": {},
   "outputs": [],
   "source": [
    "del model"
   ]
  },
  {
   "cell_type": "code",
   "execution_count": 221,
   "metadata": {},
   "outputs": [],
   "source": [
    "try:\n",
    "    model = load_model('VanGame/my_model.h5')\n",
    "except:\n",
    "    print(\"none model found\")\n",
    "    model = build_model()"
   ]
  },
  {
   "cell_type": "code",
   "execution_count": 194,
   "metadata": {},
   "outputs": [],
   "source": [
    "def full_train_cycle(n, epochs=2):\n",
    "    for i in range(n):\n",
    "        !python3 -m referee VanGame HardCode HardCode -l logtry -v 0\n",
    "    if ( len(bash_call(['ls', 'rec'])) + len(bash_call(['ls', 'hardcode_rec'])) ) > 0:\n",
    "        train(epochs=epochs)\n",
    "        !rm -v ./rec/*\n",
    "        !rm -v ./hardcode_rec/*"
   ]
  },
  {
   "cell_type": "code",
   "execution_count": 222,
   "metadata": {
    "scrolled": true
   },
   "outputs": [
    {
     "name": "stdout",
     "output_type": "stream",
     "text": [
      "********** starting round 0 **********\n",
      "* NOTE: unable to measure memory usage on this platform (try dimefox)\n",
      "* winner: Blue\n",
      "* NOTE: unable to measure memory usage on this platform (try dimefox)\n",
      "* winner: Green\n",
      "Epoch 1/2\n",
      "149/149 [==============================] - 1s 10ms/step - loss: 0.9410\n",
      "Epoch 2/2\n",
      "149/149 [==============================] - 0s 2ms/step - loss: 0.2396\n",
      "saved\n",
      "removed './rec/[2zzz]1556693574.0caoredjiba.txt'\n",
      "removed './rec/[2zzz]1556693575.0caoredjiba.txt'\n",
      "removed './hardcode_rec/[1win]1556693574.0caobluejiba.txt'\n",
      "removed './hardcode_rec/[1win]1556693575.0caogreenjiba.txt'\n",
      "removed './hardcode_rec/[2zzz]1556693574.0caogreenjiba.txt'\n",
      "removed './hardcode_rec/[2zzz]1556693575.0caobluejiba.txt'\n",
      "********** starting round 1 **********\n",
      "* NOTE: unable to measure memory usage on this platform (try dimefox)\n",
      "* winner: Green\n",
      "* NOTE: unable to measure memory usage on this platform (try dimefox)\n",
      "* winner: Green\n",
      "Epoch 1/2\n",
      "157/157 [==============================] - 0s 3ms/step - loss: 0.0774\n",
      "Epoch 2/2\n",
      "157/157 [==============================] - 0s 3ms/step - loss: 0.0378\n",
      "saved\n",
      "removed './rec/[2zzz]1556693581.0caoredjiba.txt'\n",
      "removed './rec/[2zzz]1556693582.0caoredjiba.txt'\n",
      "removed './hardcode_rec/[1win]1556693581.0caogreenjiba.txt'\n",
      "removed './hardcode_rec/[1win]1556693582.0caogreenjiba.txt'\n",
      "removed './hardcode_rec/[2zzz]1556693581.0caobluejiba.txt'\n",
      "removed './hardcode_rec/[2zzz]1556693582.0caobluejiba.txt'\n"
     ]
    }
   ],
   "source": [
    "for i in range(2):\n",
    "    print(\"********** starting round\", i, \"**********\")\n",
    "    full_train_cycle(2, epochs=2)"
   ]
  },
  {
   "cell_type": "code",
   "execution_count": null,
   "metadata": {
    "scrolled": true
   },
   "outputs": [],
   "source": [
    "for i in range(5000):\n",
    "    print(\"********** starting round\", i, \"**********\")\n",
    "    full_train_cycle(1, epochs=2)"
   ]
  },
  {
   "cell_type": "markdown",
   "metadata": {},
   "source": [
    "# CNN attamp"
   ]
  },
  {
   "cell_type": "code",
   "execution_count": null,
   "metadata": {},
   "outputs": [],
   "source": [
    "from keras.models import Sequential\n",
    "from keras.layers import Dense, Conv2D, Flatten\n",
    "#create model\n",
    "md = Sequential()\n",
    "#add model layers\n",
    "md.add(Conv2D(1, kernel_size=3, activation='relu', input_shape=(28,28,1), use_bias=False))\n",
    "#md.add(layers.MaxPooling2D(2,2))\n",
    "#md.add(Conv2D(64, kernel_size=3, activation='relu', use_bias=False))\n",
    "#md.add(layers.MaxPooling2D(2,2))\n",
    "#md.add(Conv2D(64, kernel_size=3, activation='relu', use_bias=False))\n",
    "md.add(Flatten())\n",
    "md.compile(optimizer='adam', loss='mse')"
   ]
  },
  {
   "cell_type": "code",
   "execution_count": null,
   "metadata": {},
   "outputs": [],
   "source": [
    "for i in md.get_weights():\n",
    "    print(i.shape)"
   ]
  },
  {
   "cell_type": "code",
   "execution_count": null,
   "metadata": {},
   "outputs": [],
   "source": [
    "md.summary()"
   ]
  },
  {
   "cell_type": "code",
   "execution_count": null,
   "metadata": {},
   "outputs": [],
   "source": [
    "md.predict(np.array([[[[1]*28]*28]]).reshape(1,28,28,1))"
   ]
  },
  {
   "cell_type": "code",
   "execution_count": null,
   "metadata": {},
   "outputs": [],
   "source": [
    "asdf = md.get_weights()[0].reshape(3,3)"
   ]
  },
  {
   "cell_type": "code",
   "execution_count": null,
   "metadata": {},
   "outputs": [],
   "source": [
    "wds = md.get_weights()"
   ]
  },
  {
   "cell_type": "code",
   "execution_count": null,
   "metadata": {},
   "outputs": [],
   "source": [
    "convp = wds[0]"
   ]
  },
  {
   "cell_type": "code",
   "execution_count": null,
   "metadata": {},
   "outputs": [],
   "source": [
    "convp.shape"
   ]
  },
  {
   "cell_type": "code",
   "execution_count": null,
   "metadata": {},
   "outputs": [],
   "source": [
    "c = convp.reshape(1, 3, 3, 1)"
   ]
  },
  {
   "cell_type": "code",
   "execution_count": null,
   "metadata": {},
   "outputs": [],
   "source": [
    "d = c[0].reshape(3,3)"
   ]
  },
  {
   "cell_type": "code",
   "execution_count": null,
   "metadata": {},
   "outputs": [],
   "source": [
    "import scipy.signal as signal"
   ]
  },
  {
   "cell_type": "code",
   "execution_count": null,
   "metadata": {},
   "outputs": [],
   "source": [
    "a = np.array([[[1]*28]*28]).reshape(28,28)"
   ]
  },
  {
   "cell_type": "code",
   "execution_count": null,
   "metadata": {},
   "outputs": [],
   "source": [
    "e = signal.convolve2d(a, asdf, mode='valid')"
   ]
  },
  {
   "cell_type": "code",
   "execution_count": null,
   "metadata": {},
   "outputs": [],
   "source": [
    "e"
   ]
  },
  {
   "cell_type": "code",
   "execution_count": null,
   "metadata": {},
   "outputs": [],
   "source": [
    "signal.convolve(e, )"
   ]
  },
  {
   "cell_type": "code",
   "execution_count": null,
   "metadata": {},
   "outputs": [],
   "source": []
  }
 ],
 "metadata": {
  "kernelspec": {
   "display_name": "Python 3",
   "language": "python",
   "name": "python3"
  },
  "language_info": {
   "codemirror_mode": {
    "name": "ipython",
    "version": 3
   },
   "file_extension": ".py",
   "mimetype": "text/x-python",
   "name": "python",
   "nbconvert_exporter": "python",
   "pygments_lexer": "ipython3",
   "version": "3.6.8"
  }
 },
 "nbformat": 4,
 "nbformat_minor": 2
}
