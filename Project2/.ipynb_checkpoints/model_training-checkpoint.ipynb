{
 "cells": [
  {
   "cell_type": "code",
   "execution_count": 1,
   "metadata": {},
   "outputs": [],
   "source": [
    "CELLS = [(q, r) for q in range(-3, +3 + 1) for r in range(-3, +3 + 1) if -q - r in range(-3, +3 + 1)]"
   ]
  },
  {
   "cell_type": "code",
   "execution_count": 18,
   "metadata": {},
   "outputs": [],
   "source": [
    "import tensorflow as tf\n",
    "import numpy as np\n",
    "from keras import models, layers\n",
    "from keras.models import load_model\n",
    "import json\n",
    "import pickle\n",
    "import os\n",
    "from os.path import join\n",
    "import subprocess\n",
    "import json\n",
    "import VanGame.utils as utils"
   ]
  },
  {
   "cell_type": "code",
   "execution_count": 5,
   "metadata": {
    "scrolled": true
   },
   "outputs": [],
   "source": [
    "sequence = sorted([p for p in CELLS])"
   ]
  },
  {
   "cell_type": "code",
   "execution_count": 6,
   "metadata": {},
   "outputs": [],
   "source": [
    "a = np.array([[1]*39])\n",
    "b = [500]"
   ]
  },
  {
   "cell_type": "code",
   "execution_count": 346,
   "metadata": {},
   "outputs": [],
   "source": [
    "def build_model():\n",
    "    model = models.Sequential()\n",
    "    model.add(layers.Dense(100,activation='relu', input_shape=(41,)))\n",
    "    model.add(layers.Dense(200, activation='relu'))\n",
    "    model.add(layers.Dense(100, activation='relu'))\n",
    "    model.add(layers.Dense(1))\n",
    "    model.compile(optimizer='rmsprop', loss='mse')\n",
    "    return model"
   ]
  },
  {
   "cell_type": "code",
   "execution_count": 357,
   "metadata": {},
   "outputs": [],
   "source": [
    "model = build_model()"
   ]
  },
  {
   "cell_type": "code",
   "execution_count": 324,
   "metadata": {},
   "outputs": [],
   "source": [
    "try:\n",
    "    model = load_model('VanGame/my_model.h5')\n",
    "except:\n",
    "    print(\"none model found\")\n",
    "    model = build_model()"
   ]
  },
  {
   "cell_type": "code",
   "execution_count": 348,
   "metadata": {},
   "outputs": [
    {
     "name": "stdout",
     "output_type": "stream",
     "text": [
      "'[1win]1556603515.0caoredjiba.txt'  '[2zzz]1556603518.0caoredjiba.txt'\r\n",
      "'[2zzz]1556603429.0caoredjiba.txt'  '[2zzz]1556603519.0caoredjiba.txt'\r\n",
      "'[2zzz]1556603510.0caoredjiba.txt'  '[2zzz]1556603520.0caoredjiba.txt'\r\n",
      "'[2zzz]1556603511.0caoredjiba.txt'  '[2zzz]1556603521.0caoredjiba.txt'\r\n",
      "'[2zzz]1556603514.0caoredjiba.txt'  '[2zzz]1556603523.0caoredjiba.txt'\r\n",
      "'[2zzz]1556603517.0caoredjiba.txt'\r\n"
     ]
    }
   ],
   "source": [
    "!ls 'rec'"
   ]
  },
  {
   "cell_type": "code",
   "execution_count": 24,
   "metadata": {},
   "outputs": [],
   "source": [
    "def bash_call(c:[str]) -> None:\n",
    "    res = subprocess.check_output(c)\n",
    "    ls = []\n",
    "    for line in res.splitlines():\n",
    "        line = line.decode('utf-8')\n",
    "        ls.append(line)\n",
    "    return ls"
   ]
  },
  {
   "cell_type": "code",
   "execution_count": 25,
   "metadata": {},
   "outputs": [],
   "source": [
    "def join_list(l):\n",
    "    res = \"\"\n",
    "    for i in l:\n",
    "        res += i + \"/\"\n",
    "    \n",
    "    res = res[:-1]\n",
    "    return res"
   ]
  },
  {
   "cell_type": "code",
   "execution_count": 26,
   "metadata": {},
   "outputs": [],
   "source": [
    "def load_logs():\n",
    "    datapath = join(os.getcwd(),'rec/')\n",
    "    files = bash_call(['ls', datapath])\n",
    "    return files"
   ]
  },
  {
   "cell_type": "code",
   "execution_count": 335,
   "metadata": {},
   "outputs": [],
   "source": [
    "def PG_log(filename, condition=None, value_check=False):\n",
    "    \n",
    "    if (condition != None) and (condition not in filename):\n",
    "        return False, False\n",
    "    \n",
    "    #print(filename)\n",
    "    states, color = utils.load_l('rec/'+filename)\n",
    "    \n",
    "    train = []\n",
    "    value = []\n",
    "    \n",
    "    for s in states:\n",
    "        # print(s)\n",
    "        board = []\n",
    "        # add board\n",
    "        for cord in sequence:\n",
    "            board.append(s['board'][cord])\n",
    "        # color \n",
    "        board.append(color)\n",
    "        # utility = [heuristic diff, my pieces difference, danger pieces]\n",
    "        board += s['utility']\n",
    "        train.append(board)\n",
    "        value.append(s['rew'])\n",
    "        \n",
    "    if value_check:\n",
    "        print(value)\n",
    "        \n",
    "    value.reverse()\n",
    "    decay = 0.95\n",
    "    curr_decay = 0.95\n",
    "    for i in range(1, len(value)):\n",
    "        value[i] += value[i-1] * curr_decay\n",
    "        curr_decay *= decay\n",
    "    \n",
    "    value.reverse()\n",
    "    \n",
    "    if value_check:\n",
    "        print(value)\n",
    "    \n",
    "    post_value = np.array(value)\n",
    "    \n",
    "    post_value = (post_value - post_value.mean()) / post_value.std()\n",
    "    \n",
    "    if value_check:\n",
    "        print(post_value)\n",
    "    \n",
    "    return train, post_value.tolist()"
   ]
  },
  {
   "cell_type": "code",
   "execution_count": 337,
   "metadata": {},
   "outputs": [
    {
     "name": "stdout",
     "output_type": "stream",
     "text": [
      "[0, -10, 0, 0, 0, -70, 0, 0, 0, 60, 0, -10, 0, 0, 0, 40, 0, 0, -10, 0, -50, -10, -10, 0, 0, -510]\n",
      "[-2.9623299623520385, -10.679312596407287, -2.3265004496166717, -7.569378445443013, -23.395961757406386, -68.6981736973896, 3.6314572518325927, 9.623486373083757, 24.227440769097115, 57.943703590491936, -4.672055923825497, -10.08449031555048, -0.17325128244987167, -0.3374967455289259, -0.624577486817708, -1.0980615075465536, -68.64126599542232, -108.91127375337882, -164.16629427851393, -220.76193716255068, -300.31883085372016, -323.5009015115731, -384.8968642187499, -437.26124999999996, -484.5, -510]\n",
      "[ 0.65992178  0.61523674  0.66360353  0.63324475  0.54160124  0.27927967\n",
      "  0.69810297  0.7327997   0.81736361  1.01259696  0.65002164  0.61868105\n",
      "  0.67607188  0.67512082  0.67345849  0.67071679  0.2796092   0.04642651\n",
      " -0.27352659 -0.60124254 -1.06191516 -1.19615048 -1.55166259 -1.85487753\n",
      " -2.12841258 -2.27606983]\n"
     ]
    },
    {
     "data": {
      "text/plain": [
       "[0.6599217763189812,\n",
       " 0.6152367409499848,\n",
       " 0.6636035345414046,\n",
       " 0.6332447531642175,\n",
       " 0.5416012354057987,\n",
       " 0.2792796728434449,\n",
       " 0.6981029708160643,\n",
       " 0.7327996969734564,\n",
       " 0.8173636061668272,\n",
       " 1.0125969594253514,\n",
       " 0.6500216419422908,\n",
       " 0.6186810476069748,\n",
       " 0.6760718812717054,\n",
       " 0.6751208211650652,\n",
       " 0.6734584858085444,\n",
       " 0.6707167859478302,\n",
       " 0.2796091957665567,\n",
       " 0.0464265120278436,\n",
       " -0.2735265918685164,\n",
       " -0.6012425430284716,\n",
       " -1.061915163017154,\n",
       " -1.1961504848256177,\n",
       " -1.5516625930136971,\n",
       " -1.8548775335767187,\n",
       " -2.1284125814880457,\n",
       " -2.2760698273241196]"
      ]
     },
     "execution_count": 337,
     "metadata": {},
     "output_type": "execute_result"
    }
   ],
   "source": [
    "t,v = PG_log('[2zzz]1556601000.0caoredjiba.txt', value_check=True)"
   ]
  },
  {
   "cell_type": "code",
   "execution_count": 330,
   "metadata": {
    "scrolled": true
   },
   "outputs": [
    {
     "name": "stdout",
     "output_type": "stream",
     "text": [
      "'[1win]1556602598.0caoredjiba.txt'  '[2zzz]1556602594.0caoredjiba.txt'\r\n",
      "'[1win]1556602745.0caoredjiba.txt'  '[2zzz]1556602746.0caoredjiba.txt'\r\n",
      "'[2zzz]1556601000.0caoredjiba.txt'\r\n"
     ]
    }
   ],
   "source": [
    "!ls rec"
   ]
  },
  {
   "cell_type": "code",
   "execution_count": 331,
   "metadata": {},
   "outputs": [],
   "source": [
    "def reload_model():\n",
    "    del model  # deletes the existing model\n",
    "\n",
    "    # returns a compiled model\n",
    "    # identical to the previous one\n",
    "    model = load_model('my_model.h5')\n"
   ]
  },
  {
   "cell_type": "code",
   "execution_count": 332,
   "metadata": {},
   "outputs": [],
   "source": [
    "def save_model():\n",
    "    model.save('my_model.h5')  # creates a HDF5 file 'my_model.h5'\n",
    "    with open('trained_model', 'wb') as f:\n",
    "        pickle.dump(model.get_weights(), f)"
   ]
  },
  {
   "cell_type": "code",
   "execution_count": 351,
   "metadata": {
    "scrolled": true
   },
   "outputs": [],
   "source": [
    "def train(save=True, epochs):\n",
    "    logfs = load_logs()\n",
    "    train_set = []\n",
    "    target_set = []\n",
    "    \n",
    "    for logf in logfs:\n",
    "        train, value = PG_log(logf)\n",
    "        if train:\n",
    "            #print(len(train), len(value))\n",
    "            #print(train[-1])\n",
    "            train_set += train\n",
    "            target_set += value\n",
    "\n",
    "    model.fit(np.array(train_set), target_set, epochs=epochs, batch_size=1)\n",
    "    if save:\n",
    "        print(\"saved\")\n",
    "        save_model()   "
   ]
  },
  {
   "cell_type": "code",
   "execution_count": 352,
   "metadata": {
    "scrolled": true
   },
   "outputs": [
    {
     "name": "stdout",
     "output_type": "stream",
     "text": [
      "Epoch 1/2\n",
      "323/323 [==============================] - 2s 6ms/step - loss: 0.7966\n",
      "Epoch 2/2\n",
      "323/323 [==============================] - 1s 3ms/step - loss: 0.5005\n",
      "saved\n"
     ]
    }
   ],
   "source": [
    "train()"
   ]
  },
  {
   "cell_type": "code",
   "execution_count": 349,
   "metadata": {},
   "outputs": [],
   "source": [
    "save_model()"
   ]
  },
  {
   "cell_type": "code",
   "execution_count": 321,
   "metadata": {},
   "outputs": [],
   "source": [
    "del model"
   ]
  },
  {
   "cell_type": "code",
   "execution_count": 263,
   "metadata": {},
   "outputs": [
    {
     "data": {
      "text/plain": [
       "array([[-0.01214426],\n",
       "       [-0.00607213]], dtype=float32)"
      ]
     },
     "execution_count": 263,
     "metadata": {},
     "output_type": "execute_result"
    }
   ],
   "source": [
    "model.predict(np.array([[1]*39,[0.5]*39]))"
   ]
  },
  {
   "cell_type": "code",
   "execution_count": 52,
   "metadata": {},
   "outputs": [],
   "source": [
    "def clean_log(logs):\n",
    "    !rm '/Users/xinyaoniu/Documents/COMP30024-AI/Project2/rec/' *"
   ]
  },
  {
   "cell_type": "code",
   "execution_count": 53,
   "metadata": {},
   "outputs": [
    {
     "name": "stdout",
     "output_type": "stream",
     "text": [
      "rm: cannot remove '/Users/xinyaoniu/Documents/COMP30024-AI/Project2/rec/': Is a directory\r\n",
      "rm: cannot remove '__pycache__': Is a directory\r\n"
     ]
    }
   ],
   "source": [
    "clean_log(logfs)"
   ]
  },
  {
   "cell_type": "code",
   "execution_count": 110,
   "metadata": {},
   "outputs": [
    {
     "data": {
      "text/plain": [
       "'/Users/xinyaoniu/Documents/COMP30024-AI/Project2'"
      ]
     },
     "execution_count": 110,
     "metadata": {},
     "output_type": "execute_result"
    }
   ],
   "source": [
    "os.getcwd()"
   ]
  },
  {
   "cell_type": "code",
   "execution_count": 146,
   "metadata": {
    "scrolled": true
   },
   "outputs": [
    {
     "name": "stdout",
     "output_type": "stream",
     "text": [
      "removed './rec/[1win]1556549315.0caoredjiba.txt'\r\n",
      "removed './rec/[1win]1556549321.0caoredjiba.txt'\r\n",
      "removed './rec/[2zzz]1556549305.0caoredjiba.txt'\r\n",
      "removed './rec/[2zzz]1556549307.0caoredjiba.txt'\r\n",
      "removed './rec/[2zzz]1556549308.0caoredjiba.txt'\r\n",
      "removed './rec/[2zzz]1556549309.0caoredjiba.txt'\r\n",
      "removed './rec/[2zzz]1556549311.0caoredjiba.txt'\r\n"
     ]
    }
   ],
   "source": [
    "!rm -v ./rec/*"
   ]
  },
  {
   "cell_type": "code",
   "execution_count": 353,
   "metadata": {},
   "outputs": [],
   "source": [
    "def full_train_cycle(n, epochs=2):\n",
    "    for i in range(n):\n",
    "        !python3 -m referee VanGame HardCode HardCode -l logtry -v 0\n",
    "    train(epochs=epochs)\n",
    "    !rm -v ./rec/*"
   ]
  },
  {
   "cell_type": "code",
   "execution_count": 362,
   "metadata": {
    "scrolled": true
   },
   "outputs": [
    {
     "name": "stdout",
     "output_type": "stream",
     "text": [
      "* NOTE: unable to measure memory usage on this platform (try dimefox)\n",
      "* winner: Red\n",
      "* NOTE: unable to measure memory usage on this platform (try dimefox)\n",
      "* winner: Green\n",
      "Epoch 1/1\n",
      "100/100 [==============================] - 0s 3ms/step - loss: 0.5213\n",
      "saved\n",
      "removed './rec/[1win]1556605672.0caoredjiba.txt'\n",
      "removed './rec/[2zzz]1556605642.0caoredjiba.txt'\n",
      "removed './rec/[2zzz]1556605673.0caoredjiba.txt'\n",
      "* NOTE: unable to measure memory usage on this platform (try dimefox)\n",
      "* winner: Red\n",
      "* NOTE: unable to measure memory usage on this platform (try dimefox)\n",
      "* winner: Blue\n",
      "Epoch 1/1\n",
      "97/97 [==============================] - 0s 3ms/step - loss: 0.6738\n",
      "saved\n",
      "removed './rec/[1win]1556605676.0caoredjiba.txt'\n",
      "removed './rec/[2zzz]1556605677.0caoredjiba.txt'\n",
      "* NOTE: unable to measure memory usage on this platform (try dimefox)\n",
      "* winner: Red\n",
      "* NOTE: unable to measure memory usage on this platform (try dimefox)\n",
      "* winner: Blue\n",
      "Epoch 1/1\n",
      "81/81 [==============================] - 0s 3ms/step - loss: 0.4003\n",
      "saved\n",
      "removed './rec/[1win]1556605680.0caoredjiba.txt'\n",
      "removed './rec/[2zzz]1556605681.0caoredjiba.txt'\n",
      "* NOTE: unable to measure memory usage on this platform (try dimefox)\n",
      "* winner: Green\n",
      "* NOTE: unable to measure memory usage on this platform (try dimefox)\n",
      "* winner: Green\n",
      "Epoch 1/1\n",
      "49/49 [==============================] - 0s 4ms/step - loss: 0.5072\n",
      "saved\n",
      "removed './rec/[2zzz]1556605683.0caoredjiba.txt'\n",
      "removed './rec/[2zzz]1556605684.0caoredjiba.txt'\n",
      "* NOTE: unable to measure memory usage on this platform (try dimefox)\n",
      "* winner: Blue\n",
      "* NOTE: unable to measure memory usage on this platform (try dimefox)\n",
      "* winner: Red\n",
      "Epoch 1/1\n",
      "69/69 [==============================] - 0s 3ms/step - loss: 0.5105\n",
      "saved\n",
      "removed './rec/[1win]1556605688.0caoredjiba.txt'\n",
      "removed './rec/[2zzz]1556605686.0caoredjiba.txt'\n",
      "* NOTE: unable to measure memory usage on this platform (try dimefox)\n",
      "* winner: Red\n",
      "* NOTE: unable to measure memory usage on this platform (try dimefox)\n",
      "* winner: Green\n",
      "Epoch 1/1\n",
      "62/62 [==============================] - 0s 3ms/step - loss: 0.5190\n",
      "saved\n",
      "removed './rec/[1win]1556605690.0caoredjiba.txt'\n",
      "removed './rec/[2zzz]1556605691.0caoredjiba.txt'\n",
      "* NOTE: unable to measure memory usage on this platform (try dimefox)\n",
      "* winner: Blue\n",
      "* NOTE: unable to measure memory usage on this platform (try dimefox)\n",
      "* winner: Green\n",
      "Epoch 1/1\n",
      "58/58 [==============================] - 0s 3ms/step - loss: 0.6037\n",
      "saved\n",
      "removed './rec/[2zzz]1556605693.0caoredjiba.txt'\n",
      "removed './rec/[2zzz]1556605695.0caoredjiba.txt'\n",
      "* NOTE: unable to measure memory usage on this platform (try dimefox)\n",
      "* winner: Blue\n",
      "* NOTE: unable to measure memory usage on this platform (try dimefox)\n",
      "* winner: Blue\n",
      "Epoch 1/1\n",
      "55/55 [==============================] - 0s 3ms/step - loss: 0.5746\n",
      "saved\n",
      "removed './rec/[2zzz]1556605697.0caoredjiba.txt'\n",
      "removed './rec/[2zzz]1556605698.0caoredjiba.txt'\n",
      "* NOTE: unable to measure memory usage on this platform (try dimefox)\n",
      "* winner: Blue\n",
      "* NOTE: unable to measure memory usage on this platform (try dimefox)\n",
      "* winner: Blue\n",
      "Epoch 1/1\n",
      "51/51 [==============================] - 0s 3ms/step - loss: 0.2300\n",
      "saved\n",
      "removed './rec/[2zzz]1556605700.0caoredjiba.txt'\n",
      "removed './rec/[2zzz]1556605702.0caoredjiba.txt'\n",
      "* NOTE: unable to measure memory usage on this platform (try dimefox)\n",
      "* winner: Blue\n",
      "* NOTE: unable to measure memory usage on this platform (try dimefox)\n",
      "* winner: Red\n",
      "Epoch 1/1\n",
      "88/88 [==============================] - 0s 3ms/step - loss: 0.7466\n",
      "saved\n",
      "removed './rec/[1win]1556605706.0caoredjiba.txt'\n",
      "removed './rec/[2zzz]1556605703.0caoredjiba.txt'\n",
      "* NOTE: unable to measure memory usage on this platform (try dimefox)\n",
      "* winner: Red\n",
      "* NOTE: unable to measure memory usage on this platform (try dimefox)\n",
      "* winner: Blue\n",
      "Epoch 1/1\n",
      "92/92 [==============================] - 0s 3ms/step - loss: 0.3630\n",
      "saved\n",
      "removed './rec/[1win]1556605709.0caoredjiba.txt'\n",
      "removed './rec/[2zzz]1556605711.0caoredjiba.txt'\n",
      "* NOTE: unable to measure memory usage on this platform (try dimefox)\n",
      "* winner: Blue\n",
      "* NOTE: unable to measure memory usage on this platform (try dimefox)\n",
      "* winner: Red\n",
      "Epoch 1/1\n",
      "77/77 [==============================] - 0s 3ms/step - loss: 0.3984\n",
      "saved\n",
      "removed './rec/[1win]1556605715.0caoredjiba.txt'\n",
      "removed './rec/[2zzz]1556605712.0caoredjiba.txt'\n",
      "* NOTE: unable to measure memory usage on this platform (try dimefox)\n",
      "* winner: Blue\n",
      "* NOTE: unable to measure memory usage on this platform (try dimefox)\n",
      "* winner: Blue\n",
      "Epoch 1/1\n",
      "53/53 [==============================] - 0s 4ms/step - loss: 0.2745\n",
      "saved\n",
      "removed './rec/[2zzz]1556605717.0caoredjiba.txt'\n",
      "removed './rec/[2zzz]1556605718.0caoredjiba.txt'\n",
      "* NOTE: unable to measure memory usage on this platform (try dimefox)\n",
      "* winner: Blue\n",
      "* NOTE: unable to measure memory usage on this platform (try dimefox)\n",
      "* winner: Green\n",
      "Epoch 1/1\n",
      "56/56 [==============================] - 0s 3ms/step - loss: 0.3275\n",
      "saved\n",
      "removed './rec/[2zzz]1556605720.0caoredjiba.txt'\n",
      "removed './rec/[2zzz]1556605722.0caoredjiba.txt'\n",
      "* NOTE: unable to measure memory usage on this platform (try dimefox)\n",
      "* winner: Green\n",
      "* NOTE: unable to measure memory usage on this platform (try dimefox)\n",
      "* winner: Blue\n",
      "Epoch 1/1\n",
      "54/54 [==============================] - 0s 3ms/step - loss: 0.3072\n",
      "saved\n",
      "removed './rec/[2zzz]1556605723.0caoredjiba.txt'\n",
      "removed './rec/[2zzz]1556605725.0caoredjiba.txt'\n",
      "* NOTE: unable to measure memory usage on this platform (try dimefox)\n",
      "* winner: Red\n",
      "* NOTE: unable to measure memory usage on this platform (try dimefox)\n",
      "* winner: Red\n",
      "Epoch 1/1\n",
      "117/117 [==============================] - 0s 3ms/step - loss: 0.4182\n",
      "saved\n",
      "removed './rec/[1win]1556605729.0caoredjiba.txt'\n",
      "removed './rec/[1win]1556605731.0caoredjiba.txt'\n",
      "* NOTE: unable to measure memory usage on this platform (try dimefox)\n",
      "* winner: Blue\n",
      "* NOTE: unable to measure memory usage on this platform (try dimefox)\n",
      "* winner: Red\n",
      "Epoch 1/1\n",
      "113/113 [==============================] - 0s 3ms/step - loss: 0.5964\n",
      "saved\n",
      "removed './rec/[1win]1556605738.0caoredjiba.txt'\n",
      "removed './rec/[2zzz]1556605734.0caoredjiba.txt'\n",
      "* NOTE: unable to measure memory usage on this platform (try dimefox)\n",
      "* winner: Blue\n",
      "* NOTE: unable to measure memory usage on this platform (try dimefox)\n",
      "* winner: Red\n",
      "Epoch 1/1\n",
      "80/80 [==============================] - 0s 3ms/step - loss: 0.6172\n",
      "saved\n",
      "removed './rec/[1win]1556605742.0caoredjiba.txt'\n",
      "removed './rec/[2zzz]1556605740.0caoredjiba.txt'\n",
      "* NOTE: unable to measure memory usage on this platform (try dimefox)\n",
      "* winner: Red\n",
      "* NOTE: unable to measure memory usage on this platform (try dimefox)\n",
      "* winner: Blue\n",
      "Epoch 1/1\n",
      "97/97 [==============================] - 0s 3ms/step - loss: 0.4582\n",
      "saved\n",
      "removed './rec/[1win]1556605746.0caoredjiba.txt'\n",
      "removed './rec/[2zzz]1556605748.0caoredjiba.txt'\n",
      "* NOTE: unable to measure memory usage on this platform (try dimefox)\n",
      "* winner: Green\n",
      "* NOTE: unable to measure memory usage on this platform (try dimefox)\n",
      "* winner: Green\n",
      "Epoch 1/1\n",
      "45/45 [==============================] - 0s 4ms/step - loss: 0.6109\n",
      "saved\n",
      "removed './rec/[2zzz]1556605750.0caoredjiba.txt'\n",
      "removed './rec/[2zzz]1556605751.0caoredjiba.txt'\n",
      "* NOTE: unable to measure memory usage on this platform (try dimefox)\n",
      "* winner: Red\n",
      "* NOTE: unable to measure memory usage on this platform (try dimefox)\n",
      "* winner: Blue\n",
      "Epoch 1/1\n",
      "99/99 [==============================] - 0s 3ms/step - loss: 0.4648\n",
      "saved\n",
      "removed './rec/[1win]1556605754.0caoredjiba.txt'\n",
      "removed './rec/[2zzz]1556605756.0caoredjiba.txt'\n",
      "* NOTE: unable to measure memory usage on this platform (try dimefox)\n",
      "* winner: Blue\n",
      "* NOTE: unable to measure memory usage on this platform (try dimefox)\n",
      "* winner: Blue\n",
      "Epoch 1/1\n",
      "53/53 [==============================] - 0s 4ms/step - loss: 0.4006\n",
      "saved\n",
      "removed './rec/[2zzz]1556605758.0caoredjiba.txt'\n",
      "removed './rec/[2zzz]1556605760.0caoredjiba.txt'\n",
      "* NOTE: unable to measure memory usage on this platform (try dimefox)\n",
      "* winner: Blue\n",
      "* NOTE: unable to measure memory usage on this platform (try dimefox)\n",
      "* winner: Red\n",
      "Epoch 1/1\n",
      "96/96 [==============================] - 0s 4ms/step - loss: 0.4188\n",
      "saved\n",
      "removed './rec/[1win]1556605765.0caoredjiba.txt'\n",
      "removed './rec/[2zzz]1556605762.0caoredjiba.txt'\n",
      "* NOTE: unable to measure memory usage on this platform (try dimefox)\n"
     ]
    },
    {
     "name": "stdout",
     "output_type": "stream",
     "text": [
      "* winner: Blue\n",
      "* NOTE: unable to measure memory usage on this platform (try dimefox)\n",
      "* winner: Red\n",
      "Epoch 1/1\n",
      "74/74 [==============================] - 0s 4ms/step - loss: 0.5681\n",
      "saved\n",
      "removed './rec/[1win]1556605770.0caoredjiba.txt'\n",
      "removed './rec/[2zzz]1556605768.0caoredjiba.txt'\n",
      "* NOTE: unable to measure memory usage on this platform (try dimefox)\n",
      "* winner: Blue\n",
      "* NOTE: unable to measure memory usage on this platform (try dimefox)\n",
      "* winner: Red\n",
      "Epoch 1/1\n",
      "100/100 [==============================] - 0s 3ms/step - loss: 0.4145\n",
      "saved\n",
      "removed './rec/[1win]1556605775.0caoredjiba.txt'\n",
      "removed './rec/[2zzz]1556605771.0caoredjiba.txt'\n",
      "* NOTE: unable to measure memory usage on this platform (try dimefox)\n",
      "* winner: Blue\n",
      "* NOTE: unable to measure memory usage on this platform (try dimefox)\n",
      "* winner: Green\n",
      "Epoch 1/1\n",
      "57/57 [==============================] - 0s 3ms/step - loss: 0.6868\n",
      "saved\n",
      "removed './rec/[2zzz]1556605777.0caoredjiba.txt'\n",
      "removed './rec/[2zzz]1556605778.0caoredjiba.txt'\n",
      "* NOTE: unable to measure memory usage on this platform (try dimefox)\n",
      "* winner: Red\n",
      "* NOTE: unable to measure memory usage on this platform (try dimefox)\n",
      "* winner: Blue\n",
      "Epoch 1/1\n",
      "118/118 [==============================] - 0s 3ms/step - loss: 0.6149\n",
      "saved\n",
      "removed './rec/[1win]1556605783.0caoredjiba.txt'\n",
      "removed './rec/[2zzz]1556605785.0caoredjiba.txt'\n",
      "* NOTE: unable to measure memory usage on this platform (try dimefox)\n",
      "* winner: Blue\n",
      "* NOTE: unable to measure memory usage on this platform (try dimefox)\n",
      "* winner: Red\n",
      "Epoch 1/1\n",
      "82/82 [==============================] - 0s 3ms/step - loss: 0.7623\n",
      "saved\n",
      "removed './rec/[1win]1556605790.0caoredjiba.txt'\n",
      "removed './rec/[2zzz]1556605787.0caoredjiba.txt'\n",
      "* NOTE: unable to measure memory usage on this platform (try dimefox)\n",
      "* winner: Blue\n",
      "* NOTE: unable to measure memory usage on this platform (try dimefox)\n",
      "* winner: Blue\n",
      "Epoch 1/1\n",
      "48/48 [==============================] - 0s 4ms/step - loss: 0.7144\n",
      "saved\n",
      "removed './rec/[2zzz]1556605792.0caoredjiba.txt'\n",
      "removed './rec/[2zzz]1556605793.0caoredjiba.txt'\n",
      "* NOTE: unable to measure memory usage on this platform (try dimefox)\n",
      "* winner: Green\n",
      "* NOTE: unable to measure memory usage on this platform (try dimefox)\n",
      "* winner: Blue\n",
      "Epoch 1/1\n",
      "56/56 [==============================] - 0s 3ms/step - loss: 0.6064\n",
      "saved\n",
      "removed './rec/[2zzz]1556605794.0caoredjiba.txt'\n",
      "removed './rec/[2zzz]1556605796.0caoredjiba.txt'\n",
      "* NOTE: unable to measure memory usage on this platform (try dimefox)\n",
      "* winner: Red\n",
      "* NOTE: unable to measure memory usage on this platform (try dimefox)\n",
      "* winner: Blue\n",
      "Epoch 1/1\n",
      "80/80 [==============================] - 0s 3ms/step - loss: 0.4990\n",
      "saved\n",
      "removed './rec/[1win]1556605799.0caoredjiba.txt'\n",
      "removed './rec/[2zzz]1556605800.0caoredjiba.txt'\n",
      "* NOTE: unable to measure memory usage on this platform (try dimefox)\n",
      "* winner: Green\n",
      "* NOTE: unable to measure memory usage on this platform (try dimefox)\n",
      "* winner: Red\n",
      "Epoch 1/1\n",
      "83/83 [==============================] - 0s 4ms/step - loss: 0.4737\n",
      "saved\n",
      "removed './rec/[1win]1556605804.0caoredjiba.txt'\n",
      "removed './rec/[2zzz]1556605801.0caoredjiba.txt'\n",
      "* NOTE: unable to measure memory usage on this platform (try dimefox)\n",
      "* winner: Red\n",
      "* NOTE: unable to measure memory usage on this platform (try dimefox)\n",
      "* winner: Green\n",
      "Epoch 1/1\n",
      "84/84 [==============================] - 0s 3ms/step - loss: 0.3831\n",
      "saved\n",
      "removed './rec/[1win]1556605808.0caoredjiba.txt'\n",
      "removed './rec/[2zzz]1556605809.0caoredjiba.txt'\n",
      "* NOTE: unable to measure memory usage on this platform (try dimefox)\n",
      "* winner: Green\n",
      "* NOTE: unable to measure memory usage on this platform (try dimefox)\n",
      "* winner: Blue\n",
      "Epoch 1/1\n",
      "51/51 [==============================] - 0s 3ms/step - loss: 0.6238\n",
      "saved\n",
      "removed './rec/[2zzz]1556605811.0caoredjiba.txt'\n",
      "removed './rec/[2zzz]1556605813.0caoredjiba.txt'\n",
      "* NOTE: unable to measure memory usage on this platform (try dimefox)\n",
      "* winner: Blue\n",
      "* NOTE: unable to measure memory usage on this platform (try dimefox)\n",
      "* winner: Red\n",
      "Epoch 1/1\n",
      "83/83 [==============================] - 0s 4ms/step - loss: 0.4365\n",
      "saved\n",
      "removed './rec/[1win]1556605817.0caoredjiba.txt'\n",
      "removed './rec/[2zzz]1556605815.0caoredjiba.txt'\n",
      "* NOTE: unable to measure memory usage on this platform (try dimefox)\n",
      "* winner: Blue\n",
      "* NOTE: unable to measure memory usage on this platform (try dimefox)\n",
      "* winner: Blue\n",
      "Epoch 1/1\n",
      "54/54 [==============================] - 0s 4ms/step - loss: 0.2541\n",
      "saved\n",
      "removed './rec/[2zzz]1556605819.0caoredjiba.txt'\n",
      "removed './rec/[2zzz]1556605821.0caoredjiba.txt'\n",
      "* NOTE: unable to measure memory usage on this platform (try dimefox)\n",
      "* winner: Green\n",
      "* NOTE: unable to measure memory usage on this platform (try dimefox)\n",
      "* winner: Blue\n",
      "Epoch 1/1\n",
      "50/50 [==============================] - 0s 3ms/step - loss: 0.1987\n",
      "saved\n",
      "removed './rec/[2zzz]1556605823.0caoredjiba.txt'\n",
      "removed './rec/[2zzz]1556605824.0caoredjiba.txt'\n",
      "* NOTE: unable to measure memory usage on this platform (try dimefox)\n",
      "* winner: Blue\n",
      "* NOTE: unable to measure memory usage on this platform (try dimefox)\n",
      "* winner: Blue\n",
      "Epoch 1/1\n",
      "46/46 [==============================] - 0s 3ms/step - loss: 0.1607\n",
      "saved\n",
      "removed './rec/[2zzz]1556605825.0caoredjiba.txt'\n",
      "removed './rec/[2zzz]1556605826.0caoredjiba.txt'\n",
      "* NOTE: unable to measure memory usage on this platform (try dimefox)\n",
      "* winner: Blue\n",
      "* NOTE: unable to measure memory usage on this platform (try dimefox)\n",
      "* winner: Blue\n",
      "Epoch 1/1\n",
      "64/64 [==============================] - 0s 3ms/step - loss: 0.3150\n",
      "saved\n",
      "removed './rec/[2zzz]1556605828.0caoredjiba.txt'\n",
      "removed './rec/[2zzz]1556605829.0caoredjiba.txt'\n",
      "* NOTE: unable to measure memory usage on this platform (try dimefox)\n",
      "* winner: Red\n",
      "* NOTE: unable to measure memory usage on this platform (try dimefox)\n",
      "* winner: Blue\n",
      "Epoch 1/1\n",
      "102/102 [==============================] - 0s 3ms/step - loss: 0.6153\n",
      "saved\n",
      "removed './rec/[1win]1556605832.0caoredjiba.txt'\n",
      "removed './rec/[2zzz]1556605833.0caoredjiba.txt'\n",
      "* NOTE: unable to measure memory usage on this platform (try dimefox)\n",
      "* winner: Blue\n",
      "* NOTE: unable to measure memory usage on this platform (try dimefox)\n",
      "* winner: Red\n",
      "Epoch 1/1\n",
      "117/117 [==============================] - 0s 4ms/step - loss: 0.4216\n",
      "saved\n",
      "removed './rec/[1win]1556605839.0caoredjiba.txt'\n",
      "removed './rec/[2zzz]1556605836.0caoredjiba.txt'\n",
      "* NOTE: unable to measure memory usage on this platform (try dimefox)\n",
      "* winner: Blue\n",
      "* NOTE: unable to measure memory usage on this platform (try dimefox)\n",
      "* winner: Blue\n",
      "Epoch 1/1\n",
      "54/54 [==============================] - 0s 4ms/step - loss: 0.5057\n",
      "saved\n",
      "removed './rec/[2zzz]1556605842.0caoredjiba.txt'\n",
      "removed './rec/[2zzz]1556605843.0caoredjiba.txt'\n",
      "* NOTE: unable to measure memory usage on this platform (try dimefox)\n",
      "* winner: Red\n",
      "* NOTE: unable to measure memory usage on this platform (try dimefox)\n",
      "* winner: Red\n",
      "Epoch 1/1\n",
      "127/127 [==============================] - 0s 3ms/step - loss: 0.3804\n",
      "saved\n",
      "removed './rec/[1win]1556605846.0caoredjiba.txt'\n",
      "removed './rec/[1win]1556605849.0caoredjiba.txt'\n",
      "* NOTE: unable to measure memory usage on this platform (try dimefox)\n",
      "* winner: Blue\n",
      "* NOTE: unable to measure memory usage on this platform (try dimefox)\n",
      "* winner: Green\n",
      "Epoch 1/1\n",
      "59/59 [==============================] - 0s 3ms/step - loss: 0.6669\n",
      "saved\n",
      "removed './rec/[2zzz]1556605851.0caoredjiba.txt'\n",
      "removed './rec/[2zzz]1556605852.0caoredjiba.txt'\n",
      "* NOTE: unable to measure memory usage on this platform (try dimefox)\n",
      "* winner: Green\n",
      "* NOTE: unable to measure memory usage on this platform (try dimefox)\n",
      "* winner: Red\n",
      "Epoch 1/1\n",
      "76/76 [==============================] - 0s 3ms/step - loss: 0.4958\n",
      "saved\n",
      "removed './rec/[1win]1556605856.0caoredjiba.txt'\n",
      "removed './rec/[2zzz]1556605854.0caoredjiba.txt'\n",
      "* NOTE: unable to measure memory usage on this platform (try dimefox)\n",
      "* winner: Blue\n",
      "* NOTE: unable to measure memory usage on this platform (try dimefox)\n",
      "* winner: Blue\n",
      "Epoch 1/1\n",
      "55/55 [==============================] - 0s 3ms/step - loss: 0.2738\n",
      "saved\n",
      "removed './rec/[2zzz]1556605858.0caoredjiba.txt'\n",
      "removed './rec/[2zzz]1556605859.0caoredjiba.txt'\n",
      "* NOTE: unable to measure memory usage on this platform (try dimefox)\n",
      "* winner: Green\n",
      "* NOTE: unable to measure memory usage on this platform (try dimefox)\n",
      "* winner: Blue\n"
     ]
    },
    {
     "name": "stdout",
     "output_type": "stream",
     "text": [
      "Epoch 1/1\n",
      "49/49 [==============================] - 0s 3ms/step - loss: 0.5667\n",
      "saved\n",
      "removed './rec/[2zzz]1556605861.0caoredjiba.txt'\n",
      "removed './rec/[2zzz]1556605862.0caoredjiba.txt'\n",
      "* NOTE: unable to measure memory usage on this platform (try dimefox)\n",
      "* winner: Blue\n",
      "* NOTE: unable to measure memory usage on this platform (try dimefox)\n",
      "* winner: Green\n",
      "Epoch 1/1\n",
      "49/49 [==============================] - 0s 3ms/step - loss: 0.2656\n",
      "saved\n",
      "removed './rec/[2zzz]1556605863.0caoredjiba.txt'\n",
      "removed './rec/[2zzz]1556605864.0caoredjiba.txt'\n",
      "* NOTE: unable to measure memory usage on this platform (try dimefox)\n",
      "* winner: Blue\n",
      "* NOTE: unable to measure memory usage on this platform (try dimefox)\n",
      "* winner: Blue\n",
      "Epoch 1/1\n",
      "55/55 [==============================] - 0s 4ms/step - loss: 0.4008\n",
      "saved\n",
      "removed './rec/[2zzz]1556605866.0caoredjiba.txt'\n",
      "removed './rec/[2zzz]1556605867.0caoredjiba.txt'\n",
      "* NOTE: unable to measure memory usage on this platform (try dimefox)\n",
      "* winner: Blue\n",
      "* NOTE: unable to measure memory usage on this platform (try dimefox)\n",
      "* winner: Blue\n",
      "Epoch 1/1\n",
      "50/50 [==============================] - 0s 3ms/step - loss: 0.1957\n",
      "saved\n",
      "removed './rec/[2zzz]1556605869.0caoredjiba.txt'\n",
      "removed './rec/[2zzz]1556605870.0caoredjiba.txt'\n"
     ]
    }
   ],
   "source": [
    "for i in range(50):\n",
    "    print(\"********** starting round\", i, \"**********\")\n",
    "    full_train_cycle(2, epochs=1)"
   ]
  },
  {
   "cell_type": "markdown",
   "metadata": {},
   "source": [
    "# CNN attamp"
   ]
  },
  {
   "cell_type": "code",
   "execution_count": 226,
   "metadata": {},
   "outputs": [],
   "source": [
    "from keras.models import Sequential\n",
    "from keras.layers import Dense, Conv2D, Flatten\n",
    "#create model\n",
    "md = Sequential()\n",
    "#add model layers\n",
    "md.add(Conv2D(1, kernel_size=3, activation='relu', input_shape=(28,28,1), use_bias=False))\n",
    "#md.add(layers.MaxPooling2D(2,2))\n",
    "#md.add(Conv2D(64, kernel_size=3, activation='relu', use_bias=False))\n",
    "#md.add(layers.MaxPooling2D(2,2))\n",
    "#md.add(Conv2D(64, kernel_size=3, activation='relu', use_bias=False))\n",
    "md.add(Flatten())\n",
    "md.compile(optimizer='adam', loss='mse')"
   ]
  },
  {
   "cell_type": "code",
   "execution_count": 227,
   "metadata": {},
   "outputs": [
    {
     "name": "stdout",
     "output_type": "stream",
     "text": [
      "(3, 3, 1, 1)\n"
     ]
    }
   ],
   "source": [
    "for i in md.get_weights():\n",
    "    print(i.shape)"
   ]
  },
  {
   "cell_type": "code",
   "execution_count": 228,
   "metadata": {},
   "outputs": [
    {
     "name": "stdout",
     "output_type": "stream",
     "text": [
      "_________________________________________________________________\n",
      "Layer (type)                 Output Shape              Param #   \n",
      "=================================================================\n",
      "conv2d_24 (Conv2D)           (None, 26, 26, 1)         9         \n",
      "_________________________________________________________________\n",
      "flatten_9 (Flatten)          (None, 676)               0         \n",
      "=================================================================\n",
      "Total params: 9\n",
      "Trainable params: 9\n",
      "Non-trainable params: 0\n",
      "_________________________________________________________________\n"
     ]
    }
   ],
   "source": [
    "md.summary()"
   ]
  },
  {
   "cell_type": "code",
   "execution_count": 229,
   "metadata": {},
   "outputs": [
    {
     "data": {
      "text/plain": [
       "array([[-0., -0., -0., -0., -0., -0., -0., -0., -0., -0., -0., -0., -0.,\n",
       "        -0., -0., -0., -0., -0., -0., -0., -0., -0., -0., -0., -0., -0.,\n",
       "        -0., -0., -0., -0., -0., -0., -0., -0., -0., -0., -0., -0., -0.,\n",
       "        -0., -0., -0., -0., -0., -0., -0., -0., -0., -0., -0., -0., -0.,\n",
       "        -0., -0., -0., -0., -0., -0., -0., -0., -0., -0., -0., -0., -0.,\n",
       "        -0., -0., -0., -0., -0., -0., -0., -0., -0., -0., -0., -0., -0.,\n",
       "        -0., -0., -0., -0., -0., -0., -0., -0., -0., -0., -0., -0., -0.,\n",
       "        -0., -0., -0., -0., -0., -0., -0., -0., -0., -0., -0., -0., -0.,\n",
       "        -0., -0., -0., -0., -0., -0., -0., -0., -0., -0., -0., -0., -0.,\n",
       "        -0., -0., -0., -0., -0., -0., -0., -0., -0., -0., -0., -0., -0.,\n",
       "        -0., -0., -0., -0., -0., -0., -0., -0., -0., -0., -0., -0., -0.,\n",
       "        -0., -0., -0., -0., -0., -0., -0., -0., -0., -0., -0., -0., -0.,\n",
       "        -0., -0., -0., -0., -0., -0., -0., -0., -0., -0., -0., -0., -0.,\n",
       "        -0., -0., -0., -0., -0., -0., -0., -0., -0., -0., -0., -0., -0.,\n",
       "        -0., -0., -0., -0., -0., -0., -0., -0., -0., -0., -0., -0., -0.,\n",
       "        -0., -0., -0., -0., -0., -0., -0., -0., -0., -0., -0., -0., -0.,\n",
       "        -0., -0., -0., -0., -0., -0., -0., -0., -0., -0., -0., -0., -0.,\n",
       "        -0., -0., -0., -0., -0., -0., -0., -0., -0., -0., -0., -0., -0.,\n",
       "        -0., -0., -0., -0., -0., -0., -0., -0., -0., -0., -0., -0., -0.,\n",
       "        -0., -0., -0., -0., -0., -0., -0., -0., -0., -0., -0., -0., -0.,\n",
       "        -0., -0., -0., -0., -0., -0., -0., -0., -0., -0., -0., -0., -0.,\n",
       "        -0., -0., -0., -0., -0., -0., -0., -0., -0., -0., -0., -0., -0.,\n",
       "        -0., -0., -0., -0., -0., -0., -0., -0., -0., -0., -0., -0., -0.,\n",
       "        -0., -0., -0., -0., -0., -0., -0., -0., -0., -0., -0., -0., -0.,\n",
       "        -0., -0., -0., -0., -0., -0., -0., -0., -0., -0., -0., -0., -0.,\n",
       "        -0., -0., -0., -0., -0., -0., -0., -0., -0., -0., -0., -0., -0.,\n",
       "        -0., -0., -0., -0., -0., -0., -0., -0., -0., -0., -0., -0., -0.,\n",
       "        -0., -0., -0., -0., -0., -0., -0., -0., -0., -0., -0., -0., -0.,\n",
       "        -0., -0., -0., -0., -0., -0., -0., -0., -0., -0., -0., -0., -0.,\n",
       "        -0., -0., -0., -0., -0., -0., -0., -0., -0., -0., -0., -0., -0.,\n",
       "        -0., -0., -0., -0., -0., -0., -0., -0., -0., -0., -0., -0., -0.,\n",
       "        -0., -0., -0., -0., -0., -0., -0., -0., -0., -0., -0., -0., -0.,\n",
       "        -0., -0., -0., -0., -0., -0., -0., -0., -0., -0., -0., -0., -0.,\n",
       "        -0., -0., -0., -0., -0., -0., -0., -0., -0., -0., -0., -0., -0.,\n",
       "        -0., -0., -0., -0., -0., -0., -0., -0., -0., -0., -0., -0., -0.,\n",
       "        -0., -0., -0., -0., -0., -0., -0., -0., -0., -0., -0., -0., -0.,\n",
       "        -0., -0., -0., -0., -0., -0., -0., -0., -0., -0., -0., -0., -0.,\n",
       "        -0., -0., -0., -0., -0., -0., -0., -0., -0., -0., -0., -0., -0.,\n",
       "        -0., -0., -0., -0., -0., -0., -0., -0., -0., -0., -0., -0., -0.,\n",
       "        -0., -0., -0., -0., -0., -0., -0., -0., -0., -0., -0., -0., -0.,\n",
       "        -0., -0., -0., -0., -0., -0., -0., -0., -0., -0., -0., -0., -0.,\n",
       "        -0., -0., -0., -0., -0., -0., -0., -0., -0., -0., -0., -0., -0.,\n",
       "        -0., -0., -0., -0., -0., -0., -0., -0., -0., -0., -0., -0., -0.,\n",
       "        -0., -0., -0., -0., -0., -0., -0., -0., -0., -0., -0., -0., -0.,\n",
       "        -0., -0., -0., -0., -0., -0., -0., -0., -0., -0., -0., -0., -0.,\n",
       "        -0., -0., -0., -0., -0., -0., -0., -0., -0., -0., -0., -0., -0.,\n",
       "        -0., -0., -0., -0., -0., -0., -0., -0., -0., -0., -0., -0., -0.,\n",
       "        -0., -0., -0., -0., -0., -0., -0., -0., -0., -0., -0., -0., -0.,\n",
       "        -0., -0., -0., -0., -0., -0., -0., -0., -0., -0., -0., -0., -0.,\n",
       "        -0., -0., -0., -0., -0., -0., -0., -0., -0., -0., -0., -0., -0.,\n",
       "        -0., -0., -0., -0., -0., -0., -0., -0., -0., -0., -0., -0., -0.,\n",
       "        -0., -0., -0., -0., -0., -0., -0., -0., -0., -0., -0., -0., -0.]],\n",
       "      dtype=float32)"
      ]
     },
     "execution_count": 229,
     "metadata": {},
     "output_type": "execute_result"
    }
   ],
   "source": [
    "md.predict(np.array([[[[1]*28]*28]]).reshape(1,28,28,1))"
   ]
  },
  {
   "cell_type": "code",
   "execution_count": 244,
   "metadata": {},
   "outputs": [],
   "source": [
    "asdf = md.get_weights()[0].reshape(3,3)"
   ]
  },
  {
   "cell_type": "code",
   "execution_count": 230,
   "metadata": {},
   "outputs": [],
   "source": [
    "wds = md.get_weights()"
   ]
  },
  {
   "cell_type": "code",
   "execution_count": 231,
   "metadata": {},
   "outputs": [],
   "source": [
    "convp = wds[0]"
   ]
  },
  {
   "cell_type": "code",
   "execution_count": 232,
   "metadata": {},
   "outputs": [
    {
     "data": {
      "text/plain": [
       "(3, 3, 1, 1)"
      ]
     },
     "execution_count": 232,
     "metadata": {},
     "output_type": "execute_result"
    }
   ],
   "source": [
    "convp.shape"
   ]
  },
  {
   "cell_type": "code",
   "execution_count": 233,
   "metadata": {},
   "outputs": [],
   "source": [
    "c = convp.reshape(1, 3, 3, 1)"
   ]
  },
  {
   "cell_type": "code",
   "execution_count": 234,
   "metadata": {},
   "outputs": [],
   "source": [
    "d = c[0].reshape(3,3)"
   ]
  },
  {
   "cell_type": "code",
   "execution_count": 235,
   "metadata": {},
   "outputs": [],
   "source": [
    "import scipy.signal as signal"
   ]
  },
  {
   "cell_type": "code",
   "execution_count": 236,
   "metadata": {},
   "outputs": [],
   "source": [
    "a = np.array([[[1]*28]*28]).reshape(28,28)"
   ]
  },
  {
   "cell_type": "code",
   "execution_count": 245,
   "metadata": {},
   "outputs": [],
   "source": [
    "e = signal.convolve2d(a, asdf, mode='valid')"
   ]
  },
  {
   "cell_type": "code",
   "execution_count": 246,
   "metadata": {},
   "outputs": [
    {
     "data": {
      "text/plain": [
       "array([[-0.5030036, -0.5030036, -0.5030036, -0.5030036, -0.5030036,\n",
       "        -0.5030036, -0.5030036, -0.5030036, -0.5030036, -0.5030036,\n",
       "        -0.5030036, -0.5030036, -0.5030036, -0.5030036, -0.5030036,\n",
       "        -0.5030036, -0.5030036, -0.5030036, -0.5030036, -0.5030036,\n",
       "        -0.5030036, -0.5030036, -0.5030036, -0.5030036, -0.5030036,\n",
       "        -0.5030036],\n",
       "       [-0.5030036, -0.5030036, -0.5030036, -0.5030036, -0.5030036,\n",
       "        -0.5030036, -0.5030036, -0.5030036, -0.5030036, -0.5030036,\n",
       "        -0.5030036, -0.5030036, -0.5030036, -0.5030036, -0.5030036,\n",
       "        -0.5030036, -0.5030036, -0.5030036, -0.5030036, -0.5030036,\n",
       "        -0.5030036, -0.5030036, -0.5030036, -0.5030036, -0.5030036,\n",
       "        -0.5030036],\n",
       "       [-0.5030036, -0.5030036, -0.5030036, -0.5030036, -0.5030036,\n",
       "        -0.5030036, -0.5030036, -0.5030036, -0.5030036, -0.5030036,\n",
       "        -0.5030036, -0.5030036, -0.5030036, -0.5030036, -0.5030036,\n",
       "        -0.5030036, -0.5030036, -0.5030036, -0.5030036, -0.5030036,\n",
       "        -0.5030036, -0.5030036, -0.5030036, -0.5030036, -0.5030036,\n",
       "        -0.5030036],\n",
       "       [-0.5030036, -0.5030036, -0.5030036, -0.5030036, -0.5030036,\n",
       "        -0.5030036, -0.5030036, -0.5030036, -0.5030036, -0.5030036,\n",
       "        -0.5030036, -0.5030036, -0.5030036, -0.5030036, -0.5030036,\n",
       "        -0.5030036, -0.5030036, -0.5030036, -0.5030036, -0.5030036,\n",
       "        -0.5030036, -0.5030036, -0.5030036, -0.5030036, -0.5030036,\n",
       "        -0.5030036],\n",
       "       [-0.5030036, -0.5030036, -0.5030036, -0.5030036, -0.5030036,\n",
       "        -0.5030036, -0.5030036, -0.5030036, -0.5030036, -0.5030036,\n",
       "        -0.5030036, -0.5030036, -0.5030036, -0.5030036, -0.5030036,\n",
       "        -0.5030036, -0.5030036, -0.5030036, -0.5030036, -0.5030036,\n",
       "        -0.5030036, -0.5030036, -0.5030036, -0.5030036, -0.5030036,\n",
       "        -0.5030036],\n",
       "       [-0.5030036, -0.5030036, -0.5030036, -0.5030036, -0.5030036,\n",
       "        -0.5030036, -0.5030036, -0.5030036, -0.5030036, -0.5030036,\n",
       "        -0.5030036, -0.5030036, -0.5030036, -0.5030036, -0.5030036,\n",
       "        -0.5030036, -0.5030036, -0.5030036, -0.5030036, -0.5030036,\n",
       "        -0.5030036, -0.5030036, -0.5030036, -0.5030036, -0.5030036,\n",
       "        -0.5030036],\n",
       "       [-0.5030036, -0.5030036, -0.5030036, -0.5030036, -0.5030036,\n",
       "        -0.5030036, -0.5030036, -0.5030036, -0.5030036, -0.5030036,\n",
       "        -0.5030036, -0.5030036, -0.5030036, -0.5030036, -0.5030036,\n",
       "        -0.5030036, -0.5030036, -0.5030036, -0.5030036, -0.5030036,\n",
       "        -0.5030036, -0.5030036, -0.5030036, -0.5030036, -0.5030036,\n",
       "        -0.5030036],\n",
       "       [-0.5030036, -0.5030036, -0.5030036, -0.5030036, -0.5030036,\n",
       "        -0.5030036, -0.5030036, -0.5030036, -0.5030036, -0.5030036,\n",
       "        -0.5030036, -0.5030036, -0.5030036, -0.5030036, -0.5030036,\n",
       "        -0.5030036, -0.5030036, -0.5030036, -0.5030036, -0.5030036,\n",
       "        -0.5030036, -0.5030036, -0.5030036, -0.5030036, -0.5030036,\n",
       "        -0.5030036],\n",
       "       [-0.5030036, -0.5030036, -0.5030036, -0.5030036, -0.5030036,\n",
       "        -0.5030036, -0.5030036, -0.5030036, -0.5030036, -0.5030036,\n",
       "        -0.5030036, -0.5030036, -0.5030036, -0.5030036, -0.5030036,\n",
       "        -0.5030036, -0.5030036, -0.5030036, -0.5030036, -0.5030036,\n",
       "        -0.5030036, -0.5030036, -0.5030036, -0.5030036, -0.5030036,\n",
       "        -0.5030036],\n",
       "       [-0.5030036, -0.5030036, -0.5030036, -0.5030036, -0.5030036,\n",
       "        -0.5030036, -0.5030036, -0.5030036, -0.5030036, -0.5030036,\n",
       "        -0.5030036, -0.5030036, -0.5030036, -0.5030036, -0.5030036,\n",
       "        -0.5030036, -0.5030036, -0.5030036, -0.5030036, -0.5030036,\n",
       "        -0.5030036, -0.5030036, -0.5030036, -0.5030036, -0.5030036,\n",
       "        -0.5030036],\n",
       "       [-0.5030036, -0.5030036, -0.5030036, -0.5030036, -0.5030036,\n",
       "        -0.5030036, -0.5030036, -0.5030036, -0.5030036, -0.5030036,\n",
       "        -0.5030036, -0.5030036, -0.5030036, -0.5030036, -0.5030036,\n",
       "        -0.5030036, -0.5030036, -0.5030036, -0.5030036, -0.5030036,\n",
       "        -0.5030036, -0.5030036, -0.5030036, -0.5030036, -0.5030036,\n",
       "        -0.5030036],\n",
       "       [-0.5030036, -0.5030036, -0.5030036, -0.5030036, -0.5030036,\n",
       "        -0.5030036, -0.5030036, -0.5030036, -0.5030036, -0.5030036,\n",
       "        -0.5030036, -0.5030036, -0.5030036, -0.5030036, -0.5030036,\n",
       "        -0.5030036, -0.5030036, -0.5030036, -0.5030036, -0.5030036,\n",
       "        -0.5030036, -0.5030036, -0.5030036, -0.5030036, -0.5030036,\n",
       "        -0.5030036],\n",
       "       [-0.5030036, -0.5030036, -0.5030036, -0.5030036, -0.5030036,\n",
       "        -0.5030036, -0.5030036, -0.5030036, -0.5030036, -0.5030036,\n",
       "        -0.5030036, -0.5030036, -0.5030036, -0.5030036, -0.5030036,\n",
       "        -0.5030036, -0.5030036, -0.5030036, -0.5030036, -0.5030036,\n",
       "        -0.5030036, -0.5030036, -0.5030036, -0.5030036, -0.5030036,\n",
       "        -0.5030036],\n",
       "       [-0.5030036, -0.5030036, -0.5030036, -0.5030036, -0.5030036,\n",
       "        -0.5030036, -0.5030036, -0.5030036, -0.5030036, -0.5030036,\n",
       "        -0.5030036, -0.5030036, -0.5030036, -0.5030036, -0.5030036,\n",
       "        -0.5030036, -0.5030036, -0.5030036, -0.5030036, -0.5030036,\n",
       "        -0.5030036, -0.5030036, -0.5030036, -0.5030036, -0.5030036,\n",
       "        -0.5030036],\n",
       "       [-0.5030036, -0.5030036, -0.5030036, -0.5030036, -0.5030036,\n",
       "        -0.5030036, -0.5030036, -0.5030036, -0.5030036, -0.5030036,\n",
       "        -0.5030036, -0.5030036, -0.5030036, -0.5030036, -0.5030036,\n",
       "        -0.5030036, -0.5030036, -0.5030036, -0.5030036, -0.5030036,\n",
       "        -0.5030036, -0.5030036, -0.5030036, -0.5030036, -0.5030036,\n",
       "        -0.5030036],\n",
       "       [-0.5030036, -0.5030036, -0.5030036, -0.5030036, -0.5030036,\n",
       "        -0.5030036, -0.5030036, -0.5030036, -0.5030036, -0.5030036,\n",
       "        -0.5030036, -0.5030036, -0.5030036, -0.5030036, -0.5030036,\n",
       "        -0.5030036, -0.5030036, -0.5030036, -0.5030036, -0.5030036,\n",
       "        -0.5030036, -0.5030036, -0.5030036, -0.5030036, -0.5030036,\n",
       "        -0.5030036],\n",
       "       [-0.5030036, -0.5030036, -0.5030036, -0.5030036, -0.5030036,\n",
       "        -0.5030036, -0.5030036, -0.5030036, -0.5030036, -0.5030036,\n",
       "        -0.5030036, -0.5030036, -0.5030036, -0.5030036, -0.5030036,\n",
       "        -0.5030036, -0.5030036, -0.5030036, -0.5030036, -0.5030036,\n",
       "        -0.5030036, -0.5030036, -0.5030036, -0.5030036, -0.5030036,\n",
       "        -0.5030036],\n",
       "       [-0.5030036, -0.5030036, -0.5030036, -0.5030036, -0.5030036,\n",
       "        -0.5030036, -0.5030036, -0.5030036, -0.5030036, -0.5030036,\n",
       "        -0.5030036, -0.5030036, -0.5030036, -0.5030036, -0.5030036,\n",
       "        -0.5030036, -0.5030036, -0.5030036, -0.5030036, -0.5030036,\n",
       "        -0.5030036, -0.5030036, -0.5030036, -0.5030036, -0.5030036,\n",
       "        -0.5030036],\n",
       "       [-0.5030036, -0.5030036, -0.5030036, -0.5030036, -0.5030036,\n",
       "        -0.5030036, -0.5030036, -0.5030036, -0.5030036, -0.5030036,\n",
       "        -0.5030036, -0.5030036, -0.5030036, -0.5030036, -0.5030036,\n",
       "        -0.5030036, -0.5030036, -0.5030036, -0.5030036, -0.5030036,\n",
       "        -0.5030036, -0.5030036, -0.5030036, -0.5030036, -0.5030036,\n",
       "        -0.5030036],\n",
       "       [-0.5030036, -0.5030036, -0.5030036, -0.5030036, -0.5030036,\n",
       "        -0.5030036, -0.5030036, -0.5030036, -0.5030036, -0.5030036,\n",
       "        -0.5030036, -0.5030036, -0.5030036, -0.5030036, -0.5030036,\n",
       "        -0.5030036, -0.5030036, -0.5030036, -0.5030036, -0.5030036,\n",
       "        -0.5030036, -0.5030036, -0.5030036, -0.5030036, -0.5030036,\n",
       "        -0.5030036],\n",
       "       [-0.5030036, -0.5030036, -0.5030036, -0.5030036, -0.5030036,\n",
       "        -0.5030036, -0.5030036, -0.5030036, -0.5030036, -0.5030036,\n",
       "        -0.5030036, -0.5030036, -0.5030036, -0.5030036, -0.5030036,\n",
       "        -0.5030036, -0.5030036, -0.5030036, -0.5030036, -0.5030036,\n",
       "        -0.5030036, -0.5030036, -0.5030036, -0.5030036, -0.5030036,\n",
       "        -0.5030036],\n",
       "       [-0.5030036, -0.5030036, -0.5030036, -0.5030036, -0.5030036,\n",
       "        -0.5030036, -0.5030036, -0.5030036, -0.5030036, -0.5030036,\n",
       "        -0.5030036, -0.5030036, -0.5030036, -0.5030036, -0.5030036,\n",
       "        -0.5030036, -0.5030036, -0.5030036, -0.5030036, -0.5030036,\n",
       "        -0.5030036, -0.5030036, -0.5030036, -0.5030036, -0.5030036,\n",
       "        -0.5030036],\n",
       "       [-0.5030036, -0.5030036, -0.5030036, -0.5030036, -0.5030036,\n",
       "        -0.5030036, -0.5030036, -0.5030036, -0.5030036, -0.5030036,\n",
       "        -0.5030036, -0.5030036, -0.5030036, -0.5030036, -0.5030036,\n",
       "        -0.5030036, -0.5030036, -0.5030036, -0.5030036, -0.5030036,\n",
       "        -0.5030036, -0.5030036, -0.5030036, -0.5030036, -0.5030036,\n",
       "        -0.5030036],\n",
       "       [-0.5030036, -0.5030036, -0.5030036, -0.5030036, -0.5030036,\n",
       "        -0.5030036, -0.5030036, -0.5030036, -0.5030036, -0.5030036,\n",
       "        -0.5030036, -0.5030036, -0.5030036, -0.5030036, -0.5030036,\n",
       "        -0.5030036, -0.5030036, -0.5030036, -0.5030036, -0.5030036,\n",
       "        -0.5030036, -0.5030036, -0.5030036, -0.5030036, -0.5030036,\n",
       "        -0.5030036],\n",
       "       [-0.5030036, -0.5030036, -0.5030036, -0.5030036, -0.5030036,\n",
       "        -0.5030036, -0.5030036, -0.5030036, -0.5030036, -0.5030036,\n",
       "        -0.5030036, -0.5030036, -0.5030036, -0.5030036, -0.5030036,\n",
       "        -0.5030036, -0.5030036, -0.5030036, -0.5030036, -0.5030036,\n",
       "        -0.5030036, -0.5030036, -0.5030036, -0.5030036, -0.5030036,\n",
       "        -0.5030036],\n",
       "       [-0.5030036, -0.5030036, -0.5030036, -0.5030036, -0.5030036,\n",
       "        -0.5030036, -0.5030036, -0.5030036, -0.5030036, -0.5030036,\n",
       "        -0.5030036, -0.5030036, -0.5030036, -0.5030036, -0.5030036,\n",
       "        -0.5030036, -0.5030036, -0.5030036, -0.5030036, -0.5030036,\n",
       "        -0.5030036, -0.5030036, -0.5030036, -0.5030036, -0.5030036,\n",
       "        -0.5030036]])"
      ]
     },
     "execution_count": 246,
     "metadata": {},
     "output_type": "execute_result"
    }
   ],
   "source": [
    "e"
   ]
  },
  {
   "cell_type": "code",
   "execution_count": 206,
   "metadata": {},
   "outputs": [
    {
     "ename": "ValueError",
     "evalue": "volume and kernel should have the same dimensionality",
     "output_type": "error",
     "traceback": [
      "\u001b[0;31m---------------------------------------------------------------------------\u001b[0m",
      "\u001b[0;31mValueError\u001b[0m                                Traceback (most recent call last)",
      "\u001b[0;32m<ipython-input-206-439ea0e1729b>\u001b[0m in \u001b[0;36m<module>\u001b[0;34m\u001b[0m\n\u001b[0;32m----> 1\u001b[0;31m \u001b[0msignal\u001b[0m\u001b[0;34m.\u001b[0m\u001b[0mconvolve\u001b[0m\u001b[0;34m(\u001b[0m\u001b[0me\u001b[0m\u001b[0;34m,\u001b[0m \u001b[0mnp\u001b[0m\u001b[0;34m.\u001b[0m\u001b[0marray\u001b[0m\u001b[0;34m(\u001b[0m\u001b[0;34m[\u001b[0m\u001b[0;36m1\u001b[0m\u001b[0;34m]\u001b[0m\u001b[0;34m*\u001b[0m\u001b[0;36m32\u001b[0m\u001b[0;34m)\u001b[0m\u001b[0;34m)\u001b[0m\u001b[0;34m\u001b[0m\u001b[0;34m\u001b[0m\u001b[0m\n\u001b[0m",
      "\u001b[0;32m/anaconda3/lib/python3.6/site-packages/scipy/signal/signaltools.py\u001b[0m in \u001b[0;36mconvolve\u001b[0;34m(in1, in2, mode, method)\u001b[0m\n\u001b[1;32m    789\u001b[0m         \u001b[0;32mreturn\u001b[0m \u001b[0mvolume\u001b[0m \u001b[0;34m*\u001b[0m \u001b[0mkernel\u001b[0m\u001b[0;34m\u001b[0m\u001b[0;34m\u001b[0m\u001b[0m\n\u001b[1;32m    790\u001b[0m     \u001b[0;32melif\u001b[0m \u001b[0mvolume\u001b[0m\u001b[0;34m.\u001b[0m\u001b[0mndim\u001b[0m \u001b[0;34m!=\u001b[0m \u001b[0mkernel\u001b[0m\u001b[0;34m.\u001b[0m\u001b[0mndim\u001b[0m\u001b[0;34m:\u001b[0m\u001b[0;34m\u001b[0m\u001b[0;34m\u001b[0m\u001b[0m\n\u001b[0;32m--> 791\u001b[0;31m         raise ValueError(\"volume and kernel should have the same \"\n\u001b[0m\u001b[1;32m    792\u001b[0m                          \"dimensionality\")\n\u001b[1;32m    793\u001b[0m \u001b[0;34m\u001b[0m\u001b[0m\n",
      "\u001b[0;31mValueError\u001b[0m: volume and kernel should have the same dimensionality"
     ]
    }
   ],
   "source": [
    "signal.convolve(e, )"
   ]
  },
  {
   "cell_type": "code",
   "execution_count": null,
   "metadata": {},
   "outputs": [],
   "source": []
  }
 ],
 "metadata": {
  "kernelspec": {
   "display_name": "Python 3",
   "language": "python",
   "name": "python3"
  },
  "language_info": {
   "codemirror_mode": {
    "name": "ipython",
    "version": 3
   },
   "file_extension": ".py",
   "mimetype": "text/x-python",
   "name": "python",
   "nbconvert_exporter": "python",
   "pygments_lexer": "ipython3",
   "version": "3.6.8"
  }
 },
 "nbformat": 4,
 "nbformat_minor": 2
}
