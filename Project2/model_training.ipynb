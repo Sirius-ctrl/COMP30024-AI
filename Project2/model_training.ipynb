{
 "cells": [
  {
   "cell_type": "code",
   "execution_count": 1,
   "metadata": {},
   "outputs": [],
   "source": [
    "CELLS = [(q, r) for q in range(-3, +3 + 1) for r in range(-3, +3 + 1) if -q - r in range(-3, +3 + 1)]"
   ]
  },
  {
   "cell_type": "code",
   "execution_count": 18,
   "metadata": {},
   "outputs": [],
   "source": [
    "import tensorflow as tf\n",
    "import numpy as np\n",
    "from keras import models, layers\n",
    "from keras.models import load_model\n",
    "import json\n",
    "import pickle\n",
    "import os\n",
    "from os.path import join\n",
    "import subprocess\n",
    "import json\n",
    "import VanGame.utils as utils"
   ]
  },
  {
   "cell_type": "code",
   "execution_count": 5,
   "metadata": {
    "scrolled": true
   },
   "outputs": [],
   "source": [
    "sequence = sorted([p for p in CELLS])"
   ]
  },
  {
   "cell_type": "code",
   "execution_count": 6,
   "metadata": {},
   "outputs": [],
   "source": [
    "a = np.array([[1]*39])\n",
    "b = [500]"
   ]
  },
  {
   "cell_type": "code",
   "execution_count": 7,
   "metadata": {},
   "outputs": [],
   "source": [
    "def build_model():\n",
    "    model = models.Sequential()\n",
    "    model.add(layers.Dense(200,activation='relu', input_shape=(39,)))\n",
    "    model.add(layers.Dense(500, activation='relu'))\n",
    "    model.add(layers.Dense(500, activation='relu'))\n",
    "    model.add(layers.Dense(200, activation='relu'))\n",
    "    model.add(layers.Dense(1))\n",
    "    model.compile(optimizer='rmsprop', loss='mse')\n",
    "    return model"
   ]
  },
  {
   "cell_type": "code",
   "execution_count": 257,
   "metadata": {},
   "outputs": [],
   "source": [
    "model = build_model()"
   ]
  },
  {
   "cell_type": "code",
   "execution_count": 107,
   "metadata": {},
   "outputs": [],
   "source": [
    "try:\n",
    "    model = load_model('VanGame/my_model.h5')\n",
    "except:\n",
    "    print(\"none model found\")\n",
    "    model = build_model()"
   ]
  },
  {
   "cell_type": "code",
   "execution_count": 14,
   "metadata": {},
   "outputs": [
    {
     "name": "stdout",
     "output_type": "stream",
     "text": [
      "'[1win]1556539493.0caoredjiba.txt'  '[2zzz]1556539494.0caoredjiba.txt'\r\n",
      "'[1win]1556539499.0caoredjiba.txt'  '[2zzz]1556539497.0caoredjiba.txt'\r\n",
      "'[1win]1556539502.0caoredjiba.txt'  '[2zzz]1556539500.0caoredjiba.txt'\r\n",
      "'[1win]1556539504.0caoredjiba.txt'  '[2zzz]1556539508.0caoredjiba.txt'\r\n",
      "'[1win]1556539506.0caoredjiba.txt'  '[2zzz]1556539509.0caoredjiba.txt'\r\n",
      "'[2zzz]1556539486.0caoredjiba.txt'  '[2zzz]1556539510.0caoredjiba.txt'\r\n",
      "'[2zzz]1556539487.0caoredjiba.txt'  '[2zzz]1556539511.0caoredjiba.txt'\r\n",
      "'[2zzz]1556539488.0caoredjiba.txt'  '[2zzz]1556539512.0caoredjiba.txt'\r\n",
      "'[2zzz]1556539489.0caoredjiba.txt'  '[2zzz]1556539513.0caoredjiba.txt'\r\n",
      "'[2zzz]1556539491.0caoredjiba.txt'  '[2zzz]1556539514.0caoredjiba.txt'\r\n"
     ]
    }
   ],
   "source": [
    "!ls 'rec'"
   ]
  },
  {
   "cell_type": "code",
   "execution_count": 24,
   "metadata": {},
   "outputs": [],
   "source": [
    "def bash_call(c:[str]) -> None:\n",
    "    res = subprocess.check_output(c)\n",
    "    ls = []\n",
    "    for line in res.splitlines():\n",
    "        line = line.decode('utf-8')\n",
    "        ls.append(line)\n",
    "    return ls"
   ]
  },
  {
   "cell_type": "code",
   "execution_count": 25,
   "metadata": {},
   "outputs": [],
   "source": [
    "def join_list(l):\n",
    "    res = \"\"\n",
    "    for i in l:\n",
    "        res += i + \"/\"\n",
    "    \n",
    "    res = res[:-1]\n",
    "    return res"
   ]
  },
  {
   "cell_type": "code",
   "execution_count": 26,
   "metadata": {},
   "outputs": [],
   "source": [
    "def load_logs():\n",
    "    datapath = join(os.getcwd(),'rec/')\n",
    "    files = bash_call(['ls', datapath])\n",
    "    return files"
   ]
  },
  {
   "cell_type": "code",
   "execution_count": 258,
   "metadata": {},
   "outputs": [],
   "source": [
    "def PG_log(filename, condition=None, value_check=False):\n",
    "    \n",
    "    if (condition != None) and (condition not in filename):\n",
    "        return False, False\n",
    "    \n",
    "    #print(filename)\n",
    "    \n",
    "    states, color = utils.load_l('rec/'+filename)\n",
    "    \n",
    "    train = []\n",
    "    value = []\n",
    "    \n",
    "    for s in states:\n",
    "        board = []\n",
    "        # add board\n",
    "        for cord in sequence:\n",
    "            board.append(s['board'][cord])\n",
    "        # color \n",
    "        board.append(color)\n",
    "        board.append(s['d_heur'])\n",
    "        train.append(board)\n",
    "        value.append(s['rew'])\n",
    "        \n",
    "    if value_check:\n",
    "        print(value)\n",
    "        \n",
    "    value.reverse()\n",
    "    decay = 0.95\n",
    "    curr_decay = 0.95\n",
    "    for i in range(1, len(value)):\n",
    "        value[i] += value[i-1] * curr_decay\n",
    "        curr_decay *= decay\n",
    "    \n",
    "    value.reverse()\n",
    "    \n",
    "    if value_check:\n",
    "        print(value)\n",
    "    \n",
    "    return train, value"
   ]
  },
  {
   "cell_type": "code",
   "execution_count": 259,
   "metadata": {},
   "outputs": [],
   "source": [
    "def reload_model():\n",
    "    del model  # deletes the existing model\n",
    "\n",
    "    # returns a compiled model\n",
    "    # identical to the previous one\n",
    "    model = load_model('my_model.h5')\n"
   ]
  },
  {
   "cell_type": "code",
   "execution_count": 260,
   "metadata": {},
   "outputs": [],
   "source": [
    "def save_model():\n",
    "    model.save('my_model.h5')  # creates a HDF5 file 'my_model.h5'\n",
    "    with open('trained_model', 'wb') as f:\n",
    "        pickle.dump(model.get_weights(), f)"
   ]
  },
  {
   "cell_type": "code",
   "execution_count": 261,
   "metadata": {
    "scrolled": true
   },
   "outputs": [],
   "source": [
    "def train(save=True):\n",
    "    logfs = load_logs()\n",
    "    train_set = []\n",
    "    target_set = []\n",
    "    \n",
    "    for logf in logfs:\n",
    "        train, value = PG_log(logf)\n",
    "        if train:\n",
    "            #print(len(train), len(value))\n",
    "            #print(train[-1])\n",
    "            train_set += train\n",
    "            target_set += value\n",
    "\n",
    "    model.fit(np.array(train_set), target_set, epochs=3, batch_size=1)\n",
    "    if save:\n",
    "        print(\"saved\")\n",
    "        save_model()   "
   ]
  },
  {
   "cell_type": "code",
   "execution_count": 145,
   "metadata": {
    "scrolled": true
   },
   "outputs": [
    {
     "name": "stdout",
     "output_type": "stream",
     "text": [
      "[1win]1556549315.0caoredjiba.txt\n",
      "[1win]1556549321.0caoredjiba.txt\n",
      "[2zzz]1556549305.0caoredjiba.txt\n",
      "[2zzz]1556549307.0caoredjiba.txt\n",
      "[2zzz]1556549308.0caoredjiba.txt\n",
      "[2zzz]1556549309.0caoredjiba.txt\n",
      "[2zzz]1556549311.0caoredjiba.txt\n",
      "Epoch 1/3\n",
      "304/304 [==============================] - 2s 6ms/step - loss: 4546.4440\n",
      "Epoch 2/3\n",
      "304/304 [==============================] - 2s 6ms/step - loss: 3489.6866\n",
      "Epoch 3/3\n",
      "304/304 [==============================] - 2s 7ms/step - loss: 2265.0692\n",
      "saved\n"
     ]
    }
   ],
   "source": [
    "train()"
   ]
  },
  {
   "cell_type": "code",
   "execution_count": 262,
   "metadata": {},
   "outputs": [],
   "source": [
    "save_model()"
   ]
  },
  {
   "cell_type": "code",
   "execution_count": 106,
   "metadata": {},
   "outputs": [],
   "source": [
    "del model"
   ]
  },
  {
   "cell_type": "code",
   "execution_count": 263,
   "metadata": {},
   "outputs": [
    {
     "data": {
      "text/plain": [
       "array([[-0.01214426],\n",
       "       [-0.00607213]], dtype=float32)"
      ]
     },
     "execution_count": 263,
     "metadata": {},
     "output_type": "execute_result"
    }
   ],
   "source": [
    "model.predict(np.array([[1]*39,[0.5]*39]))"
   ]
  },
  {
   "cell_type": "code",
   "execution_count": 52,
   "metadata": {},
   "outputs": [],
   "source": [
    "def clean_log(logs):\n",
    "    !rm '/Users/xinyaoniu/Documents/COMP30024-AI/Project2/rec/' *"
   ]
  },
  {
   "cell_type": "code",
   "execution_count": 53,
   "metadata": {},
   "outputs": [
    {
     "name": "stdout",
     "output_type": "stream",
     "text": [
      "rm: cannot remove '/Users/xinyaoniu/Documents/COMP30024-AI/Project2/rec/': Is a directory\r\n",
      "rm: cannot remove '__pycache__': Is a directory\r\n"
     ]
    }
   ],
   "source": [
    "clean_log(logfs)"
   ]
  },
  {
   "cell_type": "code",
   "execution_count": 110,
   "metadata": {},
   "outputs": [
    {
     "data": {
      "text/plain": [
       "'/Users/xinyaoniu/Documents/COMP30024-AI/Project2'"
      ]
     },
     "execution_count": 110,
     "metadata": {},
     "output_type": "execute_result"
    }
   ],
   "source": [
    "os.getcwd()"
   ]
  },
  {
   "cell_type": "code",
   "execution_count": 146,
   "metadata": {
    "scrolled": true
   },
   "outputs": [
    {
     "name": "stdout",
     "output_type": "stream",
     "text": [
      "removed './rec/[1win]1556549315.0caoredjiba.txt'\r\n",
      "removed './rec/[1win]1556549321.0caoredjiba.txt'\r\n",
      "removed './rec/[2zzz]1556549305.0caoredjiba.txt'\r\n",
      "removed './rec/[2zzz]1556549307.0caoredjiba.txt'\r\n",
      "removed './rec/[2zzz]1556549308.0caoredjiba.txt'\r\n",
      "removed './rec/[2zzz]1556549309.0caoredjiba.txt'\r\n",
      "removed './rec/[2zzz]1556549311.0caoredjiba.txt'\r\n"
     ]
    }
   ],
   "source": [
    "!rm -v ./rec/*"
   ]
  },
  {
   "cell_type": "code",
   "execution_count": 153,
   "metadata": {},
   "outputs": [],
   "source": [
    "def full_train_cycle(n):\n",
    "    for i in range(n):\n",
    "        !python3 -m referee VanGame HardCode HardCode -l logtry -v 0\n",
    "    train()\n",
    "    !rm -v ./rec/*"
   ]
  },
  {
   "cell_type": "code",
   "execution_count": 265,
   "metadata": {
    "scrolled": true
   },
   "outputs": [
    {
     "name": "stdout",
     "output_type": "stream",
     "text": [
      "* NOTE: unable to measure memory usage on this platform (try dimefox)\n",
      "* winner: Red\n",
      "* NOTE: unable to measure memory usage on this platform (try dimefox)\n",
      "* winner: Blue\n",
      "* NOTE: unable to measure memory usage on this platform (try dimefox)\n",
      "* winner: Green\n",
      "* NOTE: unable to measure memory usage on this platform (try dimefox)\n",
      "* winner: Blue\n",
      "* NOTE: unable to measure memory usage on this platform (try dimefox)\n",
      "* winner: Green\n",
      "* NOTE: unable to measure memory usage on this platform (try dimefox)\n",
      "* winner: Blue\n",
      "* NOTE: unable to measure memory usage on this platform (try dimefox)\n",
      "* winner: Green\n",
      "* NOTE: unable to measure memory usage on this platform (try dimefox)\n",
      "* winner: Red\n",
      "* NOTE: unable to measure memory usage on this platform (try dimefox)\n",
      "* winner: Blue\n",
      "* NOTE: unable to measure memory usage on this platform (try dimefox)\n",
      "* winner: Green\n",
      "Epoch 1/3\n",
      "253/253 [==============================] - 2s 6ms/step - loss: 14538.7964\n",
      "Epoch 2/3\n",
      "253/253 [==============================] - 2s 7ms/step - loss: 5600.3405\n",
      "Epoch 3/3\n",
      "253/253 [==============================] - 2s 7ms/step - loss: 3208.1941\n",
      "saved\n",
      "removed './rec/[1win]1556599387.0caoredjiba.txt'\n",
      "removed './rec/[1win]1556599396.0caoredjiba.txt'\n",
      "removed './rec/[2zzz]1556599389.0caoredjiba.txt'\n",
      "removed './rec/[2zzz]1556599391.0caoredjiba.txt'\n",
      "removed './rec/[2zzz]1556599392.0caoredjiba.txt'\n",
      "removed './rec/[2zzz]1556599393.0caoredjiba.txt'\n",
      "removed './rec/[2zzz]1556599394.0caoredjiba.txt'\n",
      "removed './rec/[2zzz]1556599397.0caoredjiba.txt'\n",
      "removed './rec/[2zzz]1556599398.0caoredjiba.txt'\n",
      "* NOTE: unable to measure memory usage on this platform (try dimefox)\n",
      "* winner: Red\n",
      "* NOTE: unable to measure memory usage on this platform (try dimefox)\n",
      "* winner: Red\n",
      "* NOTE: unable to measure memory usage on this platform (try dimefox)\n",
      "* winner: Red\n",
      "* NOTE: unable to measure memory usage on this platform (try dimefox)\n",
      "* winner: Blue\n",
      "* NOTE: unable to measure memory usage on this platform (try dimefox)\n",
      "* winner: Green\n",
      "* NOTE: unable to measure memory usage on this platform (try dimefox)\n",
      "* winner: Blue\n",
      "* NOTE: unable to measure memory usage on this platform (try dimefox)\n",
      "* winner: Red\n",
      "* NOTE: unable to measure memory usage on this platform (try dimefox)\n",
      "* winner: Green\n",
      "* NOTE: unable to measure memory usage on this platform (try dimefox)\n",
      "* winner: Red\n",
      "* NOTE: unable to measure memory usage on this platform (try dimefox)\n",
      "* winner: Red\n",
      "Epoch 1/3\n",
      "473/473 [==============================] - 3s 7ms/step - loss: 6255.4289\n",
      "Epoch 2/3\n",
      "473/473 [==============================] - 3s 7ms/step - loss: 4079.9958\n",
      "Epoch 3/3\n",
      "473/473 [==============================] - 3s 7ms/step - loss: 2007.4636\n",
      "saved\n",
      "removed './rec/[1win]1556599405.0caoredjiba.txt'\n",
      "removed './rec/[1win]1556599407.0caoredjiba.txt'\n",
      "removed './rec/[1win]1556599409.0caoredjiba.txt'\n",
      "removed './rec/[1win]1556599415.0caoredjiba.txt'\n",
      "removed './rec/[1win]1556599419.0caoredjiba.txt'\n",
      "removed './rec/[1win]1556599421.0caoredjiba.txt'\n",
      "removed './rec/[2zzz]1556599410.0caoredjiba.txt'\n",
      "removed './rec/[2zzz]1556599412.0caoredjiba.txt'\n",
      "removed './rec/[2zzz]1556599413.0caoredjiba.txt'\n",
      "removed './rec/[2zzz]1556599416.0caoredjiba.txt'\n",
      "* NOTE: unable to measure memory usage on this platform (try dimefox)\n",
      "* winner: Green\n",
      "* NOTE: unable to measure memory usage on this platform (try dimefox)\n",
      "* winner: Blue\n",
      "* NOTE: unable to measure memory usage on this platform (try dimefox)\n",
      "* winner: Blue\n",
      "* NOTE: unable to measure memory usage on this platform (try dimefox)\n",
      "* winner: Green\n",
      "* NOTE: unable to measure memory usage on this platform (try dimefox)\n",
      "* winner: Green\n",
      "* NOTE: unable to measure memory usage on this platform (try dimefox)\n",
      "* winner: Green\n",
      "* NOTE: unable to measure memory usage on this platform (try dimefox)\n",
      "* winner: Blue\n",
      "* NOTE: unable to measure memory usage on this platform (try dimefox)\n",
      "* winner: Blue\n",
      "* NOTE: unable to measure memory usage on this platform (try dimefox)\n",
      "* winner: Blue\n",
      "* NOTE: unable to measure memory usage on this platform (try dimefox)\n",
      "* winner: Green\n",
      "Epoch 1/3\n",
      "276/276 [==============================] - 2s 7ms/step - loss: 17161.0401\n",
      "Epoch 2/3\n",
      "276/276 [==============================] - 2s 7ms/step - loss: 8029.1009\n",
      "Epoch 3/3\n",
      "276/276 [==============================] - 2s 7ms/step - loss: 5106.7402\n",
      "saved\n",
      "removed './rec/[2zzz]1556599433.0caoredjiba.txt'\n",
      "removed './rec/[2zzz]1556599434.0caoredjiba.txt'\n",
      "removed './rec/[2zzz]1556599436.0caoredjiba.txt'\n",
      "removed './rec/[2zzz]1556599437.0caoredjiba.txt'\n",
      "removed './rec/[2zzz]1556599439.0caoredjiba.txt'\n",
      "removed './rec/[2zzz]1556599440.0caoredjiba.txt'\n",
      "removed './rec/[2zzz]1556599442.0caoredjiba.txt'\n",
      "removed './rec/[2zzz]1556599443.0caoredjiba.txt'\n",
      "removed './rec/[2zzz]1556599444.0caoredjiba.txt'\n",
      "removed './rec/[2zzz]1556599445.0caoredjiba.txt'\n",
      "* NOTE: unable to measure memory usage on this platform (try dimefox)\n",
      "* winner: Blue\n",
      "* NOTE: unable to measure memory usage on this platform (try dimefox)\n",
      "* winner: Green\n",
      "* NOTE: unable to measure memory usage on this platform (try dimefox)\n",
      "* winner: Green\n",
      "* NOTE: unable to measure memory usage on this platform (try dimefox)\n",
      "* winner: Blue\n",
      "* NOTE: unable to measure memory usage on this platform (try dimefox)\n",
      "* winner: Red\n",
      "* NOTE: unable to measure memory usage on this platform (try dimefox)\n",
      "* winner: Green\n",
      "* NOTE: unable to measure memory usage on this platform (try dimefox)\n",
      "* winner: Blue\n",
      "* NOTE: unable to measure memory usage on this platform (try dimefox)\n",
      "* winner: Green\n",
      "* NOTE: unable to measure memory usage on this platform (try dimefox)\n",
      "* winner: Blue\n",
      "* NOTE: unable to measure memory usage on this platform (try dimefox)\n",
      "* winner: Red\n",
      "Epoch 1/3\n",
      "344/344 [==============================] - 2s 7ms/step - loss: 11068.8285\n",
      "Epoch 2/3\n",
      "344/344 [==============================] - 3s 8ms/step - loss: 6020.2863\n",
      "Epoch 3/3\n",
      "344/344 [==============================] - 3s 7ms/step - loss: 3925.6227\n",
      "saved\n",
      "removed './rec/[1win]1556599461.0caoredjiba.txt'\n",
      "removed './rec/[1win]1556599469.0caoredjiba.txt'\n",
      "removed './rec/[2zzz]1556599453.0caoredjiba.txt'\n",
      "removed './rec/[2zzz]1556599454.0caoredjiba.txt'\n",
      "removed './rec/[2zzz]1556599455.0caoredjiba.txt'\n",
      "removed './rec/[2zzz]1556599457.0caoredjiba.txt'\n",
      "removed './rec/[2zzz]1556599462.0caoredjiba.txt'\n",
      "removed './rec/[2zzz]1556599464.0caoredjiba.txt'\n",
      "removed './rec/[2zzz]1556599465.0caoredjiba.txt'\n",
      "removed './rec/[2zzz]1556599466.0caoredjiba.txt'\n",
      "* NOTE: unable to measure memory usage on this platform (try dimefox)\n",
      "* winner: Blue\n",
      "* NOTE: unable to measure memory usage on this platform (try dimefox)\n",
      "* winner: Green\n",
      "* NOTE: unable to measure memory usage on this platform (try dimefox)\n",
      "* winner: Blue\n",
      "* NOTE: unable to measure memory usage on this platform (try dimefox)\n",
      "* winner: Blue\n",
      "* NOTE: unable to measure memory usage on this platform (try dimefox)\n",
      "* winner: Red\n",
      "* NOTE: unable to measure memory usage on this platform (try dimefox)\n",
      "* winner: Blue\n",
      "* NOTE: unable to measure memory usage on this platform (try dimefox)\n",
      "* winner: Red\n",
      "* NOTE: unable to measure memory usage on this platform (try dimefox)\n",
      "* winner: Red\n",
      "* NOTE: unable to measure memory usage on this platform (try dimefox)\n",
      "* winner: Green\n",
      "* NOTE: unable to measure memory usage on this platform (try dimefox)\n",
      "* winner: Red\n",
      "Epoch 1/3\n",
      "426/426 [==============================] - 3s 7ms/step - loss: 10230.5046\n",
      "Epoch 2/3\n",
      "426/426 [==============================] - 3s 7ms/step - loss: 5852.3421\n",
      "Epoch 3/3\n",
      "426/426 [==============================] - 3s 7ms/step - loss: 3787.3422\n",
      "saved\n",
      "removed './rec/[1win]1556599488.0caoredjiba.txt'\n",
      "removed './rec/[1win]1556599493.0caoredjiba.txt'\n",
      "removed './rec/[1win]1556599495.0caoredjiba.txt'\n",
      "removed './rec/[1win]1556599500.0caoredjiba.txt'\n",
      "removed './rec/[2zzz]1556599479.0caoredjiba.txt'\n",
      "removed './rec/[2zzz]1556599480.0caoredjiba.txt'\n",
      "removed './rec/[2zzz]1556599482.0caoredjiba.txt'\n",
      "removed './rec/[2zzz]1556599483.0caoredjiba.txt'\n",
      "removed './rec/[2zzz]1556599489.0caoredjiba.txt'\n",
      "removed './rec/[2zzz]1556599497.0caoredjiba.txt'\n"
     ]
    }
   ],
   "source": [
    "for i in range(5):\n",
    "    full_train_cycle(10)"
   ]
  },
  {
   "cell_type": "code",
   "execution_count": 226,
   "metadata": {},
   "outputs": [],
   "source": [
    "from keras.models import Sequential\n",
    "from keras.layers import Dense, Conv2D, Flatten\n",
    "#create model\n",
    "md = Sequential()\n",
    "#add model layers\n",
    "md.add(Conv2D(1, kernel_size=3, activation='relu', input_shape=(28,28,1), use_bias=False))\n",
    "#md.add(layers.MaxPooling2D(2,2))\n",
    "#md.add(Conv2D(64, kernel_size=3, activation='relu', use_bias=False))\n",
    "#md.add(layers.MaxPooling2D(2,2))\n",
    "#md.add(Conv2D(64, kernel_size=3, activation='relu', use_bias=False))\n",
    "md.add(Flatten())\n",
    "md.compile(optimizer='adam', loss='mse')"
   ]
  },
  {
   "cell_type": "code",
   "execution_count": 227,
   "metadata": {},
   "outputs": [
    {
     "name": "stdout",
     "output_type": "stream",
     "text": [
      "(3, 3, 1, 1)\n"
     ]
    }
   ],
   "source": [
    "for i in md.get_weights():\n",
    "    print(i.shape)"
   ]
  },
  {
   "cell_type": "code",
   "execution_count": 228,
   "metadata": {},
   "outputs": [
    {
     "name": "stdout",
     "output_type": "stream",
     "text": [
      "_________________________________________________________________\n",
      "Layer (type)                 Output Shape              Param #   \n",
      "=================================================================\n",
      "conv2d_24 (Conv2D)           (None, 26, 26, 1)         9         \n",
      "_________________________________________________________________\n",
      "flatten_9 (Flatten)          (None, 676)               0         \n",
      "=================================================================\n",
      "Total params: 9\n",
      "Trainable params: 9\n",
      "Non-trainable params: 0\n",
      "_________________________________________________________________\n"
     ]
    }
   ],
   "source": [
    "md.summary()"
   ]
  },
  {
   "cell_type": "code",
   "execution_count": 229,
   "metadata": {},
   "outputs": [
    {
     "data": {
      "text/plain": [
       "array([[-0., -0., -0., -0., -0., -0., -0., -0., -0., -0., -0., -0., -0.,\n",
       "        -0., -0., -0., -0., -0., -0., -0., -0., -0., -0., -0., -0., -0.,\n",
       "        -0., -0., -0., -0., -0., -0., -0., -0., -0., -0., -0., -0., -0.,\n",
       "        -0., -0., -0., -0., -0., -0., -0., -0., -0., -0., -0., -0., -0.,\n",
       "        -0., -0., -0., -0., -0., -0., -0., -0., -0., -0., -0., -0., -0.,\n",
       "        -0., -0., -0., -0., -0., -0., -0., -0., -0., -0., -0., -0., -0.,\n",
       "        -0., -0., -0., -0., -0., -0., -0., -0., -0., -0., -0., -0., -0.,\n",
       "        -0., -0., -0., -0., -0., -0., -0., -0., -0., -0., -0., -0., -0.,\n",
       "        -0., -0., -0., -0., -0., -0., -0., -0., -0., -0., -0., -0., -0.,\n",
       "        -0., -0., -0., -0., -0., -0., -0., -0., -0., -0., -0., -0., -0.,\n",
       "        -0., -0., -0., -0., -0., -0., -0., -0., -0., -0., -0., -0., -0.,\n",
       "        -0., -0., -0., -0., -0., -0., -0., -0., -0., -0., -0., -0., -0.,\n",
       "        -0., -0., -0., -0., -0., -0., -0., -0., -0., -0., -0., -0., -0.,\n",
       "        -0., -0., -0., -0., -0., -0., -0., -0., -0., -0., -0., -0., -0.,\n",
       "        -0., -0., -0., -0., -0., -0., -0., -0., -0., -0., -0., -0., -0.,\n",
       "        -0., -0., -0., -0., -0., -0., -0., -0., -0., -0., -0., -0., -0.,\n",
       "        -0., -0., -0., -0., -0., -0., -0., -0., -0., -0., -0., -0., -0.,\n",
       "        -0., -0., -0., -0., -0., -0., -0., -0., -0., -0., -0., -0., -0.,\n",
       "        -0., -0., -0., -0., -0., -0., -0., -0., -0., -0., -0., -0., -0.,\n",
       "        -0., -0., -0., -0., -0., -0., -0., -0., -0., -0., -0., -0., -0.,\n",
       "        -0., -0., -0., -0., -0., -0., -0., -0., -0., -0., -0., -0., -0.,\n",
       "        -0., -0., -0., -0., -0., -0., -0., -0., -0., -0., -0., -0., -0.,\n",
       "        -0., -0., -0., -0., -0., -0., -0., -0., -0., -0., -0., -0., -0.,\n",
       "        -0., -0., -0., -0., -0., -0., -0., -0., -0., -0., -0., -0., -0.,\n",
       "        -0., -0., -0., -0., -0., -0., -0., -0., -0., -0., -0., -0., -0.,\n",
       "        -0., -0., -0., -0., -0., -0., -0., -0., -0., -0., -0., -0., -0.,\n",
       "        -0., -0., -0., -0., -0., -0., -0., -0., -0., -0., -0., -0., -0.,\n",
       "        -0., -0., -0., -0., -0., -0., -0., -0., -0., -0., -0., -0., -0.,\n",
       "        -0., -0., -0., -0., -0., -0., -0., -0., -0., -0., -0., -0., -0.,\n",
       "        -0., -0., -0., -0., -0., -0., -0., -0., -0., -0., -0., -0., -0.,\n",
       "        -0., -0., -0., -0., -0., -0., -0., -0., -0., -0., -0., -0., -0.,\n",
       "        -0., -0., -0., -0., -0., -0., -0., -0., -0., -0., -0., -0., -0.,\n",
       "        -0., -0., -0., -0., -0., -0., -0., -0., -0., -0., -0., -0., -0.,\n",
       "        -0., -0., -0., -0., -0., -0., -0., -0., -0., -0., -0., -0., -0.,\n",
       "        -0., -0., -0., -0., -0., -0., -0., -0., -0., -0., -0., -0., -0.,\n",
       "        -0., -0., -0., -0., -0., -0., -0., -0., -0., -0., -0., -0., -0.,\n",
       "        -0., -0., -0., -0., -0., -0., -0., -0., -0., -0., -0., -0., -0.,\n",
       "        -0., -0., -0., -0., -0., -0., -0., -0., -0., -0., -0., -0., -0.,\n",
       "        -0., -0., -0., -0., -0., -0., -0., -0., -0., -0., -0., -0., -0.,\n",
       "        -0., -0., -0., -0., -0., -0., -0., -0., -0., -0., -0., -0., -0.,\n",
       "        -0., -0., -0., -0., -0., -0., -0., -0., -0., -0., -0., -0., -0.,\n",
       "        -0., -0., -0., -0., -0., -0., -0., -0., -0., -0., -0., -0., -0.,\n",
       "        -0., -0., -0., -0., -0., -0., -0., -0., -0., -0., -0., -0., -0.,\n",
       "        -0., -0., -0., -0., -0., -0., -0., -0., -0., -0., -0., -0., -0.,\n",
       "        -0., -0., -0., -0., -0., -0., -0., -0., -0., -0., -0., -0., -0.,\n",
       "        -0., -0., -0., -0., -0., -0., -0., -0., -0., -0., -0., -0., -0.,\n",
       "        -0., -0., -0., -0., -0., -0., -0., -0., -0., -0., -0., -0., -0.,\n",
       "        -0., -0., -0., -0., -0., -0., -0., -0., -0., -0., -0., -0., -0.,\n",
       "        -0., -0., -0., -0., -0., -0., -0., -0., -0., -0., -0., -0., -0.,\n",
       "        -0., -0., -0., -0., -0., -0., -0., -0., -0., -0., -0., -0., -0.,\n",
       "        -0., -0., -0., -0., -0., -0., -0., -0., -0., -0., -0., -0., -0.,\n",
       "        -0., -0., -0., -0., -0., -0., -0., -0., -0., -0., -0., -0., -0.]],\n",
       "      dtype=float32)"
      ]
     },
     "execution_count": 229,
     "metadata": {},
     "output_type": "execute_result"
    }
   ],
   "source": [
    "md.predict(np.array([[[[1]*28]*28]]).reshape(1,28,28,1))"
   ]
  },
  {
   "cell_type": "code",
   "execution_count": 244,
   "metadata": {},
   "outputs": [],
   "source": [
    "asdf = md.get_weights()[0].reshape(3,3)"
   ]
  },
  {
   "cell_type": "code",
   "execution_count": 230,
   "metadata": {},
   "outputs": [],
   "source": [
    "wds = md.get_weights()"
   ]
  },
  {
   "cell_type": "code",
   "execution_count": 231,
   "metadata": {},
   "outputs": [],
   "source": [
    "convp = wds[0]"
   ]
  },
  {
   "cell_type": "code",
   "execution_count": 232,
   "metadata": {},
   "outputs": [
    {
     "data": {
      "text/plain": [
       "(3, 3, 1, 1)"
      ]
     },
     "execution_count": 232,
     "metadata": {},
     "output_type": "execute_result"
    }
   ],
   "source": [
    "convp.shape"
   ]
  },
  {
   "cell_type": "code",
   "execution_count": 233,
   "metadata": {},
   "outputs": [],
   "source": [
    "c = convp.reshape(1, 3, 3, 1)"
   ]
  },
  {
   "cell_type": "code",
   "execution_count": 234,
   "metadata": {},
   "outputs": [],
   "source": [
    "d = c[0].reshape(3,3)"
   ]
  },
  {
   "cell_type": "code",
   "execution_count": 235,
   "metadata": {},
   "outputs": [],
   "source": [
    "import scipy.signal as signal"
   ]
  },
  {
   "cell_type": "code",
   "execution_count": 236,
   "metadata": {},
   "outputs": [],
   "source": [
    "a = np.array([[[1]*28]*28]).reshape(28,28)"
   ]
  },
  {
   "cell_type": "code",
   "execution_count": 245,
   "metadata": {},
   "outputs": [],
   "source": [
    "e = signal.convolve2d(a, asdf, mode='valid')"
   ]
  },
  {
   "cell_type": "code",
   "execution_count": 246,
   "metadata": {},
   "outputs": [
    {
     "data": {
      "text/plain": [
       "array([[-0.5030036, -0.5030036, -0.5030036, -0.5030036, -0.5030036,\n",
       "        -0.5030036, -0.5030036, -0.5030036, -0.5030036, -0.5030036,\n",
       "        -0.5030036, -0.5030036, -0.5030036, -0.5030036, -0.5030036,\n",
       "        -0.5030036, -0.5030036, -0.5030036, -0.5030036, -0.5030036,\n",
       "        -0.5030036, -0.5030036, -0.5030036, -0.5030036, -0.5030036,\n",
       "        -0.5030036],\n",
       "       [-0.5030036, -0.5030036, -0.5030036, -0.5030036, -0.5030036,\n",
       "        -0.5030036, -0.5030036, -0.5030036, -0.5030036, -0.5030036,\n",
       "        -0.5030036, -0.5030036, -0.5030036, -0.5030036, -0.5030036,\n",
       "        -0.5030036, -0.5030036, -0.5030036, -0.5030036, -0.5030036,\n",
       "        -0.5030036, -0.5030036, -0.5030036, -0.5030036, -0.5030036,\n",
       "        -0.5030036],\n",
       "       [-0.5030036, -0.5030036, -0.5030036, -0.5030036, -0.5030036,\n",
       "        -0.5030036, -0.5030036, -0.5030036, -0.5030036, -0.5030036,\n",
       "        -0.5030036, -0.5030036, -0.5030036, -0.5030036, -0.5030036,\n",
       "        -0.5030036, -0.5030036, -0.5030036, -0.5030036, -0.5030036,\n",
       "        -0.5030036, -0.5030036, -0.5030036, -0.5030036, -0.5030036,\n",
       "        -0.5030036],\n",
       "       [-0.5030036, -0.5030036, -0.5030036, -0.5030036, -0.5030036,\n",
       "        -0.5030036, -0.5030036, -0.5030036, -0.5030036, -0.5030036,\n",
       "        -0.5030036, -0.5030036, -0.5030036, -0.5030036, -0.5030036,\n",
       "        -0.5030036, -0.5030036, -0.5030036, -0.5030036, -0.5030036,\n",
       "        -0.5030036, -0.5030036, -0.5030036, -0.5030036, -0.5030036,\n",
       "        -0.5030036],\n",
       "       [-0.5030036, -0.5030036, -0.5030036, -0.5030036, -0.5030036,\n",
       "        -0.5030036, -0.5030036, -0.5030036, -0.5030036, -0.5030036,\n",
       "        -0.5030036, -0.5030036, -0.5030036, -0.5030036, -0.5030036,\n",
       "        -0.5030036, -0.5030036, -0.5030036, -0.5030036, -0.5030036,\n",
       "        -0.5030036, -0.5030036, -0.5030036, -0.5030036, -0.5030036,\n",
       "        -0.5030036],\n",
       "       [-0.5030036, -0.5030036, -0.5030036, -0.5030036, -0.5030036,\n",
       "        -0.5030036, -0.5030036, -0.5030036, -0.5030036, -0.5030036,\n",
       "        -0.5030036, -0.5030036, -0.5030036, -0.5030036, -0.5030036,\n",
       "        -0.5030036, -0.5030036, -0.5030036, -0.5030036, -0.5030036,\n",
       "        -0.5030036, -0.5030036, -0.5030036, -0.5030036, -0.5030036,\n",
       "        -0.5030036],\n",
       "       [-0.5030036, -0.5030036, -0.5030036, -0.5030036, -0.5030036,\n",
       "        -0.5030036, -0.5030036, -0.5030036, -0.5030036, -0.5030036,\n",
       "        -0.5030036, -0.5030036, -0.5030036, -0.5030036, -0.5030036,\n",
       "        -0.5030036, -0.5030036, -0.5030036, -0.5030036, -0.5030036,\n",
       "        -0.5030036, -0.5030036, -0.5030036, -0.5030036, -0.5030036,\n",
       "        -0.5030036],\n",
       "       [-0.5030036, -0.5030036, -0.5030036, -0.5030036, -0.5030036,\n",
       "        -0.5030036, -0.5030036, -0.5030036, -0.5030036, -0.5030036,\n",
       "        -0.5030036, -0.5030036, -0.5030036, -0.5030036, -0.5030036,\n",
       "        -0.5030036, -0.5030036, -0.5030036, -0.5030036, -0.5030036,\n",
       "        -0.5030036, -0.5030036, -0.5030036, -0.5030036, -0.5030036,\n",
       "        -0.5030036],\n",
       "       [-0.5030036, -0.5030036, -0.5030036, -0.5030036, -0.5030036,\n",
       "        -0.5030036, -0.5030036, -0.5030036, -0.5030036, -0.5030036,\n",
       "        -0.5030036, -0.5030036, -0.5030036, -0.5030036, -0.5030036,\n",
       "        -0.5030036, -0.5030036, -0.5030036, -0.5030036, -0.5030036,\n",
       "        -0.5030036, -0.5030036, -0.5030036, -0.5030036, -0.5030036,\n",
       "        -0.5030036],\n",
       "       [-0.5030036, -0.5030036, -0.5030036, -0.5030036, -0.5030036,\n",
       "        -0.5030036, -0.5030036, -0.5030036, -0.5030036, -0.5030036,\n",
       "        -0.5030036, -0.5030036, -0.5030036, -0.5030036, -0.5030036,\n",
       "        -0.5030036, -0.5030036, -0.5030036, -0.5030036, -0.5030036,\n",
       "        -0.5030036, -0.5030036, -0.5030036, -0.5030036, -0.5030036,\n",
       "        -0.5030036],\n",
       "       [-0.5030036, -0.5030036, -0.5030036, -0.5030036, -0.5030036,\n",
       "        -0.5030036, -0.5030036, -0.5030036, -0.5030036, -0.5030036,\n",
       "        -0.5030036, -0.5030036, -0.5030036, -0.5030036, -0.5030036,\n",
       "        -0.5030036, -0.5030036, -0.5030036, -0.5030036, -0.5030036,\n",
       "        -0.5030036, -0.5030036, -0.5030036, -0.5030036, -0.5030036,\n",
       "        -0.5030036],\n",
       "       [-0.5030036, -0.5030036, -0.5030036, -0.5030036, -0.5030036,\n",
       "        -0.5030036, -0.5030036, -0.5030036, -0.5030036, -0.5030036,\n",
       "        -0.5030036, -0.5030036, -0.5030036, -0.5030036, -0.5030036,\n",
       "        -0.5030036, -0.5030036, -0.5030036, -0.5030036, -0.5030036,\n",
       "        -0.5030036, -0.5030036, -0.5030036, -0.5030036, -0.5030036,\n",
       "        -0.5030036],\n",
       "       [-0.5030036, -0.5030036, -0.5030036, -0.5030036, -0.5030036,\n",
       "        -0.5030036, -0.5030036, -0.5030036, -0.5030036, -0.5030036,\n",
       "        -0.5030036, -0.5030036, -0.5030036, -0.5030036, -0.5030036,\n",
       "        -0.5030036, -0.5030036, -0.5030036, -0.5030036, -0.5030036,\n",
       "        -0.5030036, -0.5030036, -0.5030036, -0.5030036, -0.5030036,\n",
       "        -0.5030036],\n",
       "       [-0.5030036, -0.5030036, -0.5030036, -0.5030036, -0.5030036,\n",
       "        -0.5030036, -0.5030036, -0.5030036, -0.5030036, -0.5030036,\n",
       "        -0.5030036, -0.5030036, -0.5030036, -0.5030036, -0.5030036,\n",
       "        -0.5030036, -0.5030036, -0.5030036, -0.5030036, -0.5030036,\n",
       "        -0.5030036, -0.5030036, -0.5030036, -0.5030036, -0.5030036,\n",
       "        -0.5030036],\n",
       "       [-0.5030036, -0.5030036, -0.5030036, -0.5030036, -0.5030036,\n",
       "        -0.5030036, -0.5030036, -0.5030036, -0.5030036, -0.5030036,\n",
       "        -0.5030036, -0.5030036, -0.5030036, -0.5030036, -0.5030036,\n",
       "        -0.5030036, -0.5030036, -0.5030036, -0.5030036, -0.5030036,\n",
       "        -0.5030036, -0.5030036, -0.5030036, -0.5030036, -0.5030036,\n",
       "        -0.5030036],\n",
       "       [-0.5030036, -0.5030036, -0.5030036, -0.5030036, -0.5030036,\n",
       "        -0.5030036, -0.5030036, -0.5030036, -0.5030036, -0.5030036,\n",
       "        -0.5030036, -0.5030036, -0.5030036, -0.5030036, -0.5030036,\n",
       "        -0.5030036, -0.5030036, -0.5030036, -0.5030036, -0.5030036,\n",
       "        -0.5030036, -0.5030036, -0.5030036, -0.5030036, -0.5030036,\n",
       "        -0.5030036],\n",
       "       [-0.5030036, -0.5030036, -0.5030036, -0.5030036, -0.5030036,\n",
       "        -0.5030036, -0.5030036, -0.5030036, -0.5030036, -0.5030036,\n",
       "        -0.5030036, -0.5030036, -0.5030036, -0.5030036, -0.5030036,\n",
       "        -0.5030036, -0.5030036, -0.5030036, -0.5030036, -0.5030036,\n",
       "        -0.5030036, -0.5030036, -0.5030036, -0.5030036, -0.5030036,\n",
       "        -0.5030036],\n",
       "       [-0.5030036, -0.5030036, -0.5030036, -0.5030036, -0.5030036,\n",
       "        -0.5030036, -0.5030036, -0.5030036, -0.5030036, -0.5030036,\n",
       "        -0.5030036, -0.5030036, -0.5030036, -0.5030036, -0.5030036,\n",
       "        -0.5030036, -0.5030036, -0.5030036, -0.5030036, -0.5030036,\n",
       "        -0.5030036, -0.5030036, -0.5030036, -0.5030036, -0.5030036,\n",
       "        -0.5030036],\n",
       "       [-0.5030036, -0.5030036, -0.5030036, -0.5030036, -0.5030036,\n",
       "        -0.5030036, -0.5030036, -0.5030036, -0.5030036, -0.5030036,\n",
       "        -0.5030036, -0.5030036, -0.5030036, -0.5030036, -0.5030036,\n",
       "        -0.5030036, -0.5030036, -0.5030036, -0.5030036, -0.5030036,\n",
       "        -0.5030036, -0.5030036, -0.5030036, -0.5030036, -0.5030036,\n",
       "        -0.5030036],\n",
       "       [-0.5030036, -0.5030036, -0.5030036, -0.5030036, -0.5030036,\n",
       "        -0.5030036, -0.5030036, -0.5030036, -0.5030036, -0.5030036,\n",
       "        -0.5030036, -0.5030036, -0.5030036, -0.5030036, -0.5030036,\n",
       "        -0.5030036, -0.5030036, -0.5030036, -0.5030036, -0.5030036,\n",
       "        -0.5030036, -0.5030036, -0.5030036, -0.5030036, -0.5030036,\n",
       "        -0.5030036],\n",
       "       [-0.5030036, -0.5030036, -0.5030036, -0.5030036, -0.5030036,\n",
       "        -0.5030036, -0.5030036, -0.5030036, -0.5030036, -0.5030036,\n",
       "        -0.5030036, -0.5030036, -0.5030036, -0.5030036, -0.5030036,\n",
       "        -0.5030036, -0.5030036, -0.5030036, -0.5030036, -0.5030036,\n",
       "        -0.5030036, -0.5030036, -0.5030036, -0.5030036, -0.5030036,\n",
       "        -0.5030036],\n",
       "       [-0.5030036, -0.5030036, -0.5030036, -0.5030036, -0.5030036,\n",
       "        -0.5030036, -0.5030036, -0.5030036, -0.5030036, -0.5030036,\n",
       "        -0.5030036, -0.5030036, -0.5030036, -0.5030036, -0.5030036,\n",
       "        -0.5030036, -0.5030036, -0.5030036, -0.5030036, -0.5030036,\n",
       "        -0.5030036, -0.5030036, -0.5030036, -0.5030036, -0.5030036,\n",
       "        -0.5030036],\n",
       "       [-0.5030036, -0.5030036, -0.5030036, -0.5030036, -0.5030036,\n",
       "        -0.5030036, -0.5030036, -0.5030036, -0.5030036, -0.5030036,\n",
       "        -0.5030036, -0.5030036, -0.5030036, -0.5030036, -0.5030036,\n",
       "        -0.5030036, -0.5030036, -0.5030036, -0.5030036, -0.5030036,\n",
       "        -0.5030036, -0.5030036, -0.5030036, -0.5030036, -0.5030036,\n",
       "        -0.5030036],\n",
       "       [-0.5030036, -0.5030036, -0.5030036, -0.5030036, -0.5030036,\n",
       "        -0.5030036, -0.5030036, -0.5030036, -0.5030036, -0.5030036,\n",
       "        -0.5030036, -0.5030036, -0.5030036, -0.5030036, -0.5030036,\n",
       "        -0.5030036, -0.5030036, -0.5030036, -0.5030036, -0.5030036,\n",
       "        -0.5030036, -0.5030036, -0.5030036, -0.5030036, -0.5030036,\n",
       "        -0.5030036],\n",
       "       [-0.5030036, -0.5030036, -0.5030036, -0.5030036, -0.5030036,\n",
       "        -0.5030036, -0.5030036, -0.5030036, -0.5030036, -0.5030036,\n",
       "        -0.5030036, -0.5030036, -0.5030036, -0.5030036, -0.5030036,\n",
       "        -0.5030036, -0.5030036, -0.5030036, -0.5030036, -0.5030036,\n",
       "        -0.5030036, -0.5030036, -0.5030036, -0.5030036, -0.5030036,\n",
       "        -0.5030036],\n",
       "       [-0.5030036, -0.5030036, -0.5030036, -0.5030036, -0.5030036,\n",
       "        -0.5030036, -0.5030036, -0.5030036, -0.5030036, -0.5030036,\n",
       "        -0.5030036, -0.5030036, -0.5030036, -0.5030036, -0.5030036,\n",
       "        -0.5030036, -0.5030036, -0.5030036, -0.5030036, -0.5030036,\n",
       "        -0.5030036, -0.5030036, -0.5030036, -0.5030036, -0.5030036,\n",
       "        -0.5030036]])"
      ]
     },
     "execution_count": 246,
     "metadata": {},
     "output_type": "execute_result"
    }
   ],
   "source": [
    "e"
   ]
  },
  {
   "cell_type": "code",
   "execution_count": 206,
   "metadata": {},
   "outputs": [
    {
     "ename": "ValueError",
     "evalue": "volume and kernel should have the same dimensionality",
     "output_type": "error",
     "traceback": [
      "\u001b[0;31m---------------------------------------------------------------------------\u001b[0m",
      "\u001b[0;31mValueError\u001b[0m                                Traceback (most recent call last)",
      "\u001b[0;32m<ipython-input-206-439ea0e1729b>\u001b[0m in \u001b[0;36m<module>\u001b[0;34m\u001b[0m\n\u001b[0;32m----> 1\u001b[0;31m \u001b[0msignal\u001b[0m\u001b[0;34m.\u001b[0m\u001b[0mconvolve\u001b[0m\u001b[0;34m(\u001b[0m\u001b[0me\u001b[0m\u001b[0;34m,\u001b[0m \u001b[0mnp\u001b[0m\u001b[0;34m.\u001b[0m\u001b[0marray\u001b[0m\u001b[0;34m(\u001b[0m\u001b[0;34m[\u001b[0m\u001b[0;36m1\u001b[0m\u001b[0;34m]\u001b[0m\u001b[0;34m*\u001b[0m\u001b[0;36m32\u001b[0m\u001b[0;34m)\u001b[0m\u001b[0;34m)\u001b[0m\u001b[0;34m\u001b[0m\u001b[0;34m\u001b[0m\u001b[0m\n\u001b[0m",
      "\u001b[0;32m/anaconda3/lib/python3.6/site-packages/scipy/signal/signaltools.py\u001b[0m in \u001b[0;36mconvolve\u001b[0;34m(in1, in2, mode, method)\u001b[0m\n\u001b[1;32m    789\u001b[0m         \u001b[0;32mreturn\u001b[0m \u001b[0mvolume\u001b[0m \u001b[0;34m*\u001b[0m \u001b[0mkernel\u001b[0m\u001b[0;34m\u001b[0m\u001b[0;34m\u001b[0m\u001b[0m\n\u001b[1;32m    790\u001b[0m     \u001b[0;32melif\u001b[0m \u001b[0mvolume\u001b[0m\u001b[0;34m.\u001b[0m\u001b[0mndim\u001b[0m \u001b[0;34m!=\u001b[0m \u001b[0mkernel\u001b[0m\u001b[0;34m.\u001b[0m\u001b[0mndim\u001b[0m\u001b[0;34m:\u001b[0m\u001b[0;34m\u001b[0m\u001b[0;34m\u001b[0m\u001b[0m\n\u001b[0;32m--> 791\u001b[0;31m         raise ValueError(\"volume and kernel should have the same \"\n\u001b[0m\u001b[1;32m    792\u001b[0m                          \"dimensionality\")\n\u001b[1;32m    793\u001b[0m \u001b[0;34m\u001b[0m\u001b[0m\n",
      "\u001b[0;31mValueError\u001b[0m: volume and kernel should have the same dimensionality"
     ]
    }
   ],
   "source": [
    "signal.convolve(e, )"
   ]
  },
  {
   "cell_type": "code",
   "execution_count": null,
   "metadata": {},
   "outputs": [],
   "source": []
  }
 ],
 "metadata": {
  "kernelspec": {
   "display_name": "Python 3",
   "language": "python",
   "name": "python3"
  },
  "language_info": {
   "codemirror_mode": {
    "name": "ipython",
    "version": 3
   },
   "file_extension": ".py",
   "mimetype": "text/x-python",
   "name": "python",
   "nbconvert_exporter": "python",
   "pygments_lexer": "ipython3",
   "version": "3.6.8"
  }
 },
 "nbformat": 4,
 "nbformat_minor": 2
}
