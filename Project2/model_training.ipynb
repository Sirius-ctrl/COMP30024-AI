{
 "cells": [
  {
   "cell_type": "code",
   "execution_count": 1,
   "metadata": {},
   "outputs": [],
   "source": [
    "CELLS = [(q, r) for q in range(-3, +3 + 1) for r in range(-3, +3 + 1) if -q - r in range(-3, +3 + 1)]"
   ]
  },
  {
   "cell_type": "code",
   "execution_count": 18,
   "metadata": {},
   "outputs": [],
   "source": [
    "import tensorflow as tf\n",
    "import numpy as np\n",
    "from keras import models, layers\n",
    "from keras.models import load_model\n",
    "import json\n",
    "import pickle\n",
    "import os\n",
    "from os.path import join\n",
    "import subprocess\n",
    "import json\n",
    "import VanGame.utils as utils"
   ]
  },
  {
   "cell_type": "code",
   "execution_count": 404,
   "metadata": {
    "scrolled": true
   },
   "outputs": [
    {
     "data": {
      "text/plain": [
       "[(-3, 0),\n",
       " (-3, 1),\n",
       " (-3, 2),\n",
       " (-3, 3),\n",
       " (-2, -1),\n",
       " (-2, 0),\n",
       " (-2, 1),\n",
       " (-2, 2),\n",
       " (-2, 3),\n",
       " (-1, -2),\n",
       " (-1, -1),\n",
       " (-1, 0),\n",
       " (-1, 1),\n",
       " (-1, 2),\n",
       " (-1, 3),\n",
       " (0, -3),\n",
       " (0, -2),\n",
       " (0, -1),\n",
       " (0, 0),\n",
       " (0, 1),\n",
       " (0, 2),\n",
       " (0, 3),\n",
       " (1, -3),\n",
       " (1, -2),\n",
       " (1, -1),\n",
       " (1, 0),\n",
       " (1, 1),\n",
       " (1, 2),\n",
       " (2, -3),\n",
       " (2, -2),\n",
       " (2, -1),\n",
       " (2, 0),\n",
       " (2, 1),\n",
       " (3, -3),\n",
       " (3, -2),\n",
       " (3, -1),\n",
       " (3, 0)]"
      ]
     },
     "execution_count": 404,
     "metadata": {},
     "output_type": "execute_result"
    }
   ],
   "source": [
    "sequence = sorted([p for p in CELLS])\n",
    "sequence"
   ]
  },
  {
   "cell_type": "code",
   "execution_count": 6,
   "metadata": {},
   "outputs": [],
   "source": [
    "a = np.array([[1]*39])\n",
    "b = [500]"
   ]
  },
  {
   "cell_type": "code",
   "execution_count": 464,
   "metadata": {},
   "outputs": [],
   "source": [
    "def build_model():\n",
    "    model = models.Sequential()\n",
    "    model.add(layers.Dense(1,activation='relu', input_shape=(8,)))\n",
    "    #model.add(layers.Dense(200, activation='relu'))\n",
    "    #model.add(layers.Dense(100, activation='relu'))\n",
    "    model.add(layers.Dense(1))\n",
    "    model.compile(optimizer='rmsprop', loss='mse')\n",
    "    return model"
   ]
  },
  {
   "cell_type": "code",
   "execution_count": 465,
   "metadata": {},
   "outputs": [],
   "source": [
    "model = build_model()"
   ]
  },
  {
   "cell_type": "code",
   "execution_count": 324,
   "metadata": {},
   "outputs": [],
   "source": [
    "try:\n",
    "    model = load_model('VanGame/my_model.h5')\n",
    "except:\n",
    "    print(\"none model found\")\n",
    "    model = build_model()"
   ]
  },
  {
   "cell_type": "code",
   "execution_count": 466,
   "metadata": {},
   "outputs": [
    {
     "name": "stdout",
     "output_type": "stream",
     "text": [
      "'[2zzz]1556610247.0caoredjiba.txt'\r\n"
     ]
    }
   ],
   "source": [
    "!ls 'rec'"
   ]
  },
  {
   "cell_type": "code",
   "execution_count": 24,
   "metadata": {},
   "outputs": [],
   "source": [
    "def bash_call(c:[str]) -> None:\n",
    "    res = subprocess.check_output(c)\n",
    "    ls = []\n",
    "    for line in res.splitlines():\n",
    "        line = line.decode('utf-8')\n",
    "        ls.append(line)\n",
    "    return ls"
   ]
  },
  {
   "cell_type": "code",
   "execution_count": 25,
   "metadata": {},
   "outputs": [],
   "source": [
    "def join_list(l):\n",
    "    res = \"\"\n",
    "    for i in l:\n",
    "        res += i + \"/\"\n",
    "    \n",
    "    res = res[:-1]\n",
    "    return res"
   ]
  },
  {
   "cell_type": "code",
   "execution_count": 26,
   "metadata": {},
   "outputs": [],
   "source": [
    "def load_logs():\n",
    "    datapath = join(os.getcwd(),'rec/')\n",
    "    files = bash_call(['ls', datapath])\n",
    "    return files"
   ]
  },
  {
   "cell_type": "code",
   "execution_count": 457,
   "metadata": {},
   "outputs": [],
   "source": [
    "def PG_log(filename, condition=None, value_check=False):\n",
    "    \n",
    "    if (condition != None) and (condition not in filename):\n",
    "        return False, False\n",
    "    \n",
    "    #print(filename)\n",
    "    states, color = utils.load_l('rec/'+filename)\n",
    "    \n",
    "    train = []\n",
    "    value = []\n",
    "    \n",
    "    for s in states:\n",
    "        # print(s)\n",
    "        board = []\n",
    "        # add board\n",
    "        for cord in sequence:\n",
    "            # does not include the board\n",
    "            break\n",
    "            board.append(s['board'][cord])\n",
    "        # color \n",
    "        board.append(color)\n",
    "        # utility = [heuristic diff, my pieces difference, danger pieces]\n",
    "        board.append(s['turns'])\n",
    "        board += s['utility']\n",
    "        train.append(board)\n",
    "        value.append(s['rew'])\n",
    "        \n",
    "    if value_check:\n",
    "        print(value)\n",
    "        \n",
    "    value.reverse()\n",
    "    decay = 0.95\n",
    "    curr_decay = 0.95\n",
    "    for i in range(1, len(value)):\n",
    "        value[i] += value[i-1] * curr_decay\n",
    "        curr_decay *= decay\n",
    "    \n",
    "    value.reverse()\n",
    "    \n",
    "    if value_check:\n",
    "        print(value)\n",
    "    \n",
    "    post_value = np.array(value)\n",
    "    \n",
    "    # normalize the value\n",
    "    # post_value = (post_value - post_value.mean()) / post_value.std()\n",
    "    \n",
    "    if value_check:\n",
    "        # print(post_value)\n",
    "        pass\n",
    "    \n",
    "    return train, value"
   ]
  },
  {
   "cell_type": "code",
   "execution_count": 463,
   "metadata": {},
   "outputs": [
    {
     "name": "stdout",
     "output_type": "stream",
     "text": [
      "[0, -6.0, 0, 0, 0, -6.0, 0, 0, -30, -6.0, -30, -25, -6.0, -25, -30, 0, -6.0, 0, -6.0, -6.0, -30, 0, 0, 0, 0, 0, -430]\n",
      "[-1.597782886715534, -6.063229788813119, -0.2279458023656384, -0.7806656530389667, -2.539932355561967, -7.850599713758793, -5.433964284024144, -15.158096718318072, -40.16947663007882, -25.601989045992852, -46.88121431768577, -38.35535431060742, -28.827125231794692, -46.80807137818523, -42.48253180191963, -23.100395619361244, -40.612503290758134, -57.80919970427557, -91.72432185146451, -129.21567954260536, -176.4414993038894, -199.21522896869385, -257.45688387250283, -316.08951296874994, -368.67125, -408.5, -430]\n",
      "8\n"
     ]
    }
   ],
   "source": [
    "t,v = PG_log('[2zzz]1556610247.0caoredjiba.txt', value_check=True)"
   ]
  },
  {
   "cell_type": "code",
   "execution_count": 441,
   "metadata": {
    "scrolled": true
   },
   "outputs": [
    {
     "name": "stdout",
     "output_type": "stream",
     "text": [
      "'[2zzz]1556610247.0caoredjiba.txt'\r\n"
     ]
    }
   ],
   "source": [
    "!ls rec"
   ]
  },
  {
   "cell_type": "code",
   "execution_count": 331,
   "metadata": {},
   "outputs": [],
   "source": [
    "def reload_model():\n",
    "    del model  # deletes the existing model\n",
    "\n",
    "    # returns a compiled model\n",
    "    # identical to the previous one\n",
    "    model = load_model('my_model.h5')"
   ]
  },
  {
   "cell_type": "code",
   "execution_count": 384,
   "metadata": {},
   "outputs": [],
   "source": [
    "def save_model():\n",
    "    model.save('my_model.h5')  # creates a HDF5 file 'my_model.h5'\n",
    "    with open('trained_model', 'wb') as f:\n",
    "        pickle.dump(model.get_weights(), f)"
   ]
  },
  {
   "cell_type": "code",
   "execution_count": 351,
   "metadata": {
    "scrolled": true
   },
   "outputs": [],
   "source": [
    "def train(save=True, epochs):\n",
    "    logfs = load_logs()\n",
    "    train_set = []\n",
    "    target_set = []\n",
    "    \n",
    "    for logf in logfs:\n",
    "        train, value = PG_log(logf)\n",
    "        if train:\n",
    "            #print(len(train), len(value))\n",
    "            #print(train[-1])\n",
    "            train_set += train\n",
    "            # the target shouldnt be calculate like this, should use bootstrapping\n",
    "            target_set += value\n",
    "\n",
    "    model.fit(np.array(train_set), target_set, epochs=epochs, batch_size=1)\n",
    "    if save:\n",
    "        print(\"saved\")\n",
    "        save_model()   "
   ]
  },
  {
   "cell_type": "code",
   "execution_count": 352,
   "metadata": {
    "scrolled": true
   },
   "outputs": [
    {
     "name": "stdout",
     "output_type": "stream",
     "text": [
      "Epoch 1/2\n",
      "323/323 [==============================] - 2s 6ms/step - loss: 0.7966\n",
      "Epoch 2/2\n",
      "323/323 [==============================] - 1s 3ms/step - loss: 0.5005\n",
      "saved\n"
     ]
    }
   ],
   "source": [
    "train()"
   ]
  },
  {
   "cell_type": "code",
   "execution_count": 467,
   "metadata": {},
   "outputs": [],
   "source": [
    "save_model()"
   ]
  },
  {
   "cell_type": "code",
   "execution_count": 321,
   "metadata": {},
   "outputs": [],
   "source": [
    "del model"
   ]
  },
  {
   "cell_type": "code",
   "execution_count": 468,
   "metadata": {},
   "outputs": [
    {
     "data": {
      "text/plain": [
       "array([[1.6910833 ],\n",
       "       [0.84554166]], dtype=float32)"
      ]
     },
     "execution_count": 468,
     "metadata": {},
     "output_type": "execute_result"
    }
   ],
   "source": [
    "model.predict(np.array([[1]*8,[0.5]*8]))"
   ]
  },
  {
   "cell_type": "code",
   "execution_count": 52,
   "metadata": {},
   "outputs": [],
   "source": [
    "def clean_log(logs):\n",
    "    !rm '/Users/xinyaoniu/Documents/COMP30024-AI/Project2/rec/' *"
   ]
  },
  {
   "cell_type": "code",
   "execution_count": 53,
   "metadata": {},
   "outputs": [
    {
     "name": "stdout",
     "output_type": "stream",
     "text": [
      "rm: cannot remove '/Users/xinyaoniu/Documents/COMP30024-AI/Project2/rec/': Is a directory\r\n",
      "rm: cannot remove '__pycache__': Is a directory\r\n"
     ]
    }
   ],
   "source": [
    "clean_log(logfs)"
   ]
  },
  {
   "cell_type": "code",
   "execution_count": 110,
   "metadata": {},
   "outputs": [
    {
     "data": {
      "text/plain": [
       "'/Users/xinyaoniu/Documents/COMP30024-AI/Project2'"
      ]
     },
     "execution_count": 110,
     "metadata": {},
     "output_type": "execute_result"
    }
   ],
   "source": [
    "os.getcwd()"
   ]
  },
  {
   "cell_type": "code",
   "execution_count": 146,
   "metadata": {
    "scrolled": true
   },
   "outputs": [
    {
     "name": "stdout",
     "output_type": "stream",
     "text": [
      "removed './rec/[1win]1556549315.0caoredjiba.txt'\r\n",
      "removed './rec/[1win]1556549321.0caoredjiba.txt'\r\n",
      "removed './rec/[2zzz]1556549305.0caoredjiba.txt'\r\n",
      "removed './rec/[2zzz]1556549307.0caoredjiba.txt'\r\n",
      "removed './rec/[2zzz]1556549308.0caoredjiba.txt'\r\n",
      "removed './rec/[2zzz]1556549309.0caoredjiba.txt'\r\n",
      "removed './rec/[2zzz]1556549311.0caoredjiba.txt'\r\n"
     ]
    }
   ],
   "source": [
    "!rm -v ./rec/*"
   ]
  },
  {
   "cell_type": "code",
   "execution_count": 353,
   "metadata": {},
   "outputs": [],
   "source": [
    "def full_train_cycle(n, epochs=2):\n",
    "    for i in range(n):\n",
    "        !python3 -m referee VanGame HardCode HardCode -l logtry -v 0\n",
    "    train(epochs=epochs)\n",
    "    !rm -v ./rec/*"
   ]
  },
  {
   "cell_type": "code",
   "execution_count": 488,
   "metadata": {
    "scrolled": true
   },
   "outputs": [
    {
     "name": "stdout",
     "output_type": "stream",
     "text": [
      "********** starting round 0 **********\n",
      "* NOTE: unable to measure memory usage on this platform (try dimefox)\n",
      "* winner: Green\n",
      "* NOTE: unable to measure memory usage on this platform (try dimefox)\n",
      "* winner: Green\n",
      "Epoch 1/2\n",
      "57/57 [==============================] - 0s 2ms/step - loss: 16798.9150\n",
      "Epoch 2/2\n",
      "57/57 [==============================] - 0s 2ms/step - loss: 16749.6797\n",
      "saved\n",
      "removed './rec/[2zzz]1556619785.0caoredjiba.txt'\n",
      "removed './rec/[2zzz]1556619787.0caoredjiba.txt'\n",
      "********** starting round 1 **********\n",
      "* NOTE: unable to measure memory usage on this platform (try dimefox)\n",
      "* winner: Red\n",
      "* NOTE: unable to measure memory usage on this platform (try dimefox)\n",
      "* winner: Red\n",
      "Epoch 1/2\n",
      "153/153 [==============================] - 0s 1ms/step - loss: 1188.7293\n",
      "Epoch 2/2\n",
      "153/153 [==============================] - 0s 2ms/step - loss: 1170.4208\n",
      "saved\n",
      "removed './rec/[1win]1556619790.0caoredjiba.txt'\n",
      "removed './rec/[1win]1556619793.0caoredjiba.txt'\n",
      "********** starting round 2 **********\n",
      "* NOTE: unable to measure memory usage on this platform (try dimefox)\n",
      "* winner: Red\n",
      "* NOTE: unable to measure memory usage on this platform (try dimefox)\n",
      "* winner: Blue\n",
      "Epoch 1/2\n",
      "75/75 [==============================] - 0s 2ms/step - loss: 11065.5249\n",
      "Epoch 2/2\n",
      "75/75 [==============================] - 0s 2ms/step - loss: 11054.9961\n",
      "saved\n",
      "removed './rec/[1win]1556619796.0caoredjiba.txt'\n",
      "removed './rec/[2zzz]1556619797.0caoredjiba.txt'\n",
      "********** starting round 3 **********\n",
      "* NOTE: unable to measure memory usage on this platform (try dimefox)\n",
      "* winner: Blue\n",
      "* NOTE: unable to measure memory usage on this platform (try dimefox)\n",
      "* winner: Green\n",
      "Epoch 1/2\n",
      "51/51 [==============================] - 0s 2ms/step - loss: 19530.7234\n",
      "Epoch 2/2\n",
      "51/51 [==============================] - 0s 2ms/step - loss: 19499.8905\n",
      "saved\n",
      "removed './rec/[2zzz]1556619800.0caoredjiba.txt'\n",
      "removed './rec/[2zzz]1556619801.0caoredjiba.txt'\n",
      "********** starting round 4 **********\n",
      "* NOTE: unable to measure memory usage on this platform (try dimefox)\n",
      "* winner: Red\n",
      "* NOTE: unable to measure memory usage on this platform (try dimefox)\n",
      "* winner: Blue\n",
      "Epoch 1/2\n",
      "98/98 [==============================] - 0s 2ms/step - loss: 9200.7203\n",
      "Epoch 2/2\n",
      "98/98 [==============================] - 0s 2ms/step - loss: 9190.7273\n",
      "saved\n",
      "removed './rec/[1win]1556619805.0caoredjiba.txt'\n",
      "removed './rec/[2zzz]1556619806.0caoredjiba.txt'\n",
      "********** starting round 5 **********\n",
      "* NOTE: unable to measure memory usage on this platform (try dimefox)\n",
      "* winner: Blue\n",
      "* NOTE: unable to measure memory usage on this platform (try dimefox)\n",
      "* winner: Green\n",
      "Epoch 1/2\n",
      "60/60 [==============================] - 0s 2ms/step - loss: 19258.6925\n",
      "Epoch 2/2\n",
      "60/60 [==============================] - 0s 2ms/step - loss: 19167.8227\n",
      "saved\n",
      "removed './rec/[2zzz]1556619809.0caoredjiba.txt'\n",
      "removed './rec/[2zzz]1556619810.0caoredjiba.txt'\n",
      "********** starting round 6 **********\n",
      "* NOTE: unable to measure memory usage on this platform (try dimefox)\n",
      "* winner: Green\n",
      "* NOTE: unable to measure memory usage on this platform (try dimefox)\n",
      "* winner: Blue\n",
      "Epoch 1/2\n",
      "56/56 [==============================] - 0s 2ms/step - loss: 25676.5506\n",
      "Epoch 2/2\n",
      "56/56 [==============================] - 0s 2ms/step - loss: 25668.5756\n",
      "saved\n",
      "removed './rec/[2zzz]1556619812.0caoredjiba.txt'\n",
      "removed './rec/[2zzz]1556619814.0caoredjiba.txt'\n",
      "********** starting round 7 **********\n",
      "* NOTE: unable to measure memory usage on this platform (try dimefox)\n",
      "* winner: Red\n",
      "* NOTE: unable to measure memory usage on this platform (try dimefox)\n",
      "* winner: Red\n",
      "Epoch 1/2\n",
      "92/92 [==============================] - 0s 2ms/step - loss: 2545.3420\n",
      "Epoch 2/2\n",
      "92/92 [==============================] - 0s 2ms/step - loss: 2413.9365\n",
      "saved\n",
      "removed './rec/[1win]1556619816.0caoredjiba.txt'\n",
      "removed './rec/[1win]1556619819.0caoredjiba.txt'\n",
      "********** starting round 8 **********\n",
      "* NOTE: unable to measure memory usage on this platform (try dimefox)\n",
      "* winner: Blue\n",
      "* NOTE: unable to measure memory usage on this platform (try dimefox)\n",
      "* winner: Blue\n",
      "Epoch 1/2\n",
      "55/55 [==============================] - 0s 1ms/step - loss: 15815.3175\n",
      "Epoch 2/2\n",
      "55/55 [==============================] - 0s 1ms/step - loss: 15767.3907\n",
      "saved\n",
      "removed './rec/[2zzz]1556619821.0caoredjiba.txt'\n",
      "removed './rec/[2zzz]1556619823.0caoredjiba.txt'\n",
      "********** starting round 9 **********\n",
      "* NOTE: unable to measure memory usage on this platform (try dimefox)\n",
      "* winner: Blue\n",
      "* NOTE: unable to measure memory usage on this platform (try dimefox)\n",
      "* winner: Red\n",
      "Epoch 1/2\n",
      "80/80 [==============================] - 0s 1ms/step - loss: 9805.0716\n",
      "Epoch 2/2\n",
      "80/80 [==============================] - 0s 1ms/step - loss: 9800.4277\n",
      "saved\n",
      "removed './rec/[1win]1556619827.0caoredjiba.txt'\n",
      "removed './rec/[2zzz]1556619824.0caoredjiba.txt'\n",
      "********** starting round 10 **********\n",
      "* NOTE: unable to measure memory usage on this platform (try dimefox)\n",
      "* winner: Blue\n",
      "* NOTE: unable to measure memory usage on this platform (try dimefox)\n",
      "* winner: Blue\n",
      "Epoch 1/2\n",
      "67/67 [==============================] - 0s 1ms/step - loss: 8114.5421\n",
      "Epoch 2/2\n",
      "67/67 [==============================] - 0s 1ms/step - loss: 8038.0721\n",
      "saved\n",
      "removed './rec/[2zzz]1556619829.0caoredjiba.txt'\n",
      "removed './rec/[2zzz]1556619831.0caoredjiba.txt'\n",
      "********** starting round 11 **********\n",
      "* NOTE: unable to measure memory usage on this platform (try dimefox)\n",
      "* winner: Blue\n",
      "* NOTE: unable to measure memory usage on this platform (try dimefox)\n",
      "* winner: Red\n",
      "Epoch 1/2\n",
      "67/67 [==============================] - 0s 1ms/step - loss: 13449.8447\n",
      "Epoch 2/2\n",
      "67/67 [==============================] - 0s 2ms/step - loss: 13383.7585\n",
      "saved\n",
      "removed './rec/[1win]1556619834.0caoredjiba.txt'\n",
      "removed './rec/[2zzz]1556619832.0caoredjiba.txt'\n",
      "********** starting round 12 **********\n",
      "* NOTE: unable to measure memory usage on this platform (try dimefox)\n",
      "* winner: Blue\n",
      "* NOTE: unable to measure memory usage on this platform (try dimefox)\n",
      "* winner: Blue\n",
      "Epoch 1/2\n",
      "60/60 [==============================] - 0s 2ms/step - loss: 15412.9141\n",
      "Epoch 2/2\n",
      "60/60 [==============================] - 0s 1ms/step - loss: 15338.8008\n",
      "saved\n",
      "removed './rec/[2zzz]1556619837.0caoredjiba.txt'\n",
      "removed './rec/[2zzz]1556619838.0caoredjiba.txt'\n",
      "********** starting round 13 **********\n",
      "* NOTE: unable to measure memory usage on this platform (try dimefox)\n",
      "* winner: Green\n",
      "* NOTE: unable to measure memory usage on this platform (try dimefox)\n",
      "* winner: Green\n",
      "Epoch 1/2\n",
      "59/59 [==============================] - 0s 1ms/step - loss: 23650.9739\n",
      "Epoch 2/2\n",
      "59/59 [==============================] - 0s 1ms/step - loss: 23636.3726\n",
      "saved\n",
      "removed './rec/[2zzz]1556619840.0caoredjiba.txt'\n",
      "removed './rec/[2zzz]1556619841.0caoredjiba.txt'\n",
      "********** starting round 14 **********\n",
      "* NOTE: unable to measure memory usage on this platform (try dimefox)\n",
      "* winner: Blue\n",
      "* NOTE: unable to measure memory usage on this platform (try dimefox)\n",
      "* winner: Green\n",
      "Epoch 1/2\n",
      "49/49 [==============================] - 0s 2ms/step - loss: 16915.4226\n",
      "Epoch 2/2\n",
      "49/49 [==============================] - 0s 2ms/step - loss: 16909.7316\n",
      "saved\n",
      "removed './rec/[2zzz]1556619842.0caoredjiba.txt'\n",
      "removed './rec/[2zzz]1556619843.0caoredjiba.txt'\n",
      "********** starting round 15 **********\n",
      "* NOTE: unable to measure memory usage on this platform (try dimefox)\n",
      "* winner: Blue\n",
      "* NOTE: unable to measure memory usage on this platform (try dimefox)\n",
      "* winner: Green\n",
      "Epoch 1/2\n",
      "56/56 [==============================] - 0s 1ms/step - loss: 18039.1577\n",
      "Epoch 2/2\n",
      "56/56 [==============================] - 0s 1ms/step - loss: 18011.1102\n",
      "saved\n",
      "removed './rec/[2zzz]1556619845.0caoredjiba.txt'\n",
      "removed './rec/[2zzz]1556619846.0caoredjiba.txt'\n",
      "********** starting round 16 **********\n",
      "* NOTE: unable to measure memory usage on this platform (try dimefox)\n",
      "* winner: Red\n",
      "* NOTE: unable to measure memory usage on this platform (try dimefox)\n",
      "* winner: Red\n",
      "Epoch 1/2\n",
      "99/99 [==============================] - 0s 1ms/step - loss: 1887.3770\n",
      "Epoch 2/2\n",
      "99/99 [==============================] - 0s 1ms/step - loss: 1722.9390\n",
      "saved\n",
      "removed './rec/[1win]1556619848.0caoredjiba.txt'\n",
      "removed './rec/[1win]1556619850.0caoredjiba.txt'\n",
      "********** starting round 17 **********\n",
      "* NOTE: unable to measure memory usage on this platform (try dimefox)\n"
     ]
    },
    {
     "name": "stdout",
     "output_type": "stream",
     "text": [
      "* winner: Blue\n",
      "* NOTE: unable to measure memory usage on this platform (try dimefox)\n",
      "* winner: Green\n",
      "Epoch 1/2\n",
      "45/45 [==============================] - 0s 1ms/step - loss: 34221.0371\n",
      "Epoch 2/2\n",
      "45/45 [==============================] - 0s 1ms/step - loss: 34214.4364\n",
      "saved\n",
      "removed './rec/[2zzz]1556619852.0caoredjiba.txt'\n",
      "removed './rec/[2zzz]1556619853.0caoredjiba.txt'\n",
      "********** starting round 18 **********\n",
      "* NOTE: unable to measure memory usage on this platform (try dimefox)\n",
      "* winner: Green\n",
      "* NOTE: unable to measure memory usage on this platform (try dimefox)\n",
      "* winner: Green\n",
      "Epoch 1/2\n",
      "48/48 [==============================] - 0s 2ms/step - loss: 29641.4379\n",
      "Epoch 2/2\n",
      "48/48 [==============================] - 0s 2ms/step - loss: 29598.2559\n",
      "saved\n",
      "removed './rec/[2zzz]1556619854.0caoredjiba.txt'\n",
      "removed './rec/[2zzz]1556619855.0caoredjiba.txt'\n",
      "********** starting round 19 **********\n",
      "* NOTE: unable to measure memory usage on this platform (try dimefox)\n",
      "* winner: Green\n",
      "* NOTE: unable to measure memory usage on this platform (try dimefox)\n",
      "* winner: Red\n",
      "Epoch 1/2\n",
      "98/98 [==============================] - 0s 1ms/step - loss: 6290.0165\n",
      "Epoch 2/2\n",
      "98/98 [==============================] - 0s 1ms/step - loss: 6284.0854\n",
      "saved\n",
      "removed './rec/[1win]1556619859.0caoredjiba.txt'\n",
      "removed './rec/[2zzz]1556619857.0caoredjiba.txt'\n",
      "********** starting round 20 **********\n",
      "* NOTE: unable to measure memory usage on this platform (try dimefox)\n",
      "* winner: Blue\n",
      "* NOTE: unable to measure memory usage on this platform (try dimefox)\n",
      "* winner: Blue\n",
      "Epoch 1/2\n",
      "76/76 [==============================] - 0s 1ms/step - loss: 13037.1030\n",
      "Epoch 2/2\n",
      "76/76 [==============================] - 0s 1ms/step - loss: 12997.1378\n",
      "saved\n",
      "removed './rec/[2zzz]1556619861.0caoredjiba.txt'\n",
      "removed './rec/[2zzz]1556619863.0caoredjiba.txt'\n",
      "********** starting round 21 **********\n",
      "* NOTE: unable to measure memory usage on this platform (try dimefox)\n",
      "* winner: Blue\n",
      "* NOTE: unable to measure memory usage on this platform (try dimefox)\n",
      "* winner: Blue\n",
      "Epoch 1/2\n",
      "54/54 [==============================] - 0s 1ms/step - loss: 9174.2422\n",
      "Epoch 2/2\n",
      "54/54 [==============================] - 0s 1ms/step - loss: 9102.8707\n",
      "saved\n",
      "removed './rec/[2zzz]1556619864.0caoredjiba.txt'\n",
      "removed './rec/[2zzz]1556619865.0caoredjiba.txt'\n",
      "********** starting round 22 **********\n",
      "* NOTE: unable to measure memory usage on this platform (try dimefox)\n",
      "* winner: Blue\n",
      "* NOTE: unable to measure memory usage on this platform (try dimefox)\n",
      "* winner: Red\n",
      "Epoch 1/2\n",
      "82/82 [==============================] - 0s 1ms/step - loss: 10301.4298\n",
      "Epoch 2/2\n",
      "82/82 [==============================] - 0s 1ms/step - loss: 10235.3032\n",
      "saved\n",
      "removed './rec/[1win]1556619869.0caoredjiba.txt'\n",
      "removed './rec/[2zzz]1556619867.0caoredjiba.txt'\n",
      "********** starting round 23 **********\n",
      "* NOTE: unable to measure memory usage on this platform (try dimefox)\n",
      "* winner: Blue\n",
      "* NOTE: unable to measure memory usage on this platform (try dimefox)\n",
      "* winner: Green\n",
      "Epoch 1/2\n",
      "50/50 [==============================] - 0s 1ms/step - loss: 29145.8326\n",
      "Epoch 2/2\n",
      "50/50 [==============================] - 0s 1ms/step - loss: 29137.3014\n",
      "saved\n",
      "removed './rec/[2zzz]1556619870.0caoredjiba.txt'\n",
      "removed './rec/[2zzz]1556619871.0caoredjiba.txt'\n",
      "********** starting round 24 **********\n",
      "* NOTE: unable to measure memory usage on this platform (try dimefox)\n",
      "* winner: Red\n",
      "* NOTE: unable to measure memory usage on this platform (try dimefox)\n",
      "* winner: Green\n",
      "Epoch 1/2\n",
      "72/72 [==============================] - 0s 1ms/step - loss: 7033.2367\n",
      "Epoch 2/2\n",
      "72/72 [==============================] - 0s 1ms/step - loss: 7002.7235\n",
      "saved\n",
      "removed './rec/[1win]1556619873.0caoredjiba.txt'\n",
      "removed './rec/[2zzz]1556619874.0caoredjiba.txt'\n",
      "********** starting round 25 **********\n",
      "* NOTE: unable to measure memory usage on this platform (try dimefox)\n",
      "* winner: Blue\n",
      "* NOTE: unable to measure memory usage on this platform (try dimefox)\n",
      "* winner: Blue\n",
      "Epoch 1/2\n",
      "56/56 [==============================] - 0s 1ms/step - loss: 20629.0460\n",
      "Epoch 2/2\n",
      "56/56 [==============================] - 0s 1ms/step - loss: 20560.2016\n",
      "saved\n",
      "removed './rec/[2zzz]1556619876.0caoredjiba.txt'\n",
      "removed './rec/[2zzz]1556619877.0caoredjiba.txt'\n",
      "********** starting round 26 **********\n",
      "* NOTE: unable to measure memory usage on this platform (try dimefox)\n",
      "* winner: Green\n",
      "* NOTE: unable to measure memory usage on this platform (try dimefox)\n",
      "* winner: Blue\n",
      "Epoch 1/2\n",
      "44/44 [==============================] - 0s 2ms/step - loss: 31410.8104\n",
      "Epoch 2/2\n",
      "44/44 [==============================] - 0s 2ms/step - loss: 31404.8232\n",
      "saved\n",
      "removed './rec/[2zzz]1556619878.0caoredjiba.txt'\n",
      "removed './rec/[2zzz]1556619879.0caoredjiba.txt'\n",
      "********** starting round 27 **********\n",
      "* NOTE: unable to measure memory usage on this platform (try dimefox)\n",
      "* winner: Red\n",
      "* NOTE: unable to measure memory usage on this platform (try dimefox)\n",
      "* winner: Green\n",
      "Epoch 1/2\n",
      "78/78 [==============================] - 0s 1ms/step - loss: 9630.7183\n",
      "Epoch 2/2\n",
      "78/78 [==============================] - 0s 1ms/step - loss: 9613.5307\n",
      "saved\n",
      "removed './rec/[1win]1556619882.0caoredjiba.txt'\n",
      "removed './rec/[2zzz]1556619883.0caoredjiba.txt'\n",
      "********** starting round 28 **********\n",
      "* NOTE: unable to measure memory usage on this platform (try dimefox)\n",
      "* winner: Blue\n",
      "* NOTE: unable to measure memory usage on this platform (try dimefox)\n",
      "* winner: Blue\n",
      "Epoch 1/2\n",
      "54/54 [==============================] - 0s 2ms/step - loss: 17508.1124\n",
      "Epoch 2/2\n",
      "54/54 [==============================] - 0s 1ms/step - loss: 17481.1830\n",
      "saved\n",
      "removed './rec/[2zzz]1556619884.0caoredjiba.txt'\n",
      "removed './rec/[2zzz]1556619885.0caoredjiba.txt'\n",
      "********** starting round 29 **********\n",
      "* NOTE: unable to measure memory usage on this platform (try dimefox)\n",
      "* winner: Green\n",
      "* NOTE: unable to measure memory usage on this platform (try dimefox)\n",
      "* winner: Green\n",
      "Epoch 1/2\n",
      "42/42 [==============================] - 0s 2ms/step - loss: 37014.1135\n",
      "Epoch 2/2\n",
      "42/42 [==============================] - 0s 1ms/step - loss: 37007.3267\n",
      "saved\n",
      "removed './rec/[2zzz]1556619887.0caoredjiba.txt'\n",
      "removed './rec/[2zzz]1556619888.0caoredjiba.txt'\n"
     ]
    }
   ],
   "source": [
    "for i in range(30):\n",
    "    print(\"********** starting round\", i, \"**********\")\n",
    "    full_train_cycle(2, epochs=2)"
   ]
  },
  {
   "cell_type": "code",
   "execution_count": 473,
   "metadata": {
    "scrolled": false
   },
   "outputs": [
    {
     "data": {
      "text/plain": [
       "[array([[-0.69869846],\n",
       "        [ 0.13379724],\n",
       "        [ 0.26100662],\n",
       "        [ 0.6259155 ],\n",
       "        [-0.8565208 ],\n",
       "        [ 1.0463128 ],\n",
       "        [-0.5763864 ],\n",
       "        [ 0.24955097]], dtype=float32),\n",
       " array([-0.6723143], dtype=float32),\n",
       " array([[0.4011983]], dtype=float32),\n",
       " array([-1.0327048], dtype=float32)]"
      ]
     },
     "execution_count": 473,
     "metadata": {},
     "output_type": "execute_result"
    }
   ],
   "source": [
    "# utility = [color, turns, heuristic diff, my pieces difference, danger pieces, red exit, green exit, blue exit]\n",
    "model.get_weights()"
   ]
  },
  {
   "cell_type": "code",
   "execution_count": 475,
   "metadata": {},
   "outputs": [
    {
     "data": {
      "text/plain": [
       "[array([[-0.70649874],\n",
       "        [ 0.15657607],\n",
       "        [ 0.09836416],\n",
       "        [ 0.73236334],\n",
       "        [-0.88198453],\n",
       "        [ 1.1993474 ],\n",
       "        [-0.54759383],\n",
       "        [ 0.23956929]], dtype=float32),\n",
       " array([-0.68011457], dtype=float32),\n",
       " array([[0.4796768]], dtype=float32),\n",
       " array([-1.5186025], dtype=float32)]"
      ]
     },
     "execution_count": 475,
     "metadata": {},
     "output_type": "execute_result"
    }
   ],
   "source": [
    "model.get_weights()"
   ]
  },
  {
   "cell_type": "code",
   "execution_count": 477,
   "metadata": {},
   "outputs": [
    {
     "data": {
      "text/plain": [
       "[array([[-0.81592125],\n",
       "        [ 0.10808953],\n",
       "        [-0.08458312],\n",
       "        [ 0.85356146],\n",
       "        [-1.0024132 ],\n",
       "        [ 1.3659197 ],\n",
       "        [-0.61527216],\n",
       "        [ 0.16224095]], dtype=float32),\n",
       " array([-0.7895371], dtype=float32),\n",
       " array([[0.5366073]], dtype=float32),\n",
       " array([-1.8857365], dtype=float32)]"
      ]
     },
     "execution_count": 477,
     "metadata": {},
     "output_type": "execute_result"
    }
   ],
   "source": [
    "model.get_weights()"
   ]
  },
  {
   "cell_type": "code",
   "execution_count": 479,
   "metadata": {},
   "outputs": [
    {
     "data": {
      "text/plain": [
       "[array([[-0.828572  ],\n",
       "        [ 0.15462501],\n",
       "        [-0.33071476],\n",
       "        [ 1.0068716 ],\n",
       "        [-1.102255  ],\n",
       "        [ 1.6234683 ],\n",
       "        [-0.5860915 ],\n",
       "        [ 0.17780784]], dtype=float32),\n",
       " array([-0.8021878], dtype=float32),\n",
       " array([[0.68850666]], dtype=float32),\n",
       " array([-2.2046783], dtype=float32)]"
      ]
     },
     "execution_count": 479,
     "metadata": {},
     "output_type": "execute_result"
    }
   ],
   "source": [
    "model.get_weights()"
   ]
  },
  {
   "cell_type": "code",
   "execution_count": 482,
   "metadata": {},
   "outputs": [
    {
     "data": {
      "text/plain": [
       "[array([[-0.9445977 ],\n",
       "        [ 0.20689423],\n",
       "        [-0.9093882 ],\n",
       "        [ 1.5389959 ],\n",
       "        [-1.4014518 ],\n",
       "        [ 2.177783  ],\n",
       "        [-0.53679943],\n",
       "        [ 0.12599692]], dtype=float32),\n",
       " array([-0.9182137], dtype=float32),\n",
       " array([[1.1451691]], dtype=float32),\n",
       " array([-4.3304048], dtype=float32)]"
      ]
     },
     "execution_count": 482,
     "metadata": {},
     "output_type": "execute_result"
    }
   ],
   "source": [
    "# utility = [color, turns, heuristic diff, my pieces difference, danger pieces, red exit, green exit, blue exit]\n",
    "model.get_weights()"
   ]
  },
  {
   "cell_type": "code",
   "execution_count": 484,
   "metadata": {},
   "outputs": [
    {
     "data": {
      "text/plain": [
       "[array([[-1.1199762 ],\n",
       "        [ 0.13880344],\n",
       "        [-1.238538  ],\n",
       "        [ 1.991631  ],\n",
       "        [-1.6170409 ],\n",
       "        [ 2.5888567 ],\n",
       "        [-0.5939308 ],\n",
       "        [-0.00912558]], dtype=float32),\n",
       " array([-1.0935918], dtype=float32),\n",
       " array([[1.3876469]], dtype=float32),\n",
       " array([-6.6800756], dtype=float32)]"
      ]
     },
     "execution_count": 484,
     "metadata": {},
     "output_type": "execute_result"
    }
   ],
   "source": [
    "# utility = [color, turns, heuristic diff, my pieces difference, danger pieces, red exit, green exit, blue exit]\n",
    "model.get_weights()"
   ]
  },
  {
   "cell_type": "code",
   "execution_count": 486,
   "metadata": {},
   "outputs": [
    {
     "data": {
      "text/plain": [
       "[array([[-1.2102667 ],\n",
       "        [ 0.16690053],\n",
       "        [-1.5944142 ],\n",
       "        [ 2.5314486 ],\n",
       "        [-1.8229241 ],\n",
       "        [ 3.1320689 ],\n",
       "        [-0.60356563],\n",
       "        [-0.04025923]], dtype=float32),\n",
       " array([-1.1838824], dtype=float32),\n",
       " array([[1.7319276]], dtype=float32),\n",
       " array([-8.563517], dtype=float32)]"
      ]
     },
     "execution_count": 486,
     "metadata": {},
     "output_type": "execute_result"
    }
   ],
   "source": [
    "# utility = [color, turns, heuristic diff, my pieces difference, danger pieces, red exit, green exit, blue exit]\n",
    "model.get_weights()"
   ]
  },
  {
   "cell_type": "code",
   "execution_count": 489,
   "metadata": {},
   "outputs": [
    {
     "data": {
      "text/plain": [
       "[array([[-1.2868927 ],\n",
       "        [ 0.14712715],\n",
       "        [-1.8580728 ],\n",
       "        [ 2.988167  ],\n",
       "        [-2.1074595 ],\n",
       "        [ 3.4834957 ],\n",
       "        [-0.5701345 ],\n",
       "        [-0.06940529]], dtype=float32),\n",
       " array([-1.2605083], dtype=float32),\n",
       " array([[2.0096612]], dtype=float32),\n",
       " array([-10.228373], dtype=float32)]"
      ]
     },
     "execution_count": 489,
     "metadata": {},
     "output_type": "execute_result"
    }
   ],
   "source": [
    "model.get_weights()"
   ]
  },
  {
   "cell_type": "code",
   "execution_count": 490,
   "metadata": {},
   "outputs": [],
   "source": [
    "qwer = np.array([0.1,0.2,0.3,0.4])"
   ]
  },
  {
   "cell_type": "code",
   "execution_count": 491,
   "metadata": {},
   "outputs": [
    {
     "data": {
      "text/plain": [
       "3"
      ]
     },
     "execution_count": 491,
     "metadata": {},
     "output_type": "execute_result"
    }
   ],
   "source": [
    "np.argmax(qwer)"
   ]
  },
  {
   "cell_type": "markdown",
   "metadata": {},
   "source": [
    "# CNN attamp"
   ]
  },
  {
   "cell_type": "code",
   "execution_count": 226,
   "metadata": {},
   "outputs": [],
   "source": [
    "from keras.models import Sequential\n",
    "from keras.layers import Dense, Conv2D, Flatten\n",
    "#create model\n",
    "md = Sequential()\n",
    "#add model layers\n",
    "md.add(Conv2D(1, kernel_size=3, activation='relu', input_shape=(28,28,1), use_bias=False))\n",
    "#md.add(layers.MaxPooling2D(2,2))\n",
    "#md.add(Conv2D(64, kernel_size=3, activation='relu', use_bias=False))\n",
    "#md.add(layers.MaxPooling2D(2,2))\n",
    "#md.add(Conv2D(64, kernel_size=3, activation='relu', use_bias=False))\n",
    "md.add(Flatten())\n",
    "md.compile(optimizer='adam', loss='mse')"
   ]
  },
  {
   "cell_type": "code",
   "execution_count": 227,
   "metadata": {},
   "outputs": [
    {
     "name": "stdout",
     "output_type": "stream",
     "text": [
      "(3, 3, 1, 1)\n"
     ]
    }
   ],
   "source": [
    "for i in md.get_weights():\n",
    "    print(i.shape)"
   ]
  },
  {
   "cell_type": "code",
   "execution_count": 228,
   "metadata": {},
   "outputs": [
    {
     "name": "stdout",
     "output_type": "stream",
     "text": [
      "_________________________________________________________________\n",
      "Layer (type)                 Output Shape              Param #   \n",
      "=================================================================\n",
      "conv2d_24 (Conv2D)           (None, 26, 26, 1)         9         \n",
      "_________________________________________________________________\n",
      "flatten_9 (Flatten)          (None, 676)               0         \n",
      "=================================================================\n",
      "Total params: 9\n",
      "Trainable params: 9\n",
      "Non-trainable params: 0\n",
      "_________________________________________________________________\n"
     ]
    }
   ],
   "source": [
    "md.summary()"
   ]
  },
  {
   "cell_type": "code",
   "execution_count": 229,
   "metadata": {},
   "outputs": [
    {
     "data": {
      "text/plain": [
       "array([[-0., -0., -0., -0., -0., -0., -0., -0., -0., -0., -0., -0., -0.,\n",
       "        -0., -0., -0., -0., -0., -0., -0., -0., -0., -0., -0., -0., -0.,\n",
       "        -0., -0., -0., -0., -0., -0., -0., -0., -0., -0., -0., -0., -0.,\n",
       "        -0., -0., -0., -0., -0., -0., -0., -0., -0., -0., -0., -0., -0.,\n",
       "        -0., -0., -0., -0., -0., -0., -0., -0., -0., -0., -0., -0., -0.,\n",
       "        -0., -0., -0., -0., -0., -0., -0., -0., -0., -0., -0., -0., -0.,\n",
       "        -0., -0., -0., -0., -0., -0., -0., -0., -0., -0., -0., -0., -0.,\n",
       "        -0., -0., -0., -0., -0., -0., -0., -0., -0., -0., -0., -0., -0.,\n",
       "        -0., -0., -0., -0., -0., -0., -0., -0., -0., -0., -0., -0., -0.,\n",
       "        -0., -0., -0., -0., -0., -0., -0., -0., -0., -0., -0., -0., -0.,\n",
       "        -0., -0., -0., -0., -0., -0., -0., -0., -0., -0., -0., -0., -0.,\n",
       "        -0., -0., -0., -0., -0., -0., -0., -0., -0., -0., -0., -0., -0.,\n",
       "        -0., -0., -0., -0., -0., -0., -0., -0., -0., -0., -0., -0., -0.,\n",
       "        -0., -0., -0., -0., -0., -0., -0., -0., -0., -0., -0., -0., -0.,\n",
       "        -0., -0., -0., -0., -0., -0., -0., -0., -0., -0., -0., -0., -0.,\n",
       "        -0., -0., -0., -0., -0., -0., -0., -0., -0., -0., -0., -0., -0.,\n",
       "        -0., -0., -0., -0., -0., -0., -0., -0., -0., -0., -0., -0., -0.,\n",
       "        -0., -0., -0., -0., -0., -0., -0., -0., -0., -0., -0., -0., -0.,\n",
       "        -0., -0., -0., -0., -0., -0., -0., -0., -0., -0., -0., -0., -0.,\n",
       "        -0., -0., -0., -0., -0., -0., -0., -0., -0., -0., -0., -0., -0.,\n",
       "        -0., -0., -0., -0., -0., -0., -0., -0., -0., -0., -0., -0., -0.,\n",
       "        -0., -0., -0., -0., -0., -0., -0., -0., -0., -0., -0., -0., -0.,\n",
       "        -0., -0., -0., -0., -0., -0., -0., -0., -0., -0., -0., -0., -0.,\n",
       "        -0., -0., -0., -0., -0., -0., -0., -0., -0., -0., -0., -0., -0.,\n",
       "        -0., -0., -0., -0., -0., -0., -0., -0., -0., -0., -0., -0., -0.,\n",
       "        -0., -0., -0., -0., -0., -0., -0., -0., -0., -0., -0., -0., -0.,\n",
       "        -0., -0., -0., -0., -0., -0., -0., -0., -0., -0., -0., -0., -0.,\n",
       "        -0., -0., -0., -0., -0., -0., -0., -0., -0., -0., -0., -0., -0.,\n",
       "        -0., -0., -0., -0., -0., -0., -0., -0., -0., -0., -0., -0., -0.,\n",
       "        -0., -0., -0., -0., -0., -0., -0., -0., -0., -0., -0., -0., -0.,\n",
       "        -0., -0., -0., -0., -0., -0., -0., -0., -0., -0., -0., -0., -0.,\n",
       "        -0., -0., -0., -0., -0., -0., -0., -0., -0., -0., -0., -0., -0.,\n",
       "        -0., -0., -0., -0., -0., -0., -0., -0., -0., -0., -0., -0., -0.,\n",
       "        -0., -0., -0., -0., -0., -0., -0., -0., -0., -0., -0., -0., -0.,\n",
       "        -0., -0., -0., -0., -0., -0., -0., -0., -0., -0., -0., -0., -0.,\n",
       "        -0., -0., -0., -0., -0., -0., -0., -0., -0., -0., -0., -0., -0.,\n",
       "        -0., -0., -0., -0., -0., -0., -0., -0., -0., -0., -0., -0., -0.,\n",
       "        -0., -0., -0., -0., -0., -0., -0., -0., -0., -0., -0., -0., -0.,\n",
       "        -0., -0., -0., -0., -0., -0., -0., -0., -0., -0., -0., -0., -0.,\n",
       "        -0., -0., -0., -0., -0., -0., -0., -0., -0., -0., -0., -0., -0.,\n",
       "        -0., -0., -0., -0., -0., -0., -0., -0., -0., -0., -0., -0., -0.,\n",
       "        -0., -0., -0., -0., -0., -0., -0., -0., -0., -0., -0., -0., -0.,\n",
       "        -0., -0., -0., -0., -0., -0., -0., -0., -0., -0., -0., -0., -0.,\n",
       "        -0., -0., -0., -0., -0., -0., -0., -0., -0., -0., -0., -0., -0.,\n",
       "        -0., -0., -0., -0., -0., -0., -0., -0., -0., -0., -0., -0., -0.,\n",
       "        -0., -0., -0., -0., -0., -0., -0., -0., -0., -0., -0., -0., -0.,\n",
       "        -0., -0., -0., -0., -0., -0., -0., -0., -0., -0., -0., -0., -0.,\n",
       "        -0., -0., -0., -0., -0., -0., -0., -0., -0., -0., -0., -0., -0.,\n",
       "        -0., -0., -0., -0., -0., -0., -0., -0., -0., -0., -0., -0., -0.,\n",
       "        -0., -0., -0., -0., -0., -0., -0., -0., -0., -0., -0., -0., -0.,\n",
       "        -0., -0., -0., -0., -0., -0., -0., -0., -0., -0., -0., -0., -0.,\n",
       "        -0., -0., -0., -0., -0., -0., -0., -0., -0., -0., -0., -0., -0.]],\n",
       "      dtype=float32)"
      ]
     },
     "execution_count": 229,
     "metadata": {},
     "output_type": "execute_result"
    }
   ],
   "source": [
    "md.predict(np.array([[[[1]*28]*28]]).reshape(1,28,28,1))"
   ]
  },
  {
   "cell_type": "code",
   "execution_count": 244,
   "metadata": {},
   "outputs": [],
   "source": [
    "asdf = md.get_weights()[0].reshape(3,3)"
   ]
  },
  {
   "cell_type": "code",
   "execution_count": 230,
   "metadata": {},
   "outputs": [],
   "source": [
    "wds = md.get_weights()"
   ]
  },
  {
   "cell_type": "code",
   "execution_count": 231,
   "metadata": {},
   "outputs": [],
   "source": [
    "convp = wds[0]"
   ]
  },
  {
   "cell_type": "code",
   "execution_count": 232,
   "metadata": {},
   "outputs": [
    {
     "data": {
      "text/plain": [
       "(3, 3, 1, 1)"
      ]
     },
     "execution_count": 232,
     "metadata": {},
     "output_type": "execute_result"
    }
   ],
   "source": [
    "convp.shape"
   ]
  },
  {
   "cell_type": "code",
   "execution_count": 233,
   "metadata": {},
   "outputs": [],
   "source": [
    "c = convp.reshape(1, 3, 3, 1)"
   ]
  },
  {
   "cell_type": "code",
   "execution_count": 234,
   "metadata": {},
   "outputs": [],
   "source": [
    "d = c[0].reshape(3,3)"
   ]
  },
  {
   "cell_type": "code",
   "execution_count": 235,
   "metadata": {},
   "outputs": [],
   "source": [
    "import scipy.signal as signal"
   ]
  },
  {
   "cell_type": "code",
   "execution_count": 236,
   "metadata": {},
   "outputs": [],
   "source": [
    "a = np.array([[[1]*28]*28]).reshape(28,28)"
   ]
  },
  {
   "cell_type": "code",
   "execution_count": 245,
   "metadata": {},
   "outputs": [],
   "source": [
    "e = signal.convolve2d(a, asdf, mode='valid')"
   ]
  },
  {
   "cell_type": "code",
   "execution_count": 246,
   "metadata": {},
   "outputs": [
    {
     "data": {
      "text/plain": [
       "array([[-0.5030036, -0.5030036, -0.5030036, -0.5030036, -0.5030036,\n",
       "        -0.5030036, -0.5030036, -0.5030036, -0.5030036, -0.5030036,\n",
       "        -0.5030036, -0.5030036, -0.5030036, -0.5030036, -0.5030036,\n",
       "        -0.5030036, -0.5030036, -0.5030036, -0.5030036, -0.5030036,\n",
       "        -0.5030036, -0.5030036, -0.5030036, -0.5030036, -0.5030036,\n",
       "        -0.5030036],\n",
       "       [-0.5030036, -0.5030036, -0.5030036, -0.5030036, -0.5030036,\n",
       "        -0.5030036, -0.5030036, -0.5030036, -0.5030036, -0.5030036,\n",
       "        -0.5030036, -0.5030036, -0.5030036, -0.5030036, -0.5030036,\n",
       "        -0.5030036, -0.5030036, -0.5030036, -0.5030036, -0.5030036,\n",
       "        -0.5030036, -0.5030036, -0.5030036, -0.5030036, -0.5030036,\n",
       "        -0.5030036],\n",
       "       [-0.5030036, -0.5030036, -0.5030036, -0.5030036, -0.5030036,\n",
       "        -0.5030036, -0.5030036, -0.5030036, -0.5030036, -0.5030036,\n",
       "        -0.5030036, -0.5030036, -0.5030036, -0.5030036, -0.5030036,\n",
       "        -0.5030036, -0.5030036, -0.5030036, -0.5030036, -0.5030036,\n",
       "        -0.5030036, -0.5030036, -0.5030036, -0.5030036, -0.5030036,\n",
       "        -0.5030036],\n",
       "       [-0.5030036, -0.5030036, -0.5030036, -0.5030036, -0.5030036,\n",
       "        -0.5030036, -0.5030036, -0.5030036, -0.5030036, -0.5030036,\n",
       "        -0.5030036, -0.5030036, -0.5030036, -0.5030036, -0.5030036,\n",
       "        -0.5030036, -0.5030036, -0.5030036, -0.5030036, -0.5030036,\n",
       "        -0.5030036, -0.5030036, -0.5030036, -0.5030036, -0.5030036,\n",
       "        -0.5030036],\n",
       "       [-0.5030036, -0.5030036, -0.5030036, -0.5030036, -0.5030036,\n",
       "        -0.5030036, -0.5030036, -0.5030036, -0.5030036, -0.5030036,\n",
       "        -0.5030036, -0.5030036, -0.5030036, -0.5030036, -0.5030036,\n",
       "        -0.5030036, -0.5030036, -0.5030036, -0.5030036, -0.5030036,\n",
       "        -0.5030036, -0.5030036, -0.5030036, -0.5030036, -0.5030036,\n",
       "        -0.5030036],\n",
       "       [-0.5030036, -0.5030036, -0.5030036, -0.5030036, -0.5030036,\n",
       "        -0.5030036, -0.5030036, -0.5030036, -0.5030036, -0.5030036,\n",
       "        -0.5030036, -0.5030036, -0.5030036, -0.5030036, -0.5030036,\n",
       "        -0.5030036, -0.5030036, -0.5030036, -0.5030036, -0.5030036,\n",
       "        -0.5030036, -0.5030036, -0.5030036, -0.5030036, -0.5030036,\n",
       "        -0.5030036],\n",
       "       [-0.5030036, -0.5030036, -0.5030036, -0.5030036, -0.5030036,\n",
       "        -0.5030036, -0.5030036, -0.5030036, -0.5030036, -0.5030036,\n",
       "        -0.5030036, -0.5030036, -0.5030036, -0.5030036, -0.5030036,\n",
       "        -0.5030036, -0.5030036, -0.5030036, -0.5030036, -0.5030036,\n",
       "        -0.5030036, -0.5030036, -0.5030036, -0.5030036, -0.5030036,\n",
       "        -0.5030036],\n",
       "       [-0.5030036, -0.5030036, -0.5030036, -0.5030036, -0.5030036,\n",
       "        -0.5030036, -0.5030036, -0.5030036, -0.5030036, -0.5030036,\n",
       "        -0.5030036, -0.5030036, -0.5030036, -0.5030036, -0.5030036,\n",
       "        -0.5030036, -0.5030036, -0.5030036, -0.5030036, -0.5030036,\n",
       "        -0.5030036, -0.5030036, -0.5030036, -0.5030036, -0.5030036,\n",
       "        -0.5030036],\n",
       "       [-0.5030036, -0.5030036, -0.5030036, -0.5030036, -0.5030036,\n",
       "        -0.5030036, -0.5030036, -0.5030036, -0.5030036, -0.5030036,\n",
       "        -0.5030036, -0.5030036, -0.5030036, -0.5030036, -0.5030036,\n",
       "        -0.5030036, -0.5030036, -0.5030036, -0.5030036, -0.5030036,\n",
       "        -0.5030036, -0.5030036, -0.5030036, -0.5030036, -0.5030036,\n",
       "        -0.5030036],\n",
       "       [-0.5030036, -0.5030036, -0.5030036, -0.5030036, -0.5030036,\n",
       "        -0.5030036, -0.5030036, -0.5030036, -0.5030036, -0.5030036,\n",
       "        -0.5030036, -0.5030036, -0.5030036, -0.5030036, -0.5030036,\n",
       "        -0.5030036, -0.5030036, -0.5030036, -0.5030036, -0.5030036,\n",
       "        -0.5030036, -0.5030036, -0.5030036, -0.5030036, -0.5030036,\n",
       "        -0.5030036],\n",
       "       [-0.5030036, -0.5030036, -0.5030036, -0.5030036, -0.5030036,\n",
       "        -0.5030036, -0.5030036, -0.5030036, -0.5030036, -0.5030036,\n",
       "        -0.5030036, -0.5030036, -0.5030036, -0.5030036, -0.5030036,\n",
       "        -0.5030036, -0.5030036, -0.5030036, -0.5030036, -0.5030036,\n",
       "        -0.5030036, -0.5030036, -0.5030036, -0.5030036, -0.5030036,\n",
       "        -0.5030036],\n",
       "       [-0.5030036, -0.5030036, -0.5030036, -0.5030036, -0.5030036,\n",
       "        -0.5030036, -0.5030036, -0.5030036, -0.5030036, -0.5030036,\n",
       "        -0.5030036, -0.5030036, -0.5030036, -0.5030036, -0.5030036,\n",
       "        -0.5030036, -0.5030036, -0.5030036, -0.5030036, -0.5030036,\n",
       "        -0.5030036, -0.5030036, -0.5030036, -0.5030036, -0.5030036,\n",
       "        -0.5030036],\n",
       "       [-0.5030036, -0.5030036, -0.5030036, -0.5030036, -0.5030036,\n",
       "        -0.5030036, -0.5030036, -0.5030036, -0.5030036, -0.5030036,\n",
       "        -0.5030036, -0.5030036, -0.5030036, -0.5030036, -0.5030036,\n",
       "        -0.5030036, -0.5030036, -0.5030036, -0.5030036, -0.5030036,\n",
       "        -0.5030036, -0.5030036, -0.5030036, -0.5030036, -0.5030036,\n",
       "        -0.5030036],\n",
       "       [-0.5030036, -0.5030036, -0.5030036, -0.5030036, -0.5030036,\n",
       "        -0.5030036, -0.5030036, -0.5030036, -0.5030036, -0.5030036,\n",
       "        -0.5030036, -0.5030036, -0.5030036, -0.5030036, -0.5030036,\n",
       "        -0.5030036, -0.5030036, -0.5030036, -0.5030036, -0.5030036,\n",
       "        -0.5030036, -0.5030036, -0.5030036, -0.5030036, -0.5030036,\n",
       "        -0.5030036],\n",
       "       [-0.5030036, -0.5030036, -0.5030036, -0.5030036, -0.5030036,\n",
       "        -0.5030036, -0.5030036, -0.5030036, -0.5030036, -0.5030036,\n",
       "        -0.5030036, -0.5030036, -0.5030036, -0.5030036, -0.5030036,\n",
       "        -0.5030036, -0.5030036, -0.5030036, -0.5030036, -0.5030036,\n",
       "        -0.5030036, -0.5030036, -0.5030036, -0.5030036, -0.5030036,\n",
       "        -0.5030036],\n",
       "       [-0.5030036, -0.5030036, -0.5030036, -0.5030036, -0.5030036,\n",
       "        -0.5030036, -0.5030036, -0.5030036, -0.5030036, -0.5030036,\n",
       "        -0.5030036, -0.5030036, -0.5030036, -0.5030036, -0.5030036,\n",
       "        -0.5030036, -0.5030036, -0.5030036, -0.5030036, -0.5030036,\n",
       "        -0.5030036, -0.5030036, -0.5030036, -0.5030036, -0.5030036,\n",
       "        -0.5030036],\n",
       "       [-0.5030036, -0.5030036, -0.5030036, -0.5030036, -0.5030036,\n",
       "        -0.5030036, -0.5030036, -0.5030036, -0.5030036, -0.5030036,\n",
       "        -0.5030036, -0.5030036, -0.5030036, -0.5030036, -0.5030036,\n",
       "        -0.5030036, -0.5030036, -0.5030036, -0.5030036, -0.5030036,\n",
       "        -0.5030036, -0.5030036, -0.5030036, -0.5030036, -0.5030036,\n",
       "        -0.5030036],\n",
       "       [-0.5030036, -0.5030036, -0.5030036, -0.5030036, -0.5030036,\n",
       "        -0.5030036, -0.5030036, -0.5030036, -0.5030036, -0.5030036,\n",
       "        -0.5030036, -0.5030036, -0.5030036, -0.5030036, -0.5030036,\n",
       "        -0.5030036, -0.5030036, -0.5030036, -0.5030036, -0.5030036,\n",
       "        -0.5030036, -0.5030036, -0.5030036, -0.5030036, -0.5030036,\n",
       "        -0.5030036],\n",
       "       [-0.5030036, -0.5030036, -0.5030036, -0.5030036, -0.5030036,\n",
       "        -0.5030036, -0.5030036, -0.5030036, -0.5030036, -0.5030036,\n",
       "        -0.5030036, -0.5030036, -0.5030036, -0.5030036, -0.5030036,\n",
       "        -0.5030036, -0.5030036, -0.5030036, -0.5030036, -0.5030036,\n",
       "        -0.5030036, -0.5030036, -0.5030036, -0.5030036, -0.5030036,\n",
       "        -0.5030036],\n",
       "       [-0.5030036, -0.5030036, -0.5030036, -0.5030036, -0.5030036,\n",
       "        -0.5030036, -0.5030036, -0.5030036, -0.5030036, -0.5030036,\n",
       "        -0.5030036, -0.5030036, -0.5030036, -0.5030036, -0.5030036,\n",
       "        -0.5030036, -0.5030036, -0.5030036, -0.5030036, -0.5030036,\n",
       "        -0.5030036, -0.5030036, -0.5030036, -0.5030036, -0.5030036,\n",
       "        -0.5030036],\n",
       "       [-0.5030036, -0.5030036, -0.5030036, -0.5030036, -0.5030036,\n",
       "        -0.5030036, -0.5030036, -0.5030036, -0.5030036, -0.5030036,\n",
       "        -0.5030036, -0.5030036, -0.5030036, -0.5030036, -0.5030036,\n",
       "        -0.5030036, -0.5030036, -0.5030036, -0.5030036, -0.5030036,\n",
       "        -0.5030036, -0.5030036, -0.5030036, -0.5030036, -0.5030036,\n",
       "        -0.5030036],\n",
       "       [-0.5030036, -0.5030036, -0.5030036, -0.5030036, -0.5030036,\n",
       "        -0.5030036, -0.5030036, -0.5030036, -0.5030036, -0.5030036,\n",
       "        -0.5030036, -0.5030036, -0.5030036, -0.5030036, -0.5030036,\n",
       "        -0.5030036, -0.5030036, -0.5030036, -0.5030036, -0.5030036,\n",
       "        -0.5030036, -0.5030036, -0.5030036, -0.5030036, -0.5030036,\n",
       "        -0.5030036],\n",
       "       [-0.5030036, -0.5030036, -0.5030036, -0.5030036, -0.5030036,\n",
       "        -0.5030036, -0.5030036, -0.5030036, -0.5030036, -0.5030036,\n",
       "        -0.5030036, -0.5030036, -0.5030036, -0.5030036, -0.5030036,\n",
       "        -0.5030036, -0.5030036, -0.5030036, -0.5030036, -0.5030036,\n",
       "        -0.5030036, -0.5030036, -0.5030036, -0.5030036, -0.5030036,\n",
       "        -0.5030036],\n",
       "       [-0.5030036, -0.5030036, -0.5030036, -0.5030036, -0.5030036,\n",
       "        -0.5030036, -0.5030036, -0.5030036, -0.5030036, -0.5030036,\n",
       "        -0.5030036, -0.5030036, -0.5030036, -0.5030036, -0.5030036,\n",
       "        -0.5030036, -0.5030036, -0.5030036, -0.5030036, -0.5030036,\n",
       "        -0.5030036, -0.5030036, -0.5030036, -0.5030036, -0.5030036,\n",
       "        -0.5030036],\n",
       "       [-0.5030036, -0.5030036, -0.5030036, -0.5030036, -0.5030036,\n",
       "        -0.5030036, -0.5030036, -0.5030036, -0.5030036, -0.5030036,\n",
       "        -0.5030036, -0.5030036, -0.5030036, -0.5030036, -0.5030036,\n",
       "        -0.5030036, -0.5030036, -0.5030036, -0.5030036, -0.5030036,\n",
       "        -0.5030036, -0.5030036, -0.5030036, -0.5030036, -0.5030036,\n",
       "        -0.5030036],\n",
       "       [-0.5030036, -0.5030036, -0.5030036, -0.5030036, -0.5030036,\n",
       "        -0.5030036, -0.5030036, -0.5030036, -0.5030036, -0.5030036,\n",
       "        -0.5030036, -0.5030036, -0.5030036, -0.5030036, -0.5030036,\n",
       "        -0.5030036, -0.5030036, -0.5030036, -0.5030036, -0.5030036,\n",
       "        -0.5030036, -0.5030036, -0.5030036, -0.5030036, -0.5030036,\n",
       "        -0.5030036]])"
      ]
     },
     "execution_count": 246,
     "metadata": {},
     "output_type": "execute_result"
    }
   ],
   "source": [
    "e"
   ]
  },
  {
   "cell_type": "code",
   "execution_count": 206,
   "metadata": {},
   "outputs": [
    {
     "ename": "ValueError",
     "evalue": "volume and kernel should have the same dimensionality",
     "output_type": "error",
     "traceback": [
      "\u001b[0;31m---------------------------------------------------------------------------\u001b[0m",
      "\u001b[0;31mValueError\u001b[0m                                Traceback (most recent call last)",
      "\u001b[0;32m<ipython-input-206-439ea0e1729b>\u001b[0m in \u001b[0;36m<module>\u001b[0;34m\u001b[0m\n\u001b[0;32m----> 1\u001b[0;31m \u001b[0msignal\u001b[0m\u001b[0;34m.\u001b[0m\u001b[0mconvolve\u001b[0m\u001b[0;34m(\u001b[0m\u001b[0me\u001b[0m\u001b[0;34m,\u001b[0m \u001b[0mnp\u001b[0m\u001b[0;34m.\u001b[0m\u001b[0marray\u001b[0m\u001b[0;34m(\u001b[0m\u001b[0;34m[\u001b[0m\u001b[0;36m1\u001b[0m\u001b[0;34m]\u001b[0m\u001b[0;34m*\u001b[0m\u001b[0;36m32\u001b[0m\u001b[0;34m)\u001b[0m\u001b[0;34m)\u001b[0m\u001b[0;34m\u001b[0m\u001b[0;34m\u001b[0m\u001b[0m\n\u001b[0m",
      "\u001b[0;32m/anaconda3/lib/python3.6/site-packages/scipy/signal/signaltools.py\u001b[0m in \u001b[0;36mconvolve\u001b[0;34m(in1, in2, mode, method)\u001b[0m\n\u001b[1;32m    789\u001b[0m         \u001b[0;32mreturn\u001b[0m \u001b[0mvolume\u001b[0m \u001b[0;34m*\u001b[0m \u001b[0mkernel\u001b[0m\u001b[0;34m\u001b[0m\u001b[0;34m\u001b[0m\u001b[0m\n\u001b[1;32m    790\u001b[0m     \u001b[0;32melif\u001b[0m \u001b[0mvolume\u001b[0m\u001b[0;34m.\u001b[0m\u001b[0mndim\u001b[0m \u001b[0;34m!=\u001b[0m \u001b[0mkernel\u001b[0m\u001b[0;34m.\u001b[0m\u001b[0mndim\u001b[0m\u001b[0;34m:\u001b[0m\u001b[0;34m\u001b[0m\u001b[0;34m\u001b[0m\u001b[0m\n\u001b[0;32m--> 791\u001b[0;31m         raise ValueError(\"volume and kernel should have the same \"\n\u001b[0m\u001b[1;32m    792\u001b[0m                          \"dimensionality\")\n\u001b[1;32m    793\u001b[0m \u001b[0;34m\u001b[0m\u001b[0m\n",
      "\u001b[0;31mValueError\u001b[0m: volume and kernel should have the same dimensionality"
     ]
    }
   ],
   "source": [
    "signal.convolve(e, )"
   ]
  },
  {
   "cell_type": "code",
   "execution_count": null,
   "metadata": {},
   "outputs": [],
   "source": []
  }
 ],
 "metadata": {
  "kernelspec": {
   "display_name": "Python 3",
   "language": "python",
   "name": "python3"
  },
  "language_info": {
   "codemirror_mode": {
    "name": "ipython",
    "version": 3
   },
   "file_extension": ".py",
   "mimetype": "text/x-python",
   "name": "python",
   "nbconvert_exporter": "python",
   "pygments_lexer": "ipython3",
   "version": "3.6.8"
  }
 },
 "nbformat": 4,
 "nbformat_minor": 2
}
